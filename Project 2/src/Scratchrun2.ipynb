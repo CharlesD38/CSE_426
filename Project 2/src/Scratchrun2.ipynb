{
 "cells": [
  {
   "cell_type": "code",
   "execution_count": 2,
   "metadata": {},
   "outputs": [],
   "source": [
    "from problem1 import *\n",
    "from problem2 import *\n",
    "from problem3 import *\n",
    "import pandas as pd\n",
    "import numpy as np"
   ]
  },
  {
   "cell_type": "code",
   "execution_count": 56,
   "metadata": {},
   "outputs": [
    {
     "data": {
      "text/plain": [
       "dict_keys(['tr_X', 'tr_y', 'te_X', 'te_y'])"
      ]
     },
     "execution_count": 56,
     "metadata": {},
     "output_type": "execute_result"
    }
   ],
   "source": [
    "import pandas as pd\n",
    "\n",
    "blob = pd.read_pickle(r'C:\\MFE\\MFE Sem 3\\CSE 426\\CSE_426\\Project 2\\data\\blobs_data.pkl')\n",
    "blob.keys()"
   ]
  },
  {
   "cell_type": "code",
   "execution_count": 67,
   "metadata": {},
   "outputs": [],
   "source": [
    "model = SVMModel(blob['tr_X'],blob['tr_y'], 1, linear_kernel, 0.1)\n"
   ]
  },
  {
   "cell_type": "code",
   "execution_count": 72,
   "metadata": {},
   "outputs": [],
   "source": [
    "x = np.array([model.train_X[:,6], model.train_X[:,89]]).T\n",
    "\n",
    "K = linear_kernel(x, x)\n",
    "\n",
    "alpha_vec = np.array([[model.alpha[0][6], model.alpha[0][89]]])\n",
    "y_vec = np.array([[model.train_y[0][6], model.train_y[0][89]]])"
   ]
  },
  {
   "cell_type": "code",
   "execution_count": 59,
   "metadata": {},
   "outputs": [
    {
     "data": {
      "text/plain": [
       "array([[-0.97592554,  1.0514043 ]])"
      ]
     },
     "execution_count": 59,
     "metadata": {},
     "output_type": "execute_result"
    }
   ],
   "source": [
    "np.dot(np.multiply(alpha_vec,y_vec), K) + model.b"
   ]
  },
  {
   "cell_type": "code",
   "execution_count": null,
   "metadata": {},
   "outputs": [],
   "source": [
    "K = np.zeros((model.train_X.shape[0], model.train_X[0])):\n",
    "for i in model.train_X[:, 0]:"
   ]
  },
  {
   "cell_type": "code",
   "execution_count": 84,
   "metadata": {},
   "outputs": [
    {
     "ename": "KeyboardInterrupt",
     "evalue": "",
     "output_type": "error",
     "traceback": [
      "\u001b[1;31m---------------------------------------------------------------------------\u001b[0m",
      "\u001b[1;31mKeyboardInterrupt\u001b[0m                         Traceback (most recent call last)",
      "\u001b[1;32mc:\\MFE\\MFE Sem 3\\CSE 426\\CSE_426\\Project 2\\src\\Scratchrun2.ipynb Cell 7\u001b[0m in \u001b[0;36m<cell line: 17>\u001b[1;34m()\u001b[0m\n\u001b[0;32m     <a href='vscode-notebook-cell:/c%3A/MFE/MFE%20Sem%203/CSE%20426/CSE_426/Project%202/src/Scratchrun2.ipynb#W5sZmlsZQ%3D%3D?line=21'>22</a>\u001b[0m \u001b[39mfor\u001b[39;00m i \u001b[39min\u001b[39;00m \u001b[39mrange\u001b[39m(model\u001b[39m.\u001b[39mm):\n\u001b[0;32m     <a href='vscode-notebook-cell:/c%3A/MFE/MFE%20Sem%203/CSE%20426/CSE_426/Project%202/src/Scratchrun2.ipynb#W5sZmlsZQ%3D%3D?line=23'>24</a>\u001b[0m     \u001b[39mif\u001b[39;00m model\u001b[39m.\u001b[39mkernel_func\u001b[39m.\u001b[39m\u001b[39m__name__\u001b[39m \u001b[39m==\u001b[39m \u001b[39m'\u001b[39m\u001b[39mlinear_kernel\u001b[39m\u001b[39m'\u001b[39m:\n\u001b[1;32m---> <a href='vscode-notebook-cell:/c%3A/MFE/MFE%20Sem%203/CSE%20426/CSE_426/Project%202/src/Scratchrun2.ipynb#W5sZmlsZQ%3D%3D?line=25'>26</a>\u001b[0m         kkt \u001b[39m=\u001b[39m model\u001b[39m.\u001b[39mtrain_y[\u001b[39m0\u001b[39m,i]\u001b[39m*\u001b[39m((np\u001b[39m.\u001b[39mdot(np\u001b[39m.\u001b[39mmultiply(model\u001b[39m.\u001b[39malpha, model\u001b[39m.\u001b[39mtrain_y), linear_kernel(np\u001b[39m.\u001b[39;49marray([model\u001b[39m.\u001b[39;49mtrain_X[:,i]])\u001b[39m.\u001b[39;49mT,model\u001b[39m.\u001b[39;49mtrain_X)\u001b[39m.\u001b[39mT) \u001b[39m+\u001b[39m model\u001b[39m.\u001b[39mb) \u001b[39m-\u001b[39m model\u001b[39m.\u001b[39mtrain_y[\u001b[39m0\u001b[39m,i])\n\u001b[0;32m     <a href='vscode-notebook-cell:/c%3A/MFE/MFE%20Sem%203/CSE%20426/CSE_426/Project%202/src/Scratchrun2.ipynb#W5sZmlsZQ%3D%3D?line=26'>27</a>\u001b[0m     \u001b[39m#    kkt= model.train_y[0,i]*((np.sum(np.multiply(model.alpha, model.train_y) @ linear_kernel(np.array([model.train_X[:,i]]).T,model.train_X).T) + model.b) - model.train_y[0,i])\u001b[39;00m\n\u001b[0;32m     <a href='vscode-notebook-cell:/c%3A/MFE/MFE%20Sem%203/CSE%20426/CSE_426/Project%202/src/Scratchrun2.ipynb#W5sZmlsZQ%3D%3D?line=27'>28</a>\u001b[0m     \u001b[39m#    kkt= model.train_y[0,i]*((np.sum((model.alpha* model.train_y) @ linear_kernel(np.array([model.train_X[:,i]]).T,model.train_X).T) + model.b) - model.train_y[0,i])\u001b[39;00m\n\u001b[0;32m     <a href='vscode-notebook-cell:/c%3A/MFE/MFE%20Sem%203/CSE%20426/CSE_426/Project%202/src/Scratchrun2.ipynb#W5sZmlsZQ%3D%3D?line=28'>29</a>\u001b[0m     \u001b[39m#    kkt = model.train_y[0,i]*(f_x(model.train_X, model.train_y, model.alpha, model.b, model.train_X[:,i], 1) - model.train_y[0,i])\u001b[39;00m\n\u001b[0;32m     <a href='vscode-notebook-cell:/c%3A/MFE/MFE%20Sem%203/CSE%20426/CSE_426/Project%202/src/Scratchrun2.ipynb#W5sZmlsZQ%3D%3D?line=29'>30</a>\u001b[0m     \u001b[39m#    kkt = model.train_y[:,i]*((np.sum(np.multiply(model.alpha, model.train_y) * linear_kernel(np.array([model.train_X[:,i]]).T,model.train_X).T) + model.b) - model.train_y[:,i])\u001b[39;00m\n\u001b[0;32m     <a href='vscode-notebook-cell:/c%3A/MFE/MFE%20Sem%203/CSE%20426/CSE_426/Project%202/src/Scratchrun2.ipynb#W5sZmlsZQ%3D%3D?line=30'>31</a>\u001b[0m     \u001b[39melse\u001b[39;00m:\n\u001b[0;32m     <a href='vscode-notebook-cell:/c%3A/MFE/MFE%20Sem%203/CSE%20426/CSE_426/Project%202/src/Scratchrun2.ipynb#W5sZmlsZQ%3D%3D?line=32'>33</a>\u001b[0m         kkt \u001b[39m=\u001b[39m model\u001b[39m.\u001b[39mtrain_y[\u001b[39m0\u001b[39m,i]\u001b[39m*\u001b[39m((np\u001b[39m.\u001b[39mdot(np\u001b[39m.\u001b[39mmultiply(model\u001b[39m.\u001b[39malpha, model\u001b[39m.\u001b[39mtrain_y), Gaussian_kernel(np\u001b[39m.\u001b[39marray([model\u001b[39m.\u001b[39mtrain_X[:,i]]), model\u001b[39m.\u001b[39mtrain_X)\u001b[39m.\u001b[39mT)\u001b[39m+\u001b[39mmodel\u001b[39m.\u001b[39mb) \u001b[39m-\u001b[39m model\u001b[39m.\u001b[39mtrain_y[\u001b[39m0\u001b[39m,i])\n",
      "File \u001b[1;32mc:\\MFE\\MFE Sem 3\\CSE 426\\CSE_426\\Project 2\\src\\problem1.py:41\u001b[0m, in \u001b[0;36mlinear_kernel\u001b[1;34m(X1, X2)\u001b[0m\n\u001b[0;32m     23\u001b[0m \u001b[39m#########################################\u001b[39;00m\n\u001b[0;32m     24\u001b[0m \u001b[39m'''\u001b[39;00m\n\u001b[0;32m     25\u001b[0m \u001b[39mshape_1 = X1.shape\u001b[39;00m\n\u001b[0;32m     26\u001b[0m \u001b[39mshape_2 = X2.shape\u001b[39;00m\n\u001b[1;32m   (...)\u001b[0m\n\u001b[0;32m     38\u001b[0m \u001b[39m    return K\u001b[39;00m\n\u001b[0;32m     39\u001b[0m \u001b[39m'''\u001b[39;00m\n\u001b[1;32m---> 41\u001b[0m \u001b[39mreturn\u001b[39;00m np\u001b[39m.\u001b[39;49mdot(X1\u001b[39m.\u001b[39;49mT, X2)\n",
      "File \u001b[1;32m<__array_function__ internals>:5\u001b[0m, in \u001b[0;36mdot\u001b[1;34m(*args, **kwargs)\u001b[0m\n",
      "\u001b[1;31mKeyboardInterrupt\u001b[0m: "
     ]
    }
   ],
   "source": [
    "model = SVMModel(blob['tr_X'],blob['tr_y'], 1, linear_kernel, 0.1)\n",
    "max_iters = 10 \n",
    "record_every = 1 \n",
    "max_passes = 1 \n",
    "tol=1e-6\n",
    "# Creating the lists\n",
    "iter_num = []\n",
    "duals = []\n",
    "primals = []\n",
    "models = []\n",
    "\n",
    "# set dual variables to zero\n",
    "#alpha = np.zeros(model.train_y.shape)\n",
    "#b = 0\n",
    "\n",
    "# begin iteration\n",
    "for t in range(max_iters):\n",
    "    passes = 0\n",
    "\n",
    "    while passes < max_passes:\n",
    "        num_changes = 0\n",
    "        for i in range(model.m):\n",
    "            \n",
    "            if model.kernel_func.__name__ == 'linear_kernel':\n",
    "\n",
    "                kkt = model.train_y[0,i]*((np.dot(np.multiply(model.alpha, model.train_y), linear_kernel(np.array([model.train_X[:,i]]).T,model.train_X).T) + model.b) - model.train_y[0,i])\n",
    "            #    kkt= model.train_y[0,i]*((np.sum(np.multiply(model.alpha, model.train_y) @ linear_kernel(np.array([model.train_X[:,i]]).T,model.train_X).T) + model.b) - model.train_y[0,i])\n",
    "            #    kkt= model.train_y[0,i]*((np.sum((model.alpha* model.train_y) @ linear_kernel(np.array([model.train_X[:,i]]).T,model.train_X).T) + model.b) - model.train_y[0,i])\n",
    "            #    kkt = model.train_y[0,i]*(f_x(model.train_X, model.train_y, model.alpha, model.b, model.train_X[:,i], 1) - model.train_y[0,i])\n",
    "            #    kkt = model.train_y[:,i]*((np.sum(np.multiply(model.alpha, model.train_y) * linear_kernel(np.array([model.train_X[:,i]]).T,model.train_X).T) + model.b) - model.train_y[:,i])\n",
    "            else:\n",
    "\n",
    "                kkt = model.train_y[0,i]*((np.dot(np.multiply(model.alpha, model.train_y), Gaussian_kernel(np.array([model.train_X[:,i]]), model.train_X).T) + model.b) - model.train_y[0,i])\n",
    "\n",
    "            if (kkt < -tol and model.alpha[0,i] < model.C) or (kkt > tol and model.alpha[0,i] > 0):\n",
    "                # Random initialize where i != j               \n",
    "                list_for_randoms = [z for z in range(model.m)]\n",
    "\n",
    "                list_for_randoms.remove(i)\n",
    "                j = np.random.choice(list_for_randoms)\n",
    "                # Traing Example\n",
    "                x = np.array([model.train_X[:,i], model.train_X[:,j]]).T\n",
    "                alpha_vec = np.array([[model.alpha[0][i], model.alpha[0][j]]])\n",
    "                y_vec = np.array([[model.train_y[0][i], model.train_y[0][j]]])\n",
    "\n",
    "                # Upper and Lower Bounds\n",
    "                if y_vec[0,0] != y_vec[0,1]: \n",
    "                    H = min(model.C, model.C - (alpha_vec[0,0] - alpha_vec[0,1]))\n",
    "                    L = max(0, -(alpha_vec[0,0] - alpha_vec[0,1]))\n",
    "\n",
    "                else:\n",
    "                    H = min(model.C, alpha_vec[0,0] + alpha_vec[0,1])\n",
    "                    L = max(0, alpha_vec[0,0] + alpha_vec[0,1] - model.C)\n",
    "                #if L==H:\n",
    "                #    continue\n",
    "                # Kernel Used\n",
    "                if model.kernel_func.__name__ == 'linear_kernel':\n",
    "                    K = linear_kernel(x, x)\n",
    "                elif model.kernel_func.__name__ == 'Gaussian_kernel':\n",
    "                    K = Gaussian_kernel(x, x)\n",
    "\n",
    "                #g vector with g_1 and g_2 inside for efficiency\n",
    "                g_vec = np.dot(np.multiply(alpha_vec, y_vec), K) + model.b\n",
    "\n",
    "                # alpha_2 value\n",
    "                #if K[0][0] + K[1][1] - 2*K[0][1] == 0:\n",
    "                #    continue\n",
    "                \n",
    "                alpha_new = alpha_vec[0, 1] + ((y_vec[0, 1]*(g_vec[0][0] - y_vec[0, 0] - g_vec[0][1] + y_vec[0, 1]))\n",
    "                                        /(K[0][0] + K[1][1] - 2*K[0][1]))\n",
    "\n",
    "                #if alpha_new < 0:\n",
    "                #    alpha_new =0\n",
    "\n",
    "                # alpha_2 classification\n",
    "                if alpha_new > H:\n",
    "                    alpha_new_clipped = H\n",
    "\n",
    "                elif alpha_new < L:\n",
    "                    alpha_new_clipped = L\n",
    "\n",
    "                else: \n",
    "                    alpha_new_clipped = alpha_new\n",
    "\n",
    "\n",
    "                # Stopping if not meaningful change\n",
    "                if np.abs(alpha_new_clipped-alpha_vec[0, 1]) < tol:\n",
    "\n",
    "                    continue\n",
    "\n",
    "                # Getting alpha_1 if meaningful change\n",
    "                alpha_1_new = alpha_vec[0, 0] + (y_vec[0, 0]*y_vec[0, 1]) * (alpha_vec[0, 1] - alpha_new_clipped)\n",
    "\n",
    "                # b primal\n",
    "                # E vector (E_1, E_2)\n",
    "                E = g_vec - y_vec\n",
    "                b1 = model.b - E[0][0] - y_vec[0, 0]*(alpha_1_new - alpha_vec[0,0])*K[0][0] - y_vec[0, 1]*(alpha_new_clipped - alpha_vec[0, 1])*K[0][1]\n",
    "                b2 = model.b - E[0][1] - y_vec[0, 0]*(alpha_1_new - alpha_vec[0,0])*K[0][1] - y_vec[0, 1]*(alpha_new_clipped - alpha_vec[0, 1])*K[1][1]\n",
    "\n",
    "                # update model values\n",
    "                # alphas\n",
    "                model.alpha[0][i] = alpha_1_new\n",
    "                model.alpha[0][j] = alpha_new_clipped\n",
    "\n",
    "                # b primal\n",
    "                if 0 < model.alpha[0][i] < model.C:\n",
    "                    b_new = b1\n",
    "                \n",
    "                elif 0 < model.alpha[0][j] < model.C:\n",
    "                    b_new = b2\n",
    "\n",
    "                else:\n",
    "                    b_new = (b1 + b2)/2\n",
    "\n",
    "                model.b = b_new\n",
    "                num_changes += 1\n",
    "\n",
    "        if num_changes == 0:\n",
    "            passes +=1\n",
    "        else:\n",
    "            passes = 0\n",
    "\n",
    "    iter_num.append(t)\n",
    "    duals.append(dual_objective_function(model.alpha, model.train_y, model.train_X, model.kernel_func, model.sigma))\n",
    "    primals.append(primal_objective_function(model.alpha, model.train_y, model.train_X, model.b, model.C, model.kernel_func, model.sigma))\n",
    "    models.append(vars(model))\n",
    "\n"
   ]
  },
  {
   "cell_type": "code",
   "execution_count": 85,
   "metadata": {},
   "outputs": [
    {
     "data": {
      "text/plain": [
       "0.007702945429424235"
      ]
     },
     "execution_count": 85,
     "metadata": {},
     "output_type": "execute_result"
    }
   ],
   "source": [
    "model.b"
   ]
  },
  {
   "cell_type": "code",
   "execution_count": 82,
   "metadata": {},
   "outputs": [
    {
     "data": {
      "text/plain": [
       "array([-1,  1, -1, -1,  1,  1,  1,  1, -1, -1,  1, -1,  1, -1,  1,  1,  1,\n",
       "       -1, -1,  1,  1,  1,  1, -1, -1,  1,  1, -1, -1,  1, -1, -1,  1, -1,\n",
       "        1,  1, -1,  1,  1,  1,  1,  1, -1,  1, -1,  1, -1, -1, -1, -1, -1,\n",
       "        1,  1,  1, -1,  1, -1,  1, -1, -1, -1,  1,  1,  1,  1,  1, -1,  1,\n",
       "       -1, -1,  1,  1,  1, -1, -1, -1,  1,  1, -1, -1, -1,  1, -1,  1, -1,\n",
       "       -1, -1, -1, -1, -1,  1, -1, -1, -1,  1,  1,  1, -1,  1, -1])"
      ]
     },
     "execution_count": 82,
     "metadata": {},
     "output_type": "execute_result"
    }
   ],
   "source": [
    "predict(model, model.train_X)"
   ]
  },
  {
   "cell_type": "code",
   "execution_count": null,
   "metadata": {},
   "outputs": [],
   "source": [
    "decision_function()"
   ]
  },
  {
   "cell_type": "code",
   "execution_count": 80,
   "metadata": {},
   "outputs": [
    {
     "data": {
      "text/plain": [
       "0.001"
      ]
     },
     "execution_count": 80,
     "metadata": {},
     "output_type": "execute_result"
    }
   ],
   "source": [
    "import math\n",
    "math.pow(10, -3)"
   ]
  },
  {
   "cell_type": "code",
   "execution_count": 73,
   "metadata": {},
   "outputs": [
    {
     "data": {
      "text/plain": [
       "-0.13163820959410277"
      ]
     },
     "execution_count": 73,
     "metadata": {},
     "output_type": "execute_result"
    }
   ],
   "source": [
    "model.b"
   ]
  },
  {
   "cell_type": "code",
   "execution_count": 40,
   "metadata": {},
   "outputs": [],
   "source": [
    "def f_x(X, y, a, b, x, degree):\n",
    "    predicted_value = 0.0\n",
    "    # using polynomial kernel\n",
    "    for k in range(X.shape[0]):\n",
    "        predicted_value += (a[0,k]*y[0,k]*((X[:, k].T@x + 1)**degree))\n",
    "    return predicted_value + b"
   ]
  },
  {
   "cell_type": "code",
   "execution_count": 77,
   "metadata": {},
   "outputs": [
    {
     "data": {
      "text/plain": [
       "-0.3660487074655496"
      ]
     },
     "execution_count": 77,
     "metadata": {},
     "output_type": "execute_result"
    }
   ],
   "source": [
    "model.train_y[0,i]*(f_x(model.train_X, model.train_y, model.alpha, model.b, model.train_X[:,i], 1) - model.train_y[0,i])"
   ]
  },
  {
   "cell_type": "code",
   "execution_count": 78,
   "metadata": {},
   "outputs": [
    {
     "data": {
      "text/plain": [
       "0.3660487074655496"
      ]
     },
     "execution_count": 78,
     "metadata": {},
     "output_type": "execute_result"
    }
   ],
   "source": [
    "(f_x(model.train_X, model.train_y, model.alpha, model.b, model.train_X[:,i], 1) - model.train_y[0,i])"
   ]
  },
  {
   "cell_type": "code",
   "execution_count": 65,
   "metadata": {},
   "outputs": [
    {
     "data": {
      "text/plain": [
       "array([[0., 0., 0., 0., 0., 0., 0., 0., 0., 0., 0., 0., 0., 0., 0., 0.,\n",
       "        0., 0., 0., 0., 0., 0., 0., 0., 0., 0., 0., 0., 0., 0., 0., 0.,\n",
       "        0., 0., 0., 0., 0., 0., 0., 0., 0., 0., 0., 0., 0., 0., 0., 0.,\n",
       "        0., 0., 0., 0., 0., 0., 0., 0., 0., 0., 0., 0., 0., 0., 0., 0.,\n",
       "        0., 0., 0., 0., 0., 0., 0., 0., 0., 0., 0., 0., 0., 0., 0., 0.,\n",
       "        0., 0., 0., 0., 0., 0., 0., 0., 0., 0., 0., 0., 0., 0., 0., 0.,\n",
       "        0., 0., 0., 0.]])"
      ]
     },
     "execution_count": 65,
     "metadata": {},
     "output_type": "execute_result"
    }
   ],
   "source": [
    "model.alpha"
   ]
  },
  {
   "cell_type": "code",
   "execution_count": 30,
   "metadata": {},
   "outputs": [
    {
     "data": {
      "text/plain": [
       "(2, 100)"
      ]
     },
     "execution_count": 30,
     "metadata": {},
     "output_type": "execute_result"
    }
   ],
   "source": [
    "model.train_X.shape"
   ]
  },
  {
   "cell_type": "code",
   "execution_count": 51,
   "metadata": {},
   "outputs": [
    {
     "data": {
      "text/plain": [
       "-1.0748116878371348"
      ]
     },
     "execution_count": 51,
     "metadata": {},
     "output_type": "execute_result"
    }
   ],
   "source": [
    "model.train_y[0,i]*(f_x(model.train_X, model.train_y, model.alpha, model.b, model.train_X[:,i], 1) - model.train_y[0,i])"
   ]
  },
  {
   "cell_type": "code",
   "execution_count": 44,
   "metadata": {},
   "outputs": [
    {
     "data": {
      "text/plain": [
       "array([-1], dtype=int64)"
      ]
     },
     "execution_count": 44,
     "metadata": {},
     "output_type": "execute_result"
    }
   ],
   "source": [
    "model.train_y[:,i]"
   ]
  },
  {
   "cell_type": "code",
   "execution_count": 48,
   "metadata": {},
   "outputs": [
    {
     "data": {
      "text/plain": [
       "array([-1.])"
      ]
     },
     "execution_count": 48,
     "metadata": {},
     "output_type": "execute_result"
    }
   ],
   "source": [
    "model.train_y[:,i]*(np.sum(np.multiply(model.alpha, model.train_y) * linear_kernel(np.array([model.train_X[:,i]]).T,model.train_X).T)-model.train_y[:,i])"
   ]
  },
  {
   "cell_type": "code",
   "execution_count": 46,
   "metadata": {},
   "outputs": [
    {
     "data": {
      "text/plain": [
       "array([0.])"
      ]
     },
     "execution_count": 46,
     "metadata": {},
     "output_type": "execute_result"
    }
   ],
   "source": [
    "model.alpha[:,i]"
   ]
  },
  {
   "cell_type": "code",
   "execution_count": 31,
   "metadata": {},
   "outputs": [
    {
     "data": {
      "text/plain": [
       "-1.0042847941385618"
      ]
     },
     "execution_count": 31,
     "metadata": {},
     "output_type": "execute_result"
    }
   ],
   "source": [
    "model.train_y[0,i]*((np.sum(np.multiply(model.alpha, model.train_y) * linear_kernel(np.array([model.train_X[:,i]]).T,model.train_X).T) + model.b) - model.train_y[0,i])"
   ]
  },
  {
   "cell_type": "code",
   "execution_count": 12,
   "metadata": {},
   "outputs": [
    {
     "data": {
      "text/plain": [
       "array([[-36.11151184]])"
      ]
     },
     "execution_count": 12,
     "metadata": {},
     "output_type": "execute_result"
    }
   ],
   "source": [
    "np.dot(np.multiply(model.alpha, model.train_y), linear_kernel(np.array([model.train_X[:,i]]).T,model.train_X).T)"
   ]
  },
  {
   "cell_type": "code",
   "execution_count": 17,
   "metadata": {},
   "outputs": [],
   "source": [
    "def f_x(X, y, a, b, x, degree):\n",
    "    predicted_value = 0.0\n",
    "    # using polynomial kernel\n",
    "    for k in range(X.shape[0]):\n",
    "        predicted_value += (a[k]*y[k]*((X[k, :].T@x + 1)**degree))\n",
    "    return predicted_value + b"
   ]
  },
  {
   "cell_type": "code",
   "execution_count": null,
   "metadata": {},
   "outputs": [],
   "source": []
  },
  {
   "cell_type": "code",
   "execution_count": 16,
   "metadata": {},
   "outputs": [
    {
     "data": {
      "text/plain": [
       "array([[-3.55127255e-01,  0.00000000e+00, -5.83138495e-01,\n",
       "        -3.01613781e-01,  5.31781920e-01,  0.00000000e+00,\n",
       "         2.19284860e-01,  1.89837052e-01, -1.69103788e-01,\n",
       "        -1.17689883e-01, -1.38777878e-17, -0.00000000e+00,\n",
       "         0.00000000e+00, -0.00000000e+00,  0.00000000e+00,\n",
       "         0.00000000e+00,  8.12125534e-01, -6.75457151e-01,\n",
       "        -3.55480554e-01,  0.00000000e+00,  5.55111512e-17,\n",
       "         3.50309026e-01,  3.25820527e-01, -0.00000000e+00,\n",
       "        -4.72920754e-01,  0.00000000e+00,  1.14555490e-01,\n",
       "        -1.86539553e-01, -1.79810283e-01,  3.01357910e-02,\n",
       "        -0.00000000e+00, -7.30479941e-01,  0.00000000e+00,\n",
       "        -1.00000000e+00,  8.19569549e-01, -5.55111512e-17,\n",
       "        -0.00000000e+00,  0.00000000e+00,  0.00000000e+00,\n",
       "         0.00000000e+00,  4.60841427e-01,  8.05527984e-02,\n",
       "        -6.91477181e-01,  1.59446036e-01, -0.00000000e+00,\n",
       "         0.00000000e+00, -4.16333634e-17, -0.00000000e+00,\n",
       "        -5.70819754e-01, -4.99861508e-01, -2.69969472e-01,\n",
       "         0.00000000e+00,  3.15139572e-01,  4.89484713e-01,\n",
       "        -0.00000000e+00,  0.00000000e+00, -0.00000000e+00,\n",
       "         1.00000000e+00, -0.00000000e+00, -1.44647500e-01,\n",
       "        -0.00000000e+00,  3.58091294e-01,  5.04475473e-01,\n",
       "         1.17877871e-01,  0.00000000e+00,  5.76107397e-01,\n",
       "        -1.71127850e-01,  2.08503432e-01, -1.00000000e+00,\n",
       "        -0.00000000e+00,  6.27348756e-01,  0.00000000e+00,\n",
       "         3.87075540e-01, -1.65509242e-01, -0.00000000e+00,\n",
       "        -8.90323625e-01,  9.66892784e-01,  0.00000000e+00,\n",
       "        -8.37370158e-01, -2.23037980e-02, -0.00000000e+00,\n",
       "         1.13249844e-01, -0.00000000e+00,  4.95650270e-01,\n",
       "        -5.27310839e-01,  5.55111512e-17, -0.00000000e+00,\n",
       "        -0.00000000e+00, -1.57361119e-01, -3.15222922e-01,\n",
       "         8.25134049e-01, -1.78618581e-01, -0.00000000e+00,\n",
       "        -5.71338637e-01,  3.17721751e-01,  5.99496034e-01,\n",
       "         7.76492417e-02, -3.35997063e-01,  4.32847058e-01,\n",
       "        -3.03844042e-02]])"
      ]
     },
     "execution_count": 16,
     "metadata": {},
     "output_type": "execute_result"
    }
   ],
   "source": [
    "np.multiply(model.alpha, model.train_y)"
   ]
  },
  {
   "cell_type": "code",
   "execution_count": 14,
   "metadata": {},
   "outputs": [
    {
     "data": {
      "text/plain": [
       "array([[ 1.39939345],\n",
       "       [-1.67662227],\n",
       "       [ 1.21024948],\n",
       "       [ 1.80518992],\n",
       "       [-1.19675285],\n",
       "       [-1.52493057],\n",
       "       [-1.61707856],\n",
       "       [-1.64633767],\n",
       "       [ 1.5798916 ],\n",
       "       [ 1.71293114],\n",
       "       [-2.006546  ],\n",
       "       [ 1.84679248],\n",
       "       [-1.84445649],\n",
       "       [ 1.75545409],\n",
       "       [-1.56483984],\n",
       "       [-1.45449057],\n",
       "       [-1.53717665],\n",
       "       [ 1.31647822],\n",
       "       [ 1.55058214],\n",
       "       [-1.92138979],\n",
       "       [-1.54306482],\n",
       "       [-1.76298827],\n",
       "       [-1.70807075],\n",
       "       [ 1.64458094],\n",
       "       [ 1.42206042],\n",
       "       [-2.21236543],\n",
       "       [-1.63058592],\n",
       "       [ 1.6220864 ],\n",
       "       [ 1.57401593],\n",
       "       [-1.79918717],\n",
       "       [ 1.65407624],\n",
       "       [ 1.30441083],\n",
       "       [-2.00180053],\n",
       "       [ 1.41816805],\n",
       "       [-1.29086288],\n",
       "       [-1.76936403],\n",
       "       [ 1.9160753 ],\n",
       "       [-1.95677251],\n",
       "       [-1.85760455],\n",
       "       [-1.76139296],\n",
       "       [-1.6612102 ],\n",
       "       [-1.86661533],\n",
       "       [ 1.47910348],\n",
       "       [-1.88327604],\n",
       "       [ 1.68359556],\n",
       "       [-1.56876919],\n",
       "       [ 1.907047  ],\n",
       "       [ 1.85184114],\n",
       "       [ 1.41399517],\n",
       "       [ 1.42479582],\n",
       "       [ 1.53384176],\n",
       "       [-1.85473295],\n",
       "       [-1.58272597],\n",
       "       [-1.65166395],\n",
       "       [ 1.75513842],\n",
       "       [-1.63199396],\n",
       "       [ 1.60629529],\n",
       "       [-1.07861587],\n",
       "       [ 1.73181928],\n",
       "       [ 1.67866246],\n",
       "       [ 1.73286989],\n",
       "       [-1.6921222 ],\n",
       "       [-1.3686533 ],\n",
       "       [-1.85364572],\n",
       "       [-1.89959109],\n",
       "       [-1.46762087],\n",
       "       [ 1.6755239 ],\n",
       "       [-1.93488091],\n",
       "       [ 1.42418955],\n",
       "       [ 1.72583833],\n",
       "       [-1.51531701],\n",
       "       [-1.71669743],\n",
       "       [-1.50234544],\n",
       "       [ 1.96961564],\n",
       "       [ 2.11696239],\n",
       "       [ 1.32791518],\n",
       "       [-1.3847241 ],\n",
       "       [-1.74078132],\n",
       "       [ 1.31095992],\n",
       "       [ 1.73824023],\n",
       "       [ 2.13906827],\n",
       "       [-1.82074336],\n",
       "       [ 1.81008097],\n",
       "       [-1.09201201],\n",
       "       [ 1.39540164],\n",
       "       [ 1.67271346],\n",
       "       [ 2.03502114],\n",
       "       [ 1.69550249],\n",
       "       [ 1.69866058],\n",
       "       [ 1.46834809],\n",
       "       [-1.38832153],\n",
       "       [ 1.51634685],\n",
       "       [ 1.67711448],\n",
       "       [ 1.53801479],\n",
       "       [-1.38988336],\n",
       "       [-1.09124958],\n",
       "       [-1.90618581],\n",
       "       [ 1.83937067],\n",
       "       [-1.34510625],\n",
       "       [ 1.8678354 ]])"
      ]
     },
     "execution_count": 14,
     "metadata": {},
     "output_type": "execute_result"
    }
   ],
   "source": [
    "linear_kernel(np.array([model.train_X[:,i]]).T,model.train_X).T"
   ]
  },
  {
   "cell_type": "code",
   "execution_count": 10,
   "metadata": {},
   "outputs": [
    {
     "data": {
      "text/plain": [
       "0.004284794138566417"
      ]
     },
     "execution_count": 10,
     "metadata": {},
     "output_type": "execute_result"
    }
   ],
   "source": [
    "model.b"
   ]
  },
  {
   "cell_type": "code",
   "execution_count": 8,
   "metadata": {},
   "outputs": [
    {
     "data": {
      "text/plain": [
       "0.925268330628601"
      ]
     },
     "execution_count": 8,
     "metadata": {},
     "output_type": "execute_result"
    }
   ],
   "source": [
    "model.b"
   ]
  },
  {
   "cell_type": "code",
   "execution_count": 42,
   "metadata": {},
   "outputs": [
    {
     "data": {
      "text/plain": [
       "array([[-32.82311169]])"
      ]
     },
     "execution_count": 42,
     "metadata": {},
     "output_type": "execute_result"
    }
   ],
   "source": [
    "np.dot(np.multiply(model.alpha, model.train_y), linear_kernel(np.array([model.train_X[:,i]]).T,model.train_X).T) + model.b - model.train_y[0,i]"
   ]
  },
  {
   "cell_type": "code",
   "execution_count": 35,
   "metadata": {},
   "outputs": [
    {
     "data": {
      "text/plain": [
       "array([[32.19008172]])"
      ]
     },
     "execution_count": 35,
     "metadata": {},
     "output_type": "execute_result"
    }
   ],
   "source": [
    "kkt"
   ]
  },
  {
   "cell_type": "code",
   "execution_count": 24,
   "metadata": {},
   "outputs": [
    {
     "data": {
      "text/plain": [
       "array([[-28.39396288]])"
      ]
     },
     "execution_count": 24,
     "metadata": {},
     "output_type": "execute_result"
    }
   ],
   "source": [
    "np.dot(np.multiply(model.alpha, model.train_y), linear_kernel(np.array([model.train_X[:,i]]).T,model.train_X).T)"
   ]
  },
  {
   "cell_type": "code",
   "execution_count": 32,
   "metadata": {},
   "outputs": [
    {
     "data": {
      "text/plain": [
       "array([[-1.]])"
      ]
     },
     "execution_count": 32,
     "metadata": {},
     "output_type": "execute_result"
    }
   ],
   "source": [
    "model.train_y[0,1]*((np.dot(np.multiply(model.alpha, model.train_y), linear_kernel(np.array([model.train_X[:,1]]).T,model.train_X).T) + model.b) - model.train_y[0,1])"
   ]
  },
  {
   "cell_type": "code",
   "execution_count": 25,
   "metadata": {},
   "outputs": [
    {
     "data": {
      "text/plain": [
       "array([-28.39396288])"
      ]
     },
     "execution_count": 25,
     "metadata": {},
     "output_type": "execute_result"
    }
   ],
   "source": [
    "np.dot(np.multiply(model.alpha, model.train_y), linear_kernel(model.train_X[:,i],model.train_X))"
   ]
  },
  {
   "cell_type": "code",
   "execution_count": 20,
   "metadata": {},
   "outputs": [
    {
     "data": {
      "text/plain": [
       "array([[ 1.54669146, -1.50237635,  1.07995649,  1.6786708 , -0.96786672,\n",
       "        -1.42299706, -1.49434298, -1.49345055,  1.34359446,  1.66639122,\n",
       "        -1.82761631,  1.68549236, -1.74659288,  1.49840732, -1.22970759,\n",
       "        -1.3542485 , -1.51850697,  1.25808608,  1.44461482, -1.94344538,\n",
       "        -1.47049399, -1.72448601, -1.61316052,  1.60116312,  1.36663518,\n",
       "        -1.98687814, -1.5391472 ,  1.58543586,  1.73879728, -1.62271371,\n",
       "         1.51528678,  1.18040985, -1.89931607,  1.39295082, -1.16145714,\n",
       "        -1.71572533,  1.89239966, -2.00683321, -1.76503002, -1.70339688,\n",
       "        -1.58155481, -1.68750317,  1.4072979 , -1.94278708,  1.60457425,\n",
       "        -1.49029034,  1.84102612,  2.00930981,  1.24665178,  1.40744218,\n",
       "         1.45399353, -1.63276834, -1.56846547, -1.68211646,  1.63310927,\n",
       "        -1.53157393,  1.43335421, -1.09578637,  1.60772574,  1.65069868,\n",
       "         1.63077156, -1.74338833, -1.38056947, -1.73847096, -2.04971763,\n",
       "        -1.30804394,  1.45182435, -1.9787448 ,  1.39939345,  1.66361944,\n",
       "        -1.47948244, -1.5415906 , -1.44118455,  1.86687311,  2.0783209 ,\n",
       "         1.42054276, -1.33283679, -1.66366432,  1.27967492,  1.53527697,\n",
       "         2.00875356, -1.90243578,  1.67055732, -1.00528959,  1.30227265,\n",
       "         1.74386575,  1.80328511,  1.72060439,  1.53468361,  1.34693282,\n",
       "        -1.28955724,  1.48652093,  1.53756333,  1.38664376, -1.29649828,\n",
       "        -1.1395068 , -1.76181527,  1.7067397 , -1.31931545,  1.94986023]])"
      ]
     },
     "execution_count": 20,
     "metadata": {},
     "output_type": "execute_result"
    }
   ],
   "source": [
    "linear_kernel(np.array([model.train_X[:,i]]).T,model.train_X)"
   ]
  },
  {
   "cell_type": "code",
   "execution_count": 43,
   "metadata": {},
   "outputs": [
    {
     "data": {
      "text/plain": [
       "array([[ 7.64010135e-01,  0.00000000e+00,  5.87958371e-01,\n",
       "         0.00000000e+00,  7.79729455e-01,  5.16675751e-01,\n",
       "         0.00000000e+00,  0.00000000e+00,  0.00000000e+00,\n",
       "         1.32955373e-02,  0.00000000e+00,  2.22909040e-01,\n",
       "         1.13669060e-01,  4.85722573e-17,  1.20462462e-01,\n",
       "         7.01009308e-01,  6.57968120e-01,  1.00000000e+00,\n",
       "         6.71081912e-01,  0.00000000e+00,  3.30673845e-01,\n",
       "        -2.77555756e-17,  5.45981067e-01,  4.23732975e-02,\n",
       "         2.43508863e-01,  0.00000000e+00,  0.00000000e+00,\n",
       "         1.74626938e-01,  0.00000000e+00,  0.00000000e+00,\n",
       "         0.00000000e+00,  1.00000000e+00,  0.00000000e+00,\n",
       "         1.00000000e+00,  1.00000000e+00,  0.00000000e+00,\n",
       "         1.95519174e-02,  2.77555756e-17,  2.54924659e-01,\n",
       "         0.00000000e+00,  0.00000000e+00,  2.77329358e-01,\n",
       "         3.67669605e-01,  0.00000000e+00,  0.00000000e+00,\n",
       "         2.09318396e-01,  1.36328673e-01,  0.00000000e+00,\n",
       "         4.43379367e-01,  1.00000000e+00,  5.46466340e-01,\n",
       "         0.00000000e+00,  4.96171000e-01,  8.34019599e-02,\n",
       "         0.00000000e+00,  2.67991219e-01,  0.00000000e+00,\n",
       "         1.00000000e+00, -1.38777878e-17,  1.73216642e-01,\n",
       "         0.00000000e+00,  0.00000000e+00,  7.15816517e-01,\n",
       "         0.00000000e+00, -2.77555756e-17,  3.89584850e-01,\n",
       "         0.00000000e+00,  0.00000000e+00,  5.14704532e-01,\n",
       "         0.00000000e+00,  2.26691463e-01,  0.00000000e+00,\n",
       "         2.92973714e-01,  0.00000000e+00,  2.09318396e-01,\n",
       "         7.77749664e-01,  4.35312448e-01,  0.00000000e+00,\n",
       "         5.46048822e-01, -2.77555756e-17,  0.00000000e+00,\n",
       "         0.00000000e+00,  0.00000000e+00,  7.04012771e-01,\n",
       "         6.04554561e-01,  0.00000000e+00, -2.08166817e-17,\n",
       "         2.77555756e-17,  2.05294377e-01,  1.00000000e+00,\n",
       "         4.54697536e-01,  2.39081939e-01,  0.00000000e+00,\n",
       "         2.81658200e-01,  3.13780596e-01,  1.00000000e+00,\n",
       "         1.11941960e-01,  0.00000000e+00,  1.00000000e+00,\n",
       "         2.15330388e-01]])"
      ]
     },
     "execution_count": 43,
     "metadata": {},
     "output_type": "execute_result"
    }
   ],
   "source": [
    "model.alpha"
   ]
  },
  {
   "cell_type": "code",
   "execution_count": 17,
   "metadata": {},
   "outputs": [
    {
     "data": {
      "text/plain": [
       "array([-1.])"
      ]
     },
     "execution_count": 17,
     "metadata": {},
     "output_type": "execute_result"
    }
   ],
   "source": [
    "model.train_y[0,5]*((np.dot(np.multiply(model.alpha, model.train_y), linear_kernel(model.train_X[:,5], model.train_X))+model.b) - model.train_y[:,5])"
   ]
  },
  {
   "cell_type": "code",
   "execution_count": null,
   "metadata": {},
   "outputs": [],
   "source": []
  },
  {
   "cell_type": "code",
   "execution_count": null,
   "metadata": {},
   "outputs": [],
   "source": [
    "np.dot(np.multiply(alpha_vec,y_vec), K) + model.b"
   ]
  },
  {
   "cell_type": "code",
   "execution_count": null,
   "metadata": {},
   "outputs": [],
   "source": [
    "alpha = np.array"
   ]
  },
  {
   "cell_type": "code",
   "execution_count": 22,
   "metadata": {},
   "outputs": [
    {
     "data": {
      "text/plain": [
       "array([[ 0.60754434, -0.93602521],\n",
       "       [ 0.85371564, -1.01201771]])"
      ]
     },
     "execution_count": 22,
     "metadata": {},
     "output_type": "execute_result"
    }
   ],
   "source": [
    "x = np.array([model.train_X[:,2], model.train_X[:,55]]).T\n",
    "x"
   ]
  },
  {
   "cell_type": "code",
   "execution_count": null,
   "metadata": {},
   "outputs": [],
   "source": []
  },
  {
   "cell_type": "code",
   "execution_count": 80,
   "metadata": {},
   "outputs": [
    {
     "data": {
      "text/plain": [
       "array([ 0.3309753 ,  0.38183647,  4.09976594,  0.36346719,  0.05359556,\n",
       "       -1.78144625,  3.76525455,  0.36645388, -0.11002703, -0.25776056,\n",
       "        0.19797236,  2.98134575, -0.4353054 , -0.28926887, -0.22191685,\n",
       "        3.96834895,  3.93489895,  0.78591284,  0.34539171, -3.94460408,\n",
       "       -2.85554575,  0.14201936, -0.05059693, -0.31451422, -0.8085973 ,\n",
       "        3.95687104,  0.12557301,  2.91256744, -0.09890696,  3.29545653,\n",
       "       -0.25210229, -0.18606368, -0.25553085,  0.06396623,  0.27115442,\n",
       "        2.64267475, -1.142959  , -0.34910926,  1.18218049,  3.99800362,\n",
       "        0.35455128, -0.32343196,  0.24880788, -2.59623929,  0.42959706,\n",
       "        2.20273272,  0.34075337,  0.24343527,  2.47532118, -0.12660701,\n",
       "        1.25775085, -0.37982381,  1.59577122, -3.5545315 , -0.41766605,\n",
       "       -1.66192951,  0.14671119,  0.38102679, -3.21395132,  0.17270493,\n",
       "        3.73441283, -0.23509671, -0.01539285,  1.76871935, -0.65397568,\n",
       "        0.28935923, -4.06163269, -0.35357458, -2.10314969,  0.30161984,\n",
       "       -0.41460155,  0.62281048, -0.34681939, -0.31455405, -4.03388037,\n",
       "       -0.0350994 , -3.26711233, -0.13005515,  0.3913138 , -2.9428687 ,\n",
       "        3.5488281 ,  3.2316484 , -3.75973555, -1.28360609, -0.34798601,\n",
       "       -0.26824306,  2.06432581, -3.87763207, -0.03695877,  0.1972455 ,\n",
       "       -2.51820299, -2.22401436, -0.25961961,  0.31523908, -3.74630885,\n",
       "        0.24146074, -3.98733713,  0.17699803, -3.63119483,  3.57825688])"
      ]
     },
     "execution_count": 80,
     "metadata": {},
     "output_type": "execute_result"
    }
   ],
   "source": [
    "linear_kernel(model.train_X[:,2], model.train_X)"
   ]
  },
  {
   "cell_type": "code",
   "execution_count": 81,
   "metadata": {},
   "outputs": [
    {
     "ename": "ValueError",
     "evalue": "shapes (2,1) and (2,100) not aligned: 1 (dim 1) != 2 (dim 0)",
     "output_type": "error",
     "traceback": [
      "\u001b[1;31m---------------------------------------------------------------------------\u001b[0m",
      "\u001b[1;31mValueError\u001b[0m                                Traceback (most recent call last)",
      "\u001b[1;32mc:\\MFE\\MFE Sem 3\\CSE 426\\CSE_426\\Project 2\\src\\Scratchrun2.ipynb Cell 20\u001b[0m in \u001b[0;36m<cell line: 1>\u001b[1;34m()\u001b[0m\n\u001b[1;32m----> <a href='vscode-notebook-cell:/c%3A/MFE/MFE%20Sem%203/CSE%20426/CSE_426/Project%202/src/Scratchrun2.ipynb#Y102sZmlsZQ%3D%3D?line=0'>1</a>\u001b[0m linear_kernel(np\u001b[39m.\u001b[39;49marray([model\u001b[39m.\u001b[39;49mtrain_X[:,\u001b[39m2\u001b[39;49m]]), model\u001b[39m.\u001b[39;49mtrain_X)\n",
      "File \u001b[1;32mc:\\MFE\\MFE Sem 3\\CSE 426\\CSE_426\\Project 2\\src\\problem1.py:41\u001b[0m, in \u001b[0;36mlinear_kernel\u001b[1;34m(X1, X2)\u001b[0m\n\u001b[0;32m     23\u001b[0m \u001b[39m#########################################\u001b[39;00m\n\u001b[0;32m     24\u001b[0m \u001b[39m'''\u001b[39;00m\n\u001b[0;32m     25\u001b[0m \u001b[39mshape_1 = X1.shape\u001b[39;00m\n\u001b[0;32m     26\u001b[0m \u001b[39mshape_2 = X2.shape\u001b[39;00m\n\u001b[1;32m   (...)\u001b[0m\n\u001b[0;32m     38\u001b[0m \u001b[39m    return K\u001b[39;00m\n\u001b[0;32m     39\u001b[0m \u001b[39m'''\u001b[39;00m\n\u001b[1;32m---> 41\u001b[0m \u001b[39mreturn\u001b[39;00m np\u001b[39m.\u001b[39;49mdot(X1\u001b[39m.\u001b[39;49mT, X2)\n",
      "File \u001b[1;32m<__array_function__ internals>:5\u001b[0m, in \u001b[0;36mdot\u001b[1;34m(*args, **kwargs)\u001b[0m\n",
      "\u001b[1;31mValueError\u001b[0m: shapes (2,1) and (2,100) not aligned: 1 (dim 1) != 2 (dim 0)"
     ]
    }
   ],
   "source": [
    "linear_kernel(np.array([model.train_X[:,2]]), model.train_X)"
   ]
  },
  {
   "cell_type": "code",
   "execution_count": 23,
   "metadata": {},
   "outputs": [
    {
     "data": {
      "text/plain": [
       "array([[0., 0., 0., 0., 0., 0., 0., 0., 0., 0., 0., 0., 0., 0., 0., 0.,\n",
       "        0., 0., 0., 0., 0., 0., 0., 0., 0., 0., 0., 0., 0., 0., 0., 0.,\n",
       "        0., 0., 0., 0., 0., 0., 0., 0., 0., 0., 0., 0., 0., 0., 0., 0.,\n",
       "        0., 0., 0., 0., 0., 0., 0., 0., 0., 0., 0., 0., 0., 0., 0., 0.,\n",
       "        0., 0., 0., 0., 0., 0., 0., 0., 0., 0., 0., 0., 0., 0., 0., 0.,\n",
       "        0., 0., 0., 0., 0., 0., 0., 0., 0., 0., 0., 0., 0., 0., 0., 0.,\n",
       "        0., 0., 0., 0.]])"
      ]
     },
     "execution_count": 23,
     "metadata": {},
     "output_type": "execute_result"
    }
   ],
   "source": [
    "model.alpha"
   ]
  },
  {
   "cell_type": "code",
   "execution_count": 12,
   "metadata": {},
   "outputs": [
    {
     "data": {
      "text/plain": [
       "1.0"
      ]
     },
     "execution_count": 12,
     "metadata": {},
     "output_type": "execute_result"
    }
   ],
   "source": [
    "max(model.alpha[0])"
   ]
  },
  {
   "cell_type": "code",
   "execution_count": 13,
   "metadata": {},
   "outputs": [
    {
     "data": {
      "text/plain": [
       "-1.734723475976807e-18"
      ]
     },
     "execution_count": 13,
     "metadata": {},
     "output_type": "execute_result"
    }
   ],
   "source": [
    "min(model.alpha[0])"
   ]
  },
  {
   "cell_type": "code",
   "execution_count": 135,
   "metadata": {},
   "outputs": [
    {
     "data": {
      "text/plain": [
       "[]"
      ]
     },
     "execution_count": 135,
     "metadata": {},
     "output_type": "execute_result"
    }
   ],
   "source": [
    "iter_num"
   ]
  },
  {
   "cell_type": "code",
   "execution_count": 3,
   "metadata": {},
   "outputs": [],
   "source": []
  },
  {
   "cell_type": "code",
   "execution_count": 1,
   "metadata": {},
   "outputs": [],
   "source": [
    "from problem1 import *\n",
    "from problem2 import *\n",
    "from problem3 import *\n",
    "import pandas as pd\n",
    "import numpy as np\n",
    "\n",
    "trained = pd.read_pickle(r'C:\\MFE\\MFE Sem 3\\CSE 426\\CSE_426\\Project 2\\data\\trained_model_blobs_Gaussian_kernel.pkl')"
   ]
  },
  {
   "cell_type": "code",
   "execution_count": 2,
   "metadata": {},
   "outputs": [],
   "source": [
    "xrange = np.linspace(trained.train_X[0, :].min(), trained.train_X[0, :].max(), 100)\n",
    "yrange = np.linspace(trained.train_X[1, :].min(), trained.train_X[1, :].max(), 100)\n",
    "grid = [[decision_function(trained.alpha, trained.train_y, trained.train_X, trained.b, trained.kernel_func, trained.sigma, np.array([xr, yr])[:, np.newaxis])\n",
    "                            for xr in xrange] for yr in yrange]"
   ]
  },
  {
   "cell_type": "code",
   "execution_count": 14,
   "metadata": {},
   "outputs": [
    {
     "data": {
      "text/plain": [
       "(100, 100)"
      ]
     },
     "execution_count": 14,
     "metadata": {},
     "output_type": "execute_result"
    }
   ],
   "source": [
    "grid[0][0].shape"
   ]
  },
  {
   "cell_type": "code",
   "execution_count": 22,
   "metadata": {},
   "outputs": [
    {
     "data": {
      "text/plain": [
       "array([[0.99999901, 1.        , 0.99999961, 0.99999936, 1.        ,\n",
       "        0.99999951, 1.        , 1.        , 1.        , 0.99999919,\n",
       "        1.        , 1.        , 0.99999861, 1.        , 1.        ,\n",
       "        1.        , 1.        , 0.99999958, 0.99999985, 1.        ,\n",
       "        0.99999984, 1.        , 0.99999974, 1.        , 1.        ,\n",
       "        0.99999982, 1.        , 1.        , 1.        , 1.        ,\n",
       "        1.        , 1.        , 1.        , 0.99999913, 0.99999895,\n",
       "        0.99999993, 1.        , 1.        , 0.99999943, 0.99999969,\n",
       "        0.99999932, 0.99999948, 1.        , 1.        , 0.99999983,\n",
       "        1.        , 1.        , 0.99999982, 1.        , 1.        ,\n",
       "        0.99999959, 1.        , 1.        , 0.99999812, 1.        ,\n",
       "        0.9999992 , 1.        , 0.99999893, 0.99999999, 1.        ,\n",
       "        1.        , 0.99999952, 1.        , 1.        , 0.99999971,\n",
       "        0.99999927, 1.        , 1.        , 1.        , 1.        ,\n",
       "        1.        , 1.        , 1.        , 1.        , 1.        ,\n",
       "        0.9999992 , 1.        , 0.99999974, 0.99999992, 0.99999985,\n",
       "        0.99999907, 1.        , 1.        , 1.        , 0.99999912,\n",
       "        1.        , 0.99999911, 0.99999954, 1.        , 0.99999985,\n",
       "        1.        , 0.99999817, 1.        , 1.        , 1.        ,\n",
       "        1.        , 0.99999995, 0.99999997, 1.        , 1.        ]])"
      ]
     },
     "execution_count": 22,
     "metadata": {},
     "output_type": "execute_result"
    }
   ],
   "source": [
    "trained.alpha"
   ]
  },
  {
   "cell_type": "code",
   "execution_count": 70,
   "metadata": {},
   "outputs": [
    {
     "data": {
      "text/plain": [
       "-0.0"
      ]
     },
     "execution_count": 70,
     "metadata": {},
     "output_type": "execute_result"
    }
   ],
   "source": [
    "margin = (model.alpha[0][0]*linear_kernel(model.train_X[:,0], model.train_X[:,0]) + model.b)"
   ]
  },
  {
   "cell_type": "code",
   "execution_count": 87,
   "metadata": {},
   "outputs": [
    {
     "data": {
      "text/plain": [
       "array([[0.58895634, 0.19320143, 0.41853519, 0.24637686, 0.41441496,\n",
       "        0.08125328, 0.3643159 , 0.19926878, 0.30362285, 0.25450739,\n",
       "        0.16618472, 0.3591592 , 0.20432465, 0.06850671, 0.27660162,\n",
       "        0.30148788, 0.117666  , 0.29963977, 0.4334626 , 0.21405454,\n",
       "        0.24515952, 0.28415141, 0.28847491, 0.40671835, 0.45769339,\n",
       "        0.02921965, 0.16921848, 0.39018434, 0.15794722, 0.23193672,\n",
       "        0.19320143, 0.39665965, 0.33884146, 0.48259342, 0.38312227,\n",
       "        0.09093963, 0.10980852, 0.135395  , 0.06687377, 0.37356797,\n",
       "        0.21064561, 0.09307643, 0.18817416, 0.30087085, 0.12803263,\n",
       "        0.24637686, 0.28160198, 0.20577312, 0.25006489, 0.39165758,\n",
       "        0.23622674, 0.03671709, 0.19154311, 0.09927758, 0.37089844,\n",
       "        0.20793442, 0.304392  , 0.39018434, 0.2330284 , 0.28123094,\n",
       "        0.16662785, 0.24879968, 0.52469228, 0.266099  , 0.31405299,\n",
       "        0.43886509, 0.09085246, 0.21453337, 0.16436567, 0.33172054,\n",
       "        0.27625477, 0.25006489, 0.40663649, 0.07780555, 0.19926878,\n",
       "        0.18337042, 0.20049106, 0.2330284 , 0.36105954, 0.04178482,\n",
       "        0.13281298, 0.34832361, 0.07392819, 0.3774987 , 0.41954642,\n",
       "        0.21453337, 0.05080064, 0.23193672, 0.04607056, 0.30057154,\n",
       "        0.30057154, 0.27660162, 0.27625477, 0.19154311, 0.304392  ,\n",
       "        0.30402467, 0.32920398, 0.33609915, 0.33748946, 0.01511402]])"
      ]
     },
     "execution_count": 87,
     "metadata": {},
     "output_type": "execute_result"
    }
   ],
   "source": [
    "model.alpha"
   ]
  },
  {
   "cell_type": "code",
   "execution_count": 88,
   "metadata": {},
   "outputs": [
    {
     "data": {
      "text/plain": [
       "-0.15980347611071477"
      ]
     },
     "execution_count": 88,
     "metadata": {},
     "output_type": "execute_result"
    }
   ],
   "source": [
    "model.b"
   ]
  },
  {
   "cell_type": "code",
   "execution_count": 77,
   "metadata": {},
   "outputs": [],
   "source": [
    "checks = [\n",
    "    model.alpha[0][0] < 0,\n",
    "    model.alpha[0][0] > model.C,\n",
    "    #np.dot(model.alpha, model.train_y.T) != 0,\n",
    "    (model.train_y[0,0]*margin < 1 and model.alpha[0,0] == 0),\n",
    "    #model.alpha[0,i]*(model.train_y[0,i]*margin - 1 + eps) == 0\n",
    "\n",
    "]"
   ]
  },
  {
   "cell_type": "code",
   "execution_count": 78,
   "metadata": {},
   "outputs": [
    {
     "data": {
      "text/plain": [
       "[False, False, True]"
      ]
     },
     "execution_count": 78,
     "metadata": {},
     "output_type": "execute_result"
    }
   ],
   "source": [
    "checks"
   ]
  },
  {
   "cell_type": "code",
   "execution_count": 79,
   "metadata": {},
   "outputs": [
    {
     "data": {
      "text/plain": [
       "True"
      ]
     },
     "execution_count": 79,
     "metadata": {},
     "output_type": "execute_result"
    }
   ],
   "source": [
    "any(checks)"
   ]
  },
  {
   "cell_type": "code",
   "execution_count": 71,
   "metadata": {},
   "outputs": [
    {
     "data": {
      "text/plain": [
       "array([False])"
      ]
     },
     "execution_count": 71,
     "metadata": {},
     "output_type": "execute_result"
    }
   ],
   "source": [
    "(model.train_y[0,0]*margin >= 1 and model.alpha[0,0] == 0)"
   ]
  },
  {
   "cell_type": "code",
   "execution_count": 68,
   "metadata": {},
   "outputs": [
    {
     "data": {
      "text/plain": [
       "1.5466914615723717"
      ]
     },
     "execution_count": 68,
     "metadata": {},
     "output_type": "execute_result"
    }
   ],
   "source": [
    "linear_kernel(model.train_X[:,0], model.train_X[:,0])"
   ]
  },
  {
   "cell_type": "code",
   "execution_count": 34,
   "metadata": {},
   "outputs": [
    {
     "data": {
      "text/plain": [
       "array([[0., 0., 0., 0., 0., 0., 0., 0., 0., 0., 0., 0., 0., 0., 0., 0.,\n",
       "        0., 0., 0., 0., 0., 0., 0., 0., 0., 0., 0., 0., 0., 0., 0., 0.,\n",
       "        0., 0., 0., 0., 0., 0., 0., 0., 0., 0., 0., 0., 0., 0., 0., 0.,\n",
       "        0., 0., 0., 0., 0., 0., 0., 0., 0., 0., 0., 0., 0., 0., 0., 0.,\n",
       "        0., 0., 0., 0., 0., 0., 0., 0., 0., 0., 0., 0., 0., 0., 0., 0.,\n",
       "        0., 0., 0., 0., 0., 0., 0., 0., 0., 0., 0., 0., 0., 0., 0., 0.,\n",
       "        0., 0., 0., 0.]])"
      ]
     },
     "execution_count": 34,
     "metadata": {},
     "output_type": "execute_result"
    }
   ],
   "source": [
    "model.alpha"
   ]
  },
  {
   "cell_type": "code",
   "execution_count": 35,
   "metadata": {},
   "outputs": [
    {
     "data": {
      "text/plain": [
       "[0, 1, 2, 3, 4, 5, 6, 7, 8, 9]"
      ]
     },
     "execution_count": 35,
     "metadata": {},
     "output_type": "execute_result"
    }
   ],
   "source": [
    "iter_num"
   ]
  },
  {
   "cell_type": "code",
   "execution_count": 36,
   "metadata": {},
   "outputs": [
    {
     "data": {
      "text/plain": [
       "[{'train_X': array([[ 1.16466313, -0.85136678,  0.60754434,  1.01140854, -0.44558325,\n",
       "          -0.86205304, -0.89143236, -0.86423715,  0.6904045 ,  1.07374723,\n",
       "          -1.06481792,  0.98529007, -1.08212632,  0.77566879, -0.52702774,\n",
       "          -0.8175529 , -0.99939957,  0.79013893,  0.87295672, -1.31960575,\n",
       "          -0.91973039, -1.1197026 , -0.99546646,  1.03286432,  0.86537465,\n",
       "          -1.13029204, -0.94901453,  1.02831266,  1.30860331, -0.92990649,\n",
       "           0.89128167,  0.68029733, -1.18022063,  0.90962759, -0.66285032,\n",
       "          -1.10048918,  1.24511478, -1.38671641, -1.09912637, -1.08839767,\n",
       "          -0.98777954, -0.97092239,  0.87812778, -1.35220668,  1.00373873,\n",
       "          -0.92776222,  1.17339146,  1.48312316,  0.68637814,  0.92625906,\n",
       "           0.90227196, -0.89650296, -1.03671097, -1.15218614,  0.98488907,\n",
       "          -0.93602521,  0.80634259, -0.74821928,  0.96608659,  1.07963598,\n",
       "           1.00090713, -1.21153725, -0.93410179, -1.06142179, -1.5036788 ,\n",
       "          -0.7343002 ,  0.77392239, -1.36245897,  0.91430916,  1.05806174,\n",
       "          -0.95815047, -0.87684136, -0.91018789,  1.15828889,  1.35629249,\n",
       "           1.03204315, -0.84588477, -1.04494938,  0.82849424,  0.84804404,\n",
       "           1.22888298, -1.34477928,  0.99450875, -0.59602853,  0.78905629,\n",
       "           1.22939922,  1.00195745,  1.17321422,  0.88203884,  0.79398084,\n",
       "          -0.7755786 ,  0.96815969,  0.90551258,  0.79412168, -0.78496736,\n",
       "          -0.80489104, -1.0512839 ,  1.02479485, -0.85986013,  1.37679909],\n",
       "         [ 0.43617802, -1.17112929,  0.85371564,  1.14797295, -1.02919521,\n",
       "          -0.96060702, -1.04573034, -1.11629973,  1.2368936 ,  0.95336627,\n",
       "          -1.34684031,  1.23335273, -1.11486648,  1.36415514, -1.41203315,\n",
       "          -0.92181347, -0.81284045,  0.77454708,  0.98105428, -0.93207176,\n",
       "          -0.915493  , -0.96384885, -1.04034917,  0.91298534,  0.82252019,\n",
       "          -1.53714457, -0.994697  ,  0.889082  ,  0.4922652 , -1.23730654,\n",
       "           1.09414932,  0.88975745, -1.203079  ,  0.76469031, -0.8928919 ,\n",
       "          -0.99506658,  1.01394468, -0.89820148, -1.11174346, -0.99908805,\n",
       "          -0.98841386, -1.27632672,  0.88169244, -0.84351298,  0.99857569,\n",
       "          -0.93943268,  1.08767598,  0.64645844,  1.02538974,  0.7535052 ,\n",
       "           0.92428008, -1.34955082, -0.82775018, -0.77997453,  1.11432778,\n",
       "          -1.01201771,  1.13310783, -0.51438394,  1.10633799,  0.90166501,\n",
       "           1.06619755, -0.76197228, -0.6709544 , -1.15153014, -0.68421233,\n",
       "          -1.03818064,  1.26202022, -0.89857594,  0.76696043,  0.98889428,\n",
       "          -0.83351269, -1.19301245, -0.87377691,  1.18726007,  1.14333375,\n",
       "           0.50108018, -0.79707359, -1.02400919,  0.7216279 ,  1.25543086,\n",
       "           1.32404392, -0.77083422,  1.17449672, -0.71328017,  0.87874187,\n",
       "           0.71537261,  1.45890481,  0.81206534,  1.16329911,  0.96798231,\n",
       "          -0.8855775 ,  0.82292325,  1.10722275,  1.05864922, -0.87642137,\n",
       "          -0.46329681, -1.23212002,  1.17658136, -0.72875762,  0.79406361]]),\n",
       "  'train_y': array([[-1,  1, -1, -1,  1,  1,  1,  1, -1, -1,  1, -1,  1, -1,  1,  1,\n",
       "           1, -1, -1,  1,  1,  1,  1, -1, -1,  1,  1, -1, -1,  1, -1, -1,\n",
       "           1, -1,  1,  1, -1,  1,  1,  1,  1,  1, -1,  1, -1,  1, -1, -1,\n",
       "          -1, -1, -1,  1,  1,  1, -1,  1, -1,  1, -1, -1, -1,  1,  1,  1,\n",
       "           1,  1, -1,  1, -1, -1,  1,  1,  1, -1, -1, -1,  1,  1, -1, -1,\n",
       "          -1,  1, -1,  1, -1, -1, -1, -1, -1, -1,  1, -1, -1, -1,  1,  1,\n",
       "           1, -1,  1, -1]], dtype=int64),\n",
       "  'n': 2,\n",
       "  'm': 100,\n",
       "  'C': 1,\n",
       "  'kernel_func': <function problem1.Gaussian_kernel(X1, X2, sigma=1)>,\n",
       "  'sigma': 0.1,\n",
       "  'alpha': array([[0., 0., 0., 0., 0., 0., 0., 0., 0., 0., 0., 0., 0., 0., 0., 0.,\n",
       "          0., 0., 0., 0., 0., 0., 0., 0., 0., 0., 0., 0., 0., 0., 0., 0.,\n",
       "          0., 0., 0., 0., 0., 0., 0., 0., 0., 0., 0., 0., 0., 0., 0., 0.,\n",
       "          0., 0., 0., 0., 0., 0., 0., 0., 0., 0., 0., 0., 0., 0., 0., 0.,\n",
       "          0., 0., 0., 0., 0., 0., 0., 0., 0., 0., 0., 0., 0., 0., 0., 0.,\n",
       "          0., 0., 0., 0., 0., 0., 0., 0., 0., 0., 0., 0., 0., 0., 0., 0.,\n",
       "          0., 0., 0., 0.]]),\n",
       "  'b': 0},\n",
       " {'train_X': array([[ 1.16466313, -0.85136678,  0.60754434,  1.01140854, -0.44558325,\n",
       "          -0.86205304, -0.89143236, -0.86423715,  0.6904045 ,  1.07374723,\n",
       "          -1.06481792,  0.98529007, -1.08212632,  0.77566879, -0.52702774,\n",
       "          -0.8175529 , -0.99939957,  0.79013893,  0.87295672, -1.31960575,\n",
       "          -0.91973039, -1.1197026 , -0.99546646,  1.03286432,  0.86537465,\n",
       "          -1.13029204, -0.94901453,  1.02831266,  1.30860331, -0.92990649,\n",
       "           0.89128167,  0.68029733, -1.18022063,  0.90962759, -0.66285032,\n",
       "          -1.10048918,  1.24511478, -1.38671641, -1.09912637, -1.08839767,\n",
       "          -0.98777954, -0.97092239,  0.87812778, -1.35220668,  1.00373873,\n",
       "          -0.92776222,  1.17339146,  1.48312316,  0.68637814,  0.92625906,\n",
       "           0.90227196, -0.89650296, -1.03671097, -1.15218614,  0.98488907,\n",
       "          -0.93602521,  0.80634259, -0.74821928,  0.96608659,  1.07963598,\n",
       "           1.00090713, -1.21153725, -0.93410179, -1.06142179, -1.5036788 ,\n",
       "          -0.7343002 ,  0.77392239, -1.36245897,  0.91430916,  1.05806174,\n",
       "          -0.95815047, -0.87684136, -0.91018789,  1.15828889,  1.35629249,\n",
       "           1.03204315, -0.84588477, -1.04494938,  0.82849424,  0.84804404,\n",
       "           1.22888298, -1.34477928,  0.99450875, -0.59602853,  0.78905629,\n",
       "           1.22939922,  1.00195745,  1.17321422,  0.88203884,  0.79398084,\n",
       "          -0.7755786 ,  0.96815969,  0.90551258,  0.79412168, -0.78496736,\n",
       "          -0.80489104, -1.0512839 ,  1.02479485, -0.85986013,  1.37679909],\n",
       "         [ 0.43617802, -1.17112929,  0.85371564,  1.14797295, -1.02919521,\n",
       "          -0.96060702, -1.04573034, -1.11629973,  1.2368936 ,  0.95336627,\n",
       "          -1.34684031,  1.23335273, -1.11486648,  1.36415514, -1.41203315,\n",
       "          -0.92181347, -0.81284045,  0.77454708,  0.98105428, -0.93207176,\n",
       "          -0.915493  , -0.96384885, -1.04034917,  0.91298534,  0.82252019,\n",
       "          -1.53714457, -0.994697  ,  0.889082  ,  0.4922652 , -1.23730654,\n",
       "           1.09414932,  0.88975745, -1.203079  ,  0.76469031, -0.8928919 ,\n",
       "          -0.99506658,  1.01394468, -0.89820148, -1.11174346, -0.99908805,\n",
       "          -0.98841386, -1.27632672,  0.88169244, -0.84351298,  0.99857569,\n",
       "          -0.93943268,  1.08767598,  0.64645844,  1.02538974,  0.7535052 ,\n",
       "           0.92428008, -1.34955082, -0.82775018, -0.77997453,  1.11432778,\n",
       "          -1.01201771,  1.13310783, -0.51438394,  1.10633799,  0.90166501,\n",
       "           1.06619755, -0.76197228, -0.6709544 , -1.15153014, -0.68421233,\n",
       "          -1.03818064,  1.26202022, -0.89857594,  0.76696043,  0.98889428,\n",
       "          -0.83351269, -1.19301245, -0.87377691,  1.18726007,  1.14333375,\n",
       "           0.50108018, -0.79707359, -1.02400919,  0.7216279 ,  1.25543086,\n",
       "           1.32404392, -0.77083422,  1.17449672, -0.71328017,  0.87874187,\n",
       "           0.71537261,  1.45890481,  0.81206534,  1.16329911,  0.96798231,\n",
       "          -0.8855775 ,  0.82292325,  1.10722275,  1.05864922, -0.87642137,\n",
       "          -0.46329681, -1.23212002,  1.17658136, -0.72875762,  0.79406361]]),\n",
       "  'train_y': array([[-1,  1, -1, -1,  1,  1,  1,  1, -1, -1,  1, -1,  1, -1,  1,  1,\n",
       "           1, -1, -1,  1,  1,  1,  1, -1, -1,  1,  1, -1, -1,  1, -1, -1,\n",
       "           1, -1,  1,  1, -1,  1,  1,  1,  1,  1, -1,  1, -1,  1, -1, -1,\n",
       "          -1, -1, -1,  1,  1,  1, -1,  1, -1,  1, -1, -1, -1,  1,  1,  1,\n",
       "           1,  1, -1,  1, -1, -1,  1,  1,  1, -1, -1, -1,  1,  1, -1, -1,\n",
       "          -1,  1, -1,  1, -1, -1, -1, -1, -1, -1,  1, -1, -1, -1,  1,  1,\n",
       "           1, -1,  1, -1]], dtype=int64),\n",
       "  'n': 2,\n",
       "  'm': 100,\n",
       "  'C': 1,\n",
       "  'kernel_func': <function problem1.Gaussian_kernel(X1, X2, sigma=1)>,\n",
       "  'sigma': 0.1,\n",
       "  'alpha': array([[0., 0., 0., 0., 0., 0., 0., 0., 0., 0., 0., 0., 0., 0., 0., 0.,\n",
       "          0., 0., 0., 0., 0., 0., 0., 0., 0., 0., 0., 0., 0., 0., 0., 0.,\n",
       "          0., 0., 0., 0., 0., 0., 0., 0., 0., 0., 0., 0., 0., 0., 0., 0.,\n",
       "          0., 0., 0., 0., 0., 0., 0., 0., 0., 0., 0., 0., 0., 0., 0., 0.,\n",
       "          0., 0., 0., 0., 0., 0., 0., 0., 0., 0., 0., 0., 0., 0., 0., 0.,\n",
       "          0., 0., 0., 0., 0., 0., 0., 0., 0., 0., 0., 0., 0., 0., 0., 0.,\n",
       "          0., 0., 0., 0.]]),\n",
       "  'b': 0},\n",
       " {'train_X': array([[ 1.16466313, -0.85136678,  0.60754434,  1.01140854, -0.44558325,\n",
       "          -0.86205304, -0.89143236, -0.86423715,  0.6904045 ,  1.07374723,\n",
       "          -1.06481792,  0.98529007, -1.08212632,  0.77566879, -0.52702774,\n",
       "          -0.8175529 , -0.99939957,  0.79013893,  0.87295672, -1.31960575,\n",
       "          -0.91973039, -1.1197026 , -0.99546646,  1.03286432,  0.86537465,\n",
       "          -1.13029204, -0.94901453,  1.02831266,  1.30860331, -0.92990649,\n",
       "           0.89128167,  0.68029733, -1.18022063,  0.90962759, -0.66285032,\n",
       "          -1.10048918,  1.24511478, -1.38671641, -1.09912637, -1.08839767,\n",
       "          -0.98777954, -0.97092239,  0.87812778, -1.35220668,  1.00373873,\n",
       "          -0.92776222,  1.17339146,  1.48312316,  0.68637814,  0.92625906,\n",
       "           0.90227196, -0.89650296, -1.03671097, -1.15218614,  0.98488907,\n",
       "          -0.93602521,  0.80634259, -0.74821928,  0.96608659,  1.07963598,\n",
       "           1.00090713, -1.21153725, -0.93410179, -1.06142179, -1.5036788 ,\n",
       "          -0.7343002 ,  0.77392239, -1.36245897,  0.91430916,  1.05806174,\n",
       "          -0.95815047, -0.87684136, -0.91018789,  1.15828889,  1.35629249,\n",
       "           1.03204315, -0.84588477, -1.04494938,  0.82849424,  0.84804404,\n",
       "           1.22888298, -1.34477928,  0.99450875, -0.59602853,  0.78905629,\n",
       "           1.22939922,  1.00195745,  1.17321422,  0.88203884,  0.79398084,\n",
       "          -0.7755786 ,  0.96815969,  0.90551258,  0.79412168, -0.78496736,\n",
       "          -0.80489104, -1.0512839 ,  1.02479485, -0.85986013,  1.37679909],\n",
       "         [ 0.43617802, -1.17112929,  0.85371564,  1.14797295, -1.02919521,\n",
       "          -0.96060702, -1.04573034, -1.11629973,  1.2368936 ,  0.95336627,\n",
       "          -1.34684031,  1.23335273, -1.11486648,  1.36415514, -1.41203315,\n",
       "          -0.92181347, -0.81284045,  0.77454708,  0.98105428, -0.93207176,\n",
       "          -0.915493  , -0.96384885, -1.04034917,  0.91298534,  0.82252019,\n",
       "          -1.53714457, -0.994697  ,  0.889082  ,  0.4922652 , -1.23730654,\n",
       "           1.09414932,  0.88975745, -1.203079  ,  0.76469031, -0.8928919 ,\n",
       "          -0.99506658,  1.01394468, -0.89820148, -1.11174346, -0.99908805,\n",
       "          -0.98841386, -1.27632672,  0.88169244, -0.84351298,  0.99857569,\n",
       "          -0.93943268,  1.08767598,  0.64645844,  1.02538974,  0.7535052 ,\n",
       "           0.92428008, -1.34955082, -0.82775018, -0.77997453,  1.11432778,\n",
       "          -1.01201771,  1.13310783, -0.51438394,  1.10633799,  0.90166501,\n",
       "           1.06619755, -0.76197228, -0.6709544 , -1.15153014, -0.68421233,\n",
       "          -1.03818064,  1.26202022, -0.89857594,  0.76696043,  0.98889428,\n",
       "          -0.83351269, -1.19301245, -0.87377691,  1.18726007,  1.14333375,\n",
       "           0.50108018, -0.79707359, -1.02400919,  0.7216279 ,  1.25543086,\n",
       "           1.32404392, -0.77083422,  1.17449672, -0.71328017,  0.87874187,\n",
       "           0.71537261,  1.45890481,  0.81206534,  1.16329911,  0.96798231,\n",
       "          -0.8855775 ,  0.82292325,  1.10722275,  1.05864922, -0.87642137,\n",
       "          -0.46329681, -1.23212002,  1.17658136, -0.72875762,  0.79406361]]),\n",
       "  'train_y': array([[-1,  1, -1, -1,  1,  1,  1,  1, -1, -1,  1, -1,  1, -1,  1,  1,\n",
       "           1, -1, -1,  1,  1,  1,  1, -1, -1,  1,  1, -1, -1,  1, -1, -1,\n",
       "           1, -1,  1,  1, -1,  1,  1,  1,  1,  1, -1,  1, -1,  1, -1, -1,\n",
       "          -1, -1, -1,  1,  1,  1, -1,  1, -1,  1, -1, -1, -1,  1,  1,  1,\n",
       "           1,  1, -1,  1, -1, -1,  1,  1,  1, -1, -1, -1,  1,  1, -1, -1,\n",
       "          -1,  1, -1,  1, -1, -1, -1, -1, -1, -1,  1, -1, -1, -1,  1,  1,\n",
       "           1, -1,  1, -1]], dtype=int64),\n",
       "  'n': 2,\n",
       "  'm': 100,\n",
       "  'C': 1,\n",
       "  'kernel_func': <function problem1.Gaussian_kernel(X1, X2, sigma=1)>,\n",
       "  'sigma': 0.1,\n",
       "  'alpha': array([[0., 0., 0., 0., 0., 0., 0., 0., 0., 0., 0., 0., 0., 0., 0., 0.,\n",
       "          0., 0., 0., 0., 0., 0., 0., 0., 0., 0., 0., 0., 0., 0., 0., 0.,\n",
       "          0., 0., 0., 0., 0., 0., 0., 0., 0., 0., 0., 0., 0., 0., 0., 0.,\n",
       "          0., 0., 0., 0., 0., 0., 0., 0., 0., 0., 0., 0., 0., 0., 0., 0.,\n",
       "          0., 0., 0., 0., 0., 0., 0., 0., 0., 0., 0., 0., 0., 0., 0., 0.,\n",
       "          0., 0., 0., 0., 0., 0., 0., 0., 0., 0., 0., 0., 0., 0., 0., 0.,\n",
       "          0., 0., 0., 0.]]),\n",
       "  'b': 0},\n",
       " {'train_X': array([[ 1.16466313, -0.85136678,  0.60754434,  1.01140854, -0.44558325,\n",
       "          -0.86205304, -0.89143236, -0.86423715,  0.6904045 ,  1.07374723,\n",
       "          -1.06481792,  0.98529007, -1.08212632,  0.77566879, -0.52702774,\n",
       "          -0.8175529 , -0.99939957,  0.79013893,  0.87295672, -1.31960575,\n",
       "          -0.91973039, -1.1197026 , -0.99546646,  1.03286432,  0.86537465,\n",
       "          -1.13029204, -0.94901453,  1.02831266,  1.30860331, -0.92990649,\n",
       "           0.89128167,  0.68029733, -1.18022063,  0.90962759, -0.66285032,\n",
       "          -1.10048918,  1.24511478, -1.38671641, -1.09912637, -1.08839767,\n",
       "          -0.98777954, -0.97092239,  0.87812778, -1.35220668,  1.00373873,\n",
       "          -0.92776222,  1.17339146,  1.48312316,  0.68637814,  0.92625906,\n",
       "           0.90227196, -0.89650296, -1.03671097, -1.15218614,  0.98488907,\n",
       "          -0.93602521,  0.80634259, -0.74821928,  0.96608659,  1.07963598,\n",
       "           1.00090713, -1.21153725, -0.93410179, -1.06142179, -1.5036788 ,\n",
       "          -0.7343002 ,  0.77392239, -1.36245897,  0.91430916,  1.05806174,\n",
       "          -0.95815047, -0.87684136, -0.91018789,  1.15828889,  1.35629249,\n",
       "           1.03204315, -0.84588477, -1.04494938,  0.82849424,  0.84804404,\n",
       "           1.22888298, -1.34477928,  0.99450875, -0.59602853,  0.78905629,\n",
       "           1.22939922,  1.00195745,  1.17321422,  0.88203884,  0.79398084,\n",
       "          -0.7755786 ,  0.96815969,  0.90551258,  0.79412168, -0.78496736,\n",
       "          -0.80489104, -1.0512839 ,  1.02479485, -0.85986013,  1.37679909],\n",
       "         [ 0.43617802, -1.17112929,  0.85371564,  1.14797295, -1.02919521,\n",
       "          -0.96060702, -1.04573034, -1.11629973,  1.2368936 ,  0.95336627,\n",
       "          -1.34684031,  1.23335273, -1.11486648,  1.36415514, -1.41203315,\n",
       "          -0.92181347, -0.81284045,  0.77454708,  0.98105428, -0.93207176,\n",
       "          -0.915493  , -0.96384885, -1.04034917,  0.91298534,  0.82252019,\n",
       "          -1.53714457, -0.994697  ,  0.889082  ,  0.4922652 , -1.23730654,\n",
       "           1.09414932,  0.88975745, -1.203079  ,  0.76469031, -0.8928919 ,\n",
       "          -0.99506658,  1.01394468, -0.89820148, -1.11174346, -0.99908805,\n",
       "          -0.98841386, -1.27632672,  0.88169244, -0.84351298,  0.99857569,\n",
       "          -0.93943268,  1.08767598,  0.64645844,  1.02538974,  0.7535052 ,\n",
       "           0.92428008, -1.34955082, -0.82775018, -0.77997453,  1.11432778,\n",
       "          -1.01201771,  1.13310783, -0.51438394,  1.10633799,  0.90166501,\n",
       "           1.06619755, -0.76197228, -0.6709544 , -1.15153014, -0.68421233,\n",
       "          -1.03818064,  1.26202022, -0.89857594,  0.76696043,  0.98889428,\n",
       "          -0.83351269, -1.19301245, -0.87377691,  1.18726007,  1.14333375,\n",
       "           0.50108018, -0.79707359, -1.02400919,  0.7216279 ,  1.25543086,\n",
       "           1.32404392, -0.77083422,  1.17449672, -0.71328017,  0.87874187,\n",
       "           0.71537261,  1.45890481,  0.81206534,  1.16329911,  0.96798231,\n",
       "          -0.8855775 ,  0.82292325,  1.10722275,  1.05864922, -0.87642137,\n",
       "          -0.46329681, -1.23212002,  1.17658136, -0.72875762,  0.79406361]]),\n",
       "  'train_y': array([[-1,  1, -1, -1,  1,  1,  1,  1, -1, -1,  1, -1,  1, -1,  1,  1,\n",
       "           1, -1, -1,  1,  1,  1,  1, -1, -1,  1,  1, -1, -1,  1, -1, -1,\n",
       "           1, -1,  1,  1, -1,  1,  1,  1,  1,  1, -1,  1, -1,  1, -1, -1,\n",
       "          -1, -1, -1,  1,  1,  1, -1,  1, -1,  1, -1, -1, -1,  1,  1,  1,\n",
       "           1,  1, -1,  1, -1, -1,  1,  1,  1, -1, -1, -1,  1,  1, -1, -1,\n",
       "          -1,  1, -1,  1, -1, -1, -1, -1, -1, -1,  1, -1, -1, -1,  1,  1,\n",
       "           1, -1,  1, -1]], dtype=int64),\n",
       "  'n': 2,\n",
       "  'm': 100,\n",
       "  'C': 1,\n",
       "  'kernel_func': <function problem1.Gaussian_kernel(X1, X2, sigma=1)>,\n",
       "  'sigma': 0.1,\n",
       "  'alpha': array([[0., 0., 0., 0., 0., 0., 0., 0., 0., 0., 0., 0., 0., 0., 0., 0.,\n",
       "          0., 0., 0., 0., 0., 0., 0., 0., 0., 0., 0., 0., 0., 0., 0., 0.,\n",
       "          0., 0., 0., 0., 0., 0., 0., 0., 0., 0., 0., 0., 0., 0., 0., 0.,\n",
       "          0., 0., 0., 0., 0., 0., 0., 0., 0., 0., 0., 0., 0., 0., 0., 0.,\n",
       "          0., 0., 0., 0., 0., 0., 0., 0., 0., 0., 0., 0., 0., 0., 0., 0.,\n",
       "          0., 0., 0., 0., 0., 0., 0., 0., 0., 0., 0., 0., 0., 0., 0., 0.,\n",
       "          0., 0., 0., 0.]]),\n",
       "  'b': 0},\n",
       " {'train_X': array([[ 1.16466313, -0.85136678,  0.60754434,  1.01140854, -0.44558325,\n",
       "          -0.86205304, -0.89143236, -0.86423715,  0.6904045 ,  1.07374723,\n",
       "          -1.06481792,  0.98529007, -1.08212632,  0.77566879, -0.52702774,\n",
       "          -0.8175529 , -0.99939957,  0.79013893,  0.87295672, -1.31960575,\n",
       "          -0.91973039, -1.1197026 , -0.99546646,  1.03286432,  0.86537465,\n",
       "          -1.13029204, -0.94901453,  1.02831266,  1.30860331, -0.92990649,\n",
       "           0.89128167,  0.68029733, -1.18022063,  0.90962759, -0.66285032,\n",
       "          -1.10048918,  1.24511478, -1.38671641, -1.09912637, -1.08839767,\n",
       "          -0.98777954, -0.97092239,  0.87812778, -1.35220668,  1.00373873,\n",
       "          -0.92776222,  1.17339146,  1.48312316,  0.68637814,  0.92625906,\n",
       "           0.90227196, -0.89650296, -1.03671097, -1.15218614,  0.98488907,\n",
       "          -0.93602521,  0.80634259, -0.74821928,  0.96608659,  1.07963598,\n",
       "           1.00090713, -1.21153725, -0.93410179, -1.06142179, -1.5036788 ,\n",
       "          -0.7343002 ,  0.77392239, -1.36245897,  0.91430916,  1.05806174,\n",
       "          -0.95815047, -0.87684136, -0.91018789,  1.15828889,  1.35629249,\n",
       "           1.03204315, -0.84588477, -1.04494938,  0.82849424,  0.84804404,\n",
       "           1.22888298, -1.34477928,  0.99450875, -0.59602853,  0.78905629,\n",
       "           1.22939922,  1.00195745,  1.17321422,  0.88203884,  0.79398084,\n",
       "          -0.7755786 ,  0.96815969,  0.90551258,  0.79412168, -0.78496736,\n",
       "          -0.80489104, -1.0512839 ,  1.02479485, -0.85986013,  1.37679909],\n",
       "         [ 0.43617802, -1.17112929,  0.85371564,  1.14797295, -1.02919521,\n",
       "          -0.96060702, -1.04573034, -1.11629973,  1.2368936 ,  0.95336627,\n",
       "          -1.34684031,  1.23335273, -1.11486648,  1.36415514, -1.41203315,\n",
       "          -0.92181347, -0.81284045,  0.77454708,  0.98105428, -0.93207176,\n",
       "          -0.915493  , -0.96384885, -1.04034917,  0.91298534,  0.82252019,\n",
       "          -1.53714457, -0.994697  ,  0.889082  ,  0.4922652 , -1.23730654,\n",
       "           1.09414932,  0.88975745, -1.203079  ,  0.76469031, -0.8928919 ,\n",
       "          -0.99506658,  1.01394468, -0.89820148, -1.11174346, -0.99908805,\n",
       "          -0.98841386, -1.27632672,  0.88169244, -0.84351298,  0.99857569,\n",
       "          -0.93943268,  1.08767598,  0.64645844,  1.02538974,  0.7535052 ,\n",
       "           0.92428008, -1.34955082, -0.82775018, -0.77997453,  1.11432778,\n",
       "          -1.01201771,  1.13310783, -0.51438394,  1.10633799,  0.90166501,\n",
       "           1.06619755, -0.76197228, -0.6709544 , -1.15153014, -0.68421233,\n",
       "          -1.03818064,  1.26202022, -0.89857594,  0.76696043,  0.98889428,\n",
       "          -0.83351269, -1.19301245, -0.87377691,  1.18726007,  1.14333375,\n",
       "           0.50108018, -0.79707359, -1.02400919,  0.7216279 ,  1.25543086,\n",
       "           1.32404392, -0.77083422,  1.17449672, -0.71328017,  0.87874187,\n",
       "           0.71537261,  1.45890481,  0.81206534,  1.16329911,  0.96798231,\n",
       "          -0.8855775 ,  0.82292325,  1.10722275,  1.05864922, -0.87642137,\n",
       "          -0.46329681, -1.23212002,  1.17658136, -0.72875762,  0.79406361]]),\n",
       "  'train_y': array([[-1,  1, -1, -1,  1,  1,  1,  1, -1, -1,  1, -1,  1, -1,  1,  1,\n",
       "           1, -1, -1,  1,  1,  1,  1, -1, -1,  1,  1, -1, -1,  1, -1, -1,\n",
       "           1, -1,  1,  1, -1,  1,  1,  1,  1,  1, -1,  1, -1,  1, -1, -1,\n",
       "          -1, -1, -1,  1,  1,  1, -1,  1, -1,  1, -1, -1, -1,  1,  1,  1,\n",
       "           1,  1, -1,  1, -1, -1,  1,  1,  1, -1, -1, -1,  1,  1, -1, -1,\n",
       "          -1,  1, -1,  1, -1, -1, -1, -1, -1, -1,  1, -1, -1, -1,  1,  1,\n",
       "           1, -1,  1, -1]], dtype=int64),\n",
       "  'n': 2,\n",
       "  'm': 100,\n",
       "  'C': 1,\n",
       "  'kernel_func': <function problem1.Gaussian_kernel(X1, X2, sigma=1)>,\n",
       "  'sigma': 0.1,\n",
       "  'alpha': array([[0., 0., 0., 0., 0., 0., 0., 0., 0., 0., 0., 0., 0., 0., 0., 0.,\n",
       "          0., 0., 0., 0., 0., 0., 0., 0., 0., 0., 0., 0., 0., 0., 0., 0.,\n",
       "          0., 0., 0., 0., 0., 0., 0., 0., 0., 0., 0., 0., 0., 0., 0., 0.,\n",
       "          0., 0., 0., 0., 0., 0., 0., 0., 0., 0., 0., 0., 0., 0., 0., 0.,\n",
       "          0., 0., 0., 0., 0., 0., 0., 0., 0., 0., 0., 0., 0., 0., 0., 0.,\n",
       "          0., 0., 0., 0., 0., 0., 0., 0., 0., 0., 0., 0., 0., 0., 0., 0.,\n",
       "          0., 0., 0., 0.]]),\n",
       "  'b': 0},\n",
       " {'train_X': array([[ 1.16466313, -0.85136678,  0.60754434,  1.01140854, -0.44558325,\n",
       "          -0.86205304, -0.89143236, -0.86423715,  0.6904045 ,  1.07374723,\n",
       "          -1.06481792,  0.98529007, -1.08212632,  0.77566879, -0.52702774,\n",
       "          -0.8175529 , -0.99939957,  0.79013893,  0.87295672, -1.31960575,\n",
       "          -0.91973039, -1.1197026 , -0.99546646,  1.03286432,  0.86537465,\n",
       "          -1.13029204, -0.94901453,  1.02831266,  1.30860331, -0.92990649,\n",
       "           0.89128167,  0.68029733, -1.18022063,  0.90962759, -0.66285032,\n",
       "          -1.10048918,  1.24511478, -1.38671641, -1.09912637, -1.08839767,\n",
       "          -0.98777954, -0.97092239,  0.87812778, -1.35220668,  1.00373873,\n",
       "          -0.92776222,  1.17339146,  1.48312316,  0.68637814,  0.92625906,\n",
       "           0.90227196, -0.89650296, -1.03671097, -1.15218614,  0.98488907,\n",
       "          -0.93602521,  0.80634259, -0.74821928,  0.96608659,  1.07963598,\n",
       "           1.00090713, -1.21153725, -0.93410179, -1.06142179, -1.5036788 ,\n",
       "          -0.7343002 ,  0.77392239, -1.36245897,  0.91430916,  1.05806174,\n",
       "          -0.95815047, -0.87684136, -0.91018789,  1.15828889,  1.35629249,\n",
       "           1.03204315, -0.84588477, -1.04494938,  0.82849424,  0.84804404,\n",
       "           1.22888298, -1.34477928,  0.99450875, -0.59602853,  0.78905629,\n",
       "           1.22939922,  1.00195745,  1.17321422,  0.88203884,  0.79398084,\n",
       "          -0.7755786 ,  0.96815969,  0.90551258,  0.79412168, -0.78496736,\n",
       "          -0.80489104, -1.0512839 ,  1.02479485, -0.85986013,  1.37679909],\n",
       "         [ 0.43617802, -1.17112929,  0.85371564,  1.14797295, -1.02919521,\n",
       "          -0.96060702, -1.04573034, -1.11629973,  1.2368936 ,  0.95336627,\n",
       "          -1.34684031,  1.23335273, -1.11486648,  1.36415514, -1.41203315,\n",
       "          -0.92181347, -0.81284045,  0.77454708,  0.98105428, -0.93207176,\n",
       "          -0.915493  , -0.96384885, -1.04034917,  0.91298534,  0.82252019,\n",
       "          -1.53714457, -0.994697  ,  0.889082  ,  0.4922652 , -1.23730654,\n",
       "           1.09414932,  0.88975745, -1.203079  ,  0.76469031, -0.8928919 ,\n",
       "          -0.99506658,  1.01394468, -0.89820148, -1.11174346, -0.99908805,\n",
       "          -0.98841386, -1.27632672,  0.88169244, -0.84351298,  0.99857569,\n",
       "          -0.93943268,  1.08767598,  0.64645844,  1.02538974,  0.7535052 ,\n",
       "           0.92428008, -1.34955082, -0.82775018, -0.77997453,  1.11432778,\n",
       "          -1.01201771,  1.13310783, -0.51438394,  1.10633799,  0.90166501,\n",
       "           1.06619755, -0.76197228, -0.6709544 , -1.15153014, -0.68421233,\n",
       "          -1.03818064,  1.26202022, -0.89857594,  0.76696043,  0.98889428,\n",
       "          -0.83351269, -1.19301245, -0.87377691,  1.18726007,  1.14333375,\n",
       "           0.50108018, -0.79707359, -1.02400919,  0.7216279 ,  1.25543086,\n",
       "           1.32404392, -0.77083422,  1.17449672, -0.71328017,  0.87874187,\n",
       "           0.71537261,  1.45890481,  0.81206534,  1.16329911,  0.96798231,\n",
       "          -0.8855775 ,  0.82292325,  1.10722275,  1.05864922, -0.87642137,\n",
       "          -0.46329681, -1.23212002,  1.17658136, -0.72875762,  0.79406361]]),\n",
       "  'train_y': array([[-1,  1, -1, -1,  1,  1,  1,  1, -1, -1,  1, -1,  1, -1,  1,  1,\n",
       "           1, -1, -1,  1,  1,  1,  1, -1, -1,  1,  1, -1, -1,  1, -1, -1,\n",
       "           1, -1,  1,  1, -1,  1,  1,  1,  1,  1, -1,  1, -1,  1, -1, -1,\n",
       "          -1, -1, -1,  1,  1,  1, -1,  1, -1,  1, -1, -1, -1,  1,  1,  1,\n",
       "           1,  1, -1,  1, -1, -1,  1,  1,  1, -1, -1, -1,  1,  1, -1, -1,\n",
       "          -1,  1, -1,  1, -1, -1, -1, -1, -1, -1,  1, -1, -1, -1,  1,  1,\n",
       "           1, -1,  1, -1]], dtype=int64),\n",
       "  'n': 2,\n",
       "  'm': 100,\n",
       "  'C': 1,\n",
       "  'kernel_func': <function problem1.Gaussian_kernel(X1, X2, sigma=1)>,\n",
       "  'sigma': 0.1,\n",
       "  'alpha': array([[0., 0., 0., 0., 0., 0., 0., 0., 0., 0., 0., 0., 0., 0., 0., 0.,\n",
       "          0., 0., 0., 0., 0., 0., 0., 0., 0., 0., 0., 0., 0., 0., 0., 0.,\n",
       "          0., 0., 0., 0., 0., 0., 0., 0., 0., 0., 0., 0., 0., 0., 0., 0.,\n",
       "          0., 0., 0., 0., 0., 0., 0., 0., 0., 0., 0., 0., 0., 0., 0., 0.,\n",
       "          0., 0., 0., 0., 0., 0., 0., 0., 0., 0., 0., 0., 0., 0., 0., 0.,\n",
       "          0., 0., 0., 0., 0., 0., 0., 0., 0., 0., 0., 0., 0., 0., 0., 0.,\n",
       "          0., 0., 0., 0.]]),\n",
       "  'b': 0},\n",
       " {'train_X': array([[ 1.16466313, -0.85136678,  0.60754434,  1.01140854, -0.44558325,\n",
       "          -0.86205304, -0.89143236, -0.86423715,  0.6904045 ,  1.07374723,\n",
       "          -1.06481792,  0.98529007, -1.08212632,  0.77566879, -0.52702774,\n",
       "          -0.8175529 , -0.99939957,  0.79013893,  0.87295672, -1.31960575,\n",
       "          -0.91973039, -1.1197026 , -0.99546646,  1.03286432,  0.86537465,\n",
       "          -1.13029204, -0.94901453,  1.02831266,  1.30860331, -0.92990649,\n",
       "           0.89128167,  0.68029733, -1.18022063,  0.90962759, -0.66285032,\n",
       "          -1.10048918,  1.24511478, -1.38671641, -1.09912637, -1.08839767,\n",
       "          -0.98777954, -0.97092239,  0.87812778, -1.35220668,  1.00373873,\n",
       "          -0.92776222,  1.17339146,  1.48312316,  0.68637814,  0.92625906,\n",
       "           0.90227196, -0.89650296, -1.03671097, -1.15218614,  0.98488907,\n",
       "          -0.93602521,  0.80634259, -0.74821928,  0.96608659,  1.07963598,\n",
       "           1.00090713, -1.21153725, -0.93410179, -1.06142179, -1.5036788 ,\n",
       "          -0.7343002 ,  0.77392239, -1.36245897,  0.91430916,  1.05806174,\n",
       "          -0.95815047, -0.87684136, -0.91018789,  1.15828889,  1.35629249,\n",
       "           1.03204315, -0.84588477, -1.04494938,  0.82849424,  0.84804404,\n",
       "           1.22888298, -1.34477928,  0.99450875, -0.59602853,  0.78905629,\n",
       "           1.22939922,  1.00195745,  1.17321422,  0.88203884,  0.79398084,\n",
       "          -0.7755786 ,  0.96815969,  0.90551258,  0.79412168, -0.78496736,\n",
       "          -0.80489104, -1.0512839 ,  1.02479485, -0.85986013,  1.37679909],\n",
       "         [ 0.43617802, -1.17112929,  0.85371564,  1.14797295, -1.02919521,\n",
       "          -0.96060702, -1.04573034, -1.11629973,  1.2368936 ,  0.95336627,\n",
       "          -1.34684031,  1.23335273, -1.11486648,  1.36415514, -1.41203315,\n",
       "          -0.92181347, -0.81284045,  0.77454708,  0.98105428, -0.93207176,\n",
       "          -0.915493  , -0.96384885, -1.04034917,  0.91298534,  0.82252019,\n",
       "          -1.53714457, -0.994697  ,  0.889082  ,  0.4922652 , -1.23730654,\n",
       "           1.09414932,  0.88975745, -1.203079  ,  0.76469031, -0.8928919 ,\n",
       "          -0.99506658,  1.01394468, -0.89820148, -1.11174346, -0.99908805,\n",
       "          -0.98841386, -1.27632672,  0.88169244, -0.84351298,  0.99857569,\n",
       "          -0.93943268,  1.08767598,  0.64645844,  1.02538974,  0.7535052 ,\n",
       "           0.92428008, -1.34955082, -0.82775018, -0.77997453,  1.11432778,\n",
       "          -1.01201771,  1.13310783, -0.51438394,  1.10633799,  0.90166501,\n",
       "           1.06619755, -0.76197228, -0.6709544 , -1.15153014, -0.68421233,\n",
       "          -1.03818064,  1.26202022, -0.89857594,  0.76696043,  0.98889428,\n",
       "          -0.83351269, -1.19301245, -0.87377691,  1.18726007,  1.14333375,\n",
       "           0.50108018, -0.79707359, -1.02400919,  0.7216279 ,  1.25543086,\n",
       "           1.32404392, -0.77083422,  1.17449672, -0.71328017,  0.87874187,\n",
       "           0.71537261,  1.45890481,  0.81206534,  1.16329911,  0.96798231,\n",
       "          -0.8855775 ,  0.82292325,  1.10722275,  1.05864922, -0.87642137,\n",
       "          -0.46329681, -1.23212002,  1.17658136, -0.72875762,  0.79406361]]),\n",
       "  'train_y': array([[-1,  1, -1, -1,  1,  1,  1,  1, -1, -1,  1, -1,  1, -1,  1,  1,\n",
       "           1, -1, -1,  1,  1,  1,  1, -1, -1,  1,  1, -1, -1,  1, -1, -1,\n",
       "           1, -1,  1,  1, -1,  1,  1,  1,  1,  1, -1,  1, -1,  1, -1, -1,\n",
       "          -1, -1, -1,  1,  1,  1, -1,  1, -1,  1, -1, -1, -1,  1,  1,  1,\n",
       "           1,  1, -1,  1, -1, -1,  1,  1,  1, -1, -1, -1,  1,  1, -1, -1,\n",
       "          -1,  1, -1,  1, -1, -1, -1, -1, -1, -1,  1, -1, -1, -1,  1,  1,\n",
       "           1, -1,  1, -1]], dtype=int64),\n",
       "  'n': 2,\n",
       "  'm': 100,\n",
       "  'C': 1,\n",
       "  'kernel_func': <function problem1.Gaussian_kernel(X1, X2, sigma=1)>,\n",
       "  'sigma': 0.1,\n",
       "  'alpha': array([[0., 0., 0., 0., 0., 0., 0., 0., 0., 0., 0., 0., 0., 0., 0., 0.,\n",
       "          0., 0., 0., 0., 0., 0., 0., 0., 0., 0., 0., 0., 0., 0., 0., 0.,\n",
       "          0., 0., 0., 0., 0., 0., 0., 0., 0., 0., 0., 0., 0., 0., 0., 0.,\n",
       "          0., 0., 0., 0., 0., 0., 0., 0., 0., 0., 0., 0., 0., 0., 0., 0.,\n",
       "          0., 0., 0., 0., 0., 0., 0., 0., 0., 0., 0., 0., 0., 0., 0., 0.,\n",
       "          0., 0., 0., 0., 0., 0., 0., 0., 0., 0., 0., 0., 0., 0., 0., 0.,\n",
       "          0., 0., 0., 0.]]),\n",
       "  'b': 0},\n",
       " {'train_X': array([[ 1.16466313, -0.85136678,  0.60754434,  1.01140854, -0.44558325,\n",
       "          -0.86205304, -0.89143236, -0.86423715,  0.6904045 ,  1.07374723,\n",
       "          -1.06481792,  0.98529007, -1.08212632,  0.77566879, -0.52702774,\n",
       "          -0.8175529 , -0.99939957,  0.79013893,  0.87295672, -1.31960575,\n",
       "          -0.91973039, -1.1197026 , -0.99546646,  1.03286432,  0.86537465,\n",
       "          -1.13029204, -0.94901453,  1.02831266,  1.30860331, -0.92990649,\n",
       "           0.89128167,  0.68029733, -1.18022063,  0.90962759, -0.66285032,\n",
       "          -1.10048918,  1.24511478, -1.38671641, -1.09912637, -1.08839767,\n",
       "          -0.98777954, -0.97092239,  0.87812778, -1.35220668,  1.00373873,\n",
       "          -0.92776222,  1.17339146,  1.48312316,  0.68637814,  0.92625906,\n",
       "           0.90227196, -0.89650296, -1.03671097, -1.15218614,  0.98488907,\n",
       "          -0.93602521,  0.80634259, -0.74821928,  0.96608659,  1.07963598,\n",
       "           1.00090713, -1.21153725, -0.93410179, -1.06142179, -1.5036788 ,\n",
       "          -0.7343002 ,  0.77392239, -1.36245897,  0.91430916,  1.05806174,\n",
       "          -0.95815047, -0.87684136, -0.91018789,  1.15828889,  1.35629249,\n",
       "           1.03204315, -0.84588477, -1.04494938,  0.82849424,  0.84804404,\n",
       "           1.22888298, -1.34477928,  0.99450875, -0.59602853,  0.78905629,\n",
       "           1.22939922,  1.00195745,  1.17321422,  0.88203884,  0.79398084,\n",
       "          -0.7755786 ,  0.96815969,  0.90551258,  0.79412168, -0.78496736,\n",
       "          -0.80489104, -1.0512839 ,  1.02479485, -0.85986013,  1.37679909],\n",
       "         [ 0.43617802, -1.17112929,  0.85371564,  1.14797295, -1.02919521,\n",
       "          -0.96060702, -1.04573034, -1.11629973,  1.2368936 ,  0.95336627,\n",
       "          -1.34684031,  1.23335273, -1.11486648,  1.36415514, -1.41203315,\n",
       "          -0.92181347, -0.81284045,  0.77454708,  0.98105428, -0.93207176,\n",
       "          -0.915493  , -0.96384885, -1.04034917,  0.91298534,  0.82252019,\n",
       "          -1.53714457, -0.994697  ,  0.889082  ,  0.4922652 , -1.23730654,\n",
       "           1.09414932,  0.88975745, -1.203079  ,  0.76469031, -0.8928919 ,\n",
       "          -0.99506658,  1.01394468, -0.89820148, -1.11174346, -0.99908805,\n",
       "          -0.98841386, -1.27632672,  0.88169244, -0.84351298,  0.99857569,\n",
       "          -0.93943268,  1.08767598,  0.64645844,  1.02538974,  0.7535052 ,\n",
       "           0.92428008, -1.34955082, -0.82775018, -0.77997453,  1.11432778,\n",
       "          -1.01201771,  1.13310783, -0.51438394,  1.10633799,  0.90166501,\n",
       "           1.06619755, -0.76197228, -0.6709544 , -1.15153014, -0.68421233,\n",
       "          -1.03818064,  1.26202022, -0.89857594,  0.76696043,  0.98889428,\n",
       "          -0.83351269, -1.19301245, -0.87377691,  1.18726007,  1.14333375,\n",
       "           0.50108018, -0.79707359, -1.02400919,  0.7216279 ,  1.25543086,\n",
       "           1.32404392, -0.77083422,  1.17449672, -0.71328017,  0.87874187,\n",
       "           0.71537261,  1.45890481,  0.81206534,  1.16329911,  0.96798231,\n",
       "          -0.8855775 ,  0.82292325,  1.10722275,  1.05864922, -0.87642137,\n",
       "          -0.46329681, -1.23212002,  1.17658136, -0.72875762,  0.79406361]]),\n",
       "  'train_y': array([[-1,  1, -1, -1,  1,  1,  1,  1, -1, -1,  1, -1,  1, -1,  1,  1,\n",
       "           1, -1, -1,  1,  1,  1,  1, -1, -1,  1,  1, -1, -1,  1, -1, -1,\n",
       "           1, -1,  1,  1, -1,  1,  1,  1,  1,  1, -1,  1, -1,  1, -1, -1,\n",
       "          -1, -1, -1,  1,  1,  1, -1,  1, -1,  1, -1, -1, -1,  1,  1,  1,\n",
       "           1,  1, -1,  1, -1, -1,  1,  1,  1, -1, -1, -1,  1,  1, -1, -1,\n",
       "          -1,  1, -1,  1, -1, -1, -1, -1, -1, -1,  1, -1, -1, -1,  1,  1,\n",
       "           1, -1,  1, -1]], dtype=int64),\n",
       "  'n': 2,\n",
       "  'm': 100,\n",
       "  'C': 1,\n",
       "  'kernel_func': <function problem1.Gaussian_kernel(X1, X2, sigma=1)>,\n",
       "  'sigma': 0.1,\n",
       "  'alpha': array([[0., 0., 0., 0., 0., 0., 0., 0., 0., 0., 0., 0., 0., 0., 0., 0.,\n",
       "          0., 0., 0., 0., 0., 0., 0., 0., 0., 0., 0., 0., 0., 0., 0., 0.,\n",
       "          0., 0., 0., 0., 0., 0., 0., 0., 0., 0., 0., 0., 0., 0., 0., 0.,\n",
       "          0., 0., 0., 0., 0., 0., 0., 0., 0., 0., 0., 0., 0., 0., 0., 0.,\n",
       "          0., 0., 0., 0., 0., 0., 0., 0., 0., 0., 0., 0., 0., 0., 0., 0.,\n",
       "          0., 0., 0., 0., 0., 0., 0., 0., 0., 0., 0., 0., 0., 0., 0., 0.,\n",
       "          0., 0., 0., 0.]]),\n",
       "  'b': 0},\n",
       " {'train_X': array([[ 1.16466313, -0.85136678,  0.60754434,  1.01140854, -0.44558325,\n",
       "          -0.86205304, -0.89143236, -0.86423715,  0.6904045 ,  1.07374723,\n",
       "          -1.06481792,  0.98529007, -1.08212632,  0.77566879, -0.52702774,\n",
       "          -0.8175529 , -0.99939957,  0.79013893,  0.87295672, -1.31960575,\n",
       "          -0.91973039, -1.1197026 , -0.99546646,  1.03286432,  0.86537465,\n",
       "          -1.13029204, -0.94901453,  1.02831266,  1.30860331, -0.92990649,\n",
       "           0.89128167,  0.68029733, -1.18022063,  0.90962759, -0.66285032,\n",
       "          -1.10048918,  1.24511478, -1.38671641, -1.09912637, -1.08839767,\n",
       "          -0.98777954, -0.97092239,  0.87812778, -1.35220668,  1.00373873,\n",
       "          -0.92776222,  1.17339146,  1.48312316,  0.68637814,  0.92625906,\n",
       "           0.90227196, -0.89650296, -1.03671097, -1.15218614,  0.98488907,\n",
       "          -0.93602521,  0.80634259, -0.74821928,  0.96608659,  1.07963598,\n",
       "           1.00090713, -1.21153725, -0.93410179, -1.06142179, -1.5036788 ,\n",
       "          -0.7343002 ,  0.77392239, -1.36245897,  0.91430916,  1.05806174,\n",
       "          -0.95815047, -0.87684136, -0.91018789,  1.15828889,  1.35629249,\n",
       "           1.03204315, -0.84588477, -1.04494938,  0.82849424,  0.84804404,\n",
       "           1.22888298, -1.34477928,  0.99450875, -0.59602853,  0.78905629,\n",
       "           1.22939922,  1.00195745,  1.17321422,  0.88203884,  0.79398084,\n",
       "          -0.7755786 ,  0.96815969,  0.90551258,  0.79412168, -0.78496736,\n",
       "          -0.80489104, -1.0512839 ,  1.02479485, -0.85986013,  1.37679909],\n",
       "         [ 0.43617802, -1.17112929,  0.85371564,  1.14797295, -1.02919521,\n",
       "          -0.96060702, -1.04573034, -1.11629973,  1.2368936 ,  0.95336627,\n",
       "          -1.34684031,  1.23335273, -1.11486648,  1.36415514, -1.41203315,\n",
       "          -0.92181347, -0.81284045,  0.77454708,  0.98105428, -0.93207176,\n",
       "          -0.915493  , -0.96384885, -1.04034917,  0.91298534,  0.82252019,\n",
       "          -1.53714457, -0.994697  ,  0.889082  ,  0.4922652 , -1.23730654,\n",
       "           1.09414932,  0.88975745, -1.203079  ,  0.76469031, -0.8928919 ,\n",
       "          -0.99506658,  1.01394468, -0.89820148, -1.11174346, -0.99908805,\n",
       "          -0.98841386, -1.27632672,  0.88169244, -0.84351298,  0.99857569,\n",
       "          -0.93943268,  1.08767598,  0.64645844,  1.02538974,  0.7535052 ,\n",
       "           0.92428008, -1.34955082, -0.82775018, -0.77997453,  1.11432778,\n",
       "          -1.01201771,  1.13310783, -0.51438394,  1.10633799,  0.90166501,\n",
       "           1.06619755, -0.76197228, -0.6709544 , -1.15153014, -0.68421233,\n",
       "          -1.03818064,  1.26202022, -0.89857594,  0.76696043,  0.98889428,\n",
       "          -0.83351269, -1.19301245, -0.87377691,  1.18726007,  1.14333375,\n",
       "           0.50108018, -0.79707359, -1.02400919,  0.7216279 ,  1.25543086,\n",
       "           1.32404392, -0.77083422,  1.17449672, -0.71328017,  0.87874187,\n",
       "           0.71537261,  1.45890481,  0.81206534,  1.16329911,  0.96798231,\n",
       "          -0.8855775 ,  0.82292325,  1.10722275,  1.05864922, -0.87642137,\n",
       "          -0.46329681, -1.23212002,  1.17658136, -0.72875762,  0.79406361]]),\n",
       "  'train_y': array([[-1,  1, -1, -1,  1,  1,  1,  1, -1, -1,  1, -1,  1, -1,  1,  1,\n",
       "           1, -1, -1,  1,  1,  1,  1, -1, -1,  1,  1, -1, -1,  1, -1, -1,\n",
       "           1, -1,  1,  1, -1,  1,  1,  1,  1,  1, -1,  1, -1,  1, -1, -1,\n",
       "          -1, -1, -1,  1,  1,  1, -1,  1, -1,  1, -1, -1, -1,  1,  1,  1,\n",
       "           1,  1, -1,  1, -1, -1,  1,  1,  1, -1, -1, -1,  1,  1, -1, -1,\n",
       "          -1,  1, -1,  1, -1, -1, -1, -1, -1, -1,  1, -1, -1, -1,  1,  1,\n",
       "           1, -1,  1, -1]], dtype=int64),\n",
       "  'n': 2,\n",
       "  'm': 100,\n",
       "  'C': 1,\n",
       "  'kernel_func': <function problem1.Gaussian_kernel(X1, X2, sigma=1)>,\n",
       "  'sigma': 0.1,\n",
       "  'alpha': array([[0., 0., 0., 0., 0., 0., 0., 0., 0., 0., 0., 0., 0., 0., 0., 0.,\n",
       "          0., 0., 0., 0., 0., 0., 0., 0., 0., 0., 0., 0., 0., 0., 0., 0.,\n",
       "          0., 0., 0., 0., 0., 0., 0., 0., 0., 0., 0., 0., 0., 0., 0., 0.,\n",
       "          0., 0., 0., 0., 0., 0., 0., 0., 0., 0., 0., 0., 0., 0., 0., 0.,\n",
       "          0., 0., 0., 0., 0., 0., 0., 0., 0., 0., 0., 0., 0., 0., 0., 0.,\n",
       "          0., 0., 0., 0., 0., 0., 0., 0., 0., 0., 0., 0., 0., 0., 0., 0.,\n",
       "          0., 0., 0., 0.]]),\n",
       "  'b': 0},\n",
       " {'train_X': array([[ 1.16466313, -0.85136678,  0.60754434,  1.01140854, -0.44558325,\n",
       "          -0.86205304, -0.89143236, -0.86423715,  0.6904045 ,  1.07374723,\n",
       "          -1.06481792,  0.98529007, -1.08212632,  0.77566879, -0.52702774,\n",
       "          -0.8175529 , -0.99939957,  0.79013893,  0.87295672, -1.31960575,\n",
       "          -0.91973039, -1.1197026 , -0.99546646,  1.03286432,  0.86537465,\n",
       "          -1.13029204, -0.94901453,  1.02831266,  1.30860331, -0.92990649,\n",
       "           0.89128167,  0.68029733, -1.18022063,  0.90962759, -0.66285032,\n",
       "          -1.10048918,  1.24511478, -1.38671641, -1.09912637, -1.08839767,\n",
       "          -0.98777954, -0.97092239,  0.87812778, -1.35220668,  1.00373873,\n",
       "          -0.92776222,  1.17339146,  1.48312316,  0.68637814,  0.92625906,\n",
       "           0.90227196, -0.89650296, -1.03671097, -1.15218614,  0.98488907,\n",
       "          -0.93602521,  0.80634259, -0.74821928,  0.96608659,  1.07963598,\n",
       "           1.00090713, -1.21153725, -0.93410179, -1.06142179, -1.5036788 ,\n",
       "          -0.7343002 ,  0.77392239, -1.36245897,  0.91430916,  1.05806174,\n",
       "          -0.95815047, -0.87684136, -0.91018789,  1.15828889,  1.35629249,\n",
       "           1.03204315, -0.84588477, -1.04494938,  0.82849424,  0.84804404,\n",
       "           1.22888298, -1.34477928,  0.99450875, -0.59602853,  0.78905629,\n",
       "           1.22939922,  1.00195745,  1.17321422,  0.88203884,  0.79398084,\n",
       "          -0.7755786 ,  0.96815969,  0.90551258,  0.79412168, -0.78496736,\n",
       "          -0.80489104, -1.0512839 ,  1.02479485, -0.85986013,  1.37679909],\n",
       "         [ 0.43617802, -1.17112929,  0.85371564,  1.14797295, -1.02919521,\n",
       "          -0.96060702, -1.04573034, -1.11629973,  1.2368936 ,  0.95336627,\n",
       "          -1.34684031,  1.23335273, -1.11486648,  1.36415514, -1.41203315,\n",
       "          -0.92181347, -0.81284045,  0.77454708,  0.98105428, -0.93207176,\n",
       "          -0.915493  , -0.96384885, -1.04034917,  0.91298534,  0.82252019,\n",
       "          -1.53714457, -0.994697  ,  0.889082  ,  0.4922652 , -1.23730654,\n",
       "           1.09414932,  0.88975745, -1.203079  ,  0.76469031, -0.8928919 ,\n",
       "          -0.99506658,  1.01394468, -0.89820148, -1.11174346, -0.99908805,\n",
       "          -0.98841386, -1.27632672,  0.88169244, -0.84351298,  0.99857569,\n",
       "          -0.93943268,  1.08767598,  0.64645844,  1.02538974,  0.7535052 ,\n",
       "           0.92428008, -1.34955082, -0.82775018, -0.77997453,  1.11432778,\n",
       "          -1.01201771,  1.13310783, -0.51438394,  1.10633799,  0.90166501,\n",
       "           1.06619755, -0.76197228, -0.6709544 , -1.15153014, -0.68421233,\n",
       "          -1.03818064,  1.26202022, -0.89857594,  0.76696043,  0.98889428,\n",
       "          -0.83351269, -1.19301245, -0.87377691,  1.18726007,  1.14333375,\n",
       "           0.50108018, -0.79707359, -1.02400919,  0.7216279 ,  1.25543086,\n",
       "           1.32404392, -0.77083422,  1.17449672, -0.71328017,  0.87874187,\n",
       "           0.71537261,  1.45890481,  0.81206534,  1.16329911,  0.96798231,\n",
       "          -0.8855775 ,  0.82292325,  1.10722275,  1.05864922, -0.87642137,\n",
       "          -0.46329681, -1.23212002,  1.17658136, -0.72875762,  0.79406361]]),\n",
       "  'train_y': array([[-1,  1, -1, -1,  1,  1,  1,  1, -1, -1,  1, -1,  1, -1,  1,  1,\n",
       "           1, -1, -1,  1,  1,  1,  1, -1, -1,  1,  1, -1, -1,  1, -1, -1,\n",
       "           1, -1,  1,  1, -1,  1,  1,  1,  1,  1, -1,  1, -1,  1, -1, -1,\n",
       "          -1, -1, -1,  1,  1,  1, -1,  1, -1,  1, -1, -1, -1,  1,  1,  1,\n",
       "           1,  1, -1,  1, -1, -1,  1,  1,  1, -1, -1, -1,  1,  1, -1, -1,\n",
       "          -1,  1, -1,  1, -1, -1, -1, -1, -1, -1,  1, -1, -1, -1,  1,  1,\n",
       "           1, -1,  1, -1]], dtype=int64),\n",
       "  'n': 2,\n",
       "  'm': 100,\n",
       "  'C': 1,\n",
       "  'kernel_func': <function problem1.Gaussian_kernel(X1, X2, sigma=1)>,\n",
       "  'sigma': 0.1,\n",
       "  'alpha': array([[0., 0., 0., 0., 0., 0., 0., 0., 0., 0., 0., 0., 0., 0., 0., 0.,\n",
       "          0., 0., 0., 0., 0., 0., 0., 0., 0., 0., 0., 0., 0., 0., 0., 0.,\n",
       "          0., 0., 0., 0., 0., 0., 0., 0., 0., 0., 0., 0., 0., 0., 0., 0.,\n",
       "          0., 0., 0., 0., 0., 0., 0., 0., 0., 0., 0., 0., 0., 0., 0., 0.,\n",
       "          0., 0., 0., 0., 0., 0., 0., 0., 0., 0., 0., 0., 0., 0., 0., 0.,\n",
       "          0., 0., 0., 0., 0., 0., 0., 0., 0., 0., 0., 0., 0., 0., 0., 0.,\n",
       "          0., 0., 0., 0.]]),\n",
       "  'b': 0}]"
      ]
     },
     "execution_count": 36,
     "metadata": {},
     "output_type": "execute_result"
    }
   ],
   "source": [
    "models"
   ]
  },
  {
   "cell_type": "code",
   "execution_count": 37,
   "metadata": {},
   "outputs": [
    {
     "data": {
      "text/plain": [
       "array([[0., 0., 0., 0., 0., 0., 0., 0., 0., 0., 0., 0., 0., 0., 0., 0.,\n",
       "        0., 0., 0., 0., 0., 0., 0., 0., 0., 0., 0., 0., 0., 0., 0., 0.,\n",
       "        0., 0., 0., 0., 0., 0., 0., 0., 0., 0., 0., 0., 0., 0., 0., 0.,\n",
       "        0., 0., 0., 0., 0., 0., 0., 0., 0., 0., 0., 0., 0., 0., 0., 0.,\n",
       "        0., 0., 0., 0., 0., 0., 0., 0., 0., 0., 0., 0., 0., 0., 0., 0.,\n",
       "        0., 0., 0., 0., 0., 0., 0., 0., 0., 0., 0., 0., 0., 0., 0., 0.,\n",
       "        0., 0., 0., 0.]])"
      ]
     },
     "execution_count": 37,
     "metadata": {},
     "output_type": "execute_result"
    }
   ],
   "source": [
    "model.alpha"
   ]
  },
  {
   "cell_type": "code",
   "execution_count": 38,
   "metadata": {},
   "outputs": [],
   "source": [
    "d = np.array([1,1])"
   ]
  },
  {
   "cell_type": "code",
   "execution_count": 39,
   "metadata": {},
   "outputs": [
    {
     "data": {
      "text/plain": [
       "1"
      ]
     },
     "execution_count": 39,
     "metadata": {},
     "output_type": "execute_result"
    }
   ],
   "source": [
    "len(d.shape)"
   ]
  },
  {
   "cell_type": "code",
   "execution_count": 40,
   "metadata": {},
   "outputs": [],
   "source": [
    "margin = model.train_y[0,i]*(model.alpha[0][i]*Gaussian_kernel(np.array([model.train_X[:,i]]), np.array([model.train_X[:,i]]), model.sigma) + model.b)\n",
    "eps = max(0, 1-margin)"
   ]
  },
  {
   "cell_type": "code",
   "execution_count": 41,
   "metadata": {},
   "outputs": [
    {
     "data": {
      "text/plain": [
       "array([1.])"
      ]
     },
     "execution_count": 41,
     "metadata": {},
     "output_type": "execute_result"
    }
   ],
   "source": [
    "Gaussian_kernel(np.array([model.train_X[:,1]]), np.array([model.train_X[:,1]]), model.sigma)"
   ]
  },
  {
   "cell_type": "code",
   "execution_count": null,
   "metadata": {},
   "outputs": [],
   "source": []
  },
  {
   "cell_type": "code",
   "execution_count": 42,
   "metadata": {},
   "outputs": [
    {
     "data": {
      "text/plain": [
       "(1, 2)"
      ]
     },
     "execution_count": 42,
     "metadata": {},
     "output_type": "execute_result"
    }
   ],
   "source": [
    "np.array([model.train_X[:,1]]).shape"
   ]
  },
  {
   "cell_type": "code",
   "execution_count": 43,
   "metadata": {},
   "outputs": [
    {
     "data": {
      "text/plain": [
       "array([[1.]])"
      ]
     },
     "execution_count": 43,
     "metadata": {},
     "output_type": "execute_result"
    }
   ],
   "source": [
    "np.exp(-(euclidean_distances(np.array([model.train_X[:,1]]),np.array([model.train_X[:,1]]))**2)/(2*model.sigma**2))"
   ]
  },
  {
   "cell_type": "code",
   "execution_count": 44,
   "metadata": {},
   "outputs": [
    {
     "data": {
      "text/plain": [
       "array([-0.])"
      ]
     },
     "execution_count": 44,
     "metadata": {},
     "output_type": "execute_result"
    }
   ],
   "source": [
    "margin"
   ]
  },
  {
   "cell_type": "code",
   "execution_count": 45,
   "metadata": {},
   "outputs": [
    {
     "data": {
      "text/plain": [
       "0"
      ]
     },
     "execution_count": 45,
     "metadata": {},
     "output_type": "execute_result"
    }
   ],
   "source": [
    "model.b"
   ]
  },
  {
   "cell_type": "code",
   "execution_count": 46,
   "metadata": {},
   "outputs": [
    {
     "data": {
      "text/plain": [
       "array([0., 0., 0., 0., 0., 0., 0., 0., 0., 0., 0., 0., 0., 0., 0., 0., 0.,\n",
       "       0., 0., 0., 0., 0., 0., 0., 0., 0., 0., 0., 0., 0., 0., 0., 0., 0.,\n",
       "       0., 0., 0., 0., 0., 0., 0., 0., 0., 0., 0., 0., 0., 0., 0., 0., 0.,\n",
       "       0., 0., 0., 0., 0., 0., 0., 0., 0., 0., 0., 0., 0., 0., 0., 0., 0.,\n",
       "       0., 0., 0., 0., 0., 0., 0., 0., 0., 0., 0., 0., 0., 0., 0., 0., 0.,\n",
       "       0., 0., 0., 0., 0., 0., 0., 0., 0., 0., 0., 0., 0., 0., 0.])"
      ]
     },
     "execution_count": 46,
     "metadata": {},
     "output_type": "execute_result"
    }
   ],
   "source": [
    "model.alpha[0]"
   ]
  },
  {
   "cell_type": "code",
   "execution_count": 47,
   "metadata": {},
   "outputs": [],
   "source": [
    "y = model.train_y[0, 10]\n",
    "z = y*(model.alpha[0][10]*linear_kernel(model.train_X[:,10], model.train_X[:,10]) + model.b)\n",
    "#z_error = model.alpha[0][10]*linear_kernel(model.train_X[:,10], model.train_X[:,10])\n",
    "\n",
    "eps = max(0, 1-y*z)"
   ]
  },
  {
   "cell_type": "code",
   "execution_count": 48,
   "metadata": {},
   "outputs": [
    {
     "data": {
      "text/plain": [
       "0.0"
      ]
     },
     "execution_count": 48,
     "metadata": {},
     "output_type": "execute_result"
    }
   ],
   "source": [
    "y*z"
   ]
  },
  {
   "cell_type": "code",
   "execution_count": 49,
   "metadata": {},
   "outputs": [
    {
     "data": {
      "text/plain": [
       "1.0"
      ]
     },
     "execution_count": 49,
     "metadata": {},
     "output_type": "execute_result"
    }
   ],
   "source": [
    "eps"
   ]
  },
  {
   "cell_type": "code",
   "execution_count": 50,
   "metadata": {},
   "outputs": [
    {
     "data": {
      "text/plain": [
       "1.0"
      ]
     },
     "execution_count": 50,
     "metadata": {},
     "output_type": "execute_result"
    }
   ],
   "source": [
    "eps"
   ]
  },
  {
   "cell_type": "code",
   "execution_count": 51,
   "metadata": {},
   "outputs": [
    {
     "data": {
      "text/plain": [
       "0.0"
      ]
     },
     "execution_count": 51,
     "metadata": {},
     "output_type": "execute_result"
    }
   ],
   "source": [
    "y*z - 1 + eps"
   ]
  },
  {
   "cell_type": "code",
   "execution_count": 52,
   "metadata": {},
   "outputs": [],
   "source": [
    "model.alpha[0][1] = 1"
   ]
  },
  {
   "cell_type": "code",
   "execution_count": 53,
   "metadata": {},
   "outputs": [
    {
     "data": {
      "text/plain": [
       "array([[0., 1., 0., 0., 0., 0., 0., 0., 0., 0., 0., 0., 0., 0., 0., 0.,\n",
       "        0., 0., 0., 0., 0., 0., 0., 0., 0., 0., 0., 0., 0., 0., 0., 0.,\n",
       "        0., 0., 0., 0., 0., 0., 0., 0., 0., 0., 0., 0., 0., 0., 0., 0.,\n",
       "        0., 0., 0., 0., 0., 0., 0., 0., 0., 0., 0., 0., 0., 0., 0., 0.,\n",
       "        0., 0., 0., 0., 0., 0., 0., 0., 0., 0., 0., 0., 0., 0., 0., 0.,\n",
       "        0., 0., 0., 0., 0., 0., 0., 0., 0., 0., 0., 0., 0., 0., 0., 0.,\n",
       "        0., 0., 0., 0.]])"
      ]
     },
     "execution_count": 53,
     "metadata": {},
     "output_type": "execute_result"
    }
   ],
   "source": [
    "model.alpha"
   ]
  },
  {
   "cell_type": "code",
   "execution_count": 54,
   "metadata": {},
   "outputs": [
    {
     "data": {
      "text/plain": [
       "[{'train_X': array([[ 1.16466313, -0.85136678,  0.60754434,  1.01140854, -0.44558325,\n",
       "          -0.86205304, -0.89143236, -0.86423715,  0.6904045 ,  1.07374723,\n",
       "          -1.06481792,  0.98529007, -1.08212632,  0.77566879, -0.52702774,\n",
       "          -0.8175529 , -0.99939957,  0.79013893,  0.87295672, -1.31960575,\n",
       "          -0.91973039, -1.1197026 , -0.99546646,  1.03286432,  0.86537465,\n",
       "          -1.13029204, -0.94901453,  1.02831266,  1.30860331, -0.92990649,\n",
       "           0.89128167,  0.68029733, -1.18022063,  0.90962759, -0.66285032,\n",
       "          -1.10048918,  1.24511478, -1.38671641, -1.09912637, -1.08839767,\n",
       "          -0.98777954, -0.97092239,  0.87812778, -1.35220668,  1.00373873,\n",
       "          -0.92776222,  1.17339146,  1.48312316,  0.68637814,  0.92625906,\n",
       "           0.90227196, -0.89650296, -1.03671097, -1.15218614,  0.98488907,\n",
       "          -0.93602521,  0.80634259, -0.74821928,  0.96608659,  1.07963598,\n",
       "           1.00090713, -1.21153725, -0.93410179, -1.06142179, -1.5036788 ,\n",
       "          -0.7343002 ,  0.77392239, -1.36245897,  0.91430916,  1.05806174,\n",
       "          -0.95815047, -0.87684136, -0.91018789,  1.15828889,  1.35629249,\n",
       "           1.03204315, -0.84588477, -1.04494938,  0.82849424,  0.84804404,\n",
       "           1.22888298, -1.34477928,  0.99450875, -0.59602853,  0.78905629,\n",
       "           1.22939922,  1.00195745,  1.17321422,  0.88203884,  0.79398084,\n",
       "          -0.7755786 ,  0.96815969,  0.90551258,  0.79412168, -0.78496736,\n",
       "          -0.80489104, -1.0512839 ,  1.02479485, -0.85986013,  1.37679909],\n",
       "         [ 0.43617802, -1.17112929,  0.85371564,  1.14797295, -1.02919521,\n",
       "          -0.96060702, -1.04573034, -1.11629973,  1.2368936 ,  0.95336627,\n",
       "          -1.34684031,  1.23335273, -1.11486648,  1.36415514, -1.41203315,\n",
       "          -0.92181347, -0.81284045,  0.77454708,  0.98105428, -0.93207176,\n",
       "          -0.915493  , -0.96384885, -1.04034917,  0.91298534,  0.82252019,\n",
       "          -1.53714457, -0.994697  ,  0.889082  ,  0.4922652 , -1.23730654,\n",
       "           1.09414932,  0.88975745, -1.203079  ,  0.76469031, -0.8928919 ,\n",
       "          -0.99506658,  1.01394468, -0.89820148, -1.11174346, -0.99908805,\n",
       "          -0.98841386, -1.27632672,  0.88169244, -0.84351298,  0.99857569,\n",
       "          -0.93943268,  1.08767598,  0.64645844,  1.02538974,  0.7535052 ,\n",
       "           0.92428008, -1.34955082, -0.82775018, -0.77997453,  1.11432778,\n",
       "          -1.01201771,  1.13310783, -0.51438394,  1.10633799,  0.90166501,\n",
       "           1.06619755, -0.76197228, -0.6709544 , -1.15153014, -0.68421233,\n",
       "          -1.03818064,  1.26202022, -0.89857594,  0.76696043,  0.98889428,\n",
       "          -0.83351269, -1.19301245, -0.87377691,  1.18726007,  1.14333375,\n",
       "           0.50108018, -0.79707359, -1.02400919,  0.7216279 ,  1.25543086,\n",
       "           1.32404392, -0.77083422,  1.17449672, -0.71328017,  0.87874187,\n",
       "           0.71537261,  1.45890481,  0.81206534,  1.16329911,  0.96798231,\n",
       "          -0.8855775 ,  0.82292325,  1.10722275,  1.05864922, -0.87642137,\n",
       "          -0.46329681, -1.23212002,  1.17658136, -0.72875762,  0.79406361]]),\n",
       "  'train_y': array([[-1,  1, -1, -1,  1,  1,  1,  1, -1, -1,  1, -1,  1, -1,  1,  1,\n",
       "           1, -1, -1,  1,  1,  1,  1, -1, -1,  1,  1, -1, -1,  1, -1, -1,\n",
       "           1, -1,  1,  1, -1,  1,  1,  1,  1,  1, -1,  1, -1,  1, -1, -1,\n",
       "          -1, -1, -1,  1,  1,  1, -1,  1, -1,  1, -1, -1, -1,  1,  1,  1,\n",
       "           1,  1, -1,  1, -1, -1,  1,  1,  1, -1, -1, -1,  1,  1, -1, -1,\n",
       "          -1,  1, -1,  1, -1, -1, -1, -1, -1, -1,  1, -1, -1, -1,  1,  1,\n",
       "           1, -1,  1, -1]], dtype=int64),\n",
       "  'n': 2,\n",
       "  'm': 100,\n",
       "  'C': 1,\n",
       "  'kernel_func': <function problem1.Gaussian_kernel(X1, X2, sigma=1)>,\n",
       "  'sigma': 0.1,\n",
       "  'alpha': array([[0., 1., 0., 0., 0., 0., 0., 0., 0., 0., 0., 0., 0., 0., 0., 0.,\n",
       "          0., 0., 0., 0., 0., 0., 0., 0., 0., 0., 0., 0., 0., 0., 0., 0.,\n",
       "          0., 0., 0., 0., 0., 0., 0., 0., 0., 0., 0., 0., 0., 0., 0., 0.,\n",
       "          0., 0., 0., 0., 0., 0., 0., 0., 0., 0., 0., 0., 0., 0., 0., 0.,\n",
       "          0., 0., 0., 0., 0., 0., 0., 0., 0., 0., 0., 0., 0., 0., 0., 0.,\n",
       "          0., 0., 0., 0., 0., 0., 0., 0., 0., 0., 0., 0., 0., 0., 0., 0.,\n",
       "          0., 0., 0., 0.]]),\n",
       "  'b': 0},\n",
       " {'train_X': array([[ 1.16466313, -0.85136678,  0.60754434,  1.01140854, -0.44558325,\n",
       "          -0.86205304, -0.89143236, -0.86423715,  0.6904045 ,  1.07374723,\n",
       "          -1.06481792,  0.98529007, -1.08212632,  0.77566879, -0.52702774,\n",
       "          -0.8175529 , -0.99939957,  0.79013893,  0.87295672, -1.31960575,\n",
       "          -0.91973039, -1.1197026 , -0.99546646,  1.03286432,  0.86537465,\n",
       "          -1.13029204, -0.94901453,  1.02831266,  1.30860331, -0.92990649,\n",
       "           0.89128167,  0.68029733, -1.18022063,  0.90962759, -0.66285032,\n",
       "          -1.10048918,  1.24511478, -1.38671641, -1.09912637, -1.08839767,\n",
       "          -0.98777954, -0.97092239,  0.87812778, -1.35220668,  1.00373873,\n",
       "          -0.92776222,  1.17339146,  1.48312316,  0.68637814,  0.92625906,\n",
       "           0.90227196, -0.89650296, -1.03671097, -1.15218614,  0.98488907,\n",
       "          -0.93602521,  0.80634259, -0.74821928,  0.96608659,  1.07963598,\n",
       "           1.00090713, -1.21153725, -0.93410179, -1.06142179, -1.5036788 ,\n",
       "          -0.7343002 ,  0.77392239, -1.36245897,  0.91430916,  1.05806174,\n",
       "          -0.95815047, -0.87684136, -0.91018789,  1.15828889,  1.35629249,\n",
       "           1.03204315, -0.84588477, -1.04494938,  0.82849424,  0.84804404,\n",
       "           1.22888298, -1.34477928,  0.99450875, -0.59602853,  0.78905629,\n",
       "           1.22939922,  1.00195745,  1.17321422,  0.88203884,  0.79398084,\n",
       "          -0.7755786 ,  0.96815969,  0.90551258,  0.79412168, -0.78496736,\n",
       "          -0.80489104, -1.0512839 ,  1.02479485, -0.85986013,  1.37679909],\n",
       "         [ 0.43617802, -1.17112929,  0.85371564,  1.14797295, -1.02919521,\n",
       "          -0.96060702, -1.04573034, -1.11629973,  1.2368936 ,  0.95336627,\n",
       "          -1.34684031,  1.23335273, -1.11486648,  1.36415514, -1.41203315,\n",
       "          -0.92181347, -0.81284045,  0.77454708,  0.98105428, -0.93207176,\n",
       "          -0.915493  , -0.96384885, -1.04034917,  0.91298534,  0.82252019,\n",
       "          -1.53714457, -0.994697  ,  0.889082  ,  0.4922652 , -1.23730654,\n",
       "           1.09414932,  0.88975745, -1.203079  ,  0.76469031, -0.8928919 ,\n",
       "          -0.99506658,  1.01394468, -0.89820148, -1.11174346, -0.99908805,\n",
       "          -0.98841386, -1.27632672,  0.88169244, -0.84351298,  0.99857569,\n",
       "          -0.93943268,  1.08767598,  0.64645844,  1.02538974,  0.7535052 ,\n",
       "           0.92428008, -1.34955082, -0.82775018, -0.77997453,  1.11432778,\n",
       "          -1.01201771,  1.13310783, -0.51438394,  1.10633799,  0.90166501,\n",
       "           1.06619755, -0.76197228, -0.6709544 , -1.15153014, -0.68421233,\n",
       "          -1.03818064,  1.26202022, -0.89857594,  0.76696043,  0.98889428,\n",
       "          -0.83351269, -1.19301245, -0.87377691,  1.18726007,  1.14333375,\n",
       "           0.50108018, -0.79707359, -1.02400919,  0.7216279 ,  1.25543086,\n",
       "           1.32404392, -0.77083422,  1.17449672, -0.71328017,  0.87874187,\n",
       "           0.71537261,  1.45890481,  0.81206534,  1.16329911,  0.96798231,\n",
       "          -0.8855775 ,  0.82292325,  1.10722275,  1.05864922, -0.87642137,\n",
       "          -0.46329681, -1.23212002,  1.17658136, -0.72875762,  0.79406361]]),\n",
       "  'train_y': array([[-1,  1, -1, -1,  1,  1,  1,  1, -1, -1,  1, -1,  1, -1,  1,  1,\n",
       "           1, -1, -1,  1,  1,  1,  1, -1, -1,  1,  1, -1, -1,  1, -1, -1,\n",
       "           1, -1,  1,  1, -1,  1,  1,  1,  1,  1, -1,  1, -1,  1, -1, -1,\n",
       "          -1, -1, -1,  1,  1,  1, -1,  1, -1,  1, -1, -1, -1,  1,  1,  1,\n",
       "           1,  1, -1,  1, -1, -1,  1,  1,  1, -1, -1, -1,  1,  1, -1, -1,\n",
       "          -1,  1, -1,  1, -1, -1, -1, -1, -1, -1,  1, -1, -1, -1,  1,  1,\n",
       "           1, -1,  1, -1]], dtype=int64),\n",
       "  'n': 2,\n",
       "  'm': 100,\n",
       "  'C': 1,\n",
       "  'kernel_func': <function problem1.Gaussian_kernel(X1, X2, sigma=1)>,\n",
       "  'sigma': 0.1,\n",
       "  'alpha': array([[0., 1., 0., 0., 0., 0., 0., 0., 0., 0., 0., 0., 0., 0., 0., 0.,\n",
       "          0., 0., 0., 0., 0., 0., 0., 0., 0., 0., 0., 0., 0., 0., 0., 0.,\n",
       "          0., 0., 0., 0., 0., 0., 0., 0., 0., 0., 0., 0., 0., 0., 0., 0.,\n",
       "          0., 0., 0., 0., 0., 0., 0., 0., 0., 0., 0., 0., 0., 0., 0., 0.,\n",
       "          0., 0., 0., 0., 0., 0., 0., 0., 0., 0., 0., 0., 0., 0., 0., 0.,\n",
       "          0., 0., 0., 0., 0., 0., 0., 0., 0., 0., 0., 0., 0., 0., 0., 0.,\n",
       "          0., 0., 0., 0.]]),\n",
       "  'b': 0},\n",
       " {'train_X': array([[ 1.16466313, -0.85136678,  0.60754434,  1.01140854, -0.44558325,\n",
       "          -0.86205304, -0.89143236, -0.86423715,  0.6904045 ,  1.07374723,\n",
       "          -1.06481792,  0.98529007, -1.08212632,  0.77566879, -0.52702774,\n",
       "          -0.8175529 , -0.99939957,  0.79013893,  0.87295672, -1.31960575,\n",
       "          -0.91973039, -1.1197026 , -0.99546646,  1.03286432,  0.86537465,\n",
       "          -1.13029204, -0.94901453,  1.02831266,  1.30860331, -0.92990649,\n",
       "           0.89128167,  0.68029733, -1.18022063,  0.90962759, -0.66285032,\n",
       "          -1.10048918,  1.24511478, -1.38671641, -1.09912637, -1.08839767,\n",
       "          -0.98777954, -0.97092239,  0.87812778, -1.35220668,  1.00373873,\n",
       "          -0.92776222,  1.17339146,  1.48312316,  0.68637814,  0.92625906,\n",
       "           0.90227196, -0.89650296, -1.03671097, -1.15218614,  0.98488907,\n",
       "          -0.93602521,  0.80634259, -0.74821928,  0.96608659,  1.07963598,\n",
       "           1.00090713, -1.21153725, -0.93410179, -1.06142179, -1.5036788 ,\n",
       "          -0.7343002 ,  0.77392239, -1.36245897,  0.91430916,  1.05806174,\n",
       "          -0.95815047, -0.87684136, -0.91018789,  1.15828889,  1.35629249,\n",
       "           1.03204315, -0.84588477, -1.04494938,  0.82849424,  0.84804404,\n",
       "           1.22888298, -1.34477928,  0.99450875, -0.59602853,  0.78905629,\n",
       "           1.22939922,  1.00195745,  1.17321422,  0.88203884,  0.79398084,\n",
       "          -0.7755786 ,  0.96815969,  0.90551258,  0.79412168, -0.78496736,\n",
       "          -0.80489104, -1.0512839 ,  1.02479485, -0.85986013,  1.37679909],\n",
       "         [ 0.43617802, -1.17112929,  0.85371564,  1.14797295, -1.02919521,\n",
       "          -0.96060702, -1.04573034, -1.11629973,  1.2368936 ,  0.95336627,\n",
       "          -1.34684031,  1.23335273, -1.11486648,  1.36415514, -1.41203315,\n",
       "          -0.92181347, -0.81284045,  0.77454708,  0.98105428, -0.93207176,\n",
       "          -0.915493  , -0.96384885, -1.04034917,  0.91298534,  0.82252019,\n",
       "          -1.53714457, -0.994697  ,  0.889082  ,  0.4922652 , -1.23730654,\n",
       "           1.09414932,  0.88975745, -1.203079  ,  0.76469031, -0.8928919 ,\n",
       "          -0.99506658,  1.01394468, -0.89820148, -1.11174346, -0.99908805,\n",
       "          -0.98841386, -1.27632672,  0.88169244, -0.84351298,  0.99857569,\n",
       "          -0.93943268,  1.08767598,  0.64645844,  1.02538974,  0.7535052 ,\n",
       "           0.92428008, -1.34955082, -0.82775018, -0.77997453,  1.11432778,\n",
       "          -1.01201771,  1.13310783, -0.51438394,  1.10633799,  0.90166501,\n",
       "           1.06619755, -0.76197228, -0.6709544 , -1.15153014, -0.68421233,\n",
       "          -1.03818064,  1.26202022, -0.89857594,  0.76696043,  0.98889428,\n",
       "          -0.83351269, -1.19301245, -0.87377691,  1.18726007,  1.14333375,\n",
       "           0.50108018, -0.79707359, -1.02400919,  0.7216279 ,  1.25543086,\n",
       "           1.32404392, -0.77083422,  1.17449672, -0.71328017,  0.87874187,\n",
       "           0.71537261,  1.45890481,  0.81206534,  1.16329911,  0.96798231,\n",
       "          -0.8855775 ,  0.82292325,  1.10722275,  1.05864922, -0.87642137,\n",
       "          -0.46329681, -1.23212002,  1.17658136, -0.72875762,  0.79406361]]),\n",
       "  'train_y': array([[-1,  1, -1, -1,  1,  1,  1,  1, -1, -1,  1, -1,  1, -1,  1,  1,\n",
       "           1, -1, -1,  1,  1,  1,  1, -1, -1,  1,  1, -1, -1,  1, -1, -1,\n",
       "           1, -1,  1,  1, -1,  1,  1,  1,  1,  1, -1,  1, -1,  1, -1, -1,\n",
       "          -1, -1, -1,  1,  1,  1, -1,  1, -1,  1, -1, -1, -1,  1,  1,  1,\n",
       "           1,  1, -1,  1, -1, -1,  1,  1,  1, -1, -1, -1,  1,  1, -1, -1,\n",
       "          -1,  1, -1,  1, -1, -1, -1, -1, -1, -1,  1, -1, -1, -1,  1,  1,\n",
       "           1, -1,  1, -1]], dtype=int64),\n",
       "  'n': 2,\n",
       "  'm': 100,\n",
       "  'C': 1,\n",
       "  'kernel_func': <function problem1.Gaussian_kernel(X1, X2, sigma=1)>,\n",
       "  'sigma': 0.1,\n",
       "  'alpha': array([[0., 1., 0., 0., 0., 0., 0., 0., 0., 0., 0., 0., 0., 0., 0., 0.,\n",
       "          0., 0., 0., 0., 0., 0., 0., 0., 0., 0., 0., 0., 0., 0., 0., 0.,\n",
       "          0., 0., 0., 0., 0., 0., 0., 0., 0., 0., 0., 0., 0., 0., 0., 0.,\n",
       "          0., 0., 0., 0., 0., 0., 0., 0., 0., 0., 0., 0., 0., 0., 0., 0.,\n",
       "          0., 0., 0., 0., 0., 0., 0., 0., 0., 0., 0., 0., 0., 0., 0., 0.,\n",
       "          0., 0., 0., 0., 0., 0., 0., 0., 0., 0., 0., 0., 0., 0., 0., 0.,\n",
       "          0., 0., 0., 0.]]),\n",
       "  'b': 0},\n",
       " {'train_X': array([[ 1.16466313, -0.85136678,  0.60754434,  1.01140854, -0.44558325,\n",
       "          -0.86205304, -0.89143236, -0.86423715,  0.6904045 ,  1.07374723,\n",
       "          -1.06481792,  0.98529007, -1.08212632,  0.77566879, -0.52702774,\n",
       "          -0.8175529 , -0.99939957,  0.79013893,  0.87295672, -1.31960575,\n",
       "          -0.91973039, -1.1197026 , -0.99546646,  1.03286432,  0.86537465,\n",
       "          -1.13029204, -0.94901453,  1.02831266,  1.30860331, -0.92990649,\n",
       "           0.89128167,  0.68029733, -1.18022063,  0.90962759, -0.66285032,\n",
       "          -1.10048918,  1.24511478, -1.38671641, -1.09912637, -1.08839767,\n",
       "          -0.98777954, -0.97092239,  0.87812778, -1.35220668,  1.00373873,\n",
       "          -0.92776222,  1.17339146,  1.48312316,  0.68637814,  0.92625906,\n",
       "           0.90227196, -0.89650296, -1.03671097, -1.15218614,  0.98488907,\n",
       "          -0.93602521,  0.80634259, -0.74821928,  0.96608659,  1.07963598,\n",
       "           1.00090713, -1.21153725, -0.93410179, -1.06142179, -1.5036788 ,\n",
       "          -0.7343002 ,  0.77392239, -1.36245897,  0.91430916,  1.05806174,\n",
       "          -0.95815047, -0.87684136, -0.91018789,  1.15828889,  1.35629249,\n",
       "           1.03204315, -0.84588477, -1.04494938,  0.82849424,  0.84804404,\n",
       "           1.22888298, -1.34477928,  0.99450875, -0.59602853,  0.78905629,\n",
       "           1.22939922,  1.00195745,  1.17321422,  0.88203884,  0.79398084,\n",
       "          -0.7755786 ,  0.96815969,  0.90551258,  0.79412168, -0.78496736,\n",
       "          -0.80489104, -1.0512839 ,  1.02479485, -0.85986013,  1.37679909],\n",
       "         [ 0.43617802, -1.17112929,  0.85371564,  1.14797295, -1.02919521,\n",
       "          -0.96060702, -1.04573034, -1.11629973,  1.2368936 ,  0.95336627,\n",
       "          -1.34684031,  1.23335273, -1.11486648,  1.36415514, -1.41203315,\n",
       "          -0.92181347, -0.81284045,  0.77454708,  0.98105428, -0.93207176,\n",
       "          -0.915493  , -0.96384885, -1.04034917,  0.91298534,  0.82252019,\n",
       "          -1.53714457, -0.994697  ,  0.889082  ,  0.4922652 , -1.23730654,\n",
       "           1.09414932,  0.88975745, -1.203079  ,  0.76469031, -0.8928919 ,\n",
       "          -0.99506658,  1.01394468, -0.89820148, -1.11174346, -0.99908805,\n",
       "          -0.98841386, -1.27632672,  0.88169244, -0.84351298,  0.99857569,\n",
       "          -0.93943268,  1.08767598,  0.64645844,  1.02538974,  0.7535052 ,\n",
       "           0.92428008, -1.34955082, -0.82775018, -0.77997453,  1.11432778,\n",
       "          -1.01201771,  1.13310783, -0.51438394,  1.10633799,  0.90166501,\n",
       "           1.06619755, -0.76197228, -0.6709544 , -1.15153014, -0.68421233,\n",
       "          -1.03818064,  1.26202022, -0.89857594,  0.76696043,  0.98889428,\n",
       "          -0.83351269, -1.19301245, -0.87377691,  1.18726007,  1.14333375,\n",
       "           0.50108018, -0.79707359, -1.02400919,  0.7216279 ,  1.25543086,\n",
       "           1.32404392, -0.77083422,  1.17449672, -0.71328017,  0.87874187,\n",
       "           0.71537261,  1.45890481,  0.81206534,  1.16329911,  0.96798231,\n",
       "          -0.8855775 ,  0.82292325,  1.10722275,  1.05864922, -0.87642137,\n",
       "          -0.46329681, -1.23212002,  1.17658136, -0.72875762,  0.79406361]]),\n",
       "  'train_y': array([[-1,  1, -1, -1,  1,  1,  1,  1, -1, -1,  1, -1,  1, -1,  1,  1,\n",
       "           1, -1, -1,  1,  1,  1,  1, -1, -1,  1,  1, -1, -1,  1, -1, -1,\n",
       "           1, -1,  1,  1, -1,  1,  1,  1,  1,  1, -1,  1, -1,  1, -1, -1,\n",
       "          -1, -1, -1,  1,  1,  1, -1,  1, -1,  1, -1, -1, -1,  1,  1,  1,\n",
       "           1,  1, -1,  1, -1, -1,  1,  1,  1, -1, -1, -1,  1,  1, -1, -1,\n",
       "          -1,  1, -1,  1, -1, -1, -1, -1, -1, -1,  1, -1, -1, -1,  1,  1,\n",
       "           1, -1,  1, -1]], dtype=int64),\n",
       "  'n': 2,\n",
       "  'm': 100,\n",
       "  'C': 1,\n",
       "  'kernel_func': <function problem1.Gaussian_kernel(X1, X2, sigma=1)>,\n",
       "  'sigma': 0.1,\n",
       "  'alpha': array([[0., 1., 0., 0., 0., 0., 0., 0., 0., 0., 0., 0., 0., 0., 0., 0.,\n",
       "          0., 0., 0., 0., 0., 0., 0., 0., 0., 0., 0., 0., 0., 0., 0., 0.,\n",
       "          0., 0., 0., 0., 0., 0., 0., 0., 0., 0., 0., 0., 0., 0., 0., 0.,\n",
       "          0., 0., 0., 0., 0., 0., 0., 0., 0., 0., 0., 0., 0., 0., 0., 0.,\n",
       "          0., 0., 0., 0., 0., 0., 0., 0., 0., 0., 0., 0., 0., 0., 0., 0.,\n",
       "          0., 0., 0., 0., 0., 0., 0., 0., 0., 0., 0., 0., 0., 0., 0., 0.,\n",
       "          0., 0., 0., 0.]]),\n",
       "  'b': 0},\n",
       " {'train_X': array([[ 1.16466313, -0.85136678,  0.60754434,  1.01140854, -0.44558325,\n",
       "          -0.86205304, -0.89143236, -0.86423715,  0.6904045 ,  1.07374723,\n",
       "          -1.06481792,  0.98529007, -1.08212632,  0.77566879, -0.52702774,\n",
       "          -0.8175529 , -0.99939957,  0.79013893,  0.87295672, -1.31960575,\n",
       "          -0.91973039, -1.1197026 , -0.99546646,  1.03286432,  0.86537465,\n",
       "          -1.13029204, -0.94901453,  1.02831266,  1.30860331, -0.92990649,\n",
       "           0.89128167,  0.68029733, -1.18022063,  0.90962759, -0.66285032,\n",
       "          -1.10048918,  1.24511478, -1.38671641, -1.09912637, -1.08839767,\n",
       "          -0.98777954, -0.97092239,  0.87812778, -1.35220668,  1.00373873,\n",
       "          -0.92776222,  1.17339146,  1.48312316,  0.68637814,  0.92625906,\n",
       "           0.90227196, -0.89650296, -1.03671097, -1.15218614,  0.98488907,\n",
       "          -0.93602521,  0.80634259, -0.74821928,  0.96608659,  1.07963598,\n",
       "           1.00090713, -1.21153725, -0.93410179, -1.06142179, -1.5036788 ,\n",
       "          -0.7343002 ,  0.77392239, -1.36245897,  0.91430916,  1.05806174,\n",
       "          -0.95815047, -0.87684136, -0.91018789,  1.15828889,  1.35629249,\n",
       "           1.03204315, -0.84588477, -1.04494938,  0.82849424,  0.84804404,\n",
       "           1.22888298, -1.34477928,  0.99450875, -0.59602853,  0.78905629,\n",
       "           1.22939922,  1.00195745,  1.17321422,  0.88203884,  0.79398084,\n",
       "          -0.7755786 ,  0.96815969,  0.90551258,  0.79412168, -0.78496736,\n",
       "          -0.80489104, -1.0512839 ,  1.02479485, -0.85986013,  1.37679909],\n",
       "         [ 0.43617802, -1.17112929,  0.85371564,  1.14797295, -1.02919521,\n",
       "          -0.96060702, -1.04573034, -1.11629973,  1.2368936 ,  0.95336627,\n",
       "          -1.34684031,  1.23335273, -1.11486648,  1.36415514, -1.41203315,\n",
       "          -0.92181347, -0.81284045,  0.77454708,  0.98105428, -0.93207176,\n",
       "          -0.915493  , -0.96384885, -1.04034917,  0.91298534,  0.82252019,\n",
       "          -1.53714457, -0.994697  ,  0.889082  ,  0.4922652 , -1.23730654,\n",
       "           1.09414932,  0.88975745, -1.203079  ,  0.76469031, -0.8928919 ,\n",
       "          -0.99506658,  1.01394468, -0.89820148, -1.11174346, -0.99908805,\n",
       "          -0.98841386, -1.27632672,  0.88169244, -0.84351298,  0.99857569,\n",
       "          -0.93943268,  1.08767598,  0.64645844,  1.02538974,  0.7535052 ,\n",
       "           0.92428008, -1.34955082, -0.82775018, -0.77997453,  1.11432778,\n",
       "          -1.01201771,  1.13310783, -0.51438394,  1.10633799,  0.90166501,\n",
       "           1.06619755, -0.76197228, -0.6709544 , -1.15153014, -0.68421233,\n",
       "          -1.03818064,  1.26202022, -0.89857594,  0.76696043,  0.98889428,\n",
       "          -0.83351269, -1.19301245, -0.87377691,  1.18726007,  1.14333375,\n",
       "           0.50108018, -0.79707359, -1.02400919,  0.7216279 ,  1.25543086,\n",
       "           1.32404392, -0.77083422,  1.17449672, -0.71328017,  0.87874187,\n",
       "           0.71537261,  1.45890481,  0.81206534,  1.16329911,  0.96798231,\n",
       "          -0.8855775 ,  0.82292325,  1.10722275,  1.05864922, -0.87642137,\n",
       "          -0.46329681, -1.23212002,  1.17658136, -0.72875762,  0.79406361]]),\n",
       "  'train_y': array([[-1,  1, -1, -1,  1,  1,  1,  1, -1, -1,  1, -1,  1, -1,  1,  1,\n",
       "           1, -1, -1,  1,  1,  1,  1, -1, -1,  1,  1, -1, -1,  1, -1, -1,\n",
       "           1, -1,  1,  1, -1,  1,  1,  1,  1,  1, -1,  1, -1,  1, -1, -1,\n",
       "          -1, -1, -1,  1,  1,  1, -1,  1, -1,  1, -1, -1, -1,  1,  1,  1,\n",
       "           1,  1, -1,  1, -1, -1,  1,  1,  1, -1, -1, -1,  1,  1, -1, -1,\n",
       "          -1,  1, -1,  1, -1, -1, -1, -1, -1, -1,  1, -1, -1, -1,  1,  1,\n",
       "           1, -1,  1, -1]], dtype=int64),\n",
       "  'n': 2,\n",
       "  'm': 100,\n",
       "  'C': 1,\n",
       "  'kernel_func': <function problem1.Gaussian_kernel(X1, X2, sigma=1)>,\n",
       "  'sigma': 0.1,\n",
       "  'alpha': array([[0., 1., 0., 0., 0., 0., 0., 0., 0., 0., 0., 0., 0., 0., 0., 0.,\n",
       "          0., 0., 0., 0., 0., 0., 0., 0., 0., 0., 0., 0., 0., 0., 0., 0.,\n",
       "          0., 0., 0., 0., 0., 0., 0., 0., 0., 0., 0., 0., 0., 0., 0., 0.,\n",
       "          0., 0., 0., 0., 0., 0., 0., 0., 0., 0., 0., 0., 0., 0., 0., 0.,\n",
       "          0., 0., 0., 0., 0., 0., 0., 0., 0., 0., 0., 0., 0., 0., 0., 0.,\n",
       "          0., 0., 0., 0., 0., 0., 0., 0., 0., 0., 0., 0., 0., 0., 0., 0.,\n",
       "          0., 0., 0., 0.]]),\n",
       "  'b': 0},\n",
       " {'train_X': array([[ 1.16466313, -0.85136678,  0.60754434,  1.01140854, -0.44558325,\n",
       "          -0.86205304, -0.89143236, -0.86423715,  0.6904045 ,  1.07374723,\n",
       "          -1.06481792,  0.98529007, -1.08212632,  0.77566879, -0.52702774,\n",
       "          -0.8175529 , -0.99939957,  0.79013893,  0.87295672, -1.31960575,\n",
       "          -0.91973039, -1.1197026 , -0.99546646,  1.03286432,  0.86537465,\n",
       "          -1.13029204, -0.94901453,  1.02831266,  1.30860331, -0.92990649,\n",
       "           0.89128167,  0.68029733, -1.18022063,  0.90962759, -0.66285032,\n",
       "          -1.10048918,  1.24511478, -1.38671641, -1.09912637, -1.08839767,\n",
       "          -0.98777954, -0.97092239,  0.87812778, -1.35220668,  1.00373873,\n",
       "          -0.92776222,  1.17339146,  1.48312316,  0.68637814,  0.92625906,\n",
       "           0.90227196, -0.89650296, -1.03671097, -1.15218614,  0.98488907,\n",
       "          -0.93602521,  0.80634259, -0.74821928,  0.96608659,  1.07963598,\n",
       "           1.00090713, -1.21153725, -0.93410179, -1.06142179, -1.5036788 ,\n",
       "          -0.7343002 ,  0.77392239, -1.36245897,  0.91430916,  1.05806174,\n",
       "          -0.95815047, -0.87684136, -0.91018789,  1.15828889,  1.35629249,\n",
       "           1.03204315, -0.84588477, -1.04494938,  0.82849424,  0.84804404,\n",
       "           1.22888298, -1.34477928,  0.99450875, -0.59602853,  0.78905629,\n",
       "           1.22939922,  1.00195745,  1.17321422,  0.88203884,  0.79398084,\n",
       "          -0.7755786 ,  0.96815969,  0.90551258,  0.79412168, -0.78496736,\n",
       "          -0.80489104, -1.0512839 ,  1.02479485, -0.85986013,  1.37679909],\n",
       "         [ 0.43617802, -1.17112929,  0.85371564,  1.14797295, -1.02919521,\n",
       "          -0.96060702, -1.04573034, -1.11629973,  1.2368936 ,  0.95336627,\n",
       "          -1.34684031,  1.23335273, -1.11486648,  1.36415514, -1.41203315,\n",
       "          -0.92181347, -0.81284045,  0.77454708,  0.98105428, -0.93207176,\n",
       "          -0.915493  , -0.96384885, -1.04034917,  0.91298534,  0.82252019,\n",
       "          -1.53714457, -0.994697  ,  0.889082  ,  0.4922652 , -1.23730654,\n",
       "           1.09414932,  0.88975745, -1.203079  ,  0.76469031, -0.8928919 ,\n",
       "          -0.99506658,  1.01394468, -0.89820148, -1.11174346, -0.99908805,\n",
       "          -0.98841386, -1.27632672,  0.88169244, -0.84351298,  0.99857569,\n",
       "          -0.93943268,  1.08767598,  0.64645844,  1.02538974,  0.7535052 ,\n",
       "           0.92428008, -1.34955082, -0.82775018, -0.77997453,  1.11432778,\n",
       "          -1.01201771,  1.13310783, -0.51438394,  1.10633799,  0.90166501,\n",
       "           1.06619755, -0.76197228, -0.6709544 , -1.15153014, -0.68421233,\n",
       "          -1.03818064,  1.26202022, -0.89857594,  0.76696043,  0.98889428,\n",
       "          -0.83351269, -1.19301245, -0.87377691,  1.18726007,  1.14333375,\n",
       "           0.50108018, -0.79707359, -1.02400919,  0.7216279 ,  1.25543086,\n",
       "           1.32404392, -0.77083422,  1.17449672, -0.71328017,  0.87874187,\n",
       "           0.71537261,  1.45890481,  0.81206534,  1.16329911,  0.96798231,\n",
       "          -0.8855775 ,  0.82292325,  1.10722275,  1.05864922, -0.87642137,\n",
       "          -0.46329681, -1.23212002,  1.17658136, -0.72875762,  0.79406361]]),\n",
       "  'train_y': array([[-1,  1, -1, -1,  1,  1,  1,  1, -1, -1,  1, -1,  1, -1,  1,  1,\n",
       "           1, -1, -1,  1,  1,  1,  1, -1, -1,  1,  1, -1, -1,  1, -1, -1,\n",
       "           1, -1,  1,  1, -1,  1,  1,  1,  1,  1, -1,  1, -1,  1, -1, -1,\n",
       "          -1, -1, -1,  1,  1,  1, -1,  1, -1,  1, -1, -1, -1,  1,  1,  1,\n",
       "           1,  1, -1,  1, -1, -1,  1,  1,  1, -1, -1, -1,  1,  1, -1, -1,\n",
       "          -1,  1, -1,  1, -1, -1, -1, -1, -1, -1,  1, -1, -1, -1,  1,  1,\n",
       "           1, -1,  1, -1]], dtype=int64),\n",
       "  'n': 2,\n",
       "  'm': 100,\n",
       "  'C': 1,\n",
       "  'kernel_func': <function problem1.Gaussian_kernel(X1, X2, sigma=1)>,\n",
       "  'sigma': 0.1,\n",
       "  'alpha': array([[0., 1., 0., 0., 0., 0., 0., 0., 0., 0., 0., 0., 0., 0., 0., 0.,\n",
       "          0., 0., 0., 0., 0., 0., 0., 0., 0., 0., 0., 0., 0., 0., 0., 0.,\n",
       "          0., 0., 0., 0., 0., 0., 0., 0., 0., 0., 0., 0., 0., 0., 0., 0.,\n",
       "          0., 0., 0., 0., 0., 0., 0., 0., 0., 0., 0., 0., 0., 0., 0., 0.,\n",
       "          0., 0., 0., 0., 0., 0., 0., 0., 0., 0., 0., 0., 0., 0., 0., 0.,\n",
       "          0., 0., 0., 0., 0., 0., 0., 0., 0., 0., 0., 0., 0., 0., 0., 0.,\n",
       "          0., 0., 0., 0.]]),\n",
       "  'b': 0},\n",
       " {'train_X': array([[ 1.16466313, -0.85136678,  0.60754434,  1.01140854, -0.44558325,\n",
       "          -0.86205304, -0.89143236, -0.86423715,  0.6904045 ,  1.07374723,\n",
       "          -1.06481792,  0.98529007, -1.08212632,  0.77566879, -0.52702774,\n",
       "          -0.8175529 , -0.99939957,  0.79013893,  0.87295672, -1.31960575,\n",
       "          -0.91973039, -1.1197026 , -0.99546646,  1.03286432,  0.86537465,\n",
       "          -1.13029204, -0.94901453,  1.02831266,  1.30860331, -0.92990649,\n",
       "           0.89128167,  0.68029733, -1.18022063,  0.90962759, -0.66285032,\n",
       "          -1.10048918,  1.24511478, -1.38671641, -1.09912637, -1.08839767,\n",
       "          -0.98777954, -0.97092239,  0.87812778, -1.35220668,  1.00373873,\n",
       "          -0.92776222,  1.17339146,  1.48312316,  0.68637814,  0.92625906,\n",
       "           0.90227196, -0.89650296, -1.03671097, -1.15218614,  0.98488907,\n",
       "          -0.93602521,  0.80634259, -0.74821928,  0.96608659,  1.07963598,\n",
       "           1.00090713, -1.21153725, -0.93410179, -1.06142179, -1.5036788 ,\n",
       "          -0.7343002 ,  0.77392239, -1.36245897,  0.91430916,  1.05806174,\n",
       "          -0.95815047, -0.87684136, -0.91018789,  1.15828889,  1.35629249,\n",
       "           1.03204315, -0.84588477, -1.04494938,  0.82849424,  0.84804404,\n",
       "           1.22888298, -1.34477928,  0.99450875, -0.59602853,  0.78905629,\n",
       "           1.22939922,  1.00195745,  1.17321422,  0.88203884,  0.79398084,\n",
       "          -0.7755786 ,  0.96815969,  0.90551258,  0.79412168, -0.78496736,\n",
       "          -0.80489104, -1.0512839 ,  1.02479485, -0.85986013,  1.37679909],\n",
       "         [ 0.43617802, -1.17112929,  0.85371564,  1.14797295, -1.02919521,\n",
       "          -0.96060702, -1.04573034, -1.11629973,  1.2368936 ,  0.95336627,\n",
       "          -1.34684031,  1.23335273, -1.11486648,  1.36415514, -1.41203315,\n",
       "          -0.92181347, -0.81284045,  0.77454708,  0.98105428, -0.93207176,\n",
       "          -0.915493  , -0.96384885, -1.04034917,  0.91298534,  0.82252019,\n",
       "          -1.53714457, -0.994697  ,  0.889082  ,  0.4922652 , -1.23730654,\n",
       "           1.09414932,  0.88975745, -1.203079  ,  0.76469031, -0.8928919 ,\n",
       "          -0.99506658,  1.01394468, -0.89820148, -1.11174346, -0.99908805,\n",
       "          -0.98841386, -1.27632672,  0.88169244, -0.84351298,  0.99857569,\n",
       "          -0.93943268,  1.08767598,  0.64645844,  1.02538974,  0.7535052 ,\n",
       "           0.92428008, -1.34955082, -0.82775018, -0.77997453,  1.11432778,\n",
       "          -1.01201771,  1.13310783, -0.51438394,  1.10633799,  0.90166501,\n",
       "           1.06619755, -0.76197228, -0.6709544 , -1.15153014, -0.68421233,\n",
       "          -1.03818064,  1.26202022, -0.89857594,  0.76696043,  0.98889428,\n",
       "          -0.83351269, -1.19301245, -0.87377691,  1.18726007,  1.14333375,\n",
       "           0.50108018, -0.79707359, -1.02400919,  0.7216279 ,  1.25543086,\n",
       "           1.32404392, -0.77083422,  1.17449672, -0.71328017,  0.87874187,\n",
       "           0.71537261,  1.45890481,  0.81206534,  1.16329911,  0.96798231,\n",
       "          -0.8855775 ,  0.82292325,  1.10722275,  1.05864922, -0.87642137,\n",
       "          -0.46329681, -1.23212002,  1.17658136, -0.72875762,  0.79406361]]),\n",
       "  'train_y': array([[-1,  1, -1, -1,  1,  1,  1,  1, -1, -1,  1, -1,  1, -1,  1,  1,\n",
       "           1, -1, -1,  1,  1,  1,  1, -1, -1,  1,  1, -1, -1,  1, -1, -1,\n",
       "           1, -1,  1,  1, -1,  1,  1,  1,  1,  1, -1,  1, -1,  1, -1, -1,\n",
       "          -1, -1, -1,  1,  1,  1, -1,  1, -1,  1, -1, -1, -1,  1,  1,  1,\n",
       "           1,  1, -1,  1, -1, -1,  1,  1,  1, -1, -1, -1,  1,  1, -1, -1,\n",
       "          -1,  1, -1,  1, -1, -1, -1, -1, -1, -1,  1, -1, -1, -1,  1,  1,\n",
       "           1, -1,  1, -1]], dtype=int64),\n",
       "  'n': 2,\n",
       "  'm': 100,\n",
       "  'C': 1,\n",
       "  'kernel_func': <function problem1.Gaussian_kernel(X1, X2, sigma=1)>,\n",
       "  'sigma': 0.1,\n",
       "  'alpha': array([[0., 1., 0., 0., 0., 0., 0., 0., 0., 0., 0., 0., 0., 0., 0., 0.,\n",
       "          0., 0., 0., 0., 0., 0., 0., 0., 0., 0., 0., 0., 0., 0., 0., 0.,\n",
       "          0., 0., 0., 0., 0., 0., 0., 0., 0., 0., 0., 0., 0., 0., 0., 0.,\n",
       "          0., 0., 0., 0., 0., 0., 0., 0., 0., 0., 0., 0., 0., 0., 0., 0.,\n",
       "          0., 0., 0., 0., 0., 0., 0., 0., 0., 0., 0., 0., 0., 0., 0., 0.,\n",
       "          0., 0., 0., 0., 0., 0., 0., 0., 0., 0., 0., 0., 0., 0., 0., 0.,\n",
       "          0., 0., 0., 0.]]),\n",
       "  'b': 0},\n",
       " {'train_X': array([[ 1.16466313, -0.85136678,  0.60754434,  1.01140854, -0.44558325,\n",
       "          -0.86205304, -0.89143236, -0.86423715,  0.6904045 ,  1.07374723,\n",
       "          -1.06481792,  0.98529007, -1.08212632,  0.77566879, -0.52702774,\n",
       "          -0.8175529 , -0.99939957,  0.79013893,  0.87295672, -1.31960575,\n",
       "          -0.91973039, -1.1197026 , -0.99546646,  1.03286432,  0.86537465,\n",
       "          -1.13029204, -0.94901453,  1.02831266,  1.30860331, -0.92990649,\n",
       "           0.89128167,  0.68029733, -1.18022063,  0.90962759, -0.66285032,\n",
       "          -1.10048918,  1.24511478, -1.38671641, -1.09912637, -1.08839767,\n",
       "          -0.98777954, -0.97092239,  0.87812778, -1.35220668,  1.00373873,\n",
       "          -0.92776222,  1.17339146,  1.48312316,  0.68637814,  0.92625906,\n",
       "           0.90227196, -0.89650296, -1.03671097, -1.15218614,  0.98488907,\n",
       "          -0.93602521,  0.80634259, -0.74821928,  0.96608659,  1.07963598,\n",
       "           1.00090713, -1.21153725, -0.93410179, -1.06142179, -1.5036788 ,\n",
       "          -0.7343002 ,  0.77392239, -1.36245897,  0.91430916,  1.05806174,\n",
       "          -0.95815047, -0.87684136, -0.91018789,  1.15828889,  1.35629249,\n",
       "           1.03204315, -0.84588477, -1.04494938,  0.82849424,  0.84804404,\n",
       "           1.22888298, -1.34477928,  0.99450875, -0.59602853,  0.78905629,\n",
       "           1.22939922,  1.00195745,  1.17321422,  0.88203884,  0.79398084,\n",
       "          -0.7755786 ,  0.96815969,  0.90551258,  0.79412168, -0.78496736,\n",
       "          -0.80489104, -1.0512839 ,  1.02479485, -0.85986013,  1.37679909],\n",
       "         [ 0.43617802, -1.17112929,  0.85371564,  1.14797295, -1.02919521,\n",
       "          -0.96060702, -1.04573034, -1.11629973,  1.2368936 ,  0.95336627,\n",
       "          -1.34684031,  1.23335273, -1.11486648,  1.36415514, -1.41203315,\n",
       "          -0.92181347, -0.81284045,  0.77454708,  0.98105428, -0.93207176,\n",
       "          -0.915493  , -0.96384885, -1.04034917,  0.91298534,  0.82252019,\n",
       "          -1.53714457, -0.994697  ,  0.889082  ,  0.4922652 , -1.23730654,\n",
       "           1.09414932,  0.88975745, -1.203079  ,  0.76469031, -0.8928919 ,\n",
       "          -0.99506658,  1.01394468, -0.89820148, -1.11174346, -0.99908805,\n",
       "          -0.98841386, -1.27632672,  0.88169244, -0.84351298,  0.99857569,\n",
       "          -0.93943268,  1.08767598,  0.64645844,  1.02538974,  0.7535052 ,\n",
       "           0.92428008, -1.34955082, -0.82775018, -0.77997453,  1.11432778,\n",
       "          -1.01201771,  1.13310783, -0.51438394,  1.10633799,  0.90166501,\n",
       "           1.06619755, -0.76197228, -0.6709544 , -1.15153014, -0.68421233,\n",
       "          -1.03818064,  1.26202022, -0.89857594,  0.76696043,  0.98889428,\n",
       "          -0.83351269, -1.19301245, -0.87377691,  1.18726007,  1.14333375,\n",
       "           0.50108018, -0.79707359, -1.02400919,  0.7216279 ,  1.25543086,\n",
       "           1.32404392, -0.77083422,  1.17449672, -0.71328017,  0.87874187,\n",
       "           0.71537261,  1.45890481,  0.81206534,  1.16329911,  0.96798231,\n",
       "          -0.8855775 ,  0.82292325,  1.10722275,  1.05864922, -0.87642137,\n",
       "          -0.46329681, -1.23212002,  1.17658136, -0.72875762,  0.79406361]]),\n",
       "  'train_y': array([[-1,  1, -1, -1,  1,  1,  1,  1, -1, -1,  1, -1,  1, -1,  1,  1,\n",
       "           1, -1, -1,  1,  1,  1,  1, -1, -1,  1,  1, -1, -1,  1, -1, -1,\n",
       "           1, -1,  1,  1, -1,  1,  1,  1,  1,  1, -1,  1, -1,  1, -1, -1,\n",
       "          -1, -1, -1,  1,  1,  1, -1,  1, -1,  1, -1, -1, -1,  1,  1,  1,\n",
       "           1,  1, -1,  1, -1, -1,  1,  1,  1, -1, -1, -1,  1,  1, -1, -1,\n",
       "          -1,  1, -1,  1, -1, -1, -1, -1, -1, -1,  1, -1, -1, -1,  1,  1,\n",
       "           1, -1,  1, -1]], dtype=int64),\n",
       "  'n': 2,\n",
       "  'm': 100,\n",
       "  'C': 1,\n",
       "  'kernel_func': <function problem1.Gaussian_kernel(X1, X2, sigma=1)>,\n",
       "  'sigma': 0.1,\n",
       "  'alpha': array([[0., 1., 0., 0., 0., 0., 0., 0., 0., 0., 0., 0., 0., 0., 0., 0.,\n",
       "          0., 0., 0., 0., 0., 0., 0., 0., 0., 0., 0., 0., 0., 0., 0., 0.,\n",
       "          0., 0., 0., 0., 0., 0., 0., 0., 0., 0., 0., 0., 0., 0., 0., 0.,\n",
       "          0., 0., 0., 0., 0., 0., 0., 0., 0., 0., 0., 0., 0., 0., 0., 0.,\n",
       "          0., 0., 0., 0., 0., 0., 0., 0., 0., 0., 0., 0., 0., 0., 0., 0.,\n",
       "          0., 0., 0., 0., 0., 0., 0., 0., 0., 0., 0., 0., 0., 0., 0., 0.,\n",
       "          0., 0., 0., 0.]]),\n",
       "  'b': 0},\n",
       " {'train_X': array([[ 1.16466313, -0.85136678,  0.60754434,  1.01140854, -0.44558325,\n",
       "          -0.86205304, -0.89143236, -0.86423715,  0.6904045 ,  1.07374723,\n",
       "          -1.06481792,  0.98529007, -1.08212632,  0.77566879, -0.52702774,\n",
       "          -0.8175529 , -0.99939957,  0.79013893,  0.87295672, -1.31960575,\n",
       "          -0.91973039, -1.1197026 , -0.99546646,  1.03286432,  0.86537465,\n",
       "          -1.13029204, -0.94901453,  1.02831266,  1.30860331, -0.92990649,\n",
       "           0.89128167,  0.68029733, -1.18022063,  0.90962759, -0.66285032,\n",
       "          -1.10048918,  1.24511478, -1.38671641, -1.09912637, -1.08839767,\n",
       "          -0.98777954, -0.97092239,  0.87812778, -1.35220668,  1.00373873,\n",
       "          -0.92776222,  1.17339146,  1.48312316,  0.68637814,  0.92625906,\n",
       "           0.90227196, -0.89650296, -1.03671097, -1.15218614,  0.98488907,\n",
       "          -0.93602521,  0.80634259, -0.74821928,  0.96608659,  1.07963598,\n",
       "           1.00090713, -1.21153725, -0.93410179, -1.06142179, -1.5036788 ,\n",
       "          -0.7343002 ,  0.77392239, -1.36245897,  0.91430916,  1.05806174,\n",
       "          -0.95815047, -0.87684136, -0.91018789,  1.15828889,  1.35629249,\n",
       "           1.03204315, -0.84588477, -1.04494938,  0.82849424,  0.84804404,\n",
       "           1.22888298, -1.34477928,  0.99450875, -0.59602853,  0.78905629,\n",
       "           1.22939922,  1.00195745,  1.17321422,  0.88203884,  0.79398084,\n",
       "          -0.7755786 ,  0.96815969,  0.90551258,  0.79412168, -0.78496736,\n",
       "          -0.80489104, -1.0512839 ,  1.02479485, -0.85986013,  1.37679909],\n",
       "         [ 0.43617802, -1.17112929,  0.85371564,  1.14797295, -1.02919521,\n",
       "          -0.96060702, -1.04573034, -1.11629973,  1.2368936 ,  0.95336627,\n",
       "          -1.34684031,  1.23335273, -1.11486648,  1.36415514, -1.41203315,\n",
       "          -0.92181347, -0.81284045,  0.77454708,  0.98105428, -0.93207176,\n",
       "          -0.915493  , -0.96384885, -1.04034917,  0.91298534,  0.82252019,\n",
       "          -1.53714457, -0.994697  ,  0.889082  ,  0.4922652 , -1.23730654,\n",
       "           1.09414932,  0.88975745, -1.203079  ,  0.76469031, -0.8928919 ,\n",
       "          -0.99506658,  1.01394468, -0.89820148, -1.11174346, -0.99908805,\n",
       "          -0.98841386, -1.27632672,  0.88169244, -0.84351298,  0.99857569,\n",
       "          -0.93943268,  1.08767598,  0.64645844,  1.02538974,  0.7535052 ,\n",
       "           0.92428008, -1.34955082, -0.82775018, -0.77997453,  1.11432778,\n",
       "          -1.01201771,  1.13310783, -0.51438394,  1.10633799,  0.90166501,\n",
       "           1.06619755, -0.76197228, -0.6709544 , -1.15153014, -0.68421233,\n",
       "          -1.03818064,  1.26202022, -0.89857594,  0.76696043,  0.98889428,\n",
       "          -0.83351269, -1.19301245, -0.87377691,  1.18726007,  1.14333375,\n",
       "           0.50108018, -0.79707359, -1.02400919,  0.7216279 ,  1.25543086,\n",
       "           1.32404392, -0.77083422,  1.17449672, -0.71328017,  0.87874187,\n",
       "           0.71537261,  1.45890481,  0.81206534,  1.16329911,  0.96798231,\n",
       "          -0.8855775 ,  0.82292325,  1.10722275,  1.05864922, -0.87642137,\n",
       "          -0.46329681, -1.23212002,  1.17658136, -0.72875762,  0.79406361]]),\n",
       "  'train_y': array([[-1,  1, -1, -1,  1,  1,  1,  1, -1, -1,  1, -1,  1, -1,  1,  1,\n",
       "           1, -1, -1,  1,  1,  1,  1, -1, -1,  1,  1, -1, -1,  1, -1, -1,\n",
       "           1, -1,  1,  1, -1,  1,  1,  1,  1,  1, -1,  1, -1,  1, -1, -1,\n",
       "          -1, -1, -1,  1,  1,  1, -1,  1, -1,  1, -1, -1, -1,  1,  1,  1,\n",
       "           1,  1, -1,  1, -1, -1,  1,  1,  1, -1, -1, -1,  1,  1, -1, -1,\n",
       "          -1,  1, -1,  1, -1, -1, -1, -1, -1, -1,  1, -1, -1, -1,  1,  1,\n",
       "           1, -1,  1, -1]], dtype=int64),\n",
       "  'n': 2,\n",
       "  'm': 100,\n",
       "  'C': 1,\n",
       "  'kernel_func': <function problem1.Gaussian_kernel(X1, X2, sigma=1)>,\n",
       "  'sigma': 0.1,\n",
       "  'alpha': array([[0., 1., 0., 0., 0., 0., 0., 0., 0., 0., 0., 0., 0., 0., 0., 0.,\n",
       "          0., 0., 0., 0., 0., 0., 0., 0., 0., 0., 0., 0., 0., 0., 0., 0.,\n",
       "          0., 0., 0., 0., 0., 0., 0., 0., 0., 0., 0., 0., 0., 0., 0., 0.,\n",
       "          0., 0., 0., 0., 0., 0., 0., 0., 0., 0., 0., 0., 0., 0., 0., 0.,\n",
       "          0., 0., 0., 0., 0., 0., 0., 0., 0., 0., 0., 0., 0., 0., 0., 0.,\n",
       "          0., 0., 0., 0., 0., 0., 0., 0., 0., 0., 0., 0., 0., 0., 0., 0.,\n",
       "          0., 0., 0., 0.]]),\n",
       "  'b': 0},\n",
       " {'train_X': array([[ 1.16466313, -0.85136678,  0.60754434,  1.01140854, -0.44558325,\n",
       "          -0.86205304, -0.89143236, -0.86423715,  0.6904045 ,  1.07374723,\n",
       "          -1.06481792,  0.98529007, -1.08212632,  0.77566879, -0.52702774,\n",
       "          -0.8175529 , -0.99939957,  0.79013893,  0.87295672, -1.31960575,\n",
       "          -0.91973039, -1.1197026 , -0.99546646,  1.03286432,  0.86537465,\n",
       "          -1.13029204, -0.94901453,  1.02831266,  1.30860331, -0.92990649,\n",
       "           0.89128167,  0.68029733, -1.18022063,  0.90962759, -0.66285032,\n",
       "          -1.10048918,  1.24511478, -1.38671641, -1.09912637, -1.08839767,\n",
       "          -0.98777954, -0.97092239,  0.87812778, -1.35220668,  1.00373873,\n",
       "          -0.92776222,  1.17339146,  1.48312316,  0.68637814,  0.92625906,\n",
       "           0.90227196, -0.89650296, -1.03671097, -1.15218614,  0.98488907,\n",
       "          -0.93602521,  0.80634259, -0.74821928,  0.96608659,  1.07963598,\n",
       "           1.00090713, -1.21153725, -0.93410179, -1.06142179, -1.5036788 ,\n",
       "          -0.7343002 ,  0.77392239, -1.36245897,  0.91430916,  1.05806174,\n",
       "          -0.95815047, -0.87684136, -0.91018789,  1.15828889,  1.35629249,\n",
       "           1.03204315, -0.84588477, -1.04494938,  0.82849424,  0.84804404,\n",
       "           1.22888298, -1.34477928,  0.99450875, -0.59602853,  0.78905629,\n",
       "           1.22939922,  1.00195745,  1.17321422,  0.88203884,  0.79398084,\n",
       "          -0.7755786 ,  0.96815969,  0.90551258,  0.79412168, -0.78496736,\n",
       "          -0.80489104, -1.0512839 ,  1.02479485, -0.85986013,  1.37679909],\n",
       "         [ 0.43617802, -1.17112929,  0.85371564,  1.14797295, -1.02919521,\n",
       "          -0.96060702, -1.04573034, -1.11629973,  1.2368936 ,  0.95336627,\n",
       "          -1.34684031,  1.23335273, -1.11486648,  1.36415514, -1.41203315,\n",
       "          -0.92181347, -0.81284045,  0.77454708,  0.98105428, -0.93207176,\n",
       "          -0.915493  , -0.96384885, -1.04034917,  0.91298534,  0.82252019,\n",
       "          -1.53714457, -0.994697  ,  0.889082  ,  0.4922652 , -1.23730654,\n",
       "           1.09414932,  0.88975745, -1.203079  ,  0.76469031, -0.8928919 ,\n",
       "          -0.99506658,  1.01394468, -0.89820148, -1.11174346, -0.99908805,\n",
       "          -0.98841386, -1.27632672,  0.88169244, -0.84351298,  0.99857569,\n",
       "          -0.93943268,  1.08767598,  0.64645844,  1.02538974,  0.7535052 ,\n",
       "           0.92428008, -1.34955082, -0.82775018, -0.77997453,  1.11432778,\n",
       "          -1.01201771,  1.13310783, -0.51438394,  1.10633799,  0.90166501,\n",
       "           1.06619755, -0.76197228, -0.6709544 , -1.15153014, -0.68421233,\n",
       "          -1.03818064,  1.26202022, -0.89857594,  0.76696043,  0.98889428,\n",
       "          -0.83351269, -1.19301245, -0.87377691,  1.18726007,  1.14333375,\n",
       "           0.50108018, -0.79707359, -1.02400919,  0.7216279 ,  1.25543086,\n",
       "           1.32404392, -0.77083422,  1.17449672, -0.71328017,  0.87874187,\n",
       "           0.71537261,  1.45890481,  0.81206534,  1.16329911,  0.96798231,\n",
       "          -0.8855775 ,  0.82292325,  1.10722275,  1.05864922, -0.87642137,\n",
       "          -0.46329681, -1.23212002,  1.17658136, -0.72875762,  0.79406361]]),\n",
       "  'train_y': array([[-1,  1, -1, -1,  1,  1,  1,  1, -1, -1,  1, -1,  1, -1,  1,  1,\n",
       "           1, -1, -1,  1,  1,  1,  1, -1, -1,  1,  1, -1, -1,  1, -1, -1,\n",
       "           1, -1,  1,  1, -1,  1,  1,  1,  1,  1, -1,  1, -1,  1, -1, -1,\n",
       "          -1, -1, -1,  1,  1,  1, -1,  1, -1,  1, -1, -1, -1,  1,  1,  1,\n",
       "           1,  1, -1,  1, -1, -1,  1,  1,  1, -1, -1, -1,  1,  1, -1, -1,\n",
       "          -1,  1, -1,  1, -1, -1, -1, -1, -1, -1,  1, -1, -1, -1,  1,  1,\n",
       "           1, -1,  1, -1]], dtype=int64),\n",
       "  'n': 2,\n",
       "  'm': 100,\n",
       "  'C': 1,\n",
       "  'kernel_func': <function problem1.Gaussian_kernel(X1, X2, sigma=1)>,\n",
       "  'sigma': 0.1,\n",
       "  'alpha': array([[0., 1., 0., 0., 0., 0., 0., 0., 0., 0., 0., 0., 0., 0., 0., 0.,\n",
       "          0., 0., 0., 0., 0., 0., 0., 0., 0., 0., 0., 0., 0., 0., 0., 0.,\n",
       "          0., 0., 0., 0., 0., 0., 0., 0., 0., 0., 0., 0., 0., 0., 0., 0.,\n",
       "          0., 0., 0., 0., 0., 0., 0., 0., 0., 0., 0., 0., 0., 0., 0., 0.,\n",
       "          0., 0., 0., 0., 0., 0., 0., 0., 0., 0., 0., 0., 0., 0., 0., 0.,\n",
       "          0., 0., 0., 0., 0., 0., 0., 0., 0., 0., 0., 0., 0., 0., 0., 0.,\n",
       "          0., 0., 0., 0.]]),\n",
       "  'b': 0}]"
      ]
     },
     "execution_count": 54,
     "metadata": {},
     "output_type": "execute_result"
    }
   ],
   "source": [
    "models"
   ]
  },
  {
   "cell_type": "code",
   "execution_count": 55,
   "metadata": {},
   "outputs": [
    {
     "data": {
      "text/plain": [
       "[0, 1, 2, 3, 4, 5, 6, 7, 8, 9]"
      ]
     },
     "execution_count": 55,
     "metadata": {},
     "output_type": "execute_result"
    }
   ],
   "source": [
    "iter_num"
   ]
  },
  {
   "cell_type": "code",
   "execution_count": 56,
   "metadata": {},
   "outputs": [
    {
     "data": {
      "text/plain": [
       "[{'train_X': array([[ 1.16466313, -0.85136678,  0.60754434,  1.01140854, -0.44558325,\n",
       "          -0.86205304, -0.89143236, -0.86423715,  0.6904045 ,  1.07374723,\n",
       "          -1.06481792,  0.98529007, -1.08212632,  0.77566879, -0.52702774,\n",
       "          -0.8175529 , -0.99939957,  0.79013893,  0.87295672, -1.31960575,\n",
       "          -0.91973039, -1.1197026 , -0.99546646,  1.03286432,  0.86537465,\n",
       "          -1.13029204, -0.94901453,  1.02831266,  1.30860331, -0.92990649,\n",
       "           0.89128167,  0.68029733, -1.18022063,  0.90962759, -0.66285032,\n",
       "          -1.10048918,  1.24511478, -1.38671641, -1.09912637, -1.08839767,\n",
       "          -0.98777954, -0.97092239,  0.87812778, -1.35220668,  1.00373873,\n",
       "          -0.92776222,  1.17339146,  1.48312316,  0.68637814,  0.92625906,\n",
       "           0.90227196, -0.89650296, -1.03671097, -1.15218614,  0.98488907,\n",
       "          -0.93602521,  0.80634259, -0.74821928,  0.96608659,  1.07963598,\n",
       "           1.00090713, -1.21153725, -0.93410179, -1.06142179, -1.5036788 ,\n",
       "          -0.7343002 ,  0.77392239, -1.36245897,  0.91430916,  1.05806174,\n",
       "          -0.95815047, -0.87684136, -0.91018789,  1.15828889,  1.35629249,\n",
       "           1.03204315, -0.84588477, -1.04494938,  0.82849424,  0.84804404,\n",
       "           1.22888298, -1.34477928,  0.99450875, -0.59602853,  0.78905629,\n",
       "           1.22939922,  1.00195745,  1.17321422,  0.88203884,  0.79398084,\n",
       "          -0.7755786 ,  0.96815969,  0.90551258,  0.79412168, -0.78496736,\n",
       "          -0.80489104, -1.0512839 ,  1.02479485, -0.85986013,  1.37679909],\n",
       "         [ 0.43617802, -1.17112929,  0.85371564,  1.14797295, -1.02919521,\n",
       "          -0.96060702, -1.04573034, -1.11629973,  1.2368936 ,  0.95336627,\n",
       "          -1.34684031,  1.23335273, -1.11486648,  1.36415514, -1.41203315,\n",
       "          -0.92181347, -0.81284045,  0.77454708,  0.98105428, -0.93207176,\n",
       "          -0.915493  , -0.96384885, -1.04034917,  0.91298534,  0.82252019,\n",
       "          -1.53714457, -0.994697  ,  0.889082  ,  0.4922652 , -1.23730654,\n",
       "           1.09414932,  0.88975745, -1.203079  ,  0.76469031, -0.8928919 ,\n",
       "          -0.99506658,  1.01394468, -0.89820148, -1.11174346, -0.99908805,\n",
       "          -0.98841386, -1.27632672,  0.88169244, -0.84351298,  0.99857569,\n",
       "          -0.93943268,  1.08767598,  0.64645844,  1.02538974,  0.7535052 ,\n",
       "           0.92428008, -1.34955082, -0.82775018, -0.77997453,  1.11432778,\n",
       "          -1.01201771,  1.13310783, -0.51438394,  1.10633799,  0.90166501,\n",
       "           1.06619755, -0.76197228, -0.6709544 , -1.15153014, -0.68421233,\n",
       "          -1.03818064,  1.26202022, -0.89857594,  0.76696043,  0.98889428,\n",
       "          -0.83351269, -1.19301245, -0.87377691,  1.18726007,  1.14333375,\n",
       "           0.50108018, -0.79707359, -1.02400919,  0.7216279 ,  1.25543086,\n",
       "           1.32404392, -0.77083422,  1.17449672, -0.71328017,  0.87874187,\n",
       "           0.71537261,  1.45890481,  0.81206534,  1.16329911,  0.96798231,\n",
       "          -0.8855775 ,  0.82292325,  1.10722275,  1.05864922, -0.87642137,\n",
       "          -0.46329681, -1.23212002,  1.17658136, -0.72875762,  0.79406361]]),\n",
       "  'train_y': array([[-1,  1, -1, -1,  1,  1,  1,  1, -1, -1,  1, -1,  1, -1,  1,  1,\n",
       "           1, -1, -1,  1,  1,  1,  1, -1, -1,  1,  1, -1, -1,  1, -1, -1,\n",
       "           1, -1,  1,  1, -1,  1,  1,  1,  1,  1, -1,  1, -1,  1, -1, -1,\n",
       "          -1, -1, -1,  1,  1,  1, -1,  1, -1,  1, -1, -1, -1,  1,  1,  1,\n",
       "           1,  1, -1,  1, -1, -1,  1,  1,  1, -1, -1, -1,  1,  1, -1, -1,\n",
       "          -1,  1, -1,  1, -1, -1, -1, -1, -1, -1,  1, -1, -1, -1,  1,  1,\n",
       "           1, -1,  1, -1]], dtype=int64),\n",
       "  'n': 2,\n",
       "  'm': 100,\n",
       "  'C': 1,\n",
       "  'kernel_func': <function problem1.Gaussian_kernel(X1, X2, sigma=1)>,\n",
       "  'sigma': 0.1,\n",
       "  'alpha': array([[0., 1., 0., 0., 0., 0., 0., 0., 0., 0., 0., 0., 0., 0., 0., 0.,\n",
       "          0., 0., 0., 0., 0., 0., 0., 0., 0., 0., 0., 0., 0., 0., 0., 0.,\n",
       "          0., 0., 0., 0., 0., 0., 0., 0., 0., 0., 0., 0., 0., 0., 0., 0.,\n",
       "          0., 0., 0., 0., 0., 0., 0., 0., 0., 0., 0., 0., 0., 0., 0., 0.,\n",
       "          0., 0., 0., 0., 0., 0., 0., 0., 0., 0., 0., 0., 0., 0., 0., 0.,\n",
       "          0., 0., 0., 0., 0., 0., 0., 0., 0., 0., 0., 0., 0., 0., 0., 0.,\n",
       "          0., 0., 0., 0.]]),\n",
       "  'b': 0},\n",
       " {'train_X': array([[ 1.16466313, -0.85136678,  0.60754434,  1.01140854, -0.44558325,\n",
       "          -0.86205304, -0.89143236, -0.86423715,  0.6904045 ,  1.07374723,\n",
       "          -1.06481792,  0.98529007, -1.08212632,  0.77566879, -0.52702774,\n",
       "          -0.8175529 , -0.99939957,  0.79013893,  0.87295672, -1.31960575,\n",
       "          -0.91973039, -1.1197026 , -0.99546646,  1.03286432,  0.86537465,\n",
       "          -1.13029204, -0.94901453,  1.02831266,  1.30860331, -0.92990649,\n",
       "           0.89128167,  0.68029733, -1.18022063,  0.90962759, -0.66285032,\n",
       "          -1.10048918,  1.24511478, -1.38671641, -1.09912637, -1.08839767,\n",
       "          -0.98777954, -0.97092239,  0.87812778, -1.35220668,  1.00373873,\n",
       "          -0.92776222,  1.17339146,  1.48312316,  0.68637814,  0.92625906,\n",
       "           0.90227196, -0.89650296, -1.03671097, -1.15218614,  0.98488907,\n",
       "          -0.93602521,  0.80634259, -0.74821928,  0.96608659,  1.07963598,\n",
       "           1.00090713, -1.21153725, -0.93410179, -1.06142179, -1.5036788 ,\n",
       "          -0.7343002 ,  0.77392239, -1.36245897,  0.91430916,  1.05806174,\n",
       "          -0.95815047, -0.87684136, -0.91018789,  1.15828889,  1.35629249,\n",
       "           1.03204315, -0.84588477, -1.04494938,  0.82849424,  0.84804404,\n",
       "           1.22888298, -1.34477928,  0.99450875, -0.59602853,  0.78905629,\n",
       "           1.22939922,  1.00195745,  1.17321422,  0.88203884,  0.79398084,\n",
       "          -0.7755786 ,  0.96815969,  0.90551258,  0.79412168, -0.78496736,\n",
       "          -0.80489104, -1.0512839 ,  1.02479485, -0.85986013,  1.37679909],\n",
       "         [ 0.43617802, -1.17112929,  0.85371564,  1.14797295, -1.02919521,\n",
       "          -0.96060702, -1.04573034, -1.11629973,  1.2368936 ,  0.95336627,\n",
       "          -1.34684031,  1.23335273, -1.11486648,  1.36415514, -1.41203315,\n",
       "          -0.92181347, -0.81284045,  0.77454708,  0.98105428, -0.93207176,\n",
       "          -0.915493  , -0.96384885, -1.04034917,  0.91298534,  0.82252019,\n",
       "          -1.53714457, -0.994697  ,  0.889082  ,  0.4922652 , -1.23730654,\n",
       "           1.09414932,  0.88975745, -1.203079  ,  0.76469031, -0.8928919 ,\n",
       "          -0.99506658,  1.01394468, -0.89820148, -1.11174346, -0.99908805,\n",
       "          -0.98841386, -1.27632672,  0.88169244, -0.84351298,  0.99857569,\n",
       "          -0.93943268,  1.08767598,  0.64645844,  1.02538974,  0.7535052 ,\n",
       "           0.92428008, -1.34955082, -0.82775018, -0.77997453,  1.11432778,\n",
       "          -1.01201771,  1.13310783, -0.51438394,  1.10633799,  0.90166501,\n",
       "           1.06619755, -0.76197228, -0.6709544 , -1.15153014, -0.68421233,\n",
       "          -1.03818064,  1.26202022, -0.89857594,  0.76696043,  0.98889428,\n",
       "          -0.83351269, -1.19301245, -0.87377691,  1.18726007,  1.14333375,\n",
       "           0.50108018, -0.79707359, -1.02400919,  0.7216279 ,  1.25543086,\n",
       "           1.32404392, -0.77083422,  1.17449672, -0.71328017,  0.87874187,\n",
       "           0.71537261,  1.45890481,  0.81206534,  1.16329911,  0.96798231,\n",
       "          -0.8855775 ,  0.82292325,  1.10722275,  1.05864922, -0.87642137,\n",
       "          -0.46329681, -1.23212002,  1.17658136, -0.72875762,  0.79406361]]),\n",
       "  'train_y': array([[-1,  1, -1, -1,  1,  1,  1,  1, -1, -1,  1, -1,  1, -1,  1,  1,\n",
       "           1, -1, -1,  1,  1,  1,  1, -1, -1,  1,  1, -1, -1,  1, -1, -1,\n",
       "           1, -1,  1,  1, -1,  1,  1,  1,  1,  1, -1,  1, -1,  1, -1, -1,\n",
       "          -1, -1, -1,  1,  1,  1, -1,  1, -1,  1, -1, -1, -1,  1,  1,  1,\n",
       "           1,  1, -1,  1, -1, -1,  1,  1,  1, -1, -1, -1,  1,  1, -1, -1,\n",
       "          -1,  1, -1,  1, -1, -1, -1, -1, -1, -1,  1, -1, -1, -1,  1,  1,\n",
       "           1, -1,  1, -1]], dtype=int64),\n",
       "  'n': 2,\n",
       "  'm': 100,\n",
       "  'C': 1,\n",
       "  'kernel_func': <function problem1.Gaussian_kernel(X1, X2, sigma=1)>,\n",
       "  'sigma': 0.1,\n",
       "  'alpha': array([[0., 1., 0., 0., 0., 0., 0., 0., 0., 0., 0., 0., 0., 0., 0., 0.,\n",
       "          0., 0., 0., 0., 0., 0., 0., 0., 0., 0., 0., 0., 0., 0., 0., 0.,\n",
       "          0., 0., 0., 0., 0., 0., 0., 0., 0., 0., 0., 0., 0., 0., 0., 0.,\n",
       "          0., 0., 0., 0., 0., 0., 0., 0., 0., 0., 0., 0., 0., 0., 0., 0.,\n",
       "          0., 0., 0., 0., 0., 0., 0., 0., 0., 0., 0., 0., 0., 0., 0., 0.,\n",
       "          0., 0., 0., 0., 0., 0., 0., 0., 0., 0., 0., 0., 0., 0., 0., 0.,\n",
       "          0., 0., 0., 0.]]),\n",
       "  'b': 0},\n",
       " {'train_X': array([[ 1.16466313, -0.85136678,  0.60754434,  1.01140854, -0.44558325,\n",
       "          -0.86205304, -0.89143236, -0.86423715,  0.6904045 ,  1.07374723,\n",
       "          -1.06481792,  0.98529007, -1.08212632,  0.77566879, -0.52702774,\n",
       "          -0.8175529 , -0.99939957,  0.79013893,  0.87295672, -1.31960575,\n",
       "          -0.91973039, -1.1197026 , -0.99546646,  1.03286432,  0.86537465,\n",
       "          -1.13029204, -0.94901453,  1.02831266,  1.30860331, -0.92990649,\n",
       "           0.89128167,  0.68029733, -1.18022063,  0.90962759, -0.66285032,\n",
       "          -1.10048918,  1.24511478, -1.38671641, -1.09912637, -1.08839767,\n",
       "          -0.98777954, -0.97092239,  0.87812778, -1.35220668,  1.00373873,\n",
       "          -0.92776222,  1.17339146,  1.48312316,  0.68637814,  0.92625906,\n",
       "           0.90227196, -0.89650296, -1.03671097, -1.15218614,  0.98488907,\n",
       "          -0.93602521,  0.80634259, -0.74821928,  0.96608659,  1.07963598,\n",
       "           1.00090713, -1.21153725, -0.93410179, -1.06142179, -1.5036788 ,\n",
       "          -0.7343002 ,  0.77392239, -1.36245897,  0.91430916,  1.05806174,\n",
       "          -0.95815047, -0.87684136, -0.91018789,  1.15828889,  1.35629249,\n",
       "           1.03204315, -0.84588477, -1.04494938,  0.82849424,  0.84804404,\n",
       "           1.22888298, -1.34477928,  0.99450875, -0.59602853,  0.78905629,\n",
       "           1.22939922,  1.00195745,  1.17321422,  0.88203884,  0.79398084,\n",
       "          -0.7755786 ,  0.96815969,  0.90551258,  0.79412168, -0.78496736,\n",
       "          -0.80489104, -1.0512839 ,  1.02479485, -0.85986013,  1.37679909],\n",
       "         [ 0.43617802, -1.17112929,  0.85371564,  1.14797295, -1.02919521,\n",
       "          -0.96060702, -1.04573034, -1.11629973,  1.2368936 ,  0.95336627,\n",
       "          -1.34684031,  1.23335273, -1.11486648,  1.36415514, -1.41203315,\n",
       "          -0.92181347, -0.81284045,  0.77454708,  0.98105428, -0.93207176,\n",
       "          -0.915493  , -0.96384885, -1.04034917,  0.91298534,  0.82252019,\n",
       "          -1.53714457, -0.994697  ,  0.889082  ,  0.4922652 , -1.23730654,\n",
       "           1.09414932,  0.88975745, -1.203079  ,  0.76469031, -0.8928919 ,\n",
       "          -0.99506658,  1.01394468, -0.89820148, -1.11174346, -0.99908805,\n",
       "          -0.98841386, -1.27632672,  0.88169244, -0.84351298,  0.99857569,\n",
       "          -0.93943268,  1.08767598,  0.64645844,  1.02538974,  0.7535052 ,\n",
       "           0.92428008, -1.34955082, -0.82775018, -0.77997453,  1.11432778,\n",
       "          -1.01201771,  1.13310783, -0.51438394,  1.10633799,  0.90166501,\n",
       "           1.06619755, -0.76197228, -0.6709544 , -1.15153014, -0.68421233,\n",
       "          -1.03818064,  1.26202022, -0.89857594,  0.76696043,  0.98889428,\n",
       "          -0.83351269, -1.19301245, -0.87377691,  1.18726007,  1.14333375,\n",
       "           0.50108018, -0.79707359, -1.02400919,  0.7216279 ,  1.25543086,\n",
       "           1.32404392, -0.77083422,  1.17449672, -0.71328017,  0.87874187,\n",
       "           0.71537261,  1.45890481,  0.81206534,  1.16329911,  0.96798231,\n",
       "          -0.8855775 ,  0.82292325,  1.10722275,  1.05864922, -0.87642137,\n",
       "          -0.46329681, -1.23212002,  1.17658136, -0.72875762,  0.79406361]]),\n",
       "  'train_y': array([[-1,  1, -1, -1,  1,  1,  1,  1, -1, -1,  1, -1,  1, -1,  1,  1,\n",
       "           1, -1, -1,  1,  1,  1,  1, -1, -1,  1,  1, -1, -1,  1, -1, -1,\n",
       "           1, -1,  1,  1, -1,  1,  1,  1,  1,  1, -1,  1, -1,  1, -1, -1,\n",
       "          -1, -1, -1,  1,  1,  1, -1,  1, -1,  1, -1, -1, -1,  1,  1,  1,\n",
       "           1,  1, -1,  1, -1, -1,  1,  1,  1, -1, -1, -1,  1,  1, -1, -1,\n",
       "          -1,  1, -1,  1, -1, -1, -1, -1, -1, -1,  1, -1, -1, -1,  1,  1,\n",
       "           1, -1,  1, -1]], dtype=int64),\n",
       "  'n': 2,\n",
       "  'm': 100,\n",
       "  'C': 1,\n",
       "  'kernel_func': <function problem1.Gaussian_kernel(X1, X2, sigma=1)>,\n",
       "  'sigma': 0.1,\n",
       "  'alpha': array([[0., 1., 0., 0., 0., 0., 0., 0., 0., 0., 0., 0., 0., 0., 0., 0.,\n",
       "          0., 0., 0., 0., 0., 0., 0., 0., 0., 0., 0., 0., 0., 0., 0., 0.,\n",
       "          0., 0., 0., 0., 0., 0., 0., 0., 0., 0., 0., 0., 0., 0., 0., 0.,\n",
       "          0., 0., 0., 0., 0., 0., 0., 0., 0., 0., 0., 0., 0., 0., 0., 0.,\n",
       "          0., 0., 0., 0., 0., 0., 0., 0., 0., 0., 0., 0., 0., 0., 0., 0.,\n",
       "          0., 0., 0., 0., 0., 0., 0., 0., 0., 0., 0., 0., 0., 0., 0., 0.,\n",
       "          0., 0., 0., 0.]]),\n",
       "  'b': 0},\n",
       " {'train_X': array([[ 1.16466313, -0.85136678,  0.60754434,  1.01140854, -0.44558325,\n",
       "          -0.86205304, -0.89143236, -0.86423715,  0.6904045 ,  1.07374723,\n",
       "          -1.06481792,  0.98529007, -1.08212632,  0.77566879, -0.52702774,\n",
       "          -0.8175529 , -0.99939957,  0.79013893,  0.87295672, -1.31960575,\n",
       "          -0.91973039, -1.1197026 , -0.99546646,  1.03286432,  0.86537465,\n",
       "          -1.13029204, -0.94901453,  1.02831266,  1.30860331, -0.92990649,\n",
       "           0.89128167,  0.68029733, -1.18022063,  0.90962759, -0.66285032,\n",
       "          -1.10048918,  1.24511478, -1.38671641, -1.09912637, -1.08839767,\n",
       "          -0.98777954, -0.97092239,  0.87812778, -1.35220668,  1.00373873,\n",
       "          -0.92776222,  1.17339146,  1.48312316,  0.68637814,  0.92625906,\n",
       "           0.90227196, -0.89650296, -1.03671097, -1.15218614,  0.98488907,\n",
       "          -0.93602521,  0.80634259, -0.74821928,  0.96608659,  1.07963598,\n",
       "           1.00090713, -1.21153725, -0.93410179, -1.06142179, -1.5036788 ,\n",
       "          -0.7343002 ,  0.77392239, -1.36245897,  0.91430916,  1.05806174,\n",
       "          -0.95815047, -0.87684136, -0.91018789,  1.15828889,  1.35629249,\n",
       "           1.03204315, -0.84588477, -1.04494938,  0.82849424,  0.84804404,\n",
       "           1.22888298, -1.34477928,  0.99450875, -0.59602853,  0.78905629,\n",
       "           1.22939922,  1.00195745,  1.17321422,  0.88203884,  0.79398084,\n",
       "          -0.7755786 ,  0.96815969,  0.90551258,  0.79412168, -0.78496736,\n",
       "          -0.80489104, -1.0512839 ,  1.02479485, -0.85986013,  1.37679909],\n",
       "         [ 0.43617802, -1.17112929,  0.85371564,  1.14797295, -1.02919521,\n",
       "          -0.96060702, -1.04573034, -1.11629973,  1.2368936 ,  0.95336627,\n",
       "          -1.34684031,  1.23335273, -1.11486648,  1.36415514, -1.41203315,\n",
       "          -0.92181347, -0.81284045,  0.77454708,  0.98105428, -0.93207176,\n",
       "          -0.915493  , -0.96384885, -1.04034917,  0.91298534,  0.82252019,\n",
       "          -1.53714457, -0.994697  ,  0.889082  ,  0.4922652 , -1.23730654,\n",
       "           1.09414932,  0.88975745, -1.203079  ,  0.76469031, -0.8928919 ,\n",
       "          -0.99506658,  1.01394468, -0.89820148, -1.11174346, -0.99908805,\n",
       "          -0.98841386, -1.27632672,  0.88169244, -0.84351298,  0.99857569,\n",
       "          -0.93943268,  1.08767598,  0.64645844,  1.02538974,  0.7535052 ,\n",
       "           0.92428008, -1.34955082, -0.82775018, -0.77997453,  1.11432778,\n",
       "          -1.01201771,  1.13310783, -0.51438394,  1.10633799,  0.90166501,\n",
       "           1.06619755, -0.76197228, -0.6709544 , -1.15153014, -0.68421233,\n",
       "          -1.03818064,  1.26202022, -0.89857594,  0.76696043,  0.98889428,\n",
       "          -0.83351269, -1.19301245, -0.87377691,  1.18726007,  1.14333375,\n",
       "           0.50108018, -0.79707359, -1.02400919,  0.7216279 ,  1.25543086,\n",
       "           1.32404392, -0.77083422,  1.17449672, -0.71328017,  0.87874187,\n",
       "           0.71537261,  1.45890481,  0.81206534,  1.16329911,  0.96798231,\n",
       "          -0.8855775 ,  0.82292325,  1.10722275,  1.05864922, -0.87642137,\n",
       "          -0.46329681, -1.23212002,  1.17658136, -0.72875762,  0.79406361]]),\n",
       "  'train_y': array([[-1,  1, -1, -1,  1,  1,  1,  1, -1, -1,  1, -1,  1, -1,  1,  1,\n",
       "           1, -1, -1,  1,  1,  1,  1, -1, -1,  1,  1, -1, -1,  1, -1, -1,\n",
       "           1, -1,  1,  1, -1,  1,  1,  1,  1,  1, -1,  1, -1,  1, -1, -1,\n",
       "          -1, -1, -1,  1,  1,  1, -1,  1, -1,  1, -1, -1, -1,  1,  1,  1,\n",
       "           1,  1, -1,  1, -1, -1,  1,  1,  1, -1, -1, -1,  1,  1, -1, -1,\n",
       "          -1,  1, -1,  1, -1, -1, -1, -1, -1, -1,  1, -1, -1, -1,  1,  1,\n",
       "           1, -1,  1, -1]], dtype=int64),\n",
       "  'n': 2,\n",
       "  'm': 100,\n",
       "  'C': 1,\n",
       "  'kernel_func': <function problem1.Gaussian_kernel(X1, X2, sigma=1)>,\n",
       "  'sigma': 0.1,\n",
       "  'alpha': array([[0., 1., 0., 0., 0., 0., 0., 0., 0., 0., 0., 0., 0., 0., 0., 0.,\n",
       "          0., 0., 0., 0., 0., 0., 0., 0., 0., 0., 0., 0., 0., 0., 0., 0.,\n",
       "          0., 0., 0., 0., 0., 0., 0., 0., 0., 0., 0., 0., 0., 0., 0., 0.,\n",
       "          0., 0., 0., 0., 0., 0., 0., 0., 0., 0., 0., 0., 0., 0., 0., 0.,\n",
       "          0., 0., 0., 0., 0., 0., 0., 0., 0., 0., 0., 0., 0., 0., 0., 0.,\n",
       "          0., 0., 0., 0., 0., 0., 0., 0., 0., 0., 0., 0., 0., 0., 0., 0.,\n",
       "          0., 0., 0., 0.]]),\n",
       "  'b': 0},\n",
       " {'train_X': array([[ 1.16466313, -0.85136678,  0.60754434,  1.01140854, -0.44558325,\n",
       "          -0.86205304, -0.89143236, -0.86423715,  0.6904045 ,  1.07374723,\n",
       "          -1.06481792,  0.98529007, -1.08212632,  0.77566879, -0.52702774,\n",
       "          -0.8175529 , -0.99939957,  0.79013893,  0.87295672, -1.31960575,\n",
       "          -0.91973039, -1.1197026 , -0.99546646,  1.03286432,  0.86537465,\n",
       "          -1.13029204, -0.94901453,  1.02831266,  1.30860331, -0.92990649,\n",
       "           0.89128167,  0.68029733, -1.18022063,  0.90962759, -0.66285032,\n",
       "          -1.10048918,  1.24511478, -1.38671641, -1.09912637, -1.08839767,\n",
       "          -0.98777954, -0.97092239,  0.87812778, -1.35220668,  1.00373873,\n",
       "          -0.92776222,  1.17339146,  1.48312316,  0.68637814,  0.92625906,\n",
       "           0.90227196, -0.89650296, -1.03671097, -1.15218614,  0.98488907,\n",
       "          -0.93602521,  0.80634259, -0.74821928,  0.96608659,  1.07963598,\n",
       "           1.00090713, -1.21153725, -0.93410179, -1.06142179, -1.5036788 ,\n",
       "          -0.7343002 ,  0.77392239, -1.36245897,  0.91430916,  1.05806174,\n",
       "          -0.95815047, -0.87684136, -0.91018789,  1.15828889,  1.35629249,\n",
       "           1.03204315, -0.84588477, -1.04494938,  0.82849424,  0.84804404,\n",
       "           1.22888298, -1.34477928,  0.99450875, -0.59602853,  0.78905629,\n",
       "           1.22939922,  1.00195745,  1.17321422,  0.88203884,  0.79398084,\n",
       "          -0.7755786 ,  0.96815969,  0.90551258,  0.79412168, -0.78496736,\n",
       "          -0.80489104, -1.0512839 ,  1.02479485, -0.85986013,  1.37679909],\n",
       "         [ 0.43617802, -1.17112929,  0.85371564,  1.14797295, -1.02919521,\n",
       "          -0.96060702, -1.04573034, -1.11629973,  1.2368936 ,  0.95336627,\n",
       "          -1.34684031,  1.23335273, -1.11486648,  1.36415514, -1.41203315,\n",
       "          -0.92181347, -0.81284045,  0.77454708,  0.98105428, -0.93207176,\n",
       "          -0.915493  , -0.96384885, -1.04034917,  0.91298534,  0.82252019,\n",
       "          -1.53714457, -0.994697  ,  0.889082  ,  0.4922652 , -1.23730654,\n",
       "           1.09414932,  0.88975745, -1.203079  ,  0.76469031, -0.8928919 ,\n",
       "          -0.99506658,  1.01394468, -0.89820148, -1.11174346, -0.99908805,\n",
       "          -0.98841386, -1.27632672,  0.88169244, -0.84351298,  0.99857569,\n",
       "          -0.93943268,  1.08767598,  0.64645844,  1.02538974,  0.7535052 ,\n",
       "           0.92428008, -1.34955082, -0.82775018, -0.77997453,  1.11432778,\n",
       "          -1.01201771,  1.13310783, -0.51438394,  1.10633799,  0.90166501,\n",
       "           1.06619755, -0.76197228, -0.6709544 , -1.15153014, -0.68421233,\n",
       "          -1.03818064,  1.26202022, -0.89857594,  0.76696043,  0.98889428,\n",
       "          -0.83351269, -1.19301245, -0.87377691,  1.18726007,  1.14333375,\n",
       "           0.50108018, -0.79707359, -1.02400919,  0.7216279 ,  1.25543086,\n",
       "           1.32404392, -0.77083422,  1.17449672, -0.71328017,  0.87874187,\n",
       "           0.71537261,  1.45890481,  0.81206534,  1.16329911,  0.96798231,\n",
       "          -0.8855775 ,  0.82292325,  1.10722275,  1.05864922, -0.87642137,\n",
       "          -0.46329681, -1.23212002,  1.17658136, -0.72875762,  0.79406361]]),\n",
       "  'train_y': array([[-1,  1, -1, -1,  1,  1,  1,  1, -1, -1,  1, -1,  1, -1,  1,  1,\n",
       "           1, -1, -1,  1,  1,  1,  1, -1, -1,  1,  1, -1, -1,  1, -1, -1,\n",
       "           1, -1,  1,  1, -1,  1,  1,  1,  1,  1, -1,  1, -1,  1, -1, -1,\n",
       "          -1, -1, -1,  1,  1,  1, -1,  1, -1,  1, -1, -1, -1,  1,  1,  1,\n",
       "           1,  1, -1,  1, -1, -1,  1,  1,  1, -1, -1, -1,  1,  1, -1, -1,\n",
       "          -1,  1, -1,  1, -1, -1, -1, -1, -1, -1,  1, -1, -1, -1,  1,  1,\n",
       "           1, -1,  1, -1]], dtype=int64),\n",
       "  'n': 2,\n",
       "  'm': 100,\n",
       "  'C': 1,\n",
       "  'kernel_func': <function problem1.Gaussian_kernel(X1, X2, sigma=1)>,\n",
       "  'sigma': 0.1,\n",
       "  'alpha': array([[0., 1., 0., 0., 0., 0., 0., 0., 0., 0., 0., 0., 0., 0., 0., 0.,\n",
       "          0., 0., 0., 0., 0., 0., 0., 0., 0., 0., 0., 0., 0., 0., 0., 0.,\n",
       "          0., 0., 0., 0., 0., 0., 0., 0., 0., 0., 0., 0., 0., 0., 0., 0.,\n",
       "          0., 0., 0., 0., 0., 0., 0., 0., 0., 0., 0., 0., 0., 0., 0., 0.,\n",
       "          0., 0., 0., 0., 0., 0., 0., 0., 0., 0., 0., 0., 0., 0., 0., 0.,\n",
       "          0., 0., 0., 0., 0., 0., 0., 0., 0., 0., 0., 0., 0., 0., 0., 0.,\n",
       "          0., 0., 0., 0.]]),\n",
       "  'b': 0},\n",
       " {'train_X': array([[ 1.16466313, -0.85136678,  0.60754434,  1.01140854, -0.44558325,\n",
       "          -0.86205304, -0.89143236, -0.86423715,  0.6904045 ,  1.07374723,\n",
       "          -1.06481792,  0.98529007, -1.08212632,  0.77566879, -0.52702774,\n",
       "          -0.8175529 , -0.99939957,  0.79013893,  0.87295672, -1.31960575,\n",
       "          -0.91973039, -1.1197026 , -0.99546646,  1.03286432,  0.86537465,\n",
       "          -1.13029204, -0.94901453,  1.02831266,  1.30860331, -0.92990649,\n",
       "           0.89128167,  0.68029733, -1.18022063,  0.90962759, -0.66285032,\n",
       "          -1.10048918,  1.24511478, -1.38671641, -1.09912637, -1.08839767,\n",
       "          -0.98777954, -0.97092239,  0.87812778, -1.35220668,  1.00373873,\n",
       "          -0.92776222,  1.17339146,  1.48312316,  0.68637814,  0.92625906,\n",
       "           0.90227196, -0.89650296, -1.03671097, -1.15218614,  0.98488907,\n",
       "          -0.93602521,  0.80634259, -0.74821928,  0.96608659,  1.07963598,\n",
       "           1.00090713, -1.21153725, -0.93410179, -1.06142179, -1.5036788 ,\n",
       "          -0.7343002 ,  0.77392239, -1.36245897,  0.91430916,  1.05806174,\n",
       "          -0.95815047, -0.87684136, -0.91018789,  1.15828889,  1.35629249,\n",
       "           1.03204315, -0.84588477, -1.04494938,  0.82849424,  0.84804404,\n",
       "           1.22888298, -1.34477928,  0.99450875, -0.59602853,  0.78905629,\n",
       "           1.22939922,  1.00195745,  1.17321422,  0.88203884,  0.79398084,\n",
       "          -0.7755786 ,  0.96815969,  0.90551258,  0.79412168, -0.78496736,\n",
       "          -0.80489104, -1.0512839 ,  1.02479485, -0.85986013,  1.37679909],\n",
       "         [ 0.43617802, -1.17112929,  0.85371564,  1.14797295, -1.02919521,\n",
       "          -0.96060702, -1.04573034, -1.11629973,  1.2368936 ,  0.95336627,\n",
       "          -1.34684031,  1.23335273, -1.11486648,  1.36415514, -1.41203315,\n",
       "          -0.92181347, -0.81284045,  0.77454708,  0.98105428, -0.93207176,\n",
       "          -0.915493  , -0.96384885, -1.04034917,  0.91298534,  0.82252019,\n",
       "          -1.53714457, -0.994697  ,  0.889082  ,  0.4922652 , -1.23730654,\n",
       "           1.09414932,  0.88975745, -1.203079  ,  0.76469031, -0.8928919 ,\n",
       "          -0.99506658,  1.01394468, -0.89820148, -1.11174346, -0.99908805,\n",
       "          -0.98841386, -1.27632672,  0.88169244, -0.84351298,  0.99857569,\n",
       "          -0.93943268,  1.08767598,  0.64645844,  1.02538974,  0.7535052 ,\n",
       "           0.92428008, -1.34955082, -0.82775018, -0.77997453,  1.11432778,\n",
       "          -1.01201771,  1.13310783, -0.51438394,  1.10633799,  0.90166501,\n",
       "           1.06619755, -0.76197228, -0.6709544 , -1.15153014, -0.68421233,\n",
       "          -1.03818064,  1.26202022, -0.89857594,  0.76696043,  0.98889428,\n",
       "          -0.83351269, -1.19301245, -0.87377691,  1.18726007,  1.14333375,\n",
       "           0.50108018, -0.79707359, -1.02400919,  0.7216279 ,  1.25543086,\n",
       "           1.32404392, -0.77083422,  1.17449672, -0.71328017,  0.87874187,\n",
       "           0.71537261,  1.45890481,  0.81206534,  1.16329911,  0.96798231,\n",
       "          -0.8855775 ,  0.82292325,  1.10722275,  1.05864922, -0.87642137,\n",
       "          -0.46329681, -1.23212002,  1.17658136, -0.72875762,  0.79406361]]),\n",
       "  'train_y': array([[-1,  1, -1, -1,  1,  1,  1,  1, -1, -1,  1, -1,  1, -1,  1,  1,\n",
       "           1, -1, -1,  1,  1,  1,  1, -1, -1,  1,  1, -1, -1,  1, -1, -1,\n",
       "           1, -1,  1,  1, -1,  1,  1,  1,  1,  1, -1,  1, -1,  1, -1, -1,\n",
       "          -1, -1, -1,  1,  1,  1, -1,  1, -1,  1, -1, -1, -1,  1,  1,  1,\n",
       "           1,  1, -1,  1, -1, -1,  1,  1,  1, -1, -1, -1,  1,  1, -1, -1,\n",
       "          -1,  1, -1,  1, -1, -1, -1, -1, -1, -1,  1, -1, -1, -1,  1,  1,\n",
       "           1, -1,  1, -1]], dtype=int64),\n",
       "  'n': 2,\n",
       "  'm': 100,\n",
       "  'C': 1,\n",
       "  'kernel_func': <function problem1.Gaussian_kernel(X1, X2, sigma=1)>,\n",
       "  'sigma': 0.1,\n",
       "  'alpha': array([[0., 1., 0., 0., 0., 0., 0., 0., 0., 0., 0., 0., 0., 0., 0., 0.,\n",
       "          0., 0., 0., 0., 0., 0., 0., 0., 0., 0., 0., 0., 0., 0., 0., 0.,\n",
       "          0., 0., 0., 0., 0., 0., 0., 0., 0., 0., 0., 0., 0., 0., 0., 0.,\n",
       "          0., 0., 0., 0., 0., 0., 0., 0., 0., 0., 0., 0., 0., 0., 0., 0.,\n",
       "          0., 0., 0., 0., 0., 0., 0., 0., 0., 0., 0., 0., 0., 0., 0., 0.,\n",
       "          0., 0., 0., 0., 0., 0., 0., 0., 0., 0., 0., 0., 0., 0., 0., 0.,\n",
       "          0., 0., 0., 0.]]),\n",
       "  'b': 0},\n",
       " {'train_X': array([[ 1.16466313, -0.85136678,  0.60754434,  1.01140854, -0.44558325,\n",
       "          -0.86205304, -0.89143236, -0.86423715,  0.6904045 ,  1.07374723,\n",
       "          -1.06481792,  0.98529007, -1.08212632,  0.77566879, -0.52702774,\n",
       "          -0.8175529 , -0.99939957,  0.79013893,  0.87295672, -1.31960575,\n",
       "          -0.91973039, -1.1197026 , -0.99546646,  1.03286432,  0.86537465,\n",
       "          -1.13029204, -0.94901453,  1.02831266,  1.30860331, -0.92990649,\n",
       "           0.89128167,  0.68029733, -1.18022063,  0.90962759, -0.66285032,\n",
       "          -1.10048918,  1.24511478, -1.38671641, -1.09912637, -1.08839767,\n",
       "          -0.98777954, -0.97092239,  0.87812778, -1.35220668,  1.00373873,\n",
       "          -0.92776222,  1.17339146,  1.48312316,  0.68637814,  0.92625906,\n",
       "           0.90227196, -0.89650296, -1.03671097, -1.15218614,  0.98488907,\n",
       "          -0.93602521,  0.80634259, -0.74821928,  0.96608659,  1.07963598,\n",
       "           1.00090713, -1.21153725, -0.93410179, -1.06142179, -1.5036788 ,\n",
       "          -0.7343002 ,  0.77392239, -1.36245897,  0.91430916,  1.05806174,\n",
       "          -0.95815047, -0.87684136, -0.91018789,  1.15828889,  1.35629249,\n",
       "           1.03204315, -0.84588477, -1.04494938,  0.82849424,  0.84804404,\n",
       "           1.22888298, -1.34477928,  0.99450875, -0.59602853,  0.78905629,\n",
       "           1.22939922,  1.00195745,  1.17321422,  0.88203884,  0.79398084,\n",
       "          -0.7755786 ,  0.96815969,  0.90551258,  0.79412168, -0.78496736,\n",
       "          -0.80489104, -1.0512839 ,  1.02479485, -0.85986013,  1.37679909],\n",
       "         [ 0.43617802, -1.17112929,  0.85371564,  1.14797295, -1.02919521,\n",
       "          -0.96060702, -1.04573034, -1.11629973,  1.2368936 ,  0.95336627,\n",
       "          -1.34684031,  1.23335273, -1.11486648,  1.36415514, -1.41203315,\n",
       "          -0.92181347, -0.81284045,  0.77454708,  0.98105428, -0.93207176,\n",
       "          -0.915493  , -0.96384885, -1.04034917,  0.91298534,  0.82252019,\n",
       "          -1.53714457, -0.994697  ,  0.889082  ,  0.4922652 , -1.23730654,\n",
       "           1.09414932,  0.88975745, -1.203079  ,  0.76469031, -0.8928919 ,\n",
       "          -0.99506658,  1.01394468, -0.89820148, -1.11174346, -0.99908805,\n",
       "          -0.98841386, -1.27632672,  0.88169244, -0.84351298,  0.99857569,\n",
       "          -0.93943268,  1.08767598,  0.64645844,  1.02538974,  0.7535052 ,\n",
       "           0.92428008, -1.34955082, -0.82775018, -0.77997453,  1.11432778,\n",
       "          -1.01201771,  1.13310783, -0.51438394,  1.10633799,  0.90166501,\n",
       "           1.06619755, -0.76197228, -0.6709544 , -1.15153014, -0.68421233,\n",
       "          -1.03818064,  1.26202022, -0.89857594,  0.76696043,  0.98889428,\n",
       "          -0.83351269, -1.19301245, -0.87377691,  1.18726007,  1.14333375,\n",
       "           0.50108018, -0.79707359, -1.02400919,  0.7216279 ,  1.25543086,\n",
       "           1.32404392, -0.77083422,  1.17449672, -0.71328017,  0.87874187,\n",
       "           0.71537261,  1.45890481,  0.81206534,  1.16329911,  0.96798231,\n",
       "          -0.8855775 ,  0.82292325,  1.10722275,  1.05864922, -0.87642137,\n",
       "          -0.46329681, -1.23212002,  1.17658136, -0.72875762,  0.79406361]]),\n",
       "  'train_y': array([[-1,  1, -1, -1,  1,  1,  1,  1, -1, -1,  1, -1,  1, -1,  1,  1,\n",
       "           1, -1, -1,  1,  1,  1,  1, -1, -1,  1,  1, -1, -1,  1, -1, -1,\n",
       "           1, -1,  1,  1, -1,  1,  1,  1,  1,  1, -1,  1, -1,  1, -1, -1,\n",
       "          -1, -1, -1,  1,  1,  1, -1,  1, -1,  1, -1, -1, -1,  1,  1,  1,\n",
       "           1,  1, -1,  1, -1, -1,  1,  1,  1, -1, -1, -1,  1,  1, -1, -1,\n",
       "          -1,  1, -1,  1, -1, -1, -1, -1, -1, -1,  1, -1, -1, -1,  1,  1,\n",
       "           1, -1,  1, -1]], dtype=int64),\n",
       "  'n': 2,\n",
       "  'm': 100,\n",
       "  'C': 1,\n",
       "  'kernel_func': <function problem1.Gaussian_kernel(X1, X2, sigma=1)>,\n",
       "  'sigma': 0.1,\n",
       "  'alpha': array([[0., 1., 0., 0., 0., 0., 0., 0., 0., 0., 0., 0., 0., 0., 0., 0.,\n",
       "          0., 0., 0., 0., 0., 0., 0., 0., 0., 0., 0., 0., 0., 0., 0., 0.,\n",
       "          0., 0., 0., 0., 0., 0., 0., 0., 0., 0., 0., 0., 0., 0., 0., 0.,\n",
       "          0., 0., 0., 0., 0., 0., 0., 0., 0., 0., 0., 0., 0., 0., 0., 0.,\n",
       "          0., 0., 0., 0., 0., 0., 0., 0., 0., 0., 0., 0., 0., 0., 0., 0.,\n",
       "          0., 0., 0., 0., 0., 0., 0., 0., 0., 0., 0., 0., 0., 0., 0., 0.,\n",
       "          0., 0., 0., 0.]]),\n",
       "  'b': 0},\n",
       " {'train_X': array([[ 1.16466313, -0.85136678,  0.60754434,  1.01140854, -0.44558325,\n",
       "          -0.86205304, -0.89143236, -0.86423715,  0.6904045 ,  1.07374723,\n",
       "          -1.06481792,  0.98529007, -1.08212632,  0.77566879, -0.52702774,\n",
       "          -0.8175529 , -0.99939957,  0.79013893,  0.87295672, -1.31960575,\n",
       "          -0.91973039, -1.1197026 , -0.99546646,  1.03286432,  0.86537465,\n",
       "          -1.13029204, -0.94901453,  1.02831266,  1.30860331, -0.92990649,\n",
       "           0.89128167,  0.68029733, -1.18022063,  0.90962759, -0.66285032,\n",
       "          -1.10048918,  1.24511478, -1.38671641, -1.09912637, -1.08839767,\n",
       "          -0.98777954, -0.97092239,  0.87812778, -1.35220668,  1.00373873,\n",
       "          -0.92776222,  1.17339146,  1.48312316,  0.68637814,  0.92625906,\n",
       "           0.90227196, -0.89650296, -1.03671097, -1.15218614,  0.98488907,\n",
       "          -0.93602521,  0.80634259, -0.74821928,  0.96608659,  1.07963598,\n",
       "           1.00090713, -1.21153725, -0.93410179, -1.06142179, -1.5036788 ,\n",
       "          -0.7343002 ,  0.77392239, -1.36245897,  0.91430916,  1.05806174,\n",
       "          -0.95815047, -0.87684136, -0.91018789,  1.15828889,  1.35629249,\n",
       "           1.03204315, -0.84588477, -1.04494938,  0.82849424,  0.84804404,\n",
       "           1.22888298, -1.34477928,  0.99450875, -0.59602853,  0.78905629,\n",
       "           1.22939922,  1.00195745,  1.17321422,  0.88203884,  0.79398084,\n",
       "          -0.7755786 ,  0.96815969,  0.90551258,  0.79412168, -0.78496736,\n",
       "          -0.80489104, -1.0512839 ,  1.02479485, -0.85986013,  1.37679909],\n",
       "         [ 0.43617802, -1.17112929,  0.85371564,  1.14797295, -1.02919521,\n",
       "          -0.96060702, -1.04573034, -1.11629973,  1.2368936 ,  0.95336627,\n",
       "          -1.34684031,  1.23335273, -1.11486648,  1.36415514, -1.41203315,\n",
       "          -0.92181347, -0.81284045,  0.77454708,  0.98105428, -0.93207176,\n",
       "          -0.915493  , -0.96384885, -1.04034917,  0.91298534,  0.82252019,\n",
       "          -1.53714457, -0.994697  ,  0.889082  ,  0.4922652 , -1.23730654,\n",
       "           1.09414932,  0.88975745, -1.203079  ,  0.76469031, -0.8928919 ,\n",
       "          -0.99506658,  1.01394468, -0.89820148, -1.11174346, -0.99908805,\n",
       "          -0.98841386, -1.27632672,  0.88169244, -0.84351298,  0.99857569,\n",
       "          -0.93943268,  1.08767598,  0.64645844,  1.02538974,  0.7535052 ,\n",
       "           0.92428008, -1.34955082, -0.82775018, -0.77997453,  1.11432778,\n",
       "          -1.01201771,  1.13310783, -0.51438394,  1.10633799,  0.90166501,\n",
       "           1.06619755, -0.76197228, -0.6709544 , -1.15153014, -0.68421233,\n",
       "          -1.03818064,  1.26202022, -0.89857594,  0.76696043,  0.98889428,\n",
       "          -0.83351269, -1.19301245, -0.87377691,  1.18726007,  1.14333375,\n",
       "           0.50108018, -0.79707359, -1.02400919,  0.7216279 ,  1.25543086,\n",
       "           1.32404392, -0.77083422,  1.17449672, -0.71328017,  0.87874187,\n",
       "           0.71537261,  1.45890481,  0.81206534,  1.16329911,  0.96798231,\n",
       "          -0.8855775 ,  0.82292325,  1.10722275,  1.05864922, -0.87642137,\n",
       "          -0.46329681, -1.23212002,  1.17658136, -0.72875762,  0.79406361]]),\n",
       "  'train_y': array([[-1,  1, -1, -1,  1,  1,  1,  1, -1, -1,  1, -1,  1, -1,  1,  1,\n",
       "           1, -1, -1,  1,  1,  1,  1, -1, -1,  1,  1, -1, -1,  1, -1, -1,\n",
       "           1, -1,  1,  1, -1,  1,  1,  1,  1,  1, -1,  1, -1,  1, -1, -1,\n",
       "          -1, -1, -1,  1,  1,  1, -1,  1, -1,  1, -1, -1, -1,  1,  1,  1,\n",
       "           1,  1, -1,  1, -1, -1,  1,  1,  1, -1, -1, -1,  1,  1, -1, -1,\n",
       "          -1,  1, -1,  1, -1, -1, -1, -1, -1, -1,  1, -1, -1, -1,  1,  1,\n",
       "           1, -1,  1, -1]], dtype=int64),\n",
       "  'n': 2,\n",
       "  'm': 100,\n",
       "  'C': 1,\n",
       "  'kernel_func': <function problem1.Gaussian_kernel(X1, X2, sigma=1)>,\n",
       "  'sigma': 0.1,\n",
       "  'alpha': array([[0., 1., 0., 0., 0., 0., 0., 0., 0., 0., 0., 0., 0., 0., 0., 0.,\n",
       "          0., 0., 0., 0., 0., 0., 0., 0., 0., 0., 0., 0., 0., 0., 0., 0.,\n",
       "          0., 0., 0., 0., 0., 0., 0., 0., 0., 0., 0., 0., 0., 0., 0., 0.,\n",
       "          0., 0., 0., 0., 0., 0., 0., 0., 0., 0., 0., 0., 0., 0., 0., 0.,\n",
       "          0., 0., 0., 0., 0., 0., 0., 0., 0., 0., 0., 0., 0., 0., 0., 0.,\n",
       "          0., 0., 0., 0., 0., 0., 0., 0., 0., 0., 0., 0., 0., 0., 0., 0.,\n",
       "          0., 0., 0., 0.]]),\n",
       "  'b': 0},\n",
       " {'train_X': array([[ 1.16466313, -0.85136678,  0.60754434,  1.01140854, -0.44558325,\n",
       "          -0.86205304, -0.89143236, -0.86423715,  0.6904045 ,  1.07374723,\n",
       "          -1.06481792,  0.98529007, -1.08212632,  0.77566879, -0.52702774,\n",
       "          -0.8175529 , -0.99939957,  0.79013893,  0.87295672, -1.31960575,\n",
       "          -0.91973039, -1.1197026 , -0.99546646,  1.03286432,  0.86537465,\n",
       "          -1.13029204, -0.94901453,  1.02831266,  1.30860331, -0.92990649,\n",
       "           0.89128167,  0.68029733, -1.18022063,  0.90962759, -0.66285032,\n",
       "          -1.10048918,  1.24511478, -1.38671641, -1.09912637, -1.08839767,\n",
       "          -0.98777954, -0.97092239,  0.87812778, -1.35220668,  1.00373873,\n",
       "          -0.92776222,  1.17339146,  1.48312316,  0.68637814,  0.92625906,\n",
       "           0.90227196, -0.89650296, -1.03671097, -1.15218614,  0.98488907,\n",
       "          -0.93602521,  0.80634259, -0.74821928,  0.96608659,  1.07963598,\n",
       "           1.00090713, -1.21153725, -0.93410179, -1.06142179, -1.5036788 ,\n",
       "          -0.7343002 ,  0.77392239, -1.36245897,  0.91430916,  1.05806174,\n",
       "          -0.95815047, -0.87684136, -0.91018789,  1.15828889,  1.35629249,\n",
       "           1.03204315, -0.84588477, -1.04494938,  0.82849424,  0.84804404,\n",
       "           1.22888298, -1.34477928,  0.99450875, -0.59602853,  0.78905629,\n",
       "           1.22939922,  1.00195745,  1.17321422,  0.88203884,  0.79398084,\n",
       "          -0.7755786 ,  0.96815969,  0.90551258,  0.79412168, -0.78496736,\n",
       "          -0.80489104, -1.0512839 ,  1.02479485, -0.85986013,  1.37679909],\n",
       "         [ 0.43617802, -1.17112929,  0.85371564,  1.14797295, -1.02919521,\n",
       "          -0.96060702, -1.04573034, -1.11629973,  1.2368936 ,  0.95336627,\n",
       "          -1.34684031,  1.23335273, -1.11486648,  1.36415514, -1.41203315,\n",
       "          -0.92181347, -0.81284045,  0.77454708,  0.98105428, -0.93207176,\n",
       "          -0.915493  , -0.96384885, -1.04034917,  0.91298534,  0.82252019,\n",
       "          -1.53714457, -0.994697  ,  0.889082  ,  0.4922652 , -1.23730654,\n",
       "           1.09414932,  0.88975745, -1.203079  ,  0.76469031, -0.8928919 ,\n",
       "          -0.99506658,  1.01394468, -0.89820148, -1.11174346, -0.99908805,\n",
       "          -0.98841386, -1.27632672,  0.88169244, -0.84351298,  0.99857569,\n",
       "          -0.93943268,  1.08767598,  0.64645844,  1.02538974,  0.7535052 ,\n",
       "           0.92428008, -1.34955082, -0.82775018, -0.77997453,  1.11432778,\n",
       "          -1.01201771,  1.13310783, -0.51438394,  1.10633799,  0.90166501,\n",
       "           1.06619755, -0.76197228, -0.6709544 , -1.15153014, -0.68421233,\n",
       "          -1.03818064,  1.26202022, -0.89857594,  0.76696043,  0.98889428,\n",
       "          -0.83351269, -1.19301245, -0.87377691,  1.18726007,  1.14333375,\n",
       "           0.50108018, -0.79707359, -1.02400919,  0.7216279 ,  1.25543086,\n",
       "           1.32404392, -0.77083422,  1.17449672, -0.71328017,  0.87874187,\n",
       "           0.71537261,  1.45890481,  0.81206534,  1.16329911,  0.96798231,\n",
       "          -0.8855775 ,  0.82292325,  1.10722275,  1.05864922, -0.87642137,\n",
       "          -0.46329681, -1.23212002,  1.17658136, -0.72875762,  0.79406361]]),\n",
       "  'train_y': array([[-1,  1, -1, -1,  1,  1,  1,  1, -1, -1,  1, -1,  1, -1,  1,  1,\n",
       "           1, -1, -1,  1,  1,  1,  1, -1, -1,  1,  1, -1, -1,  1, -1, -1,\n",
       "           1, -1,  1,  1, -1,  1,  1,  1,  1,  1, -1,  1, -1,  1, -1, -1,\n",
       "          -1, -1, -1,  1,  1,  1, -1,  1, -1,  1, -1, -1, -1,  1,  1,  1,\n",
       "           1,  1, -1,  1, -1, -1,  1,  1,  1, -1, -1, -1,  1,  1, -1, -1,\n",
       "          -1,  1, -1,  1, -1, -1, -1, -1, -1, -1,  1, -1, -1, -1,  1,  1,\n",
       "           1, -1,  1, -1]], dtype=int64),\n",
       "  'n': 2,\n",
       "  'm': 100,\n",
       "  'C': 1,\n",
       "  'kernel_func': <function problem1.Gaussian_kernel(X1, X2, sigma=1)>,\n",
       "  'sigma': 0.1,\n",
       "  'alpha': array([[0., 1., 0., 0., 0., 0., 0., 0., 0., 0., 0., 0., 0., 0., 0., 0.,\n",
       "          0., 0., 0., 0., 0., 0., 0., 0., 0., 0., 0., 0., 0., 0., 0., 0.,\n",
       "          0., 0., 0., 0., 0., 0., 0., 0., 0., 0., 0., 0., 0., 0., 0., 0.,\n",
       "          0., 0., 0., 0., 0., 0., 0., 0., 0., 0., 0., 0., 0., 0., 0., 0.,\n",
       "          0., 0., 0., 0., 0., 0., 0., 0., 0., 0., 0., 0., 0., 0., 0., 0.,\n",
       "          0., 0., 0., 0., 0., 0., 0., 0., 0., 0., 0., 0., 0., 0., 0., 0.,\n",
       "          0., 0., 0., 0.]]),\n",
       "  'b': 0},\n",
       " {'train_X': array([[ 1.16466313, -0.85136678,  0.60754434,  1.01140854, -0.44558325,\n",
       "          -0.86205304, -0.89143236, -0.86423715,  0.6904045 ,  1.07374723,\n",
       "          -1.06481792,  0.98529007, -1.08212632,  0.77566879, -0.52702774,\n",
       "          -0.8175529 , -0.99939957,  0.79013893,  0.87295672, -1.31960575,\n",
       "          -0.91973039, -1.1197026 , -0.99546646,  1.03286432,  0.86537465,\n",
       "          -1.13029204, -0.94901453,  1.02831266,  1.30860331, -0.92990649,\n",
       "           0.89128167,  0.68029733, -1.18022063,  0.90962759, -0.66285032,\n",
       "          -1.10048918,  1.24511478, -1.38671641, -1.09912637, -1.08839767,\n",
       "          -0.98777954, -0.97092239,  0.87812778, -1.35220668,  1.00373873,\n",
       "          -0.92776222,  1.17339146,  1.48312316,  0.68637814,  0.92625906,\n",
       "           0.90227196, -0.89650296, -1.03671097, -1.15218614,  0.98488907,\n",
       "          -0.93602521,  0.80634259, -0.74821928,  0.96608659,  1.07963598,\n",
       "           1.00090713, -1.21153725, -0.93410179, -1.06142179, -1.5036788 ,\n",
       "          -0.7343002 ,  0.77392239, -1.36245897,  0.91430916,  1.05806174,\n",
       "          -0.95815047, -0.87684136, -0.91018789,  1.15828889,  1.35629249,\n",
       "           1.03204315, -0.84588477, -1.04494938,  0.82849424,  0.84804404,\n",
       "           1.22888298, -1.34477928,  0.99450875, -0.59602853,  0.78905629,\n",
       "           1.22939922,  1.00195745,  1.17321422,  0.88203884,  0.79398084,\n",
       "          -0.7755786 ,  0.96815969,  0.90551258,  0.79412168, -0.78496736,\n",
       "          -0.80489104, -1.0512839 ,  1.02479485, -0.85986013,  1.37679909],\n",
       "         [ 0.43617802, -1.17112929,  0.85371564,  1.14797295, -1.02919521,\n",
       "          -0.96060702, -1.04573034, -1.11629973,  1.2368936 ,  0.95336627,\n",
       "          -1.34684031,  1.23335273, -1.11486648,  1.36415514, -1.41203315,\n",
       "          -0.92181347, -0.81284045,  0.77454708,  0.98105428, -0.93207176,\n",
       "          -0.915493  , -0.96384885, -1.04034917,  0.91298534,  0.82252019,\n",
       "          -1.53714457, -0.994697  ,  0.889082  ,  0.4922652 , -1.23730654,\n",
       "           1.09414932,  0.88975745, -1.203079  ,  0.76469031, -0.8928919 ,\n",
       "          -0.99506658,  1.01394468, -0.89820148, -1.11174346, -0.99908805,\n",
       "          -0.98841386, -1.27632672,  0.88169244, -0.84351298,  0.99857569,\n",
       "          -0.93943268,  1.08767598,  0.64645844,  1.02538974,  0.7535052 ,\n",
       "           0.92428008, -1.34955082, -0.82775018, -0.77997453,  1.11432778,\n",
       "          -1.01201771,  1.13310783, -0.51438394,  1.10633799,  0.90166501,\n",
       "           1.06619755, -0.76197228, -0.6709544 , -1.15153014, -0.68421233,\n",
       "          -1.03818064,  1.26202022, -0.89857594,  0.76696043,  0.98889428,\n",
       "          -0.83351269, -1.19301245, -0.87377691,  1.18726007,  1.14333375,\n",
       "           0.50108018, -0.79707359, -1.02400919,  0.7216279 ,  1.25543086,\n",
       "           1.32404392, -0.77083422,  1.17449672, -0.71328017,  0.87874187,\n",
       "           0.71537261,  1.45890481,  0.81206534,  1.16329911,  0.96798231,\n",
       "          -0.8855775 ,  0.82292325,  1.10722275,  1.05864922, -0.87642137,\n",
       "          -0.46329681, -1.23212002,  1.17658136, -0.72875762,  0.79406361]]),\n",
       "  'train_y': array([[-1,  1, -1, -1,  1,  1,  1,  1, -1, -1,  1, -1,  1, -1,  1,  1,\n",
       "           1, -1, -1,  1,  1,  1,  1, -1, -1,  1,  1, -1, -1,  1, -1, -1,\n",
       "           1, -1,  1,  1, -1,  1,  1,  1,  1,  1, -1,  1, -1,  1, -1, -1,\n",
       "          -1, -1, -1,  1,  1,  1, -1,  1, -1,  1, -1, -1, -1,  1,  1,  1,\n",
       "           1,  1, -1,  1, -1, -1,  1,  1,  1, -1, -1, -1,  1,  1, -1, -1,\n",
       "          -1,  1, -1,  1, -1, -1, -1, -1, -1, -1,  1, -1, -1, -1,  1,  1,\n",
       "           1, -1,  1, -1]], dtype=int64),\n",
       "  'n': 2,\n",
       "  'm': 100,\n",
       "  'C': 1,\n",
       "  'kernel_func': <function problem1.Gaussian_kernel(X1, X2, sigma=1)>,\n",
       "  'sigma': 0.1,\n",
       "  'alpha': array([[0., 1., 0., 0., 0., 0., 0., 0., 0., 0., 0., 0., 0., 0., 0., 0.,\n",
       "          0., 0., 0., 0., 0., 0., 0., 0., 0., 0., 0., 0., 0., 0., 0., 0.,\n",
       "          0., 0., 0., 0., 0., 0., 0., 0., 0., 0., 0., 0., 0., 0., 0., 0.,\n",
       "          0., 0., 0., 0., 0., 0., 0., 0., 0., 0., 0., 0., 0., 0., 0., 0.,\n",
       "          0., 0., 0., 0., 0., 0., 0., 0., 0., 0., 0., 0., 0., 0., 0., 0.,\n",
       "          0., 0., 0., 0., 0., 0., 0., 0., 0., 0., 0., 0., 0., 0., 0., 0.,\n",
       "          0., 0., 0., 0.]]),\n",
       "  'b': 0}]"
      ]
     },
     "execution_count": 56,
     "metadata": {},
     "output_type": "execute_result"
    }
   ],
   "source": [
    "models"
   ]
  },
  {
   "cell_type": "code",
   "execution_count": 57,
   "metadata": {},
   "outputs": [],
   "source": [
    "KKTs = [\n",
    "    model.train_y[0][10]*(model.alpha[0][10]*linear_kernel(model.train_X[:,10], model.train_X[:,10]) + model.b) - 1 <= 0\n",
    "]"
   ]
  },
  {
   "cell_type": "code",
   "execution_count": 58,
   "metadata": {},
   "outputs": [
    {
     "data": {
      "text/plain": [
       "0.0"
      ]
     },
     "execution_count": 58,
     "metadata": {},
     "output_type": "execute_result"
    }
   ],
   "source": [
    "model.alpha[0][10]*linear_kernel(model.train_X[:,10], model.train_X[:,10])"
   ]
  },
  {
   "cell_type": "code",
   "execution_count": 59,
   "metadata": {},
   "outputs": [
    {
     "data": {
      "text/plain": [
       "[True]"
      ]
     },
     "execution_count": 59,
     "metadata": {},
     "output_type": "execute_result"
    }
   ],
   "source": [
    "KKTs"
   ]
  },
  {
   "cell_type": "code",
   "execution_count": 60,
   "metadata": {},
   "outputs": [
    {
     "data": {
      "text/plain": [
       "2.3956535421647374"
      ]
     },
     "execution_count": 60,
     "metadata": {},
     "output_type": "execute_result"
    }
   ],
   "source": [
    "K[1,1]\n",
    "\n"
   ]
  },
  {
   "cell_type": "code",
   "execution_count": 61,
   "metadata": {},
   "outputs": [
    {
     "data": {
      "text/plain": [
       "array([[ 3.2632457 , -2.78099446],\n",
       "       [-2.78099446,  2.39565354]])"
      ]
     },
     "execution_count": 61,
     "metadata": {},
     "output_type": "execute_result"
    }
   ],
   "source": [
    "K"
   ]
  },
  {
   "cell_type": "code",
   "execution_count": 62,
   "metadata": {},
   "outputs": [
    {
     "data": {
      "text/plain": [
       "-1.0"
      ]
     },
     "execution_count": 62,
     "metadata": {},
     "output_type": "execute_result"
    }
   ],
   "source": [
    "model.train_y[0][10]*(model.alpha[0][10]*linear_kernel(model.train_X[:,10], model.train_X[:,10]) + model.b) - 1"
   ]
  },
  {
   "cell_type": "code",
   "execution_count": 63,
   "metadata": {},
   "outputs": [
    {
     "data": {
      "text/plain": [
       "array([[-1.06481792,  0.87295672],\n",
       "       [-1.34684031,  0.98105428]])"
      ]
     },
     "execution_count": 63,
     "metadata": {},
     "output_type": "execute_result"
    }
   ],
   "source": [
    "x = np.array([model.train_X[:,10], model.train_X[:,18]]).T\n",
    "x"
   ]
  },
  {
   "cell_type": "code",
   "execution_count": 64,
   "metadata": {},
   "outputs": [
    {
     "data": {
      "text/plain": [
       "array([0.87295672, 0.98105428])"
      ]
     },
     "execution_count": 64,
     "metadata": {},
     "output_type": "execute_result"
    }
   ],
   "source": [
    "model.train_X[:,18]"
   ]
  },
  {
   "cell_type": "code",
   "execution_count": 65,
   "metadata": {},
   "outputs": [
    {
     "data": {
      "text/plain": [
       "array([[ 1.16466313, -0.85136678,  0.60754434,  1.01140854, -0.44558325,\n",
       "        -0.86205304, -0.89143236, -0.86423715,  0.6904045 ,  1.07374723,\n",
       "        -1.06481792,  0.98529007, -1.08212632,  0.77566879, -0.52702774,\n",
       "        -0.8175529 , -0.99939957,  0.79013893,  0.87295672, -1.31960575,\n",
       "        -0.91973039, -1.1197026 , -0.99546646,  1.03286432,  0.86537465,\n",
       "        -1.13029204, -0.94901453,  1.02831266,  1.30860331, -0.92990649,\n",
       "         0.89128167,  0.68029733, -1.18022063,  0.90962759, -0.66285032,\n",
       "        -1.10048918,  1.24511478, -1.38671641, -1.09912637, -1.08839767,\n",
       "        -0.98777954, -0.97092239,  0.87812778, -1.35220668,  1.00373873,\n",
       "        -0.92776222,  1.17339146,  1.48312316,  0.68637814,  0.92625906,\n",
       "         0.90227196, -0.89650296, -1.03671097, -1.15218614,  0.98488907,\n",
       "        -0.93602521,  0.80634259, -0.74821928,  0.96608659,  1.07963598,\n",
       "         1.00090713, -1.21153725, -0.93410179, -1.06142179, -1.5036788 ,\n",
       "        -0.7343002 ,  0.77392239, -1.36245897,  0.91430916,  1.05806174,\n",
       "        -0.95815047, -0.87684136, -0.91018789,  1.15828889,  1.35629249,\n",
       "         1.03204315, -0.84588477, -1.04494938,  0.82849424,  0.84804404,\n",
       "         1.22888298, -1.34477928,  0.99450875, -0.59602853,  0.78905629,\n",
       "         1.22939922,  1.00195745,  1.17321422,  0.88203884,  0.79398084,\n",
       "        -0.7755786 ,  0.96815969,  0.90551258,  0.79412168, -0.78496736,\n",
       "        -0.80489104, -1.0512839 ,  1.02479485, -0.85986013,  1.37679909],\n",
       "       [ 0.43617802, -1.17112929,  0.85371564,  1.14797295, -1.02919521,\n",
       "        -0.96060702, -1.04573034, -1.11629973,  1.2368936 ,  0.95336627,\n",
       "        -1.34684031,  1.23335273, -1.11486648,  1.36415514, -1.41203315,\n",
       "        -0.92181347, -0.81284045,  0.77454708,  0.98105428, -0.93207176,\n",
       "        -0.915493  , -0.96384885, -1.04034917,  0.91298534,  0.82252019,\n",
       "        -1.53714457, -0.994697  ,  0.889082  ,  0.4922652 , -1.23730654,\n",
       "         1.09414932,  0.88975745, -1.203079  ,  0.76469031, -0.8928919 ,\n",
       "        -0.99506658,  1.01394468, -0.89820148, -1.11174346, -0.99908805,\n",
       "        -0.98841386, -1.27632672,  0.88169244, -0.84351298,  0.99857569,\n",
       "        -0.93943268,  1.08767598,  0.64645844,  1.02538974,  0.7535052 ,\n",
       "         0.92428008, -1.34955082, -0.82775018, -0.77997453,  1.11432778,\n",
       "        -1.01201771,  1.13310783, -0.51438394,  1.10633799,  0.90166501,\n",
       "         1.06619755, -0.76197228, -0.6709544 , -1.15153014, -0.68421233,\n",
       "        -1.03818064,  1.26202022, -0.89857594,  0.76696043,  0.98889428,\n",
       "        -0.83351269, -1.19301245, -0.87377691,  1.18726007,  1.14333375,\n",
       "         0.50108018, -0.79707359, -1.02400919,  0.7216279 ,  1.25543086,\n",
       "         1.32404392, -0.77083422,  1.17449672, -0.71328017,  0.87874187,\n",
       "         0.71537261,  1.45890481,  0.81206534,  1.16329911,  0.96798231,\n",
       "        -0.8855775 ,  0.82292325,  1.10722275,  1.05864922, -0.87642137,\n",
       "        -0.46329681, -1.23212002,  1.17658136, -0.72875762,  0.79406361]])"
      ]
     },
     "execution_count": 65,
     "metadata": {},
     "output_type": "execute_result"
    }
   ],
   "source": [
    "model.train_X"
   ]
  }
 ],
 "metadata": {
  "kernelspec": {
   "display_name": "Python 3.9.7 64-bit",
   "language": "python",
   "name": "python3"
  },
  "language_info": {
   "codemirror_mode": {
    "name": "ipython",
    "version": 3
   },
   "file_extension": ".py",
   "mimetype": "text/x-python",
   "name": "python",
   "nbconvert_exporter": "python",
   "pygments_lexer": "ipython3",
   "version": "3.9.7"
  },
  "orig_nbformat": 4,
  "vscode": {
   "interpreter": {
    "hash": "8377259de029fbe3469e5825885a3984679ef58677fe54558bfe80e0473ceee4"
   }
  }
 },
 "nbformat": 4,
 "nbformat_minor": 2
}
