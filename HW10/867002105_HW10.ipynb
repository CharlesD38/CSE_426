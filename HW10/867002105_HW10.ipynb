{
 "cells": [
  {
   "cell_type": "markdown",
   "metadata": {},
   "source": [
    "\\pagebreak"
   ]
  },
  {
   "cell_type": "markdown",
   "metadata": {},
   "source": [
    "# 2.{-}"
   ]
  },
  {
   "cell_type": "markdown",
   "metadata": {},
   "source": [
    "We start by showing two partial simplifications for $q_{\\pi}(s,a)$ and $v_{\\pi}(s)$."
   ]
  },
  {
   "cell_type": "markdown",
   "metadata": {},
   "source": [
    "$$\n",
    "\\begin{split}\n",
    "q_{\\pi}(s,a) &= \\mathbb{E}_{\\pi}[G_t | S_t=s,A_t=a]\\\\\n",
    "\\\\\n",
    "&= \\mathbb{E}_{\\pi}[R_{t+1} + \\gamma R_{t+2} + \\gamma^2 R_{t+3} + \\dots | S_t=s,A_t=a]\\\\\n",
    "\\\\\n",
    "&= \\mathbb{E}_{\\pi}[R_{t+1} + \\gamma G_{t+1} | S_t=s,A_t=a]\\\\\n",
    "\\\\\n",
    "&= \\sum_{s'} \\sum_r \\Pr(s',r|s,a)[r + \\gamma \\mathbb{E}_{\\pi}[G_{t+1} | S_{t+1} = s',S_t=s,A_t=a]]\n",
    "\\end{split}\n",
    "$$"
   ]
  },
  {
   "cell_type": "markdown",
   "metadata": {},
   "source": [
    "$$\n",
    "\\begin{split}\n",
    "v_{\\pi}(s) &= \\mathbb{E}_{\\pi}[G_t | S_t=s]\\\\\n",
    "\\\\\n",
    "&= \\mathbb{E}_{\\pi}[R_{t+1} + \\gamma R_{t+2} + \\gamma^2 R_{t+3} + \\dots | S_t=s]\\\\\n",
    "\\\\\n",
    "&= \\mathbb{E}_{\\pi}[R_{t+1} + \\gamma G_{t+1} | S_t=s]\\\\\n",
    "\\\\\n",
    "&= \\sum_a \\pi(a|s) \\sum_{s'} \\sum_r \\Pr(s',r|s,a)[r + \\gamma \\mathbb{E}_{\\pi}[G_{t+1} | S_{t+1} = s']]\n",
    "\\end{split}\n",
    "$$"
   ]
  },
  {
   "cell_type": "markdown",
   "metadata": {},
   "source": [
    "Since the state value function $v_{\\pi}$ is not a function of $a$, we include the other two conditions, $S_t = s$ and $A_t = a$, as being apart of the conditional expection to arrive at,"
   ]
  },
  {
   "cell_type": "markdown",
   "metadata": {},
   "source": [
    "$$\n",
    "v_{\\pi}(s) = \\sum_a \\pi(a|s) \\sum_{s'} \\sum_r \\Pr(s',r|s,a)[r + \\gamma \\mathbb{E}_{\\pi}[G_{t+1} | S_{t+1} = s',S_t=s,A_t=a]]\n",
    "$$"
   ]
  },
  {
   "cell_type": "markdown",
   "metadata": {},
   "source": [
    "substituting in $q_{\\pi}(s,a)$ by definition we arrive at,"
   ]
  },
  {
   "cell_type": "markdown",
   "metadata": {},
   "source": [
    "$$\n",
    "v_{\\pi}(s) = \\sum_{a \\in A(s)} \\pi(a|s) q_{\\pi}(s,a)\n",
    "$$"
   ]
  },
  {
   "cell_type": "markdown",
   "metadata": {},
   "source": [
    "$\\pi(a|s)$ being in the final summation is due to the fact that it is a leftover from starting at $v_{\\pi}(s)$ where it must be included due to the fact that $v_{\\pi}(s)$ is not a function of $a$."
   ]
  },
  {
   "cell_type": "markdown",
   "metadata": {},
   "source": [
    "\\pagebreak"
   ]
  },
  {
   "cell_type": "markdown",
   "metadata": {},
   "source": [
    "# 3.{-}"
   ]
  },
  {
   "cell_type": "markdown",
   "metadata": {},
   "source": [
    "The cummulative return for starting at $u$ going left to $w = R_1^{(1)} = 1$. \n",
    "\n",
    "The cummulative return for starting at $u$ and going right to $v, z = R_1^{(2)} + \\gamma R_2 = -1 + 10\\gamma$.\n",
    "\n",
    "To make going to left have a higher discounted return as compared to going right, we find the upper bound for $\\gamma$ by the following inequality."
   ]
  },
  {
   "cell_type": "markdown",
   "metadata": {},
   "source": [
    "$$\n",
    "\\begin{split}\n",
    "R_1^{(1)} &> R_1^{(2)} + \\gamma R_2\\\\\n",
    "\\\\\n",
    "1 &> -1 + 10\\gamma\\\\\n",
    "\\\\\n",
    "\\gamma &< \\frac{1}{5}\n",
    "\\end{split}\n",
    "$$"
   ]
  },
  {
   "cell_type": "markdown",
   "metadata": {},
   "source": [
    "\\pagebreak"
   ]
  },
  {
   "cell_type": "markdown",
   "metadata": {},
   "source": [
    "# 4.{-}"
   ]
  },
  {
   "cell_type": "markdown",
   "metadata": {},
   "source": [
    "From problem 1. we proved that $$v_{\\pi}(s) = \\sum_{a \\in A(s)} \\pi(a|s) q_{\\pi}(s,a)$$"
   ]
  },
  {
   "cell_type": "markdown",
   "metadata": {},
   "source": [
    "We now continue our simplification of $q_{\\pi}(s,a)$"
   ]
  },
  {
   "cell_type": "markdown",
   "metadata": {},
   "source": [
    "$$\n",
    "\\begin{split}\n",
    "q_{\\pi}(s,a) &= \\mathbb{E}_{\\pi}[G_t | S_t=s,A_t=a]\\\\\n",
    "\\\\\n",
    "&= \\mathbb{E}_{\\pi}[R_{t+1} + \\gamma R_{t+2} + \\gamma^2 R_{t+3} + \\dots | S_t=s,A_t=a]\\\\\n",
    "\\\\\n",
    "&= \\mathbb{E}_{\\pi}[R_{t+1} + \\gamma G_{t+1} | S_t=s,A_t=a]\\\\\n",
    "\\\\\n",
    "&= \\sum_{s'} \\sum_r \\Pr(s',r|s,a)[r + \\gamma \\mathbb{E}_{\\pi}[G_{t+1} | S_{t+1} = s',S_t=s,A_t=a]]\\\\\n",
    "\\\\\n",
    "&= \\sum_{s'} \\sum_r \\Pr(s',r|s,a)[r + \\gamma \\sum_{a'} \\pi(a'|s') q_{\\pi}(s',a')]\n",
    "\\end{split}\n",
    "$$"
   ]
  },
  {
   "cell_type": "markdown",
   "metadata": {},
   "source": [
    "By definition, we substitute $v_{\\pi}(s')$, and arrive at"
   ]
  },
  {
   "cell_type": "markdown",
   "metadata": {},
   "source": [
    "$$\n",
    "q_{\\pi}(s,a) = \\sum_{s'} \\sum_r \\Pr(s',r|s,a)[r + \\gamma v_{\\pi}(s')]\n",
    "$$"
   ]
  },
  {
   "cell_type": "markdown",
   "metadata": {},
   "source": [
    "We now move to the second part of the question. Using the above formulation we solve for the optimal action for state $s=5$ on the $k=2$ iteration using our formulation for $q_{\\pi}(s,a)$ after $v_{\\pi}(s)$ has been solved for all $s$. Note we are excluding the probabilties which would result in $0$.\n",
    "\n",
    "\n"
   ]
  },
  {
   "cell_type": "markdown",
   "metadata": {},
   "source": [
    "$$\n",
    "\\begin{split}\n",
    "q_{\\pi}(5,\\text{up}) &= \\Pr(1,-1|5,\\text{up})[-1 + v_{\\pi}(1)] =  -2.7\\\\\n",
    "\\\\\n",
    "q_{\\pi}(5,\\text{down}) &= \\Pr(9,-1|5,\\text{down})[-1 + v_{\\pi}(9)] = -3\\\\\n",
    "\\\\\n",
    "q_{\\pi}(5,\\text{right}) &= \\Pr(6,-1|5,\\text{right})[-1 + v_{\\pi}(6)] = -3\\\\\n",
    "\\\\\n",
    "q_{\\pi}(5,\\text{left}) &= \\Pr(4,-1|5,\\text{left})[-1 + v_{\\pi}(4)] =  -2.7\n",
    "\\end{split}\n",
    "$$"
   ]
  },
  {
   "cell_type": "markdown",
   "metadata": {},
   "source": [
    "Since at $k=2$ iterations the optimal action is solved for at states $s=1$ and $s=4$, we can say, that from state $s=5$, the 2 best actions in either order are Up and Left."
   ]
  }
 ],
 "metadata": {
  "kernelspec": {
   "display_name": "Python 3.9.7 64-bit",
   "language": "python",
   "name": "python3"
  },
  "language_info": {
   "name": "python",
   "version": "3.9.7"
  },
  "orig_nbformat": 4,
  "vscode": {
   "interpreter": {
    "hash": "8377259de029fbe3469e5825885a3984679ef58677fe54558bfe80e0473ceee4"
   }
  }
 },
 "nbformat": 4,
 "nbformat_minor": 2
}
