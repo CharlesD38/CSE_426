{
 "cells": [
  {
   "cell_type": "markdown",
   "metadata": {},
   "source": [
    "\\pagebreak"
   ]
  },
  {
   "cell_type": "markdown",
   "metadata": {},
   "source": [
    "# Q1"
   ]
  },
  {
   "cell_type": "markdown",
   "metadata": {},
   "source": [
    "$S$ is a symmetric and square covariance matrix. Thus, the eigenvalue of $S = \\psi \\theta \\psi^{-1}$. Where, $\\psi$ is a matrix with the eigenvectors as the columns and $\\theta$ has all eigenvalues along the diagonal with all other entries of the square matrix being zero. Thus,\n"
   ]
  },
  {
   "cell_type": "markdown",
   "metadata": {},
   "source": [
    "$$\n",
    "\\begin{split}\n",
    "J(u_1) &= u_1^T S u_1\\\\\n",
    "\\\\\n",
    "&= u_1^T \\psi \\theta \\psi^{-1} u_1\\\\\n",
    "\\\\\n",
    "&= \\theta \\psi^{-1} u_1 \\quad (\\text{because } u_1 \\text{ and } \\psi \\text{ are orthonormal})\\\\\n",
    "\\\\\n",
    "&= \\theta \\psi^T u_1 \\quad (\\text{because } \\psi_1 \\text{ are orthogonal})\\\\\n",
    "\\\\\n",
    "&= \\langle \\begin{bmatrix}\n",
    "\\cdots \\lambda_1 u_1 \\cdots\\\\\n",
    "\\vdots\\\\\n",
    "\\cdots \\lambda_k u_k \\cdots \\end{bmatrix}, u_1 \\rangle\\\\\n",
    "\\\\\n",
    "&= \\lambda_1 u_1 u_1 + \\ldots + \\lambda_k u_1 u_k\\\\\n",
    "\\\\\n",
    "&= \\lambda_1 \\quad \\text{ (using orthonormality)}\\\\\n",
    "\\end{split}\n",
    "$$"
   ]
  },
  {
   "cell_type": "markdown",
   "metadata": {},
   "source": [
    "\\pagebreak"
   ]
  },
  {
   "cell_type": "markdown",
   "metadata": {},
   "source": [
    "# Q3"
   ]
  },
  {
   "cell_type": "markdown",
   "metadata": {},
   "source": [
    "We start by proposing that a rank 1 matrix can always be written in the form of $A = xy^T$. By definition this is true, $S =xx^T$. \n",
    "\n",
    "We can see if we multiply it by a vector $w$, $Sw = xx^Tw = (x^Tw)x$. With the term $x^Tw$ always being a scalar value we see that if $w$ is a eigenvector of $S$, it must be a multiple of $x$. \n",
    "\n",
    "Finally we will show that for a matrix $S = xx^T$ to have a rank of 1, the $|S|=0$. Thus,"
   ]
  },
  {
   "cell_type": "markdown",
   "metadata": {},
   "source": [
    "$$\n",
    "\\begin{bmatrix}\n",
    "x_1\\\\\n",
    "x_2\\\\\n",
    "\\vdots\\\\\n",
    "x_k\n",
    "\\end{bmatrix}\\begin{bmatrix}\n",
    "x_1 \\\n",
    "x_2 \\\n",
    "\\cdots\n",
    "x_k\n",
    "\\end{bmatrix} = \\begin{bmatrix}\n",
    "x_1^2 &   x_1x_2 & \\cdots &x_1x_k\\\\\n",
    "x_1x_2 &   x_2^2 & \\cdots &x_2x_k\\\\\n",
    "\\vdots &\\vdots &\\ddots &\\vdots\\\\\n",
    "x_1x_k & x_2x_k & \\cdots &x_k^2\n",
    "\\end{bmatrix}\n",
    "$$"
   ]
  },
  {
   "cell_type": "markdown",
   "metadata": {},
   "source": [
    "One can easily see that determinate of the above matrix is symmetric and square. Thus, call the determinet coefficient of the smaller matrices used for calculations will $=0$. Thus call the top row vector $v = \\begin{bmatrix}\n",
    "x_1^2 &   x_1x_2 & \\cdots &x_1x_k\\end{bmatrix}$. The determinate calculation will then have $x_1^2(0) - x_1x_2(0) - \\cdots - x_1x_k(0) = 0$. \n",
    "\n",
    "One can also see from the above proposition and proof that $v$ has $x_1$ in every term. This shows then all columns are linearly dependent on the first row of $S$. "
   ]
  },
  {
   "cell_type": "markdown",
   "metadata": {},
   "source": [
    "\\pagebreak"
   ]
  },
  {
   "cell_type": "markdown",
   "metadata": {},
   "source": [
    "# Q5"
   ]
  },
  {
   "cell_type": "markdown",
   "metadata": {},
   "source": [
    "## Commonality: \n",
    "\n",
    "They both deal with finding a hyperplane that will seperate the classes correctly within some error. "
   ]
  },
  {
   "cell_type": "markdown",
   "metadata": {},
   "source": [
    "## Differences: \n",
    "\n",
    "In LDA, the seperating hyperplane seperates the means of the samples in each class while in SVM, finds the hyperplane with the maximum of the minimum of distance between the hyperplane to the nearest point in each class."
   ]
  },
  {
   "cell_type": "markdown",
   "metadata": {},
   "source": [
    "\\pagebreak"
   ]
  }
 ],
 "metadata": {
  "kernelspec": {
   "display_name": "Python 3.9.7 64-bit",
   "language": "python",
   "name": "python3"
  },
  "language_info": {
   "name": "python",
   "version": "3.9.7"
  },
  "orig_nbformat": 4,
  "vscode": {
   "interpreter": {
    "hash": "8377259de029fbe3469e5825885a3984679ef58677fe54558bfe80e0473ceee4"
   }
  }
 },
 "nbformat": 4,
 "nbformat_minor": 2
}
