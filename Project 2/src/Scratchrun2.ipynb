{
 "cells": [
  {
   "cell_type": "code",
   "execution_count": 1,
   "metadata": {},
   "outputs": [],
   "source": [
    "from problem1 import *\n",
    "from problem2 import *\n",
    "from problem3 import *\n",
    "import pandas as pd\n",
    "import numpy as np"
   ]
  },
  {
   "cell_type": "code",
   "execution_count": 3,
   "metadata": {},
   "outputs": [],
   "source": [
    "import pandas as pd\n",
    "\n",
    "blob = pd.read_pickle(r'C:\\MFE\\MFE Sem 3\\CSE 426\\CSE_426\\Project 2\\data\\blobs_data.pkl')\n",
    "blob.keys()\n",
    "model = SVMModel(blob['tr_X'], blob['tr_y'], 1, linear_kernel, 0.1)"
   ]
  },
  {
   "cell_type": "code",
   "execution_count": 59,
   "metadata": {},
   "outputs": [
    {
     "data": {
      "text/plain": [
       "array([[ 1.6659013 , -1.42517703],\n",
       "       [-1.42517703,  1.2242427 ]])"
      ]
     },
     "execution_count": 59,
     "metadata": {},
     "output_type": "execute_result"
    }
   ],
   "source": [
    "x = np.array([model.train_X[:,5], model.train_X[:,17]]).T\n",
    "linear_kernel(x,x)"
   ]
  },
  {
   "cell_type": "code",
   "execution_count": 60,
   "metadata": {},
   "outputs": [
    {
     "data": {
      "text/plain": [
       "array([[1.36745497, 1.440094  ],\n",
       "       [1.440094  , 1.52268903]])"
      ]
     },
     "execution_count": 60,
     "metadata": {},
     "output_type": "execute_result"
    }
   ],
   "source": [
    "np.inner(x,x)"
   ]
  },
  {
   "cell_type": "code",
   "execution_count": 63,
   "metadata": {},
   "outputs": [
    {
     "data": {
      "text/plain": [
       "array([[-0.86205304, -0.96060702],\n",
       "       [ 0.79013893,  0.77454708]])"
      ]
     },
     "execution_count": 63,
     "metadata": {},
     "output_type": "execute_result"
    }
   ],
   "source": [
    "x.T"
   ]
  },
  {
   "cell_type": "code",
   "execution_count": 64,
   "metadata": {},
   "outputs": [
    {
     "data": {
      "text/plain": [
       "array([[-0.86205304,  0.79013893],\n",
       "       [-0.96060702,  0.77454708]])"
      ]
     },
     "execution_count": 64,
     "metadata": {},
     "output_type": "execute_result"
    }
   ],
   "source": [
    "x"
   ]
  },
  {
   "cell_type": "code",
   "execution_count": 66,
   "metadata": {},
   "outputs": [
    {
     "data": {
      "text/plain": [
       "1.6659012978838839"
      ]
     },
     "execution_count": 66,
     "metadata": {},
     "output_type": "execute_result"
    }
   ],
   "source": [
    "np.dot(x.T[0,:], x[:,0])"
   ]
  },
  {
   "cell_type": "code",
   "execution_count": 62,
   "metadata": {},
   "outputs": [
    {
     "data": {
      "text/plain": [
       "array([[ 1.6659013 , -1.42517703],\n",
       "       [-1.42517703,  1.2242427 ]])"
      ]
     },
     "execution_count": 62,
     "metadata": {},
     "output_type": "execute_result"
    }
   ],
   "source": [
    "linear_kernel(x,x)"
   ]
  },
  {
   "cell_type": "code",
   "execution_count": 37,
   "metadata": {},
   "outputs": [
    {
     "data": {
      "text/plain": [
       "37.2270559964839"
      ]
     },
     "execution_count": 37,
     "metadata": {},
     "output_type": "execute_result"
    }
   ],
   "source": [
    "p = 0\n",
    "for k in range(model.train_X.shape[1]):\n",
    "    p += (model.alpha[0,k]*model.train_y[0,k]*(linear_kernel(model.train_X[:,k], model.train_X[:,5])+1))\n",
    "p\n",
    "new = p + model.b\n",
    "final = new - model.train_y[0,5]\n",
    "p = model.train_y[0,5]*final\n",
    "p"
   ]
  },
  {
   "cell_type": "code",
   "execution_count": 38,
   "metadata": {},
   "outputs": [],
   "source": [
    "p = model.train_y[0,5]*((np.dot(np.multiply(model.alpha, model.train_y), linear_kernel(np.array([model.train_X[:,5]]).T,model.train_X).T) + model.b) - model.train_y[0,5])"
   ]
  },
  {
   "cell_type": "code",
   "execution_count": 40,
   "metadata": {},
   "outputs": [
    {
     "data": {
      "text/plain": [
       "array([[False]])"
      ]
     },
     "execution_count": 40,
     "metadata": {},
     "output_type": "execute_result"
    }
   ],
   "source": [
    "p < tol"
   ]
  },
  {
   "cell_type": "code",
   "execution_count": null,
   "metadata": {},
   "outputs": [],
   "source": [
    "(model.alpha*model.train_y[0,k]*(linear_kernel(model.train_X[:,k], model.train_X[:,5])+1))"
   ]
  },
  {
   "cell_type": "code",
   "execution_count": 27,
   "metadata": {},
   "outputs": [
    {
     "data": {
      "text/plain": [
       "-1.9496569264966261"
      ]
     },
     "execution_count": 27,
     "metadata": {},
     "output_type": "execute_result"
    }
   ],
   "source": [
    "(model.train_X[:,k].T @ model.train_X[:,5])"
   ]
  },
  {
   "cell_type": "code",
   "execution_count": 24,
   "metadata": {},
   "outputs": [
    {
     "data": {
      "text/plain": [
       "array([1.37679909, 0.79406361])"
      ]
     },
     "execution_count": 24,
     "metadata": {},
     "output_type": "execute_result"
    }
   ],
   "source": [
    "model.train_X[:,k]"
   ]
  },
  {
   "cell_type": "code",
   "execution_count": 25,
   "metadata": {},
   "outputs": [
    {
     "data": {
      "text/plain": [
       "array([-0.86205304, -0.96060702])"
      ]
     },
     "execution_count": 25,
     "metadata": {},
     "output_type": "execute_result"
    }
   ],
   "source": [
    "model.train_X[:,5]"
   ]
  },
  {
   "cell_type": "code",
   "execution_count": 30,
   "metadata": {},
   "outputs": [
    {
     "data": {
      "text/plain": [
       "-1.9496569264966261"
      ]
     },
     "execution_count": 30,
     "metadata": {},
     "output_type": "execute_result"
    }
   ],
   "source": [
    "np.dot(model.train_X[:,k].T,model.train_X[:,5])"
   ]
  },
  {
   "cell_type": "code",
   "execution_count": 23,
   "metadata": {},
   "outputs": [
    {
     "data": {
      "text/plain": [
       "138.1065910330975"
      ]
     },
     "execution_count": 23,
     "metadata": {},
     "output_type": "execute_result"
    }
   ],
   "source": [
    "p"
   ]
  },
  {
   "cell_type": "code",
   "execution_count": null,
   "metadata": {},
   "outputs": [],
   "source": [
    "p = 0\n",
    "for k in range(model.train_X.shape[1]):\n",
    "    p += (model.alpha[0,k]*model.train_y[0,k]*((model.train_X[:,k].T @ model.train_X[:,5])+1))"
   ]
  },
  {
   "cell_type": "code",
   "execution_count": 17,
   "metadata": {},
   "outputs": [
    {
     "data": {
      "text/plain": [
       "38.10659103309746"
      ]
     },
     "execution_count": 17,
     "metadata": {},
     "output_type": "execute_result"
    }
   ],
   "source": [
    "p"
   ]
  },
  {
   "cell_type": "code",
   "execution_count": null,
   "metadata": {},
   "outputs": [],
   "source": [
    "p+"
   ]
  },
  {
   "cell_type": "code",
   "execution_count": null,
   "metadata": {},
   "outputs": [],
   "source": [
    "(a[k]*y[k]*((X[k, :].T@x + 1)**degree))"
   ]
  },
  {
   "cell_type": "code",
   "execution_count": null,
   "metadata": {},
   "outputs": [],
   "source": [
    "def train(model, max_iters = 10, record_every = 1, max_passes = 1, tol=1e-6):\n",
    "    \"\"\"\n",
    "    SMO training of SVM\n",
    "    model: an SVMModel\n",
    "    max_iters: how many iterations of optimization\n",
    "    record_every: record intermediate dual and primal objective values and models every record_every iterations\n",
    "    max_passes: each iteration can have maximally max_passes without change any alpha, used in the SMO alpha selection.\n",
    "    tol: numerical tolerance (exact equality of two floating numbers may be impossible).\n",
    "    :return: 4 lists (of iteration numbers, dual objectives, primal objectives, and models)\n",
    "    Hint: refer to subsection 3.5 \"SMO\" in notes.\n",
    "    \"\"\"\n",
    "    #########################################\n",
    "    # Creating the lists\n",
    "    iter_num = []\n",
    "    duals = []\n",
    "    primals = []\n",
    "    models = []\n",
    "\n",
    "    # set dual variables to zero\n",
    "    #alpha = np.zeros(model.train_y.shape)\n",
    "    #b = 0\n",
    "\n",
    "    # begin iteration\n",
    "    for t in range(max_iters):\n",
    "        passes = 0\n",
    "\n",
    "        while passes < max_passes:\n",
    "            num_changes = 0\n",
    "            for i in range(model.m):\n",
    "                \n",
    "                if model.kernel_func.__name__ == 'linear_kernel':\n",
    "\n",
    "                    kkt = model.train_y[0,i]*((np.dot(np.multiply(model.alpha, model.train_y), linear_kernel(np.array([model.train_X[:,i]]).T,model.train_X).T) + model.b) - model.train_y[0,i])\n",
    "                #    kkt= model.train_y[0,i]*((np.sum(np.multiply(model.alpha, model.train_y) @ linear_kernel(np.array([model.train_X[:,i]]).T,model.train_X).T) + model.b) - model.train_y[0,i])\n",
    "                #    kkt= model.train_y[0,i]*((np.sum((model.alpha* model.train_y) @ linear_kernel(np.array([model.train_X[:,i]]).T,model.train_X).T) + model.b) - model.train_y[0,i])\n",
    "                #    kkt = model.train_y[0,i]*(f_x(model.train_X, model.train_y, model.alpha, model.b, model.train_X[:,i], 1) - model.train_y[0,i])\n",
    "                #    kkt = model.train_y[:,i]*((np.sum(np.multiply(model.alpha, model.train_y) * linear_kernel(np.array([model.train_X[:,i]]).T,model.train_X).T) + model.b) - model.train_y[:,i])\n",
    "\n",
    "                #    classifier = model.alpha[0,i]*model.train_y[0,i]*np.inner(model.train_X[0,i], model.train_X).sum() + model.b\n",
    "                #    error = classifier - model.train_y[0,i]\n",
    "                #    kkt = model.train_y[0,i]*error\n",
    "\n",
    "                #    kkt = model.train_y[0,i]*(model.alpha[0,i]*np.inner(model.train_X[0,i], model.train_X).sum() + model.b) - 1\n",
    "                #    kkt = model.train_y[0,i] - np.multiply(model.alpha, linear_kernel(np.array([model.train_X[:,i]]).T,model.train_X)).sum() - model.b\n",
    "                \n",
    "                else:\n",
    "\n",
    "                    kkt = model.train_y[0,i]*((np.dot(np.multiply(model.alpha, model.train_y), Gaussian_kernel(np.array([model.train_X[:,i]]), model.train_X).T) + model.b) - model.train_y[0,i])\n",
    "                \n",
    "                if (kkt < -1*tol and model.alpha[0,i] < model.C) or (kkt > tol and model.alpha[0,i] > 0):\n",
    "                    # Random initialize where i != j               \n",
    "                    list_for_randoms = [z for z in range(model.m)]\n",
    "\n",
    "                    list_for_randoms.remove(i)\n",
    "                    j = np.random.choice(list_for_randoms)\n",
    "                    # Traing Example\n",
    "                    x = np.array([model.train_X[:,i], model.train_X[:,j]]).T\n",
    "                    alpha_vec = np.array([[model.alpha[0][i], model.alpha[0][j]]])\n",
    "                    y_vec = np.array([[model.train_y[0][i], model.train_y[0][j]]])\n",
    "\n",
    "                    # Upper and Lower Bounds\n",
    "                    if y_vec[0,0] != y_vec[0,1]: \n",
    "                        H = min(model.C, model.C - alpha_vec[0,0] + alpha_vec[0,1])\n",
    "                        L = max(0, -(alpha_vec[0,0] - alpha_vec[0,1]))\n",
    "\n",
    "                    else:\n",
    "                        H = min(model.C, alpha_vec[0,0] + alpha_vec[0,1])\n",
    "                        L = max(0, alpha_vec[0,0] + alpha_vec[0,1] - model.C)\n",
    "\n",
    "\n",
    "                    # Kernel Used\n",
    "                    if model.kernel_func.__name__ == 'linear_kernel':\n",
    "                        K = np.inner(x,x)\n",
    "                    elif model.kernel_func.__name__ == 'Gaussian_kernel':\n",
    "                        K = Gaussian_kernel(x, x)\n",
    "\n",
    "                    #g vector with g_1 and g_2 inside for efficiency\n",
    "                    g_vec = np.dot(np.multiply(alpha_vec, y_vec), K) + model.b\n",
    "\n",
    "                    # alpha_2 value\n",
    "                    #if K[0][0] + K[1][1] - 2*K[0][1] == 0:\n",
    "                    #    continue\n",
    "                    \n",
    "                    alpha_new = alpha_vec[0, 1] + ((y_vec[0, 1]*(g_vec[0][0] - y_vec[0, 0] - g_vec[0][1] + y_vec[0, 1]))\n",
    "                                            /(K[0][0] + K[1][1] - 2*K[0][1]))\n",
    "\n",
    "                    #if alpha_new < 0:\n",
    "                    #    alpha_new =0\n",
    "\n",
    "                    # alpha_2 classification\n",
    "                    if alpha_new > H:\n",
    "                        alpha_new_clipped = H\n",
    "\n",
    "                    elif alpha_new < L:\n",
    "                        alpha_new_clipped = L\n",
    "\n",
    "                    else: \n",
    "                        alpha_new_clipped = alpha_new\n",
    "\n",
    "                    \n",
    "                    # Stopping if not meaningful change\n",
    "                    if np.abs(alpha_new_clipped-alpha_vec[0, 1]) < tol:\n",
    "\n",
    "                        continue\n",
    "\n",
    "                    # Getting alpha_1 if meaningful change\n",
    "                    alpha_1_new = alpha_vec[0, 0] + (y_vec[0, 0]*y_vec[0, 1]) * (alpha_vec[0, 1] - alpha_new_clipped)\n",
    "\n",
    "                    # b primal\n",
    "                    # E vector (E_1, E_2)\n",
    "                    E = g_vec - y_vec\n",
    "                    b1 = model.b - E[0][0] - y_vec[0, 0]*(alpha_1_new - alpha_vec[0,0])*K[0][0] - y_vec[0, 1]*(alpha_new_clipped - alpha_vec[0, 1])*K[0][1]\n",
    "                    b2 = model.b - E[0][1] - y_vec[0, 0]*(alpha_1_new - alpha_vec[0,0])*K[0][1] - y_vec[0, 1]*(alpha_new_clipped - alpha_vec[0, 1])*K[1][1]\n",
    "\n",
    "                    # update model values\n",
    "                    # alphas\n",
    "                    model.alpha[0][i] = alpha_1_new\n",
    "                    model.alpha[0][j] = alpha_new_clipped\n",
    "\n",
    "                    # b primal\n",
    "                    if 0 < model.alpha[0][i] < model.C:\n",
    "                        b_new = b1\n",
    "                    \n",
    "                    elif 0 < model.alpha[0][j] < model.C:\n",
    "                        b_new = b2\n",
    "\n",
    "                    else:\n",
    "                        b_new = (b1 + b2)/2\n",
    "\n",
    "                    model.b = b_new\n",
    "                    num_changes += 1\n",
    "\n",
    "            if num_changes == 0:\n",
    "                passes +=1\n",
    "            else:\n",
    "                passes = 0\n",
    "\n",
    "        iter_num.append(t)\n",
    "        duals.append(dual_objective_function(model.alpha, model.train_y, model.train_X, model.kernel_func, model.sigma))\n",
    "        primals.append(primal_objective_function(model.alpha, model.train_y, model.train_X, model.b, model.C, model.kernel_func, model.sigma))\n",
    "        models.append(vars(model))\n",
    "    return iter_num, duals, primals, models"
   ]
  },
  {
   "cell_type": "code",
   "execution_count": 243,
   "metadata": {},
   "outputs": [],
   "source": [
    "#model = SVMModel(blob['tr_X'], blob['tr_y'], 1, linear_kernel, 0.1)\n",
    "model = SVMModel(blob['tr_X'], blob['tr_y'], 1, Gaussian_kernel, 0.1)\n",
    "\n",
    "max_iters = 10 \n",
    "record_every = 1 \n",
    "max_passes = 1 \n",
    "tol=1e-6\n",
    "# Creating the lists\n",
    "iter_num = []\n",
    "duals = []\n",
    "primals = []\n",
    "models = []\n",
    "\n",
    "# set dual variables to zero\n",
    "#alpha = np.zeros(model.train_y.shape)\n",
    "#b = 0\n",
    "\n",
    "# begin iteration\n",
    "for t in range(max_iters):\n",
    "    passes = 0\n",
    "\n",
    "    while passes < max_passes:\n",
    "        num_changes = 0\n",
    "        for i in range(model.m):\n",
    "            \n",
    "            if model.kernel_func.__name__ == 'linear_kernel':\n",
    "            #    kkt= model.train_y[0,i]*((np.sum(np.multiply(model.alpha, model.train_y) @ linear_kernel(np.array([model.train_X[:,i]]).T,model.train_X).T) + model.b) - model.train_y[0,i])\n",
    "\n",
    "                mu = model.C - model.alpha[0,i]\n",
    "                wTx = 0\n",
    "                for k in range(model.train_X.shape[1]):\n",
    "                    wTx += model.alpha[0,k]*model.train_y[0,k]*linear_kernel(model.train_X[:,k], model.train_X[:, i])\n",
    "\n",
    "                kkt = (wTx + model.b)\n",
    "                error = max(0, 1-(wTx + model.b)) \n",
    "\n",
    "            else:\n",
    "\n",
    "                #kkt = model.train_y[0,i]*((np.dot(np.multiply(model.alpha, model.train_y), Gaussian_kernel(np.array([model.train_X[:,i]]), model.train_X).T) + model.b) - model.train_y[0,i])\n",
    "                mu = model.C - model.alpha[0,i]\n",
    "                wTx = 0\n",
    "                for k in range(model.train_X.shape[1]):\n",
    "                    wTx += model.alpha[0,k]*model.train_y[0,k]*Gaussian_kernel(np.array([model.train_X[:,k]]).T, np.array([model.train_X[:,i]]).T)\n",
    "\n",
    "                kkt = ((wTx + model.b))\n",
    "                error = max(0, 1-(wTx + model.b)) \n",
    "                    \n",
    "\n",
    "\n",
    "            #print(kkt, model.C,model.alpha[0,i])\n",
    "            #if (kkt < -1*tol and model.alpha[0,i] < model.C) or (kkt > tol and model.alpha[0,i] > 0):\n",
    "            if ((kkt - 1 < 0) and  model.alpha[0,i] == 0) or (0 < model.alpha[0,i] < model.C and (kkt - 1 == tol or kkt - 1 == -tol) and error != 0) or (model.alpha[0,i] == model.C and (kkt - 1 + error != tol or kkt - 1 + error != -tol) and error >= 0):\n",
    "            #if (model.alpha[0,i] < 0 or kkt - 1 + error < 0 or model.alpha[0,i]*(kkt - 1 + error) != 0 or mu < 0 or error < 0 or mu*error != 0):\n",
    "                # Random initialize where i != j               \n",
    "                list_for_randoms = [z for z in range(model.m)]\n",
    "\n",
    "                list_for_randoms.remove(i)\n",
    "                j = np.random.choice(list_for_randoms)\n",
    "                # Traing Example\n",
    "                x = np.array([model.train_X[:,i], model.train_X[:,j]]).T\n",
    "                alpha_vec = np.array([[model.alpha[0][i], model.alpha[0][j]]])\n",
    "                y_vec = np.array([[model.train_y[0][i], model.train_y[0][j]]])\n",
    "\n",
    "                # Upper and Lower Bounds\n",
    "                if y_vec[0,0] != y_vec[0,1]: \n",
    "                    H = min(model.C, model.C - alpha_vec[0,0] + alpha_vec[0,1])\n",
    "                    L = max(0, alpha_vec[0,1] - alpha_vec[0,0])\n",
    "\n",
    "                else:\n",
    "                    H = min(model.C, alpha_vec[0,0] + alpha_vec[0,1])\n",
    "                    L = max(0, alpha_vec[0,0] + alpha_vec[0,1] - model.C)\n",
    "\n",
    "\n",
    "                # Kernel Used\n",
    "                if model.kernel_func.__name__ == 'linear_kernel':\n",
    "                    K = linear_kernel(x,x)\n",
    "                elif model.kernel_func.__name__ == 'Gaussian_kernel':\n",
    "                    K = Gaussian_kernel(x, x)\n",
    "                #print(K)\n",
    "                #g vector with g_1 and g_2 inside for efficiency\n",
    "                g_vec = np.dot(np.multiply(alpha_vec, y_vec), K) + model.b\n",
    "\n",
    "                # alpha_2 value\n",
    "                if K[0][0] + K[1][1] - 2*K[0][1] == 0:\n",
    "                    continue\n",
    "                \n",
    "                alpha_new = alpha_vec[0, 1] + ((y_vec[0, 1]*(g_vec[0][0] - y_vec[0, 0] - g_vec[0][1] + y_vec[0, 1]))\n",
    "                                        /(K[0][0] + K[1][1] - 2*K[0][1]))\n",
    "\n",
    "                #if alpha_new < 0:\n",
    "                #    alpha_new =0\n",
    "\n",
    "                # alpha_2 classification\n",
    "                if alpha_new > H:\n",
    "                    alpha_new_clipped = H\n",
    "\n",
    "                elif alpha_new < L:\n",
    "                    alpha_new_clipped = L\n",
    "\n",
    "                else: \n",
    "                    alpha_new_clipped = alpha_new\n",
    "\n",
    "                \n",
    "                # Stopping if not meaningful change\n",
    "                if np.abs(alpha_new_clipped-alpha_vec[0, 1]) < tol:\n",
    "\n",
    "                    continue\n",
    "\n",
    "                # Getting alpha_1 if meaningful change\n",
    "                alpha_1_new = alpha_vec[0, 0] + (y_vec[0, 0]*y_vec[0, 1]) * (alpha_vec[0, 1] - alpha_new_clipped)\n",
    "\n",
    "                # b primal\n",
    "                # E vector (E_1, E_2)\n",
    "                E = g_vec - y_vec\n",
    "\n",
    "                b1 = model.b - E[0][0] - y_vec[0, 0]*(alpha_1_new - alpha_vec[0,0])*K[0][0] - y_vec[0, 1]*(alpha_new_clipped - alpha_vec[0, 1])*K[0][1]\n",
    "                b2 = model.b - E[0][1] - y_vec[0, 0]*(alpha_1_new - alpha_vec[0,0])*K[0][1] - y_vec[0, 1]*(alpha_new_clipped - alpha_vec[0, 1])*K[1][1]\n",
    "\n",
    "                # update model values\n",
    "                # alphas\n",
    "                model.alpha[0][i] = alpha_1_new\n",
    "                model.alpha[0][j] = alpha_new_clipped\n",
    "\n",
    "                # b primal\n",
    "                if 0 < model.alpha[0][i] < model.C:\n",
    "                    b_new = b1\n",
    "                \n",
    "                elif 0 < model.alpha[0][j] < model.C:\n",
    "                    b_new = b2\n",
    "\n",
    "                else:\n",
    "                    b_new = (b1 + b2)/2\n",
    "\n",
    "                model.b = b_new\n",
    "                num_changes += 1\n",
    "\n",
    "        if num_changes == 0:\n",
    "            passes +=1\n",
    "        else:\n",
    "            passes = 0\n",
    "\n",
    "    iter_num.append(t)\n",
    "    duals.append(dual_objective_function(model.alpha, model.train_y, model.train_X, model.kernel_func, model.sigma))\n",
    "    primals.append(primal_objective_function(model.alpha, model.train_y, model.train_X, model.b, model.C, model.kernel_func, model.sigma))\n",
    "    models.append(vars(model))\n",
    "\n"
   ]
  },
  {
   "cell_type": "code",
   "execution_count": 242,
   "metadata": {},
   "outputs": [
    {
     "data": {
      "text/plain": [
       "array([[0.32688006, 0.        , 0.53626556, 0.06441392, 0.6509281 ,\n",
       "        0.49873894, 0.30668074, 0.22660975, 0.27602648, 0.18586384,\n",
       "        0.36218304, 0.12323028, 0.        , 0.23422726, 0.        ,\n",
       "        0.        , 0.40771843, 0.17300349, 0.17555888, 0.        ,\n",
       "        0.        , 0.26484021, 0.24642978, 0.22259095, 0.23719817,\n",
       "        0.        , 0.23422726, 0.22361936, 0.37091904, 0.        ,\n",
       "        0.24642978, 0.15227758, 0.30348847, 0.30668074, 0.        ,\n",
       "        0.34640905, 0.19660585, 0.184737  , 0.        , 0.        ,\n",
       "        0.        , 0.3837354 , 0.42399161, 0.22361936, 0.19636997,\n",
       "        0.        , 0.21956105, 0.09702541, 0.27787307, 0.06057095,\n",
       "        0.32836587, 0.42024835, 0.27602648, 0.19809073, 0.35358388,\n",
       "        0.        , 0.03583002, 0.62265333, 0.23032464, 0.15423871,\n",
       "        0.11355198, 0.21956105, 0.        , 0.        , 0.22259095,\n",
       "        0.        , 0.03266274, 0.38800248, 0.32573545, 0.21316863,\n",
       "        0.32688006, 0.23032464, 0.        , 0.184737  , 0.06556816,\n",
       "        0.11370867, 0.        , 0.34344123, 0.06000431, 0.19989488,\n",
       "        0.19809073, 0.        , 0.07122684, 0.62036159, 0.04992952,\n",
       "        0.10445019, 0.02584448, 0.04233893, 0.23285707, 0.23226164,\n",
       "        0.45159615, 0.26484021, 0.25347972, 0.26906945, 0.        ,\n",
       "        0.53626556, 0.21316863, 0.22660975, 0.27316325, 0.27316325]])"
      ]
     },
     "execution_count": 242,
     "metadata": {},
     "output_type": "execute_result"
    }
   ],
   "source": [
    "model.alpha"
   ]
  },
  {
   "cell_type": "code",
   "execution_count": 244,
   "metadata": {},
   "outputs": [
    {
     "data": {
      "text/plain": [
       "array([[0.875 , 0.    , 0.375 , 0.75  , 0.9375, 0.5   , 0.    , 0.875 ,\n",
       "        0.75  , 0.25  , 0.5   , 0.6875, 0.75  , 0.5625, 0.875 , 0.5   ,\n",
       "        0.5   , 0.5   , 0.5   , 0.    , 0.    , 0.875 , 0.    , 0.5   ,\n",
       "        0.75  , 0.75  , 0.875 , 0.6875, 0.5625, 0.5   , 0.5   , 0.375 ,\n",
       "        0.    , 0.6875, 0.75  , 0.5   , 0.5   , 0.    , 0.75  , 0.875 ,\n",
       "        0.9375, 0.    , 0.125 , 0.    , 0.25  , 0.75  , 0.5   , 0.25  ,\n",
       "        0.75  , 0.75  , 0.5   , 0.5   , 0.75  , 0.875 , 0.6875, 0.875 ,\n",
       "        0.5625, 0.875 , 0.75  , 0.25  , 0.5   , 0.5   , 0.5   , 0.    ,\n",
       "        0.9375, 0.9375, 0.5   , 0.    , 0.5   , 0.6875, 0.5   , 0.    ,\n",
       "        0.75  , 0.125 , 0.25  , 0.25  , 0.5   , 0.5   , 0.375 , 0.875 ,\n",
       "        0.75  , 0.    , 0.5625, 0.875 , 0.5   , 0.25  , 0.6875, 0.5   ,\n",
       "        0.5625, 0.75  , 0.875 , 0.25  , 0.5625, 0.75  , 0.75  , 0.875 ,\n",
       "        0.5   , 0.5   , 0.75  , 0.75  ]])"
      ]
     },
     "execution_count": 244,
     "metadata": {},
     "output_type": "execute_result"
    }
   ],
   "source": [
    "model.alpha"
   ]
  },
  {
   "cell_type": "code",
   "execution_count": 213,
   "metadata": {},
   "outputs": [
    {
     "ename": "KeyboardInterrupt",
     "evalue": "",
     "output_type": "error",
     "traceback": [
      "\u001b[1;31m---------------------------------------------------------------------------\u001b[0m",
      "\u001b[1;31mKeyboardInterrupt\u001b[0m                         Traceback (most recent call last)",
      "\u001b[1;32mc:\\MFE\\MFE Sem 3\\CSE 426\\CSE_426\\Project 2\\src\\Scratchrun2.ipynb Cell 24\u001b[0m in \u001b[0;36m<cell line: 14>\u001b[1;34m()\u001b[0m\n\u001b[0;32m     <a href='vscode-notebook-cell:/c%3A/MFE/MFE%20Sem%203/CSE%20426/CSE_426/Project%202/src/Scratchrun2.ipynb#Y350sZmlsZQ%3D%3D?line=42'>43</a>\u001b[0m wTx \u001b[39m=\u001b[39m \u001b[39m0\u001b[39m\n\u001b[0;32m     <a href='vscode-notebook-cell:/c%3A/MFE/MFE%20Sem%203/CSE%20426/CSE_426/Project%202/src/Scratchrun2.ipynb#Y350sZmlsZQ%3D%3D?line=43'>44</a>\u001b[0m \u001b[39mfor\u001b[39;00m k \u001b[39min\u001b[39;00m \u001b[39mrange\u001b[39m(model\u001b[39m.\u001b[39mtrain_X\u001b[39m.\u001b[39mshape[\u001b[39m1\u001b[39m]):\n\u001b[1;32m---> <a href='vscode-notebook-cell:/c%3A/MFE/MFE%20Sem%203/CSE%20426/CSE_426/Project%202/src/Scratchrun2.ipynb#Y350sZmlsZQ%3D%3D?line=44'>45</a>\u001b[0m     wTx \u001b[39m+\u001b[39m\u001b[39m=\u001b[39m model\u001b[39m.\u001b[39malpha[\u001b[39m0\u001b[39m,k]\u001b[39m*\u001b[39mmodel\u001b[39m.\u001b[39mtrain_y[\u001b[39m0\u001b[39m,k]\u001b[39m*\u001b[39mlinear_kernel(model\u001b[39m.\u001b[39;49mtrain_X[:,k], model\u001b[39m.\u001b[39;49mtrain_X[:, i])\n\u001b[0;32m     <a href='vscode-notebook-cell:/c%3A/MFE/MFE%20Sem%203/CSE%20426/CSE_426/Project%202/src/Scratchrun2.ipynb#Y350sZmlsZQ%3D%3D?line=46'>47</a>\u001b[0m kkt \u001b[39m=\u001b[39m (model\u001b[39m.\u001b[39mtrain_y[\u001b[39m0\u001b[39m,i]\u001b[39m*\u001b[39m(wTx \u001b[39m+\u001b[39m model\u001b[39m.\u001b[39mb))\n\u001b[0;32m     <a href='vscode-notebook-cell:/c%3A/MFE/MFE%20Sem%203/CSE%20426/CSE_426/Project%202/src/Scratchrun2.ipynb#Y350sZmlsZQ%3D%3D?line=47'>48</a>\u001b[0m error \u001b[39m=\u001b[39m \u001b[39mmax\u001b[39m(\u001b[39m0\u001b[39m, \u001b[39m1\u001b[39m\u001b[39m-\u001b[39mmodel\u001b[39m.\u001b[39mtrain_y[\u001b[39m0\u001b[39m,i]\u001b[39m*\u001b[39m(wTx \u001b[39m+\u001b[39m model\u001b[39m.\u001b[39mb)) \n",
      "File \u001b[1;32mc:\\MFE\\MFE Sem 3\\CSE 426\\CSE_426\\Project 2\\src\\problem1.py:48\u001b[0m, in \u001b[0;36mlinear_kernel\u001b[1;34m(X1, X2)\u001b[0m\n\u001b[0;32m     24\u001b[0m \u001b[39m'''\u001b[39;00m\n\u001b[0;32m     25\u001b[0m \u001b[39mshape_1 = X1.shape\u001b[39;00m\n\u001b[0;32m     26\u001b[0m \u001b[39mshape_2 = X2.shape\u001b[39;00m\n\u001b[1;32m   (...)\u001b[0m\n\u001b[0;32m     38\u001b[0m \u001b[39m    return K\u001b[39;00m\n\u001b[0;32m     39\u001b[0m \u001b[39m'''\u001b[39;00m\n\u001b[0;32m     40\u001b[0m \u001b[39m#if X1.shape[1] == 1 and X2.shape[1] == 1:\u001b[39;00m\n\u001b[0;32m     41\u001b[0m \u001b[39m#    K = np.dot(X1.T, X2)\u001b[39;00m\n\u001b[0;32m     42\u001b[0m \u001b[39m#elif (X1.shape == X2.shape) and (X1.shape[0] == X1.shape[1]) and (X2.shape[0] == X2.shape[1]):\u001b[39;00m\n\u001b[0;32m     43\u001b[0m \u001b[39m#    K = np.inner(X1, X2) # np.dot(X1.T, X2) != (X1^T)(X2) when matrices are square and equal to each other. I may have found a bug in numpy.\u001b[39;00m\n\u001b[0;32m     44\u001b[0m \u001b[39m#elif :\u001b[39;00m\n\u001b[0;32m     45\u001b[0m \u001b[39m#    K = np.dot(X1.T, X2)\u001b[39;00m\n\u001b[1;32m---> 48\u001b[0m K \u001b[39m=\u001b[39m np\u001b[39m.\u001b[39;49mdot(X1\u001b[39m.\u001b[39;49mT, X2)\n\u001b[0;32m     49\u001b[0m \u001b[39mreturn\u001b[39;00m K\n",
      "File \u001b[1;32m<__array_function__ internals>:5\u001b[0m, in \u001b[0;36mdot\u001b[1;34m(*args, **kwargs)\u001b[0m\n",
      "\u001b[1;31mKeyboardInterrupt\u001b[0m: "
     ]
    }
   ],
   "source": [
    "model = SVMModel(blob['tr_X'], blob['tr_y'], 1, linear_kernel, 0.1)\n",
    "#model = SVMModel(blob['tr_X'], blob['tr_y'], 1, Gaussian_kernel, 0.1)\n",
    "# Creating the lists\n",
    "iter_num = []\n",
    "duals = []\n",
    "primals = []\n",
    "models = []\n",
    "\n",
    "# set dual variables to zero\n",
    "#alpha = np.zeros(model.train_y.shape)\n",
    "#b = 0\n",
    "\n",
    "# begin iteration\n",
    "for t in range(max_iters):\n",
    "    passes = 0\n",
    "\n",
    "    while passes < max_passes:\n",
    "        num_changes = 0\n",
    "        for i in range(model.m):\n",
    "            \n",
    "            if model.kernel_func.__name__ == 'linear_kernel':\n",
    "\n",
    "            #    p = 0\n",
    "            #    for k in range(model.train_X.shape[1]):\n",
    "            #        p += (model.alpha[0,k]*model.train_y[0,k]*(linear_kernel(model.train_X[:,k], model.train_X[:,i])-1))\n",
    "            #    p\n",
    "            #    new = p + model.b\n",
    "            #    final = new - model.train_y[0,i]\n",
    "            #    kkt = model.train_y[0,i]*final\n",
    "\n",
    "            #    kkt= model.train_y[0,i]*((np.sum(np.multiply(model.alpha, model.train_y) @ linear_kernel(np.array([model.train_X[:,i]]).T,model.train_X).T) + model.b) - model.train_y[0,i])\n",
    "            #    kkt= model.train_y[0,i]*((np.sum((model.alpha* model.train_y) @ linear_kernel(np.array([model.train_X[:,i]]).T,model.train_X).T) + model.b) - model.train_y[0,i])\n",
    "            #    kkt = model.train_y[0,i]*(f_x(model.train_X, model.train_y, model.alpha, model.b, model.train_X[:,i], 1) - model.train_y[0,i])\n",
    "            #    kkt = model.train_y[:,i]*((np.sum(np.multiply(model.alpha, model.train_y) * linear_kernel(np.array([model.train_X[:,i]]).T,model.train_X).T) + model.b) - model.train_y[:,i])\n",
    "\n",
    "            #    classifier = model.alpha[0,i]*model.train_y[0,i]*np.inner(model.train_X[0,i], model.train_X).sum() + model.b\n",
    "            #    error = classifier - model.train_y[0,i]\n",
    "            #    kkt = model.train_y[0,i]*error\n",
    "\n",
    "            #    kkt = model.train_y[0,i]*(model.alpha[0,i]*np.inner(model.train_X[0,i], model.train_X).sum() + model.b) - 1\n",
    "            #    kkt = model.train_y[0,i] - np.multiply(model.alpha, linear_kernel(np.array([model.train_X[:,i]]).T,model.train_X)).sum() - model.b\n",
    "                mu = model.C - model.alpha[0,i]\n",
    "                wTx = 0\n",
    "                for k in range(model.train_X.shape[1]):\n",
    "                    wTx += model.alpha[0,k]*model.train_y[0,k]*linear_kernel(model.train_X[:,k], model.train_X[:, i])\n",
    "\n",
    "                kkt = (model.train_y[0,i]*(wTx + model.b))\n",
    "                error = max(0, 1-model.train_y[0,i]*(wTx + model.b)) \n",
    "            else:\n",
    "\n",
    "                #kkt = model.train_y[0,i]*((np.dot(np.multiply(model.alpha, model.train_y), Gaussian_kernel(np.array([model.train_X[:,i]]), model.train_X).T) + model.b) - model.train_y[0,i])\n",
    "                mu = model.C - model.alpha[0,i]\n",
    "                wTx = 0\n",
    "                for k in range(model.train_X.shape[1]):\n",
    "                    wTx += model.alpha[0,k]*model.train_y[0,k]*Gaussian_kernel(np.array([model.train_X[:,k]]).T, np.array([model.train_X[:,i]]).T)\n",
    "\n",
    "                kkt = (model.train_y[0,i]*(wTx + model.b))\n",
    "                error = max(0, 1-model.train_y[0,i]*(wTx + model.b)) \n",
    "\n",
    "\n",
    "            #print(kkt, model.C,model.alpha[0,i])\n",
    "            #if (kkt < -1*tol and model.alpha[0,i] < model.C) or (kkt > tol and model.alpha[0,i] > 0):\n",
    "            #if ((kkt - 1 < 0) and  model.alpha[0,i] == 0) or (0 < model.alpha[0,i] < model.C and (kkt - 1 == tol or kkt - 1 == -tol) and error != 0) or (model.alpha[0,i] == model.C and (kkt - 1 + error != tol) and error > 1):\n",
    "            #if ((kkt - 1 < tol) and  model.alpha[0,i] == 0 and error == 0) or (0 < model.alpha[0,i] < model.C and (kkt - 1+error == tol or kkt - 1+error == -tol) and error <= 0) or (model.alpha[0,i] == model.C and (kkt - 1 + error != tol or kkt - 1 + error != -tol) and error >= 0):\n",
    "            #if ((model.alpha[0,i] == 0 and mu == model.C and error == 0 and kkt < 1 - error) \n",
    "            #    or (0 < model.alpha[0,i] < model.C and mu > 0 and error == 0 and kkt != 1 - error)\n",
    "            #    or (model.alpha[0,i] == model.C and mu == 0 and error >= 0 and kkt != 1 - error)):\n",
    "            #if (model.alpha[0,i] < 0 or kkt - 1 + error < 0 or model.alpha[0,i]*(kkt - 1 + error) != 0 or mu < 0 or error < 0 or mu*error != 0):\n",
    "                # Random initialize where i != j               \n",
    "                list_for_randoms = [z for z in range(model.m)]\n",
    "\n",
    "                list_for_randoms.remove(i)\n",
    "                j = np.random.choice(list_for_randoms)\n",
    "                # Traing Example\n",
    "                x = np.array([model.train_X[:,i], model.train_X[:,j]]).T\n",
    "                alpha_vec = np.array([[model.alpha[0][i], model.alpha[0][j]]])\n",
    "                y_vec = np.array([[model.train_y[0][i], model.train_y[0][j]]])\n",
    "\n",
    "                # Upper and Lower Bounds\n",
    "                if y_vec[0,0] != y_vec[0,1]: \n",
    "                    H = min(model.C, model.C - alpha_vec[0,0] + alpha_vec[0,1])\n",
    "                    L = max(0, alpha_vec[0,1] - alpha_vec[0,0])\n",
    "\n",
    "                else:\n",
    "                    H = min(model.C, alpha_vec[0,0] + alpha_vec[0,1])\n",
    "                    L = max(0, alpha_vec[0,0] + alpha_vec[0,1] - model.C)\n",
    "\n",
    "\n",
    "                # Kernel Used\n",
    "                if model.kernel_func.__name__ == 'linear_kernel':\n",
    "                    K = linear_kernel(x,x)\n",
    "                elif model.kernel_func.__name__ == 'Gaussian_kernel':\n",
    "                    K = Gaussian_kernel(x, x)\n",
    "                #print(K)\n",
    "                #g vector with g_1 and g_2 inside for efficiency\n",
    "                g_vec = np.dot(np.multiply(alpha_vec, y_vec), K) + model.b\n",
    "\n",
    "                # alpha_2 value\n",
    "                if K[0][0] + K[1][1] - 2*K[0][1] == 0:\n",
    "                    continue\n",
    "                \n",
    "                alpha_new = alpha_vec[0, 1] + ((y_vec[0, 1]*(g_vec[0][0] - y_vec[0, 0] - g_vec[0][1] + y_vec[0, 1]))\n",
    "                                        /(K[0][0] + K[1][1] - 2*K[0][1]))\n",
    "\n",
    "                #if alpha_new < 0:\n",
    "                #    alpha_new =0\n",
    "\n",
    "                # alpha_2 classification\n",
    "                if alpha_new > H:\n",
    "                    alpha_new_clipped = H\n",
    "\n",
    "                elif alpha_new < L:\n",
    "                    alpha_new_clipped = L\n",
    "\n",
    "                else: \n",
    "                    alpha_new_clipped = alpha_new\n",
    "\n",
    "                \n",
    "                # Stopping if not meaningful change\n",
    "                if np.abs(alpha_new_clipped-alpha_vec[0, 1]) < tol:\n",
    "\n",
    "                    continue\n",
    "\n",
    "                # Getting alpha_1 if meaningful change\n",
    "                alpha_1_new = alpha_vec[0, 0] + (y_vec[0, 0]*y_vec[0, 1]) * (alpha_vec[0, 1] - alpha_new_clipped)\n",
    "\n",
    "                # b primal\n",
    "                # E vector (E_1, E_2)\n",
    "                E = g_vec - y_vec\n",
    "\n",
    "                b1 = model.b - E[0][0] - y_vec[0, 0]*(alpha_1_new - alpha_vec[0,0])*K[0][0] - y_vec[0, 1]*(alpha_new_clipped - alpha_vec[0, 1])*K[0][1]\n",
    "                b2 = model.b - E[0][1] - y_vec[0, 0]*(alpha_1_new - alpha_vec[0,0])*K[0][1] - y_vec[0, 1]*(alpha_new_clipped - alpha_vec[0, 1])*K[1][1]\n",
    "\n",
    "                # update model values\n",
    "                # alphas\n",
    "                model.alpha[0][i] = alpha_1_new\n",
    "                model.alpha[0][j] = alpha_new_clipped\n",
    "\n",
    "                # b primal\n",
    "                if 0 < model.alpha[0][i] < model.C:\n",
    "                    b_new = b1\n",
    "                \n",
    "                elif 0 < model.alpha[0][j] < model.C:\n",
    "                    b_new = b2\n",
    "\n",
    "                else:\n",
    "                    b_new = (b1 + b2)/2\n",
    "\n",
    "                model.b = b_new\n",
    "                num_changes += 1\n",
    "\n",
    "        if num_changes == 0:\n",
    "            passes +=1\n",
    "        else:\n",
    "            passes = 0\n",
    "\n",
    "    iter_num.append(t)\n",
    "    duals.append(dual_objective_function(model.alpha, model.train_y, model.train_X, model.kernel_func, model.sigma))\n",
    "    primals.append(primal_objective_function(model.alpha, model.train_y, model.train_X, model.b, model.C, model.kernel_func, model.sigma))\n",
    "    models.append(vars(model))"
   ]
  },
  {
   "cell_type": "code",
   "execution_count": 212,
   "metadata": {},
   "outputs": [
    {
     "data": {
      "text/plain": [
       "array([[1.        , 0.99999982, 0.99999904, 0.99999974, 0.99999898,\n",
       "        1.        , 0.99999983, 0.99999889, 1.        , 1.        ,\n",
       "        1.        , 1.        , 1.        , 0.99999905, 0.9999997 ,\n",
       "        0.99999969, 0.99999812, 0.99999927, 1.        , 0.99999938,\n",
       "        1.        , 1.        , 1.        , 1.        , 0.99999919,\n",
       "        1.        , 1.        , 1.        , 1.        , 0.99999924,\n",
       "        1.        , 1.        , 0.99999994, 0.99999926, 1.        ,\n",
       "        0.99999899, 1.        , 1.        , 0.9999994 , 0.99999862,\n",
       "        1.        , 1.        , 1.        , 0.9999989 , 1.        ,\n",
       "        1.        , 1.        , 1.        , 1.        , 0.99999975,\n",
       "        0.99999907, 1.        , 0.99999941, 0.9999998 , 0.99999984,\n",
       "        0.99999957, 1.        , 1.        , 0.99999936, 0.99999969,\n",
       "        0.99999936, 1.        , 1.        , 1.        , 1.        ,\n",
       "        1.        , 1.        , 1.        , 1.        , 1.        ,\n",
       "        0.99999935, 1.        , 1.        , 0.9999982 , 1.        ,\n",
       "        1.        , 1.        , 0.99999962, 0.99999974, 1.        ,\n",
       "        0.99999945, 1.        , 0.99999995, 0.99999993, 0.9999992 ,\n",
       "        1.        , 0.99999955, 0.9999999 , 0.9999987 , 1.        ,\n",
       "        1.        , 1.        , 0.99999926, 1.        , 0.99999936,\n",
       "        1.        , 1.        , 1.        , 1.        , 1.        ]])"
      ]
     },
     "execution_count": 212,
     "metadata": {},
     "output_type": "execute_result"
    }
   ],
   "source": [
    "model.alpha"
   ]
  },
  {
   "cell_type": "code",
   "execution_count": 214,
   "metadata": {},
   "outputs": [
    {
     "data": {
      "text/plain": [
       "array([[ 4.58627130e-01,  0.00000000e+00,  8.81712813e-01,\n",
       "         2.80726391e-02,  1.00000000e+00,  0.00000000e+00,\n",
       "         2.46272178e-01,  6.82344661e-01,  2.24059939e-01,\n",
       "         2.19441955e-01,  0.00000000e+00,  0.00000000e+00,\n",
       "         2.77555756e-17,  0.00000000e+00,  0.00000000e+00,\n",
       "         0.00000000e+00,  4.97701259e-01,  2.61194520e-01,\n",
       "         5.28589508e-01, -2.77555756e-17,  4.69438226e-01,\n",
       "         0.00000000e+00,  0.00000000e+00,  1.35225400e-01,\n",
       "         3.25480698e-02, -3.81639165e-17,  0.00000000e+00,\n",
       "         5.55111512e-17,  5.26216627e-01,  0.00000000e+00,\n",
       "         2.98020147e-01,  5.75104933e-01,  0.00000000e+00,\n",
       "         1.00000000e+00,  4.43361692e-01,  0.00000000e+00,\n",
       "         0.00000000e+00,  2.88724904e-01,  0.00000000e+00,\n",
       "         2.87888296e-01,  3.80649568e-01,  0.00000000e+00,\n",
       "         4.16950403e-01,  2.19441955e-01,  0.00000000e+00,\n",
       "         3.48216722e-01,  1.40906209e-01,  1.15444125e-01,\n",
       "         6.42919582e-01,  1.01887165e-01,  0.00000000e+00,\n",
       "         0.00000000e+00,  0.00000000e+00,  1.77634297e-01,\n",
       "         2.93030610e-01,  1.71399080e-01,  2.90731817e-01,\n",
       "         1.00000000e+00,  2.38588640e-01,  0.00000000e+00,\n",
       "         1.81533489e-01,  2.69480445e-01,  3.57853907e-01,\n",
       "         0.00000000e+00,  0.00000000e+00,  5.66255105e-02,\n",
       "         0.00000000e+00,  0.00000000e+00,  0.00000000e+00,\n",
       "         1.78343557e-01,  2.04672183e-01,  0.00000000e+00,\n",
       "         3.51832023e-02,  1.49557641e-01,  0.00000000e+00,\n",
       "         4.52203298e-01,  3.96852342e-01,  2.86033571e-01,\n",
       "         7.31264855e-01,  2.34984495e-01,  0.00000000e+00,\n",
       "         0.00000000e+00,  4.15269482e-02,  7.48595715e-01,\n",
       "         1.00000000e+00,  5.55111512e-17,  0.00000000e+00,\n",
       "         0.00000000e+00,  0.00000000e+00,  7.01422173e-01,\n",
       "         6.85033585e-01,  1.04810792e-01,  0.00000000e+00,\n",
       "         0.00000000e+00,  5.90691524e-01,  7.26844059e-01,\n",
       "         2.77555756e-17,  0.00000000e+00,  6.13980596e-01,\n",
       "        -3.46944695e-18]])"
      ]
     },
     "execution_count": 214,
     "metadata": {},
     "output_type": "execute_result"
    }
   ],
   "source": [
    "model.alpha"
   ]
  },
  {
   "cell_type": "code",
   "execution_count": 142,
   "metadata": {},
   "outputs": [],
   "source": [
    "from sklearn.datasets import make_blobs, make_circles, make_moons\n",
    "from sklearn.preprocessing import StandardScaler\n",
    "from sklearn.metrics import accuracy_score"
   ]
  },
  {
   "cell_type": "code",
   "execution_count": 143,
   "metadata": {},
   "outputs": [],
   "source": [
    "n_samples = 100\n",
    "X_train, y = make_blobs(n_samples, centers=2, n_features=2, random_state=1)"
   ]
  },
  {
   "cell_type": "code",
   "execution_count": 145,
   "metadata": {},
   "outputs": [
    {
     "data": {
      "text/plain": [
       "array([[ -31.31501645,  345.77554417,  -17.20566654,  -89.8476444 ,\n",
       "         288.86100626,  324.87200702,  336.81848283,  341.37722053,\n",
       "         -65.86106922,  -75.96386109,  386.2793888 ,  -96.06655362,\n",
       "         363.81956998,  -88.00791515,  337.33407095,  316.20180113,\n",
       "         323.66299518,  -27.86067192,  -58.03953211,  369.33057132,\n",
       "         326.13539571,  351.92579037,  347.04279536,  -67.50274126,\n",
       "         -40.67753598,  412.96581144,  337.4530987 ,  -64.53153497,\n",
       "         -52.10399973,  360.83835557,  -71.76445505,  -28.51760237,\n",
       "         383.21387371,  -39.21946158,  297.13725263,  353.19764407,\n",
       "        -100.06628567,  372.74767999,  365.25571505,  352.36438824,\n",
       "         340.81556808,  369.17098882,  -48.18673298,  363.4514196 ,\n",
       "         -73.43186951,  329.47125005, -100.33865062,  -86.32135466,\n",
       "         -43.32939644,  -39.77444286,  -55.14299553,  369.11077134,\n",
       "         329.09060559,  336.06856814,  -83.58009305,  337.91727874,\n",
       "         -67.03078481,  266.41324902,  -80.79513773,  -71.16872114,\n",
       "         -80.20860349,  340.3402288 ,  302.05731592,  365.50622497,\n",
       "         362.50107525,  319.73659745,  -77.14792463,  370.27165952,\n",
       "         -39.94223524,  -78.05218402,  321.54743866,  350.70495484,\n",
       "         320.78426036, -109.18492104, -125.1224565 ,  -24.35006061,\n",
       "         306.0970205 ,  350.46505763,  -26.3045408 ,  -84.14438982,\n",
       "        -130.8062873 ,  355.08222888,  -90.86860466,  271.42907338,\n",
       "         -38.64270347,  -67.2190148 , -121.37777065,  -71.50327199,\n",
       "         -78.03618502,  -48.48402061,  308.06090361,  -51.37711839,\n",
       "         -74.60692717,  -57.97847633,  308.07705534,  266.94784319,\n",
       "         372.88129103,  -94.2268338 ,  300.40317126,  -90.73010743]])"
      ]
     },
     "execution_count": 145,
     "metadata": {},
     "output_type": "execute_result"
    }
   ],
   "source": [
    "decision_function(model.alpha, model.train_y, model.train_X, model.b, linear_kernel, 0.1, X_train.T)"
   ]
  },
  {
   "cell_type": "code",
   "execution_count": 140,
   "metadata": {},
   "outputs": [
    {
     "data": {
      "text/plain": [
       "array([[0.45979634, 0.36823187, 0.67692708, 0.13184387, 0.60190213,\n",
       "        0.24744786, 0.38359493, 0.32302223, 0.22796015, 0.31131117,\n",
       "        0.24152955, 0.16716928, 0.20640154, 0.21296454, 0.25926165,\n",
       "        0.14053128, 0.20983017, 0.32494544, 0.38436204, 0.23200047,\n",
       "        0.37362779, 0.24088098, 0.36507307, 0.18302267, 0.38925075,\n",
       "        0.10709226, 0.38654494, 0.41025154, 0.09985915, 0.21169946,\n",
       "        0.28025806, 0.32541488, 0.2012064 , 0.38004682, 0.31131117,\n",
       "        0.23285707, 0.26105463, 0.30957003, 0.18793501, 0.43399686,\n",
       "        0.17783531, 0.15253538, 0.28949209, 0.29756551, 0.13487547,\n",
       "        0.11300307, 0.39328045, 0.33512226, 0.00889919, 0.04037955,\n",
       "        0.22263791, 0.21280546, 0.17055081, 0.46724888, 0.31498398,\n",
       "        0.1484487 , 0.4245637 , 0.37936157, 0.2012064 , 0.10284712,\n",
       "        0.10884449, 0.44204638, 0.25539327, 0.24119721, 0.3128237 ,\n",
       "        0.05828799, 0.06231872, 0.21376812, 0.20640154, 0.3806057 ,\n",
       "        0.28025806, 0.11347886, 0.30125283, 0.25539327, 0.10103283,\n",
       "        0.28612763, 0.27347428, 0.18237033, 0.38271499, 0.09376756,\n",
       "        0.20983017, 0.16682409, 0.17326575, 0.0876744 , 0.4152274 ,\n",
       "        0.18793501, 0.06159949, 0.36221682, 0.25579462, 0.36423484,\n",
       "        0.26688574, 0.38414998, 0.00519399, 0.30125283, 0.29443952,\n",
       "        0.33411209, 0.10826107, 0.26688574, 0.27316325, 0.34109471]])"
      ]
     },
     "execution_count": 140,
     "metadata": {},
     "output_type": "execute_result"
    }
   ],
   "source": [
    "model.alpha"
   ]
  },
  {
   "cell_type": "code",
   "execution_count": 114,
   "metadata": {},
   "outputs": [
    {
     "data": {
      "text/plain": [
       "array([[0.42672735, 0.34797334, 0.20485226, 0.31717897, 0.32423481,\n",
       "        0.17339105, 0.24273077, 0.41834229, 0.20499182, 0.24936404,\n",
       "        0.07353774, 0.13931277, 0.10401772, 0.30968182, 0.17572057,\n",
       "        0.17429454, 0.34169653, 0.44120314, 0.2857535 , 0.15573808,\n",
       "        0.36815267, 0.21450505, 0.29122968, 0.2474573 , 0.56766943,\n",
       "        0.21814801, 0.11262778, 0.46883459, 0.39404682, 0.28546507,\n",
       "        0.12250467, 0.3980395 , 0.10542531, 0.24273077, 0.2900291 ,\n",
       "        0.12041324, 0.0443533 , 0.2105633 , 0.38846706, 0.32472015,\n",
       "        0.24936404, 0.17989149, 0.36597907, 0.25996533, 0.36431825,\n",
       "        0.28627378, 0.3238149 , 0.20282801, 0.35278332, 0.01510629,\n",
       "        0.37132737, 0.17715481, 0.20485226, 0.20683247, 0.21747106,\n",
       "        0.19313866, 0.39540924, 0.59345761, 0.03602317, 0.38035924,\n",
       "        0.19089969, 0.23614408, 0.28133335, 0.22294567, 0.20627615,\n",
       "        0.16743094, 0.23198105, 0.23580539, 0.36195711, 0.246091  ,\n",
       "        0.358045  , 0.2474573 , 0.24082509, 0.09971622, 0.17715481,\n",
       "        0.34169653, 0.35278332, 0.21321393, 0.4932462 , 0.29180294,\n",
       "        0.13253669, 0.23198105, 0.20627615, 0.36431825, 0.2761234 ,\n",
       "        0.39627084, 0.21580249, 0.20683247, 0.07253508, 0.44464805,\n",
       "        0.28795246, 0.22294567, 0.00766275, 0.23580539, 0.55467885,\n",
       "        0.52917674, 0.30627935, 0.08516464, 0.29180294, 0.11353302]])"
      ]
     },
     "execution_count": 114,
     "metadata": {},
     "output_type": "execute_result"
    }
   ],
   "source": [
    "model.alpha"
   ]
  },
  {
   "cell_type": "code",
   "execution_count": 99,
   "metadata": {},
   "outputs": [
    {
     "data": {
      "text/plain": [
       "array([[0., 0., 0., 0., 0., 0., 0., 0., 0., 0., 0., 0., 0., 0., 0., 0.,\n",
       "        0., 0., 0., 0., 0., 0., 0., 0., 0., 0., 0., 0., 0., 0., 0., 0.,\n",
       "        0., 0., 0., 0., 0., 0., 0., 0., 0., 0., 0., 0., 0., 0., 0., 0.,\n",
       "        0., 0., 0., 0., 0., 0., 0., 0., 0., 0., 0., 0., 0., 0., 0., 0.,\n",
       "        0., 0., 0., 0., 0., 0., 0., 0., 0., 0., 0., 0., 0., 0., 0., 0.,\n",
       "        0., 0., 0., 0., 0., 0., 0., 0., 0., 0., 0., 0., 0., 0., 0., 0.,\n",
       "        0., 0., 0., 0.]])"
      ]
     },
     "execution_count": 99,
     "metadata": {},
     "output_type": "execute_result"
    }
   ],
   "source": [
    "model.alpha"
   ]
  },
  {
   "cell_type": "code",
   "execution_count": 50,
   "metadata": {},
   "outputs": [],
   "source": [
    "wTx = 0\n",
    "for k in range(model.train_X.shape[1]):\n",
    "    wTx += model.alpha[0,k]*linear_kernel(model.train_X[0,k], model.train_X[0, i])"
   ]
  },
  {
   "cell_type": "code",
   "execution_count": 51,
   "metadata": {},
   "outputs": [
    {
     "data": {
      "text/plain": [
       "0.15424499511384682"
      ]
     },
     "execution_count": 51,
     "metadata": {},
     "output_type": "execute_result"
    }
   ],
   "source": [
    "wTx"
   ]
  },
  {
   "cell_type": "code",
   "execution_count": 55,
   "metadata": {},
   "outputs": [
    {
     "data": {
      "text/plain": [
       "array([[0., 0., 0., 0., 0., 0., 0., 0., 0., 0., 0., 0., 0., 0., 0., 0.,\n",
       "        0., 0., 0., 0., 0., 0., 0., 0., 0., 0., 0., 0., 0., 0., 0., 0.,\n",
       "        0., 0., 0., 0., 0., 0., 0., 0., 0., 0., 0., 0., 0., 0., 0., 0.,\n",
       "        0., 0., 0., 0., 0., 0., 0., 0., 0., 0., 0., 0., 0., 0., 0., 0.,\n",
       "        0., 0., 0., 0., 0., 0., 0., 0., 0., 0., 0., 0., 0., 0., 0., 0.,\n",
       "        0., 0., 0., 0., 0., 0., 0., 0., 0., 0., 0., 0., 0., 0., 0., 0.,\n",
       "        0., 0., 0., 0.]])"
      ]
     },
     "execution_count": 55,
     "metadata": {},
     "output_type": "execute_result"
    }
   ],
   "source": [
    "model.alpha"
   ]
  },
  {
   "cell_type": "code",
   "execution_count": 65,
   "metadata": {},
   "outputs": [
    {
     "data": {
      "text/plain": [
       "array([1.01140854, 1.14797295])"
      ]
     },
     "execution_count": 65,
     "metadata": {},
     "output_type": "execute_result"
    }
   ],
   "source": [
    "model.train_X[:,3]"
   ]
  },
  {
   "cell_type": "code",
   "execution_count": 66,
   "metadata": {},
   "outputs": [
    {
     "data": {
      "text/plain": [
       "array([-0.44558325, -1.02919521])"
      ]
     },
     "execution_count": 66,
     "metadata": {},
     "output_type": "execute_result"
    }
   ],
   "source": [
    "model.train_X[:,4]"
   ]
  },
  {
   "cell_type": "code",
   "execution_count": 72,
   "metadata": {},
   "outputs": [
    {
     "data": {
      "text/plain": [
       "array([[ 1.01140854, -0.44558325],\n",
       "       [ 1.14797295, -1.02919521]])"
      ]
     },
     "execution_count": 72,
     "metadata": {},
     "output_type": "execute_result"
    }
   ],
   "source": [
    "test = np.array([model.train_X[:,3],model.train_X[:,4]]).T\n",
    "test"
   ]
  },
  {
   "cell_type": "code",
   "execution_count": 76,
   "metadata": {},
   "outputs": [
    {
     "data": {
      "text/plain": [
       "array([[ 1.01140854,  1.14797295],\n",
       "       [-0.44558325, -1.02919521]])"
      ]
     },
     "execution_count": 76,
     "metadata": {},
     "output_type": "execute_result"
    }
   ],
   "source": [
    "test.T"
   ]
  },
  {
   "cell_type": "code",
   "execution_count": 83,
   "metadata": {},
   "outputs": [
    {
     "data": {
      "text/plain": [
       "1.6196617995675748"
      ]
     },
     "execution_count": 83,
     "metadata": {},
     "output_type": "execute_result"
    }
   ],
   "source": [
    "sum(test.T[:,0]*test[1,:])"
   ]
  },
  {
   "cell_type": "code",
   "execution_count": 84,
   "metadata": {},
   "outputs": [
    {
     "data": {
      "text/plain": [
       "array([ 1.01140854, -0.44558325])"
      ]
     },
     "execution_count": 84,
     "metadata": {},
     "output_type": "execute_result"
    }
   ],
   "source": [
    "test.T[:,0]"
   ]
  },
  {
   "cell_type": "code",
   "execution_count": 85,
   "metadata": {},
   "outputs": [
    {
     "data": {
      "text/plain": [
       "array([ 1.14797295, -1.02919521])"
      ]
     },
     "execution_count": 85,
     "metadata": {},
     "output_type": "execute_result"
    }
   ],
   "source": [
    "test[1,:]"
   ]
  },
  {
   "cell_type": "code",
   "execution_count": 73,
   "metadata": {},
   "outputs": [
    {
     "data": {
      "text/plain": [
       "array([[1.22149167, 1.6196618 ],\n",
       "       [1.6196618 , 2.37708468]])"
      ]
     },
     "execution_count": 73,
     "metadata": {},
     "output_type": "execute_result"
    }
   ],
   "source": [
    "np.inner(test, test)"
   ]
  },
  {
   "cell_type": "code",
   "execution_count": 75,
   "metadata": {},
   "outputs": [
    {
     "data": {
      "text/plain": [
       "array([[ 2.34078913, -1.63215497],\n",
       "       [-1.63215497,  1.25778722]])"
      ]
     },
     "execution_count": 75,
     "metadata": {},
     "output_type": "execute_result"
    }
   ],
   "source": [
    "np.dot(test.T, test)"
   ]
  },
  {
   "cell_type": "code",
   "execution_count": 50,
   "metadata": {},
   "outputs": [
    {
     "data": {
      "text/plain": [
       "array([[1, 5],\n",
       "       [7, 4]])"
      ]
     },
     "execution_count": 50,
     "metadata": {},
     "output_type": "execute_result"
    }
   ],
   "source": [
    "X1.T"
   ]
  },
  {
   "cell_type": "code",
   "execution_count": 43,
   "metadata": {},
   "outputs": [
    {
     "data": {
      "text/plain": [
       "array([[1, 7],\n",
       "       [5, 4]])"
      ]
     },
     "execution_count": 43,
     "metadata": {},
     "output_type": "execute_result"
    }
   ],
   "source": [
    "X2"
   ]
  },
  {
   "cell_type": "code",
   "execution_count": 52,
   "metadata": {},
   "outputs": [
    {
     "data": {
      "text/plain": [
       "array([[26, 27],\n",
       "       [27, 65]])"
      ]
     },
     "execution_count": 52,
     "metadata": {},
     "output_type": "execute_result"
    }
   ],
   "source": [
    "X1 = np.array([[1, 5], [7, 4]]).T\n",
    "X2 = np.array([[1, 5], [7, 4]]).T\n",
    "\n",
    "np.inner(X1.T, X2.T)"
   ]
  },
  {
   "cell_type": "code",
   "execution_count": 36,
   "metadata": {},
   "outputs": [],
   "source": [
    "X1 = np.array([[1, 2], [2, 4]]).T\n",
    "X2 = np.array([[3, 4], [1, 2], [5, 6]]).T"
   ]
  },
  {
   "cell_type": "code",
   "execution_count": 38,
   "metadata": {},
   "outputs": [
    {
     "data": {
      "text/plain": [
       "array([[3, 1, 5],\n",
       "       [4, 2, 6]])"
      ]
     },
     "execution_count": 38,
     "metadata": {},
     "output_type": "execute_result"
    }
   ],
   "source": [
    "X2"
   ]
  },
  {
   "cell_type": "code",
   "execution_count": null,
   "metadata": {},
   "outputs": [],
   "source": []
  },
  {
   "cell_type": "code",
   "execution_count": 45,
   "metadata": {},
   "outputs": [
    {
     "data": {
      "text/plain": [
       "array([[26, 27],\n",
       "       [27, 65]])"
      ]
     },
     "execution_count": 45,
     "metadata": {},
     "output_type": "execute_result"
    }
   ],
   "source": [
    "np.dot(X1.T, X2)"
   ]
  },
  {
   "cell_type": "code",
   "execution_count": 27,
   "metadata": {},
   "outputs": [
    {
     "data": {
      "text/plain": [
       "(1, 2)"
      ]
     },
     "execution_count": 27,
     "metadata": {},
     "output_type": "execute_result"
    }
   ],
   "source": [
    "np.array([model.train_X[:,0]]).shape"
   ]
  },
  {
   "cell_type": "code",
   "execution_count": 28,
   "metadata": {},
   "outputs": [
    {
     "data": {
      "text/plain": [
       "(2, 100)"
      ]
     },
     "execution_count": 28,
     "metadata": {},
     "output_type": "execute_result"
    }
   ],
   "source": [
    "model.train_X.shape"
   ]
  },
  {
   "cell_type": "code",
   "execution_count": null,
   "metadata": {},
   "outputs": [],
   "source": []
  },
  {
   "cell_type": "code",
   "execution_count": 126,
   "metadata": {},
   "outputs": [
    {
     "data": {
      "text/plain": [
       "True"
      ]
     },
     "execution_count": 126,
     "metadata": {},
     "output_type": "execute_result"
    }
   ],
   "source": [
    "np.allclose(X1, X2)"
   ]
  },
  {
   "cell_type": "code",
   "execution_count": 119,
   "metadata": {},
   "outputs": [
    {
     "data": {
      "text/plain": [
       "True"
      ]
     },
     "execution_count": 119,
     "metadata": {},
     "output_type": "execute_result"
    }
   ],
   "source": [
    "X1.shape == X2.shape"
   ]
  },
  {
   "cell_type": "code",
   "execution_count": 107,
   "metadata": {},
   "outputs": [
    {
     "data": {
      "text/plain": [
       "array([[26, 27],\n",
       "       [27, 65]])"
      ]
     },
     "execution_count": 107,
     "metadata": {},
     "output_type": "execute_result"
    }
   ],
   "source": [
    "np.dot(X1.T, X2)"
   ]
  },
  {
   "cell_type": "code",
   "execution_count": 93,
   "metadata": {},
   "outputs": [
    {
     "data": {
      "text/plain": [
       "array([[26, 27],\n",
       "       [27, 65]])"
      ]
     },
     "execution_count": 93,
     "metadata": {},
     "output_type": "execute_result"
    }
   ],
   "source": [
    "np.dot(X1.T, X2)"
   ]
  },
  {
   "cell_type": "code",
   "execution_count": 90,
   "metadata": {},
   "outputs": [
    {
     "data": {
      "text/plain": [
       "array([[11]])"
      ]
     },
     "execution_count": 90,
     "metadata": {},
     "output_type": "execute_result"
    }
   ],
   "source": [
    "X1 = np.array([[1, 2]]).T\n",
    "X2 = np.array([[3, 4]]).T\n",
    "\n",
    "np.dot(X1.T, X2)"
   ]
  },
  {
   "cell_type": "code",
   "execution_count": 87,
   "metadata": {},
   "outputs": [
    {
     "data": {
      "text/plain": [
       "array([[1, 5],\n",
       "       [7, 4]])"
      ]
     },
     "execution_count": 87,
     "metadata": {},
     "output_type": "execute_result"
    }
   ],
   "source": [
    "X1.T"
   ]
  },
  {
   "cell_type": "code",
   "execution_count": 115,
   "metadata": {},
   "outputs": [
    {
     "data": {
      "text/plain": [
       "array([[11,  5],\n",
       "       [22, 10]])"
      ]
     },
     "execution_count": 115,
     "metadata": {},
     "output_type": "execute_result"
    }
   ],
   "source": [
    "np.dot(X1, X2)"
   ]
  },
  {
   "cell_type": "code",
   "execution_count": 47,
   "metadata": {},
   "outputs": [
    {
     "data": {
      "text/plain": [
       "array([[3, 4],\n",
       "       [1, 2],\n",
       "       [5, 6]])"
      ]
     },
     "execution_count": 47,
     "metadata": {},
     "output_type": "execute_result"
    }
   ],
   "source": [
    "np.array([[3, 4], [1, 2], [5, 6]])"
   ]
  },
  {
   "cell_type": "code",
   "execution_count": 41,
   "metadata": {},
   "outputs": [
    {
     "data": {
      "text/plain": [
       "array([[11,  5, 17],\n",
       "       [22, 10, 34]])"
      ]
     },
     "execution_count": 41,
     "metadata": {},
     "output_type": "execute_result"
    }
   ],
   "source": [
    "np.dot(X1, X2)"
   ]
  },
  {
   "cell_type": "code",
   "execution_count": 130,
   "metadata": {},
   "outputs": [
    {
     "ename": "ValueError",
     "evalue": "shapes (2,2) and (3,2) not aligned: 2 (dim 1) != 3 (dim 0)",
     "output_type": "error",
     "traceback": [
      "\u001b[1;31m---------------------------------------------------------------------------\u001b[0m",
      "\u001b[1;31mValueError\u001b[0m                                Traceback (most recent call last)",
      "\u001b[1;32mc:\\MFE\\MFE Sem 3\\CSE 426\\CSE_426\\Project 2\\src\\Scratchrun2.ipynb Cell 27\u001b[0m in \u001b[0;36m<cell line: 4>\u001b[1;34m()\u001b[0m\n\u001b[0;32m      <a href='vscode-notebook-cell:/c%3A/MFE/MFE%20Sem%203/CSE%20426/CSE_426/Project%202/src/Scratchrun2.ipynb#Y223sZmlsZQ%3D%3D?line=0'>1</a>\u001b[0m X1 \u001b[39m=\u001b[39m np\u001b[39m.\u001b[39marray([[\u001b[39m1\u001b[39m, \u001b[39m2\u001b[39m], [\u001b[39m2\u001b[39m, \u001b[39m4\u001b[39m]])\u001b[39m.\u001b[39mT\n\u001b[0;32m      <a href='vscode-notebook-cell:/c%3A/MFE/MFE%20Sem%203/CSE%20426/CSE_426/Project%202/src/Scratchrun2.ipynb#Y223sZmlsZQ%3D%3D?line=1'>2</a>\u001b[0m X2 \u001b[39m=\u001b[39m np\u001b[39m.\u001b[39marray([[\u001b[39m3\u001b[39m, \u001b[39m4\u001b[39m], [\u001b[39m1\u001b[39m, \u001b[39m2\u001b[39m], [\u001b[39m5\u001b[39m, \u001b[39m6\u001b[39m]] )\u001b[39m.\u001b[39mT\n\u001b[1;32m----> <a href='vscode-notebook-cell:/c%3A/MFE/MFE%20Sem%203/CSE%20426/CSE_426/Project%202/src/Scratchrun2.ipynb#Y223sZmlsZQ%3D%3D?line=3'>4</a>\u001b[0m np\u001b[39m.\u001b[39;49minner(X1, X2)\n",
      "File \u001b[1;32m<__array_function__ internals>:5\u001b[0m, in \u001b[0;36minner\u001b[1;34m(*args, **kwargs)\u001b[0m\n",
      "\u001b[1;31mValueError\u001b[0m: shapes (2,2) and (3,2) not aligned: 2 (dim 1) != 3 (dim 0)"
     ]
    }
   ],
   "source": [
    "X1 = np.array([[1, 2], [2, 4]]).T\n",
    "X2 = np.array([[3, 4], [1, 2], [5, 6]] ).T\n",
    "\n",
    "np.inner(X1, X2)"
   ]
  },
  {
   "cell_type": "code",
   "execution_count": 131,
   "metadata": {},
   "outputs": [
    {
     "data": {
      "text/plain": [
       "array([[11,  5, 17],\n",
       "       [22, 10, 34]])"
      ]
     },
     "execution_count": 131,
     "metadata": {},
     "output_type": "execute_result"
    }
   ],
   "source": [
    "np.dot(X1.T, X2)"
   ]
  },
  {
   "cell_type": "code",
   "execution_count": 101,
   "metadata": {},
   "outputs": [
    {
     "data": {
      "text/plain": [
       "array([[1, 2],\n",
       "       [2, 4]])"
      ]
     },
     "execution_count": 101,
     "metadata": {},
     "output_type": "execute_result"
    }
   ],
   "source": [
    "X1.T"
   ]
  },
  {
   "cell_type": "code",
   "execution_count": 103,
   "metadata": {},
   "outputs": [
    {
     "data": {
      "text/plain": [
       "array([[3, 1],\n",
       "       [4, 2]])"
      ]
     },
     "execution_count": 103,
     "metadata": {},
     "output_type": "execute_result"
    }
   ],
   "source": [
    "X2"
   ]
  },
  {
   "cell_type": "code",
   "execution_count": 104,
   "metadata": {},
   "outputs": [
    {
     "data": {
      "text/plain": [
       "array([[11,  5],\n",
       "       [22, 10]])"
      ]
     },
     "execution_count": 104,
     "metadata": {},
     "output_type": "execute_result"
    }
   ],
   "source": [
    "np.dot(X1.T, X2)"
   ]
  },
  {
   "cell_type": "code",
   "execution_count": 50,
   "metadata": {},
   "outputs": [
    {
     "data": {
      "text/plain": [
       "array([[3, 1],\n",
       "       [4, 2]])"
      ]
     },
     "execution_count": 50,
     "metadata": {},
     "output_type": "execute_result"
    }
   ],
   "source": [
    "np.array([[3, 4], [1, 2]]).T"
   ]
  },
  {
   "cell_type": "code",
   "execution_count": 38,
   "metadata": {},
   "outputs": [
    {
     "data": {
      "text/plain": [
       "array([[11,  5],\n",
       "       [22, 10]])"
      ]
     },
     "execution_count": 38,
     "metadata": {},
     "output_type": "execute_result"
    }
   ],
   "source": [
    "np.dot(X1.T, X2)"
   ]
  },
  {
   "cell_type": "code",
   "execution_count": 25,
   "metadata": {},
   "outputs": [
    {
     "data": {
      "text/plain": [
       "array([[1, 2],\n",
       "       [2, 4]])"
      ]
     },
     "execution_count": 25,
     "metadata": {},
     "output_type": "execute_result"
    }
   ],
   "source": [
    "X1"
   ]
  },
  {
   "cell_type": "code",
   "execution_count": 26,
   "metadata": {},
   "outputs": [
    {
     "data": {
      "text/plain": [
       "array([[3, 1],\n",
       "       [4, 2]])"
      ]
     },
     "execution_count": 26,
     "metadata": {},
     "output_type": "execute_result"
    }
   ],
   "source": [
    "X2"
   ]
  },
  {
   "cell_type": "code",
   "execution_count": 8,
   "metadata": {},
   "outputs": [
    {
     "data": {
      "text/plain": [
       "array([[3, 4],\n",
       "       [6, 8]])"
      ]
     },
     "execution_count": 8,
     "metadata": {},
     "output_type": "execute_result"
    }
   ],
   "source": [
    "X1 = np.array([[1, 2]]).T\n",
    "X2 = np.array([[3, 4]]).T\n",
    "np.inner(X1, X2)"
   ]
  },
  {
   "cell_type": "code",
   "execution_count": null,
   "metadata": {},
   "outputs": [],
   "source": [
    "np.dot()"
   ]
  },
  {
   "cell_type": "code",
   "execution_count": 6,
   "metadata": {},
   "outputs": [
    {
     "data": {
      "text/plain": [
       "array([[1.]])"
      ]
     },
     "execution_count": 6,
     "metadata": {},
     "output_type": "execute_result"
    }
   ],
   "source": [
    "X1 = np.array([[1, 2]]).T\n",
    "X2 = np.array([[3, 4]]).T\n",
    "Gaussian_kernel(X1, X2, 1)"
   ]
  },
  {
   "cell_type": "code",
   "execution_count": 12,
   "metadata": {},
   "outputs": [
    {
     "data": {
      "text/plain": [
       "(2, 1)"
      ]
     },
     "execution_count": 12,
     "metadata": {},
     "output_type": "execute_result"
    }
   ],
   "source": [
    "np.exp(-(euclidean_distances(X1.T,X2.T)**2)/(2*1**2)).shape\n",
    "X1.shape"
   ]
  }
 ],
 "metadata": {
  "kernelspec": {
   "display_name": "Python 3.9.7 64-bit",
   "language": "python",
   "name": "python3"
  },
  "language_info": {
   "codemirror_mode": {
    "name": "ipython",
    "version": 3
   },
   "file_extension": ".py",
   "mimetype": "text/x-python",
   "name": "python",
   "nbconvert_exporter": "python",
   "pygments_lexer": "ipython3",
   "version": "3.9.7"
  },
  "orig_nbformat": 4,
  "vscode": {
   "interpreter": {
    "hash": "8377259de029fbe3469e5825885a3984679ef58677fe54558bfe80e0473ceee4"
   }
  }
 },
 "nbformat": 4,
 "nbformat_minor": 2
}
