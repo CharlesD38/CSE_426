{
 "cells": [
  {
   "cell_type": "markdown",
   "metadata": {},
   "source": [
    "nosetests -v test1.py\n",
    "\n",
    "nosetests -v test2.py\n"
   ]
  },
  {
   "cell_type": "code",
   "execution_count": 1,
   "metadata": {},
   "outputs": [],
   "source": [
    "import numpy as np\n",
    "from scipy.special import logsumexp\n",
    "from scipy.special import xlogy, xlog1py\n",
    "from problem1 import *\n",
    "from problem2 import *\n",
    "import pandas as pd\n",
    "import pickle"
   ]
  },
  {
   "cell_type": "code",
   "execution_count": 2,
   "metadata": {},
   "outputs": [
    {
     "data": {
      "text/plain": [
       "({2: matrix([[-0.06333099,  0.08278244],\n",
       "          [-0.04217778,  0.05513225],\n",
       "          [ 0.10550877, -0.13791469]]),\n",
       "  1: matrix([[-0.1251907 ,  0.1251907 ],\n",
       "          [ 0.04156961, -0.04156961]])},\n",
       " {2: matrix([[-0.15040323],\n",
       "          [-0.10016699],\n",
       "          [ 0.25057022]]),\n",
       "  1: matrix([[-0.1251907 ],\n",
       "          [ 0.04156961]])})"
      ]
     },
     "execution_count": 2,
     "metadata": {},
     "output_type": "execute_result"
    }
   ],
   "source": [
    "X = np.asmatrix(np.array([[1,1], [-1,-1]]))\n",
    "Y = np.asmatrix(np.array([[1, 0, 0], [0, 1, 0]])).T\n",
    "input_dim = 2\n",
    "num_classes = 3\n",
    "# make a tiny network\n",
    "dimensions = [input_dim, 2, num_classes]\n",
    "\n",
    "activation_funcs = {1:Tanh, 2:Softmax}\n",
    "loss_func = CrossEntropyLoss\n",
    "nn = NN(dimensions, activation_funcs, loss_func, rand_seed = 42)\n",
    "output = nn.forward(X)\n",
    "nn.backward(Y)\n"
   ]
  },
  {
   "cell_type": "code",
   "execution_count": 162,
   "metadata": {},
   "outputs": [],
   "source": [
    "X = np.asmatrix(np.array([[1, 1], [-1, -1]])).T\n",
    "Y = np.asmatrix(np.array([[1, 0, 0], [0, 1, 0]])).T\n",
    "input_dim = 2\n",
    "num_classes = 3\n",
    "# make a tiny network\n",
    "dimensions = [input_dim, 2, num_classes]\n",
    "\n",
    "activation_funcs = {1: Tanh, 2: Softmax}\n",
    "loss_func = CrossEntropyLoss\n",
    "nn = NN(dimensions, activation_funcs, loss_func, rand_seed=42)\n",
    "\n",
    "output = nn.forward(X)\n",
    "nn.backward(Y)\n",
    "#nn.update_parameters(lr=0.1, weight_decay=0.01)\n",
    "lr=0.1\n",
    "weight_decay=0.01"
   ]
  },
  {
   "cell_type": "code",
   "execution_count": 40,
   "metadata": {},
   "outputs": [
    {
     "data": {
      "text/plain": [
       "matrix([[0.20510984, 0.47948746],\n",
       "        [0.48561002, 0.20252382],\n",
       "        [0.30928014, 0.31798872]])"
      ]
     },
     "execution_count": 40,
     "metadata": {},
     "output_type": "execute_result"
    }
   ],
   "source": [
    "output"
   ]
  },
  {
   "cell_type": "code",
   "execution_count": 41,
   "metadata": {},
   "outputs": [
    {
     "data": {
      "text/plain": [
       "{2: matrix([[-0.15813148, -0.58064749],\n",
       "         [ 0.15921209,  0.5846154 ],\n",
       "         [-0.00108061, -0.00396791]]),\n",
       " 1: matrix([[0.69106193, 0.69106193],\n",
       "         [0.06855901, 0.06855901]])}"
      ]
     },
     "execution_count": 41,
     "metadata": {},
     "output_type": "execute_result"
    }
   ],
   "source": [
    "nn.dW"
   ]
  },
  {
   "cell_type": "code",
   "execution_count": 163,
   "metadata": {},
   "outputs": [],
   "source": [
    "for l in reversed(range(nn.num_layers)):\n",
    "    #W = np.array(nn.W[l+1] - lr*np.average(nn.dW[l+1], axis = 0) - weight_decay*lr*nn.W[l+1])\n",
    "    B = nn.W[l+1].shape[1]\n",
    "    averages = []\n",
    "\n",
    "    #W = nn.W[l+1] - lr*(1/B)*np.sum(nn.dW[l+1], axis = 1) - lr*weight_decay*nn.W[l+1]\n",
    "    #W = nn.W[l+1] - lr*weight_decay*nn.W[l+1]\n",
    "    #W = np.array(nn.W[l+1] - lr*np.average(nn.dW[l+1], axis = 1) - weight_decay*lr*nn.W[l+1])\n",
    "    W = np.asarray(nn.W[l+1] - (lr*nn.dW[l+1]+weight_decay*nn.W[l+1]))\n",
    "    b = np.asarray(nn.b[l+1] - lr*np.average(nn.db[l+1], axis = 1))\n",
    "    \n",
    "    nn.W[l+1] = W\n",
    "    nn.b[l+1] = b"
   ]
  },
  {
   "cell_type": "code",
   "execution_count": null,
   "metadata": {},
   "outputs": [],
   "source": [
    "for l in reversed(range(self.num_layers)):\n",
    "    #W = np.array(self.W[l+1] - lr*np.average(self.dW[l+1], axis = 0) - weight_decay*lr*self.W[l+1])\n",
    "    B = self.W[l+1].shape[1]\n",
    "    averages = []\n",
    "\n",
    "    #W = self.W[l+1] - lr*(1/B)*np.sum(self.dW[l+1], axis = 1) - lr*weight_decay*self.W[l+1]\n",
    "    #W = self.W[l+1] - lr*weight_decay*self.W[l+1]\n",
    "    #W = np.array(self.W[l+1] - lr*np.average(self.dW[l+1], axis = 1) - weight_decay*lr*self.W[l+1])\n",
    "    W = np.asanyarray(self.W[l+1] - (lr*self.dW[l+1]+weight_decay*self.W[l+1]))\n",
    "    b = np.asanyarray(self.b[l+1] - lr*np.average(self.db[l+1], axis = 1))\n",
    "    \n",
    "    self.W[l+1] = W\n",
    "    self.b[l+1] = b"
   ]
  },
  {
   "cell_type": "code",
   "execution_count": 147,
   "metadata": {},
   "outputs": [],
   "source": [
    "C = np.array([[-0.13079753, -0.08853565],\n",
    "                                          [ 0.97287285, 0.42205312],\n",
    "                                          [-0.2938444, 0.34011044]])"
   ]
  },
  {
   "cell_type": "code",
   "execution_count": 148,
   "metadata": {},
   "outputs": [
    {
     "data": {
      "text/plain": [
       "array([[-0.13079753, -0.08853565],\n",
       "       [ 0.97287285,  0.42205312],\n",
       "       [-0.2938444 ,  0.34011044]])"
      ]
     },
     "execution_count": 148,
     "metadata": {},
     "output_type": "execute_result"
    }
   ],
   "source": [
    "C"
   ]
  },
  {
   "cell_type": "markdown",
   "metadata": {},
   "source": []
  },
  {
   "cell_type": "code",
   "execution_count": 41,
   "metadata": {},
   "outputs": [
    {
     "name": "stdout",
     "output_type": "stream",
     "text": [
      "num_classes = 10\n",
      "num_pixels = 784\n",
      "num_training_samples = 60000\n"
     ]
    }
   ],
   "source": [
    "with open('../data/X_train.pkl', 'rb') as f:\n",
    "    X_train = pickle.load(f)\n",
    "    X_train.reshape(-1, )\n",
    "with open('../data/Y_train.pkl', 'rb') as f:\n",
    "    Y_train = pickle.load(f)\n",
    "with open('../data/X_test.pkl', 'rb') as f:\n",
    "    X_test = pickle.load(f)\n",
    "with open('../data/Y_test.pkl', 'rb') as f:\n",
    "    Y_test = pickle.load(f)\n",
    "\n",
    "num_classes = len(np.unique(Y_train))\n",
    "input_dim, n_samples = X_train.shape\n",
    "\n",
    "print(f'num_classes = {num_classes}')\n",
    "print(f'num_pixels = {input_dim}')\n",
    "print(f'num_training_samples = {n_samples}')\n",
    "\n",
    "tr_y_multi_class = np.zeros((num_classes, n_samples))\n",
    "for i in range(num_classes):\n",
    "    tr_y_multi_class[i, np.where(Y_train == i)] = 1\n",
    "Y_train = np.asmatrix(tr_y_multi_class)\n",
    "\n",
    "input_dim, n_samples = X_test.shape\n",
    "te_y_multi_class = np.zeros((num_classes, n_samples))\n",
    "for i in range(num_classes):\n",
    "    te_y_multi_class[i, np.where(Y_test == i)] = 1\n",
    "Y_test = np.asmatrix(te_y_multi_class)\n"
   ]
  },
  {
   "cell_type": "code",
   "execution_count": 45,
   "metadata": {},
   "outputs": [],
   "source": [
    "input_dim, n_samples = X_train.shape\n",
    "num_classes = Y_train.shape[0]\n",
    "\n",
    "# input -> hidden -> output\n",
    "# you're encouraged to explore other architectures with more or less number of layers\n",
    "# Is more layers the better?\n",
    "# Will ReLU work better than Sigmoid/Tanh?\n",
    "dimensions = [input_dim, 128, 64, num_classes]\n",
    "activation_funcs = {1:ReLU, 2:ReLU, 3:Softmax}\n",
    "loss_func = CrossEntropyLoss\n",
    "\n",
    "nn = NN(dimensions, activation_funcs, loss_func)"
   ]
  },
  {
   "cell_type": "code",
   "execution_count": 30,
   "metadata": {},
   "outputs": [
    {
     "data": {
      "text/plain": [
       "(10, 60000)"
      ]
     },
     "execution_count": 30,
     "metadata": {},
     "output_type": "execute_result"
    }
   ],
   "source": [
    "Y_train.shape"
   ]
  },
  {
   "cell_type": "code",
   "execution_count": 46,
   "metadata": {},
   "outputs": [
    {
     "data": {
      "text/plain": [
       "array([15232, 40201, 37250, ..., 13261,  8494, 58140])"
      ]
     },
     "execution_count": 46,
     "metadata": {},
     "output_type": "execute_result"
    }
   ],
   "source": [
    "idx_total = np.array([i for i in range(X_train.shape[1])])\n",
    "idx_chosen = np.random.choice(idx_total, 1024)\n",
    "idx_chosen"
   ]
  },
  {
   "cell_type": "code",
   "execution_count": 54,
   "metadata": {},
   "outputs": [],
   "source": [
    "batch_X = np.asmatrix(X_train[:, idx_chosen])\n",
    "batch_Y = Y_train[:, idx_chosen]"
   ]
  },
  {
   "cell_type": "code",
   "execution_count": 61,
   "metadata": {},
   "outputs": [
    {
     "data": {
      "text/plain": [
       "matrix([[0, 0, 0, ..., 0, 0, 0],\n",
       "        [0, 0, 0, ..., 0, 0, 0],\n",
       "        [0, 0, 0, ..., 0, 0, 0],\n",
       "        ...,\n",
       "        [0, 0, 0, ..., 0, 0, 0],\n",
       "        [0, 0, 0, ..., 0, 0, 0],\n",
       "        [0, 0, 0, ..., 0, 0, 0]], dtype=uint8)"
      ]
     },
     "execution_count": 61,
     "metadata": {},
     "output_type": "execute_result"
    }
   ],
   "source": [
    "np.asmatrix(batch_X)"
   ]
  },
  {
   "cell_type": "code",
   "execution_count": 57,
   "metadata": {},
   "outputs": [
    {
     "data": {
      "text/plain": [
       "matrix([[1.32562086e-099, 1.62170660e-058, 8.66843936e-061, ...,\n",
       "         3.97959024e-083, 1.17796324e-051, 1.14316455e-047],\n",
       "        [3.25118357e-019, 1.00000000e+000, 2.16910576e-009, ...,\n",
       "         2.25130891e-051, 9.99999997e-001, 3.04296436e-014],\n",
       "        [1.26102992e-030, 4.61455183e-052, 9.60313492e-049, ...,\n",
       "         9.99973574e-001, 1.23249538e-018, 1.45667890e-012],\n",
       "        ...,\n",
       "        [2.31395348e-044, 4.04969844e-026, 6.63016359e-015, ...,\n",
       "         2.64259630e-005, 2.52587478e-009, 2.36281845e-020],\n",
       "        [1.73090760e-053, 2.60450684e-040, 1.79527541e-046, ...,\n",
       "         1.75254097e-016, 3.08228977e-039, 1.34272665e-034],\n",
       "        [6.48338638e-082, 8.53812240e-078, 7.67791386e-098, ...,\n",
       "         5.98613822e-144, 1.71472863e-054, 6.77829384e-065]])"
      ]
     },
     "execution_count": 57,
     "metadata": {},
     "output_type": "execute_result"
    }
   ],
   "source": [
    "nn.forward(batch_X)"
   ]
  },
  {
   "cell_type": "code",
   "execution_count": 59,
   "metadata": {},
   "outputs": [
    {
     "data": {
      "text/plain": [
       "{1: array([[ 0.01281462, -0.01681995, -0.04801625, ..., -0.04156526,\n",
       "         -0.08882439,  0.05631045],\n",
       "        [ 0.05134242, -0.00932368, -0.07158581, ..., -0.02925459,\n",
       "          0.05333309, -0.03275151],\n",
       "        [-0.05782082,  0.01960143, -0.01658495, ...,  0.03188254,\n",
       "          0.00721184,  0.02622417],\n",
       "        ...,\n",
       "        [-0.02580748,  0.01502379, -0.01559611, ..., -0.0575529 ,\n",
       "         -0.05530085,  0.02032981],\n",
       "        [ 0.02487779, -0.00972895, -0.00882909, ...,  0.00462062,\n",
       "          0.01636385,  0.01458454],\n",
       "        [-0.03934571, -0.04404587, -0.04226197, ..., -0.08675325,\n",
       "          0.05056021, -0.02665768]]),\n",
       " 2: array([[ 0.04271246,  0.07672326,  0.07417713, ..., -0.08608501,\n",
       "          0.10894244,  0.07180132],\n",
       "        [ 0.00396325,  0.00609534, -0.03719781, ..., -0.05618506,\n",
       "          0.1892711 ,  0.00906096],\n",
       "        [ 0.16921743, -0.01914642, -0.04710386, ...,  0.03430362,\n",
       "          0.03317311,  0.01530734],\n",
       "        ...,\n",
       "        [ 0.00655572,  0.07089214, -0.17464854, ...,  0.08437331,\n",
       "          0.05053906, -0.00701976],\n",
       "        [ 0.12449147, -0.13609758, -0.23219526, ..., -0.2377953 ,\n",
       "         -0.0361184 ,  0.0286245 ],\n",
       "        [-0.025792  , -0.02166551, -0.06358277, ..., -0.00654859,\n",
       "          0.12224836,  0.02639661]]),\n",
       " 3: array([[-9.07259871e-02,  3.37775474e-02,  1.39448848e-02,\n",
       "         -1.85500117e-01, -4.05184186e-01,  1.79448053e-01,\n",
       "          1.14245548e-02,  3.83231155e-02,  7.91285571e-02,\n",
       "          5.29381432e-02, -4.19146231e-03,  1.94389515e-01,\n",
       "         -3.15672028e-01, -1.73182547e-01, -3.31117906e-01,\n",
       "         -6.56467159e-02,  9.76240951e-02,  8.88445260e-02,\n",
       "          7.99680361e-02, -1.01597867e-01,  1.47575535e-01,\n",
       "          1.10611899e-01, -3.68485840e-02, -3.13240228e-02,\n",
       "          3.23110890e-01,  2.29119749e-02,  4.77474694e-02,\n",
       "          1.12830335e-01, -2.67319050e-01,  1.41031732e-01,\n",
       "          1.28278415e-01, -1.58903242e-01,  1.93296427e-01,\n",
       "         -1.24527190e-03, -1.44939213e-01,  4.03926121e-02,\n",
       "          6.50751836e-02,  6.56765636e-02, -2.55065161e-01,\n",
       "         -6.33752707e-02, -3.71794333e-01, -2.35869274e-01,\n",
       "          1.41522774e-01,  7.98417796e-02,  1.70213277e-02,\n",
       "          2.00455713e-01,  1.61180303e-01,  1.22310901e-02,\n",
       "          1.66806932e-01, -3.90445840e-01, -1.26514649e-01,\n",
       "         -1.32882615e-01, -2.80992765e-01, -4.37325900e-02,\n",
       "         -2.67161111e-01,  1.35235734e-02,  1.37205117e-01,\n",
       "         -9.04456187e-02, -1.89022792e-01, -1.01818259e-01,\n",
       "         -1.22971046e-01,  2.26716954e-02, -8.00048276e-02,\n",
       "         -1.80057126e-01],\n",
       "        [ 1.37489695e-02, -1.61617998e-01,  2.04937980e-01,\n",
       "          5.20136491e-02, -1.46603544e-01, -1.25044440e-01,\n",
       "          1.21564218e-01,  5.93356448e-02,  7.59147084e-02,\n",
       "          4.13375876e-02,  2.73803370e-02, -2.16077800e-01,\n",
       "          2.23092646e-02, -9.07076715e-02, -1.66654815e-02,\n",
       "          4.24381847e-01, -1.26791978e-01,  2.28586157e-01,\n",
       "          1.74210004e-01,  2.77072152e-01,  3.50325265e-02,\n",
       "          1.74243166e-01, -5.93609988e-03,  1.52424357e-01,\n",
       "          4.17608507e-03,  6.82844743e-02, -2.18389472e-01,\n",
       "          3.29318634e-02, -6.36318957e-02,  1.55754320e-01,\n",
       "          1.07874336e-01, -1.46936857e-02,  2.09881916e-01,\n",
       "         -1.34856236e-01,  2.36273632e-02,  5.09952926e-02,\n",
       "         -4.78299023e-02,  2.69354597e-01, -3.43020103e-02,\n",
       "          1.26098004e-01, -5.08201747e-02,  5.12940095e-02,\n",
       "         -2.18153438e-01, -1.71042741e-02, -2.08748468e-01,\n",
       "         -4.25217508e-02, -1.55537572e-01,  1.05811291e-01,\n",
       "          1.46482135e-02,  9.09621367e-02, -2.87096184e-01,\n",
       "          2.19740768e-01, -1.21288527e-01,  5.31196264e-02,\n",
       "         -1.23387731e-01,  1.67787824e-01,  4.55964356e-02,\n",
       "         -2.43599255e-01, -3.62436510e-01, -7.05280018e-02,\n",
       "         -1.40184977e-01, -2.75081208e-02, -1.03469585e-01,\n",
       "          5.05947182e-02],\n",
       "        [-2.14163587e-01,  6.97625469e-02, -1.97017632e-01,\n",
       "         -2.02973316e-01, -6.22169030e-02, -4.33018740e-02,\n",
       "         -5.82508953e-02,  2.39878950e-01,  1.01306384e-01,\n",
       "          4.83835500e-02,  8.03821616e-02, -5.10708923e-02,\n",
       "          2.44518649e-01,  1.87133687e-01,  2.86864564e-02,\n",
       "         -1.00478346e-01, -7.96578726e-02, -2.93971117e-01,\n",
       "          7.66355405e-02,  3.62640308e-01, -5.16809859e-02,\n",
       "          8.98533148e-02, -6.38723961e-03,  1.00209140e-01,\n",
       "          1.12646317e-01,  1.59406631e-01,  1.39399328e-01,\n",
       "          1.02391378e-01,  1.32234125e-01, -8.06958652e-02,\n",
       "         -3.43582905e-02, -7.03300152e-02, -1.69655443e-01,\n",
       "         -3.10202487e-01,  1.22194918e-01, -2.85213492e-02,\n",
       "          1.32290798e-01, -4.22010778e-01,  3.97793863e-01,\n",
       "          9.58019059e-02, -9.44233255e-02,  1.70904742e-03,\n",
       "         -2.49714837e-01, -1.59126698e-01, -8.05131147e-02,\n",
       "          2.73824855e-02, -2.25864346e-01,  1.48317562e-01,\n",
       "         -1.35744508e-01,  5.49273553e-02,  1.24348249e-01,\n",
       "         -4.58565486e-02,  2.02255951e-01, -1.31623238e-01,\n",
       "         -3.11326918e-01, -2.06917249e-02, -1.46041857e-01,\n",
       "         -9.13963363e-02, -1.74485197e-01, -1.01921811e-01,\n",
       "          8.76088357e-02,  1.69282646e-01,  1.19807547e-01,\n",
       "          2.52154476e-01],\n",
       "        [-1.93278415e-01,  1.03825567e-01,  2.73725136e-01,\n",
       "          2.00101024e-01, -1.25446211e-01, -9.11666093e-02,\n",
       "         -1.16289009e-01, -6.28360995e-02, -1.09464827e-01,\n",
       "         -2.25254217e-01, -1.77276503e-01,  2.32256449e-01,\n",
       "          8.93628555e-02,  1.85246361e-02, -2.58750078e-01,\n",
       "         -2.04890419e-01,  5.61868177e-02,  9.13539877e-02,\n",
       "          1.57073743e-02, -1.30105117e-02,  6.12458709e-02,\n",
       "          3.48915018e-02,  3.39148458e-01,  9.97805449e-02,\n",
       "          7.85944533e-02,  3.98814077e-02,  3.21169658e-02,\n",
       "          7.81280452e-02, -9.18861581e-02, -2.23891283e-01,\n",
       "          2.69037208e-01,  2.14791840e-01, -3.18537979e-02,\n",
       "         -7.18188609e-02,  4.83623886e-02, -1.06075334e-01,\n",
       "          2.61729111e-02,  2.42482975e-01,  7.15401051e-03,\n",
       "          8.07373738e-02, -3.76436808e-03,  1.28494064e-01,\n",
       "          3.54637443e-02, -6.30104780e-02,  3.65229235e-02,\n",
       "         -2.42317795e-01, -1.13614869e-01,  1.42566586e-01,\n",
       "          1.03268954e-02,  3.22778332e-01,  2.55330066e-01,\n",
       "         -6.11925038e-02,  1.19215063e-01, -1.95951048e-02,\n",
       "         -9.99895916e-02, -2.47746167e-02, -9.85196701e-02,\n",
       "         -4.63954644e-03, -7.52962002e-02, -8.00952063e-02,\n",
       "         -1.17334432e-02, -2.06113749e-02,  3.90456169e-01,\n",
       "         -1.50515504e-01],\n",
       "        [ 2.49759347e-01,  1.34140025e-01,  1.62778512e-01,\n",
       "         -1.99264491e-01,  4.88604287e-02, -4.91183850e-02,\n",
       "          8.14677252e-02, -1.35199722e-01,  1.26721992e-01,\n",
       "         -1.01593147e-01,  2.45578687e-01, -4.06124966e-02,\n",
       "         -1.05028084e-01, -1.83879676e-01,  1.44010752e-01,\n",
       "          3.21332383e-01, -3.20016585e-01, -1.65570054e-01,\n",
       "          2.34116249e-02, -1.66474810e-01,  9.73467104e-02,\n",
       "         -2.78470001e-01,  7.98732296e-02, -3.91232996e-01,\n",
       "          2.20745184e-01,  1.99626538e-01, -1.77094813e-01,\n",
       "         -1.44201932e-01, -2.14082230e-02,  1.73720960e-01,\n",
       "         -1.09063888e-01, -2.25439913e-01,  8.63215099e-02,\n",
       "          1.20508358e-01,  2.45198407e-01, -6.61003008e-03,\n",
       "          4.59448766e-01, -1.82068420e-03,  1.24797925e-01,\n",
       "          7.07311362e-02, -5.95517945e-02, -1.76296091e-01,\n",
       "         -1.17335436e-01, -3.07546573e-02, -3.98366920e-02,\n",
       "          2.13149800e-01,  5.04201606e-02, -6.89099418e-02,\n",
       "         -1.71368203e-02,  1.38668309e-01, -5.55091379e-03,\n",
       "          3.73540974e-02,  2.75821575e-01,  1.21319478e-01,\n",
       "         -7.53449040e-02,  2.88951358e-01, -1.64876895e-01,\n",
       "          8.89791950e-02,  1.50853087e-01, -1.46588489e-01,\n",
       "          6.05025253e-02,  1.57888827e-01, -1.88168952e-01,\n",
       "          2.95423642e-02],\n",
       "        [-2.41695052e-01,  5.79887718e-02,  3.63226097e-02,\n",
       "          7.56333168e-02,  2.05445097e-01,  4.04004753e-02,\n",
       "          2.34475862e-01, -6.07894520e-02,  1.11233693e-01,\n",
       "          4.24473004e-01,  3.18996818e-01,  9.21857775e-02,\n",
       "          9.13135714e-02, -3.34371257e-01, -1.59551609e-01,\n",
       "          1.06208362e-01,  5.74579974e-02,  1.02294837e-01,\n",
       "          1.26064000e-01, -8.48094014e-02,  1.61492864e-02,\n",
       "         -2.43687793e-01, -8.37294529e-03, -5.37297829e-02,\n",
       "         -9.20888948e-03,  9.87659260e-02, -2.70565934e-02,\n",
       "         -7.35839479e-02,  2.43771564e-02, -1.75836188e-01,\n",
       "         -1.73739544e-01, -1.28631712e-01,  4.13681091e-02,\n",
       "         -6.44558940e-02, -1.05406303e-01, -6.56903230e-03,\n",
       "         -5.61826879e-02,  1.25315961e-01, -1.24371024e-01,\n",
       "          5.29200344e-02,  7.97635321e-02,  9.17595349e-03,\n",
       "         -2.29398326e-01,  2.17101295e-03, -3.47665864e-02,\n",
       "          1.31081971e-01,  2.39540006e-01, -6.65057400e-02,\n",
       "         -1.15618207e-02, -8.51009694e-02, -2.86508268e-02,\n",
       "         -5.82114198e-02,  2.55421003e-01, -5.31965592e-02,\n",
       "          5.57806424e-02,  7.94143718e-02, -4.81269116e-02,\n",
       "          1.68631038e-01, -1.33842524e-03,  3.29321049e-01,\n",
       "          8.14713923e-02,  1.25048709e-01,  7.26031363e-03,\n",
       "         -1.02261383e-01],\n",
       "        [ 1.45209514e-01,  2.05074381e-01, -3.39425835e-01,\n",
       "          3.52983412e-02, -1.73948409e-01, -1.90053641e-01,\n",
       "          1.23697584e-01,  1.99752853e-01, -1.84457435e-01,\n",
       "         -1.34856116e-01,  1.15252556e-01,  2.12642914e-02,\n",
       "          1.13698605e-01,  1.96699323e-01, -3.24117370e-01,\n",
       "         -3.54505454e-01,  1.62565303e-01,  2.83938814e-01,\n",
       "          6.15806012e-03, -1.25499765e-01, -8.29078043e-02,\n",
       "         -1.45417534e-01, -9.50829843e-02,  1.22277281e-01,\n",
       "         -2.29657016e-01,  2.93513870e-02, -2.75317688e-02,\n",
       "          2.76122475e-01, -8.55808020e-02, -1.63267171e-01,\n",
       "         -8.76805022e-02,  1.96089422e-01,  1.41107098e-01,\n",
       "         -1.23708784e-01,  1.67129734e-01,  2.13455215e-01,\n",
       "          7.01127937e-02, -1.17245276e-01, -1.27648766e-01,\n",
       "          1.08031732e-02, -4.26446927e-02,  3.25606428e-03,\n",
       "         -7.72682360e-02,  1.87654576e-02, -1.14677015e-02,\n",
       "         -1.63661773e-03, -9.32863975e-02,  6.99495887e-02,\n",
       "         -1.69227352e-01,  1.99085663e-03,  1.99692048e-01,\n",
       "         -7.06891288e-02,  9.13882414e-02,  1.17936244e-01,\n",
       "         -2.36887373e-01, -1.38973165e-02,  1.84625433e-01,\n",
       "         -5.83317659e-02, -7.94834274e-02,  1.82292523e-01,\n",
       "          6.98459714e-02, -1.79475925e-01, -3.25770284e-01,\n",
       "          1.50075317e-02],\n",
       "        [ 1.07191736e-01,  2.90541952e-01,  2.39117156e-01,\n",
       "         -1.32614432e-01, -8.15944267e-02, -9.13954921e-02,\n",
       "          4.65913618e-01,  1.98989029e-01, -1.69509624e-01,\n",
       "         -2.23492669e-01, -2.81488142e-01, -2.02719077e-01,\n",
       "         -2.50934280e-01, -1.04780023e-01, -3.77045848e-02,\n",
       "          1.34926610e-02, -5.44995961e-02,  5.38204620e-02,\n",
       "         -1.27761811e-01, -2.43570634e-03,  1.97577505e-01,\n",
       "         -1.45757044e-01,  1.98488752e-01, -7.49434434e-02,\n",
       "          1.12117225e-01, -2.49802261e-01, -1.28104191e-01,\n",
       "         -3.89578284e-02, -2.11881039e-02,  8.08529117e-02,\n",
       "          5.07910471e-02, -1.30368288e-01,  1.34254412e-01,\n",
       "         -7.55127793e-02,  1.72955398e-01, -8.59986879e-02,\n",
       "         -4.71858233e-02,  1.04011057e-01,  1.22985002e-01,\n",
       "         -1.03005292e-01,  3.23993901e-01,  2.20351832e-01,\n",
       "         -6.48560648e-03,  3.21534328e-01, -1.31773809e-01,\n",
       "         -7.06611298e-02,  1.09229911e-01, -9.49007445e-02,\n",
       "          2.86038488e-02,  2.68734708e-01,  5.39543166e-03,\n",
       "         -9.35590988e-02, -1.48456473e-01, -3.74465926e-01,\n",
       "         -6.81125734e-03, -8.01736888e-02,  1.92995641e-01,\n",
       "         -6.21922728e-02, -1.47652155e-01,  1.15860357e-01,\n",
       "          2.57095585e-01, -3.18725939e-01,  2.03433793e-01,\n",
       "          4.17456038e-02],\n",
       "        [-4.43693971e-01, -4.85504537e-01, -1.79234782e-02,\n",
       "          1.92877342e-01,  5.88436777e-06, -1.03305665e-01,\n",
       "         -1.40639975e-01, -3.93170319e-02,  9.96321381e-02,\n",
       "          6.91017909e-02,  3.30441222e-01,  1.79401588e-01,\n",
       "         -8.79274795e-02, -4.11865394e-03, -6.33085846e-02,\n",
       "          3.46971068e-01, -5.87466437e-02, -7.66740990e-02,\n",
       "         -1.17748725e-01,  9.27969125e-02, -4.50161666e-02,\n",
       "         -4.74879420e-02,  2.57140460e-01,  2.03420507e-01,\n",
       "         -6.21095438e-02,  2.69453855e-01,  3.21322602e-01,\n",
       "         -3.80020636e-02,  3.22752638e-03,  4.57518448e-01,\n",
       "          3.73966225e-02, -2.20165504e-01, -2.16192376e-01,\n",
       "         -3.59187215e-02, -1.99342235e-01, -2.05030416e-01,\n",
       "          2.08082555e-02,  7.61692343e-02,  1.93643076e-03,\n",
       "         -2.68459406e-01,  1.22989854e-01, -8.42605763e-02,\n",
       "          2.41864783e-01,  4.87801513e-02,  2.97387187e-02,\n",
       "          2.92790349e-04,  7.99390799e-03,  2.56095321e-01,\n",
       "          1.93402438e-01, -1.08721604e-01,  7.02326840e-02,\n",
       "          7.07014562e-02, -3.48792839e-01,  1.29341055e-01,\n",
       "         -2.40774590e-01, -1.89518704e-01,  1.72475311e-01,\n",
       "          5.48956985e-02,  3.56924462e-03, -5.16916720e-02,\n",
       "         -1.85062435e-02,  1.82280781e-01, -6.20503057e-02,\n",
       "          6.05995653e-02],\n",
       "        [-1.22477268e-01,  3.47034297e-01,  1.24123862e-01,\n",
       "         -1.38651949e-01, -2.37419719e-01, -1.42561210e-01,\n",
       "          3.33013970e-01, -1.70872332e-02,  2.76925999e-02,\n",
       "         -1.68470179e-02, -2.20049197e-02, -3.91056850e-02,\n",
       "         -1.98240837e-01, -6.50972213e-02,  8.61915708e-02,\n",
       "         -1.13367113e-01, -3.11304298e-01, -2.70958377e-01,\n",
       "         -2.21249127e-01, -8.55974587e-02,  5.83883772e-02,\n",
       "         -6.76186829e-02, -1.36799507e-02,  7.05513073e-02,\n",
       "         -1.49219395e-01,  1.31444799e-02,  2.47997531e-01,\n",
       "         -9.49331344e-02, -8.69536263e-02, -6.90800444e-02,\n",
       "          1.95151569e-01, -2.72485153e-01,  1.48279932e-01,\n",
       "         -5.62403001e-02, -1.26409439e-01,  8.33871379e-02,\n",
       "         -1.37688078e-01, -3.68106189e-02, -2.65422248e-01,\n",
       "          1.02630159e-01, -9.34236879e-02, -2.23195315e-01,\n",
       "          2.34546856e-01,  2.91534099e-02, -2.33760050e-02,\n",
       "          1.40578078e-01,  3.15442121e-02, -7.02144187e-02,\n",
       "          1.85500258e-01,  2.35751223e-02, -1.79029916e-01,\n",
       "         -6.13792915e-02, -1.49076180e-02, -8.97792105e-02,\n",
       "         -2.19736896e-01,  8.45035621e-02, -2.16311473e-01,\n",
       "         -3.48608972e-01, -3.23682313e-01, -3.01728922e-02,\n",
       "         -2.48275458e-01, -2.59196549e-02, -1.81390570e-01,\n",
       "          1.46262499e-02]])}"
      ]
     },
     "execution_count": 59,
     "metadata": {},
     "output_type": "execute_result"
    }
   ],
   "source": [
    "nn.W"
   ]
  },
  {
   "cell_type": "code",
   "execution_count": 117,
   "metadata": {},
   "outputs": [
    {
     "data": {
      "text/plain": [
       "matrix([[0.20510984, 0.47948746],\n",
       "        [0.48561002, 0.20252382],\n",
       "        [0.30928014, 0.31798872]])"
      ]
     },
     "execution_count": 117,
     "metadata": {},
     "output_type": "execute_result"
    }
   ],
   "source": [
    "X = np.asmatrix(np.array([[1, 1], [-1, -1]])).T\n",
    "y = 1\n",
    "# Y = np.asmatrix(np.array([[1, 0, 0], [0, 1, 0]])).T\n",
    "input_dim = 2\n",
    "num_classes = 3\n",
    "# make a tiny network\n",
    "dimensions = [input_dim, 2, num_classes]\n",
    "\n",
    "activation_funcs = {1: Tanh, 2: Softmax}\n",
    "loss_func = CrossEntropyLoss\n",
    "nn = NN(dimensions, activation_funcs, loss_func, rand_seed=42)\n",
    "\n",
    "#feature_map = nn.explain(X, y)\n",
    "\n",
    "nn.forward(X)"
   ]
  },
  {
   "cell_type": "code",
   "execution_count": 136,
   "metadata": {},
   "outputs": [],
   "source": [
    "d_zz = {}\n",
    "for l in reversed(range(nn.num_layers)):\n",
    "    if l == nn.num_layers - 1:\n",
    "        W_c = np.array([nn.W[l+1][y,:]])\n",
    "        d_zz[l]= np.multiply(W_c.T, nn.g[l].gradient(nn.Z[l]))\n",
    "    elif 0 < l < nn.num_layers - 1:\n",
    "        d_zz[l] = np.multiply(nn.W[l+1].T @ d_zz[l+1], nn.g[l].gradient(nn.Z[l]))\n",
    "    else:\n",
    "        d_zz[l] = nn.W[l+1].T @ d_zz[l+1]\n",
    "\n",
    "\n",
    "#nn.W[1].T @ d_zz[2]\n"
   ]
  },
  {
   "cell_type": "code",
   "execution_count": null,
   "metadata": {},
   "outputs": [],
   "source": [
    "d_zz = {}\n",
    "for l in reversed(range(self.num_layers)):\n",
    "    if l == self.num_layers - 1:\n",
    "        W_c = np.array([self.W[l+1][y,:]])\n",
    "        d_zz[l]= np.multiply(W_c.T, self.g[l].gradient(self.Z[l]))\n",
    "    elif 0 < l < self.num_layers - 1:\n",
    "        d_zz[l] = np.multiply(self.W[l+1].T @ d_zz[l+1], self.g[l].gradient(self.Z[l]))\n",
    "    else:\n",
    "        d_zz[l] = self.W[l+1].T @ d_zz[l+1]\n",
    "\n",
    "\n",
    "#self.W[1].T @ d_zz[2]"
   ]
  },
  {
   "cell_type": "code",
   "execution_count": 137,
   "metadata": {},
   "outputs": [
    {
     "data": {
      "text/plain": [
       "{1: matrix([[0.93726829, 0.93726829],\n",
       "         [0.08231709, 0.08231709]]),\n",
       " 0: matrix([[ 0.36689668,  0.36689668],\n",
       "         [-0.00298354, -0.00298354]])}"
      ]
     },
     "execution_count": 137,
     "metadata": {},
     "output_type": "execute_result"
    }
   ],
   "source": [
    "d_zz"
   ]
  },
  {
   "cell_type": "code",
   "execution_count": null,
   "metadata": {},
   "outputs": [],
   "source": [
    "d_zz_init = np.multiply(np.array([nn.W[2][y,:]]).T, "
   ]
  },
  {
   "cell_type": "code",
   "execution_count": 120,
   "metadata": {},
   "outputs": [
    {
     "data": {
      "text/plain": [
       "array([[-0.14808121,  0.48536834,  0.3431451 ]])"
      ]
     },
     "execution_count": 120,
     "metadata": {},
     "output_type": "execute_result"
    }
   ],
   "source": [
    "np.array([nn.W[2][:,y]])"
   ]
  },
  {
   "cell_type": "code",
   "execution_count": 128,
   "metadata": {},
   "outputs": [
    {
     "data": {
      "text/plain": [
       "matrix([[ 0.36689668,  0.36689668],\n",
       "        [-0.00298354, -0.00298354]])"
      ]
     },
     "execution_count": 128,
     "metadata": {},
     "output_type": "execute_result"
    }
   ],
   "source": [
    "nn.W[1].T@d_zz[2]"
   ]
  },
  {
   "cell_type": "code",
   "execution_count": 123,
   "metadata": {},
   "outputs": [
    {
     "data": {
      "text/plain": [
       "{2: matrix([[0.93726829, 0.93726829],\n",
       "         [0.08231709, 0.08231709]]),\n",
       " 1: matrix([[ 0.34430002,  0.34430002],\n",
       "         [-0.000506  , -0.000506  ]])}"
      ]
     },
     "execution_count": 123,
     "metadata": {},
     "output_type": "execute_result"
    }
   ],
   "source": [
    "d_zz"
   ]
  },
  {
   "cell_type": "code",
   "execution_count": 115,
   "metadata": {},
   "outputs": [
    {
     "data": {
      "text/plain": [
       "matrix([[0.93841139, 0.93841139],\n",
       "        [0.16959715, 0.16959715]])"
      ]
     },
     "execution_count": 115,
     "metadata": {},
     "output_type": "execute_result"
    }
   ],
   "source": [
    "nn.g[1].gradient(nn.Z[1])"
   ]
  },
  {
   "cell_type": "code",
   "execution_count": 112,
   "metadata": {},
   "outputs": [
    {
     "data": {
      "text/plain": [
       "array([[0.99878188, 0.48536834]])"
      ]
     },
     "execution_count": 112,
     "metadata": {},
     "output_type": "execute_result"
    }
   ],
   "source": [
    "W_c"
   ]
  },
  {
   "cell_type": "code",
   "execution_count": 105,
   "metadata": {},
   "outputs": [
    {
     "data": {
      "text/plain": [
       "array([0.45798496, 1.07694474])"
      ]
     },
     "execution_count": 105,
     "metadata": {},
     "output_type": "execute_result"
    }
   ],
   "source": [
    "nn.W[l+1][y,:]"
   ]
  },
  {
   "cell_type": "code",
   "execution_count": 103,
   "metadata": {},
   "outputs": [
    {
     "data": {
      "text/plain": [
       "{2: matrix([[0.93726829, 0.45547518],\n",
       "         [0.16939056, 0.08231709]]),\n",
       " 1: matrix([[0.38172231, 0.18550189],\n",
       "         [0.01539769, 0.00748267]])}"
      ]
     },
     "execution_count": 103,
     "metadata": {},
     "output_type": "execute_result"
    }
   ],
   "source": [
    "d_zz"
   ]
  },
  {
   "cell_type": "code",
   "execution_count": 96,
   "metadata": {},
   "outputs": [
    {
     "data": {
      "text/plain": [
       "matrix([[0.93841139, 0.93841139],\n",
       "        [0.16959715, 0.16959715]])"
      ]
     },
     "execution_count": 96,
     "metadata": {},
     "output_type": "execute_result"
    }
   ],
   "source": [
    "nn.g[1].gradient(nn.Z[1])"
   ]
  },
  {
   "cell_type": "code",
   "execution_count": 98,
   "metadata": {},
   "outputs": [
    {
     "ename": "ValueError",
     "evalue": "matmul: Input operand 1 has a mismatch in its core dimension 0, with gufunc signature (n?,k),(k,m?)->(n?,m?) (size 2 is different from 3)",
     "output_type": "error",
     "traceback": [
      "\u001b[1;31m---------------------------------------------------------------------------\u001b[0m",
      "\u001b[1;31mValueError\u001b[0m                                Traceback (most recent call last)",
      "\u001b[1;32mc:\\MFE\\MFE Sem 3\\CSE 426\\CSE_426\\Project 3\\src\\scratch.ipynb Cell 23\u001b[0m in \u001b[0;36m<cell line: 1>\u001b[1;34m()\u001b[0m\n\u001b[1;32m----> <a href='vscode-notebook-cell:/c%3A/MFE/MFE%20Sem%203/CSE%20426/CSE_426/Project%203/src/scratch.ipynb#Y246sZmlsZQ%3D%3D?line=0'>1</a>\u001b[0m nn\u001b[39m.\u001b[39;49mW[\u001b[39m2\u001b[39;49m]\u001b[39m.\u001b[39;49mT \u001b[39m@\u001b[39;49m d_zz[\u001b[39m2\u001b[39;49m]\n",
      "\u001b[1;31mValueError\u001b[0m: matmul: Input operand 1 has a mismatch in its core dimension 0, with gufunc signature (n?,k),(k,m?)->(n?,m?) (size 2 is different from 3)"
     ]
    }
   ],
   "source": [
    "nn.W[2].T @ d_zz[2]"
   ]
  },
  {
   "cell_type": "code",
   "execution_count": 99,
   "metadata": {},
   "outputs": [
    {
     "data": {
      "text/plain": [
       "matrix([[0.93726829, 0.45547518],\n",
       "        [0.16939056, 0.08231709]])"
      ]
     },
     "execution_count": 99,
     "metadata": {},
     "output_type": "execute_result"
    }
   ],
   "source": [
    "d_zz[2]"
   ]
  },
  {
   "cell_type": "code",
   "execution_count": 89,
   "metadata": {},
   "outputs": [
    {
     "data": {
      "text/plain": [
       "array([[ 0.35122995,  0.45798496],\n",
       "       [-0.09776762,  1.07694474]])"
      ]
     },
     "execution_count": 89,
     "metadata": {},
     "output_type": "execute_result"
    }
   ],
   "source": [
    "nn.W[1].T"
   ]
  },
  {
   "cell_type": "code",
   "execution_count": 91,
   "metadata": {},
   "outputs": [
    {
     "data": {
      "text/plain": [
       "{2: matrix([[0.93726829, 0.45547518],\n",
       "         [0.16939056, 0.08231709]])}"
      ]
     },
     "execution_count": 91,
     "metadata": {},
     "output_type": "execute_result"
    }
   ],
   "source": [
    "d_zz"
   ]
  },
  {
   "cell_type": "code",
   "execution_count": 76,
   "metadata": {},
   "outputs": [
    {
     "data": {
      "text/plain": [
       "{1: problem1.Tanh, 2: problem1.Softmax}"
      ]
     },
     "execution_count": 76,
     "metadata": {},
     "output_type": "execute_result"
    }
   ],
   "source": [
    "nn.g"
   ]
  },
  {
   "cell_type": "code",
   "execution_count": 75,
   "metadata": {},
   "outputs": [
    {
     "data": {
      "text/plain": [
       "{1: array([[ 0.35122995, -0.09776762],\n",
       "        [ 0.45798496,  1.07694474]]),\n",
       " 2: array([[-0.1480916 , -0.14808121],\n",
       "        [ 0.99878188,  0.48536834],\n",
       "        [-0.29692167,  0.3431451 ]])}"
      ]
     },
     "execution_count": 75,
     "metadata": {},
     "output_type": "execute_result"
    }
   ],
   "source": [
    "nn.W"
   ]
  },
  {
   "cell_type": "code",
   "execution_count": 74,
   "metadata": {},
   "outputs": [
    {
     "data": {
      "text/plain": [
       "array([-0.14808121,  0.48536834,  0.3431451 ])"
      ]
     },
     "execution_count": 74,
     "metadata": {},
     "output_type": "execute_result"
    }
   ],
   "source": [
    "np.multiply(nn.W[2][:,y].T, nn.loss_func.gradient()  )"
   ]
  },
  {
   "cell_type": "code",
   "execution_count": null,
   "metadata": {},
   "outputs": [],
   "source": [
    "nn.W[2].T*"
   ]
  },
  {
   "cell_type": "code",
   "execution_count": null,
   "metadata": {},
   "outputs": [],
   "source": [
    "assert type(feature_map) == np.matrixlib.defmatrix.matrix\n",
    "assert np.allclose(feature_map, np.array([[0.36689668, 0.36689668],\n",
    "                                            [-0.00298354, -0.00298354]]),\n",
    "                    atol=1e-6)"
   ]
  }
 ],
 "metadata": {
  "kernelspec": {
   "display_name": "Python 3.9.7 64-bit",
   "language": "python",
   "name": "python3"
  },
  "language_info": {
   "codemirror_mode": {
    "name": "ipython",
    "version": 3
   },
   "file_extension": ".py",
   "mimetype": "text/x-python",
   "name": "python",
   "nbconvert_exporter": "python",
   "pygments_lexer": "ipython3",
   "version": "3.9.7"
  },
  "orig_nbformat": 4,
  "vscode": {
   "interpreter": {
    "hash": "8377259de029fbe3469e5825885a3984679ef58677fe54558bfe80e0473ceee4"
   }
  }
 },
 "nbformat": 4,
 "nbformat_minor": 2
}
