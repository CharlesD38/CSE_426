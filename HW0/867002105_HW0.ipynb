{
 "cells": [
  {
   "cell_type": "markdown",
   "metadata": {},
   "source": [
    "# Minimum Background Test"
   ]
  },
  {
   "cell_type": "markdown",
   "metadata": {},
   "source": [
    "## Linear Algebra\n",
    "\n",
    "Consider the matrix $X$ and the vectors $y$ and $z$ below:\n",
    "\n",
    "$$\n",
    "X = \\begin{bmatrix}\n",
    "4 & 3\\\\\n",
    "1 & 2\n",
    "\\end{bmatrix}\n",
    "\\ \\ \\\n",
    "y = \\begin{bmatrix}\n",
    "3\\\\\n",
    "5\n",
    "\\end{bmatrix}\n",
    "\\ \\ \\\n",
    "z = \\begin{bmatrix}\n",
    "6\\\\\n",
    "1\n",
    "\\end{bmatrix}\n",
    "$$"
   ]
  },
  {
   "cell_type": "markdown",
   "metadata": {},
   "source": [
    "### Problem 1 {-}\n",
    "\n",
    "What is the inner product $< y, z >$ of the vectors $y$ and $z$? (this is also called the dot product and written $y^Tz$)"
   ]
  },
  {
   "cell_type": "markdown",
   "metadata": {},
   "source": [
    "$$\n",
    "y^Tz = \\begin{bmatrix}\n",
    "3 & 5\n",
    "\\end{bmatrix}\n",
    "\\begin{bmatrix}\n",
    "6\\\\\n",
    "1\n",
    "\\end{bmatrix} = (3)(6) + (5)(1) = 18 + 5 = 23\n",
    "$$"
   ]
  },
  {
   "cell_type": "markdown",
   "metadata": {},
   "source": [
    "### Problem 2 {-}\n",
    "\n",
    "What is the matrix-vector product $Xy$?"
   ]
  },
  {
   "cell_type": "markdown",
   "metadata": {},
   "source": [
    "$$\n",
    "\\begin{split}\n",
    "Xy & = \\begin{bmatrix}\n",
    "4 & 3\\\\\n",
    "1 & 2\n",
    "\\end{bmatrix}\n",
    "\\begin{bmatrix}\n",
    "3\\\\\n",
    "5\n",
    "\\end{bmatrix}\n",
    "\\\\\n",
    "& = \\begin{bmatrix}\n",
    "(4)(3) + (3)(5)\\\\\n",
    "(1)(3) + (2)(5)\n",
    "\\end{bmatrix}\n",
    "\\\\\n",
    "& = \\begin{bmatrix}\n",
    "12 + 15\\\\\n",
    "3 + 10\n",
    "\\end{bmatrix}\n",
    "\\\\\n",
    "& = \\begin{bmatrix}\n",
    "27\\\\\n",
    "13\n",
    "\\end{bmatrix}\n",
    "\n",
    "\\end{split}\n",
    "$$"
   ]
  },
  {
   "cell_type": "markdown",
   "metadata": {},
   "source": [
    "### Problem 3 {-}\n",
    "\n",
    "Is $X$ invertible? If so, give the inverse and if no, explain why not."
   ]
  },
  {
   "cell_type": "markdown",
   "metadata": {},
   "source": [
    "### Problem 4 {-}\n",
    "\n",
    "What is the Rank of $X$?"
   ]
  },
  {
   "cell_type": "markdown",
   "metadata": {},
   "source": [
    "## Calculus"
   ]
  },
  {
   "cell_type": "markdown",
   "metadata": {},
   "source": [
    "### Problem 1 {-}"
   ]
  },
  {
   "cell_type": "markdown",
   "metadata": {},
   "source": [
    "### Problem 2 {-}"
   ]
  },
  {
   "cell_type": "markdown",
   "metadata": {},
   "source": [
    "## Probability and Statistics"
   ]
  },
  {
   "cell_type": "markdown",
   "metadata": {},
   "source": [
    "### Problem 1 {-}"
   ]
  },
  {
   "cell_type": "markdown",
   "metadata": {},
   "source": [
    "### Problem 2 {-}"
   ]
  },
  {
   "cell_type": "markdown",
   "metadata": {},
   "source": [
    "### Problem 3 {-}"
   ]
  },
  {
   "cell_type": "markdown",
   "metadata": {},
   "source": [
    "### Problem 4 {-}"
   ]
  },
  {
   "cell_type": "markdown",
   "metadata": {},
   "source": [
    "### Problem 5 {-}"
   ]
  },
  {
   "cell_type": "markdown",
   "metadata": {},
   "source": [
    "## Big-O Notation"
   ]
  },
  {
   "cell_type": "markdown",
   "metadata": {},
   "source": [
    "### Problem 1 {-}"
   ]
  },
  {
   "cell_type": "markdown",
   "metadata": {},
   "source": [
    "### Problem 2 {-}"
   ]
  },
  {
   "cell_type": "markdown",
   "metadata": {},
   "source": [
    "### Problem 3 {-}"
   ]
  },
  {
   "cell_type": "markdown",
   "metadata": {},
   "source": [
    "# Medium Background Test"
   ]
  },
  {
   "cell_type": "markdown",
   "metadata": {},
   "source": [
    "## Probability and Statistics"
   ]
  },
  {
   "cell_type": "markdown",
   "metadata": {},
   "source": [
    "### Problem 1 {-}"
   ]
  },
  {
   "cell_type": "markdown",
   "metadata": {},
   "source": [
    "### Problem 2 {-}"
   ]
  },
  {
   "cell_type": "markdown",
   "metadata": {},
   "source": [
    "### Problem 3 {-}"
   ]
  }
 ],
 "metadata": {
  "kernelspec": {
   "display_name": "Python 3.9.7 64-bit",
   "language": "python",
   "name": "python3"
  },
  "language_info": {
   "name": "python",
   "version": "3.9.7"
  },
  "orig_nbformat": 4,
  "vscode": {
   "interpreter": {
    "hash": "8377259de029fbe3469e5825885a3984679ef58677fe54558bfe80e0473ceee4"
   }
  }
 },
 "nbformat": 4,
 "nbformat_minor": 2
}
