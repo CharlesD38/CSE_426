{
 "cells": [
  {
   "cell_type": "markdown",
   "metadata": {},
   "source": [
    "\\pagebreak"
   ]
  },
  {
   "cell_type": "markdown",
   "metadata": {},
   "source": [
    "# $K$-means on the real line. Given the unlabeled training data $x^{(1)} = 0, x^{(2)} = 1, x^{(3)} = -2$, find the two centers $\\mu_1$ and $\\mu_2$ on the real line and the corresponding assignment $r_{ik}$ of the training data to the two clusters, so that the distortion measure $J(\\mu_1, \\mu_2) = \\sum_{i=1}^3\\sum_{k=1}^2 r_{ik}(x^{(i)} - \\mu_k)^2$ is minimized. What's the smallest J value?"
   ]
  },
  {
   "cell_type": "markdown",
   "metadata": {},
   "source": [
    "We start by noticing that in K-means, that one point cannot be in two clusters. Thus with the trainning data, we can right away put $x^{(1)}, x^{(2)}$ in the $k=1$ cluster. We then move onto deriving the distortion measure J.\n",
    "\n",
    "$$\n",
    "\\begin{split}\n",
    "J(\\mu_1, \\mu_2) &= \\sum_{i=1}^3\\sum_{k=1}^2 r_{ik}(x^{(i)} - \\mu_k)^2\\\\\n",
    "\\\\\n",
    "&= \\sum_{i=1}^3\\sum_{k=1}^2 r_{ik}((x^{(i)})^2 - 2x^{(i)}\\mu_k - \\mu_k^2)\\\\\n",
    "\\\\\n",
    "&= \\sum_{i=1}^3 [r_{i1}((x^{(i)})^2 - 2x^{(i)}\\mu_1 - \\mu_1^2)+ r_{i2}((x^{(i)})^2 - 2x^{(i)}\\mu_2 - \\mu_2^2)]\n",
    "\\end{split}\n",
    "$$"
   ]
  },
  {
   "cell_type": "markdown",
   "metadata": {},
   "source": [
    "After expanding the sum and plugging on our trainging data as well as our chosen $r_{ik}$ we have already chosen. We arrive at.\n",
    "\n",
    "$$\n",
    "J(\\mu_1, \\mu_2) = 2\\mu_1^2 - 2\\mu_1 + 5 + 4\\mu_2 + \\mu_2^2\n",
    "$$\n",
    "\n",
    "To find the minimum of this surface we start by finding the gradient of $J$ w.r.t $\\mu_k$.\n",
    "\n",
    "$$\n",
    "\\nabla J = \\begin{bmatrix} 4\\mu_1 -2 \\\\ 2\\mu_2+4 \\end{bmatrix}\n",
    "$$\n"
   ]
  },
  {
   "cell_type": "markdown",
   "metadata": {},
   "source": [
    "To find the minimum of this fucntion both of these entries in the gradient vector will be set to zero and solved for $\\mu_k$ and thus we have. $\\mu_1 = \\frac{1}{2}, \\mu_2 = -2$. Thus minimizing the distortion function $J(1/2, -2) = 1/2$."
   ]
  },
  {
   "cell_type": "markdown",
   "metadata": {},
   "source": [
    "\\pagebreak"
   ]
  },
  {
   "cell_type": "markdown",
   "metadata": {},
   "source": [
    "# The input vector $x$ is generated from a Gaussian $N(x|\\mu_k, \\sum_k)$ with probability $\\phi_k$, so that $Pr(x) = \\sum_{k=1}^K \\phi_k N(x|\\mu_k, \\sum_k).$ Let the one-hot vector z $\\in {0,1}^k, \\sum_k z_k = 1$ indicate which cluster x belongs to, and $Pr(z_k=1)=\\phi_k$. Prove that $$\\sum_{k=1}^K \\phi_k N(x|\\mu_k, \\Sigma_K) = \\sum_z \\prod_{k=1}^k\\phi_k^{z_k}\\prod_{k=1}^k N(x|\\mu_k, \\Sigma_k)^{z_k}$$"
   ]
  },
  {
   "cell_type": "markdown",
   "metadata": {},
   "source": [
    "$$\n",
    "\\begin{split}\n",
    "Pr(x) &= \\sum_z Pr(z)Pr(x|z)\\\\\n",
    "\\\\\n",
    "&= \\sum_z \\prod_{k=1}^K \\phi_k^{z_k} \\prod_{k=1}^K N(x|\\mu_k, \\Sigma_k)^{z_k}\\\\\n",
    "\\\\\n",
    "&= \\sum_z \\prod_{k=1}^K \\phi_k^{z_k} N(x|\\mu_k, \\Sigma_k)^{z_k}\\\\\n",
    "\\\\\n",
    "\\end{split}\n",
    "$$"
   ]
  },
  {
   "cell_type": "markdown",
   "metadata": {},
   "source": [
    "Since we can see that only one-hot vector will have 1 and the other entries will be 0. We can see that. \n",
    "\n",
    "$$\n",
    "\\begin{split}\n",
    "&= \\sum_z \\phi_k N(x|\\mu_k, \\Sigma_k) \\quad \\text{for which ever k where z=1}\n",
    "\\end{split}\n",
    "$$\n",
    "\n",
    "Thus, instead of summing over all the hot vectors in the simulation, it is equivalent to saying summing over all of the k-th Gaussians. Thus,\n",
    "\n",
    "$$\n",
    "\\begin{split}\n",
    "&= \\sum_{k=1}^K \\phi_k N(x|\\mu_k, \\Sigma_k)\n",
    "\\end{split}\n",
    "$$"
   ]
  },
  {
   "cell_type": "markdown",
   "metadata": {},
   "source": [
    "\\pagebreak"
   ]
  },
  {
   "cell_type": "markdown",
   "metadata": {},
   "source": [
    "# Question 5\n",
    "\n",
    "Excuse me not putting the prompt as it is quite large."
   ]
  },
  {
   "cell_type": "markdown",
   "metadata": {},
   "source": []
  },
  {
   "cell_type": "markdown",
   "metadata": {},
   "source": [
    "ran out of time to latex the proof but will email picture of what I have written down. apologiezes"
   ]
  },
  {
   "cell_type": "markdown",
   "metadata": {},
   "source": [
    "\\pagebreak"
   ]
  }
 ],
 "metadata": {
  "kernelspec": {
   "display_name": "Python 3.9.7 64-bit",
   "language": "python",
   "name": "python3"
  },
  "language_info": {
   "name": "python",
   "version": "3.9.7"
  },
  "orig_nbformat": 4,
  "vscode": {
   "interpreter": {
    "hash": "8377259de029fbe3469e5825885a3984679ef58677fe54558bfe80e0473ceee4"
   }
  }
 },
 "nbformat": 4,
 "nbformat_minor": 2
}
